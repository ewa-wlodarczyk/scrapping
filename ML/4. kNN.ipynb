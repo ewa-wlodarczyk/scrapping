{
 "cells": [
  {
   "cell_type": "markdown",
   "id": "97f8b5ad",
   "metadata": {},
   "source": [
    "# Import bibliotek"
   ]
  },
  {
   "cell_type": "code",
   "execution_count": 61,
   "id": "ff888dcb",
   "metadata": {},
   "outputs": [],
   "source": [
    "import pandas as pd\n",
    "import numpy as np\n",
    "import pickle\n",
    "import statsmodels.api as sm\n",
    "from sklearn import metrics\n",
    "from sklearn.model_selection import KFold\n",
    "from sklearn import neighbors"
   ]
  },
  {
   "cell_type": "markdown",
   "id": "4d6ea887",
   "metadata": {},
   "source": [
    "# Oszacowanie modelu kNN"
   ]
  },
  {
   "cell_type": "code",
   "execution_count": 62,
   "id": "0a85efce",
   "metadata": {},
   "outputs": [],
   "source": [
    "def CVTestKNN(nFolds = 5, randomState=2024, debug=False, features=features, *args, **kwargs):\n",
    "    kf = KFold(n_splits=nFolds, shuffle=True, random_state=randomState)\n",
    "    # Listy z wynikami\n",
    "    testResults = []\n",
    "    trainResults = []\n",
    "    predictions = []\n",
    "    indices = []\n",
    "    # Pętla walidująca model na kolejnych foldach\n",
    "    for train, test in kf.split(df.index.values):\n",
    "        # Przygotowanie estymatora\n",
    "        clf = neighbors.KNeighborsRegressor(*args, **kwargs)\n",
    "        if debug:\n",
    "            print(clf)\n",
    "        # Trenowanie modelu\n",
    "        clf.fit(df.iloc[train][features], df.iloc[train][target])\n",
    "        # Przygotowanie prognoz dla zbioru treningowego i testowego\n",
    "        predsTrain = clf.predict(df.iloc[train][features])\n",
    "        preds = clf.predict(df.iloc[test][features])\n",
    "        # Zachowajmy informacje o predykcjach dla tego foldu\n",
    "        predictions.append(preds.tolist().copy())\n",
    "        # Razem z indeksami w oryginalnym data frame\n",
    "        indices.append(df.iloc[test].index.tolist().copy())\n",
    "        # Policzenie RMSE dla foldów\n",
    "        trainScore = metrics.mean_squared_error(df.iloc[train][target], predsTrain)**0.5\n",
    "        testScore = metrics.mean_squared_error(df.iloc[test][target], preds)**0.5\n",
    "        # Zapisanie wyników dla foldów\n",
    "        trainResults.append(trainScore)\n",
    "        testResults.append(testScore)\n",
    "        # Informowanie o każdym foldzie razem z wynikami treningowymi możemy opcjonalnie wyświetlać w trakcie\n",
    "        if debug:\n",
    "            print(\"Train RMSE:\", trainScore,\n",
    "                  \"Valid RMSE:\", testScore)\n",
    "        \n",
    "    return trainResults, testResults, predictions, indices"
   ]
  },
  {
   "cell_type": "markdown",
   "id": "37c19692",
   "metadata": {},
   "source": [
    "Zobaczymy czy w tym przypadku feature engineering poprawił jakość predykcyjną:"
   ]
  },
  {
   "cell_type": "markdown",
   "id": "52630037",
   "metadata": {},
   "source": [
    "Model bez feature engineeringu:"
   ]
  },
  {
   "cell_type": "code",
   "execution_count": 55,
   "id": "2690ec09",
   "metadata": {},
   "outputs": [],
   "source": [
    "df=pd.read_csv(\"data_eda.csv\")\n",
    "df=df.drop(columns=['Unnamed: 0'])\n",
    "features=df.columns.tolist()\n",
    "features.remove('stars')\n",
    "target='stars'"
   ]
  },
  {
   "cell_type": "code",
   "execution_count": 57,
   "id": "81a7ed06",
   "metadata": {},
   "outputs": [
    {
     "name": "stdout",
     "output_type": "stream",
     "text": [
      "0.29718792358784857\n"
     ]
    }
   ],
   "source": [
    "trainResults, testResults, predictions, indices = CVTestKNN(features=features,n_neighbors=50, n_jobs=-1, p=2, debug=False)\n",
    "print(np.mean(testResults))"
   ]
  },
  {
   "cell_type": "markdown",
   "id": "e3aa52b3",
   "metadata": {},
   "source": [
    "Model z interakcjami:"
   ]
  },
  {
   "cell_type": "code",
   "execution_count": 63,
   "id": "2fb24607",
   "metadata": {},
   "outputs": [],
   "source": [
    "df=pd.read_csv(\"data_add.csv\")\n",
    "df=df.drop(columns=['Unnamed: 0'])\n",
    "features=df.columns.tolist()\n",
    "features.remove('stars')\n",
    "target='stars'"
   ]
  },
  {
   "cell_type": "code",
   "execution_count": 64,
   "id": "3c3cbab0",
   "metadata": {},
   "outputs": [
    {
     "name": "stdout",
     "output_type": "stream",
     "text": [
      "0.295654458494012\n"
     ]
    }
   ],
   "source": [
    "trainResults, testResults, predictions, indices = CVTestKNN(features=features,n_neighbors=50, n_jobs=-1, p=2, debug=False)\n",
    "print(np.mean(testResults))"
   ]
  },
  {
   "cell_type": "markdown",
   "id": "876dd6ca",
   "metadata": {},
   "source": [
    "Model z transformacją zmiennych:"
   ]
  },
  {
   "cell_type": "code",
   "execution_count": 58,
   "id": "688f4aef",
   "metadata": {},
   "outputs": [],
   "source": [
    "df=pd.read_csv(\"data_fe.csv\")\n",
    "df=df.drop(columns=['Unnamed: 0'])\n",
    "features=df.columns.tolist()\n",
    "features.remove('stars')\n",
    "target='stars'"
   ]
  },
  {
   "cell_type": "code",
   "execution_count": 59,
   "id": "e3e85001",
   "metadata": {},
   "outputs": [
    {
     "name": "stdout",
     "output_type": "stream",
     "text": [
      "0.25651391317177474\n"
     ]
    }
   ],
   "source": [
    "trainResults, testResults, predictions, indices = CVTestKNN(features=features,n_neighbors=50, n_jobs=-1, p=2, debug=False)\n",
    "print(np.mean(testResults))"
   ]
  },
  {
   "cell_type": "markdown",
   "id": "361545de",
   "metadata": {},
   "source": [
    "Widzimy, że w tym przypadku feature engineering poprawił znacząco moc predykcyjną modelu, lecz jest nadal słabsza od OLS, spróbujemy to poprawić tuningiem parametrów."
   ]
  },
  {
   "cell_type": "markdown",
   "id": "75e614ac",
   "metadata": {},
   "source": [
    "# Tuning hiperparametrów kNN"
   ]
  },
  {
   "cell_type": "markdown",
   "id": "a6d35b2f",
   "metadata": {},
   "source": [
    "1. Wybór liczby najbliższych sąsiadów"
   ]
  },
  {
   "cell_type": "code",
   "execution_count": 4,
   "id": "db3dafa2",
   "metadata": {},
   "outputs": [
    {
     "name": "stdout",
     "output_type": "stream",
     "text": [
      "1 0.0 0.30081044226868137\n",
      "3 0.1801776704743168 0.2575041102974596\n",
      "5 0.20297742763910342 0.2506271471840048\n",
      "10 0.22334966818424307 0.24726283974535637\n",
      "15 0.23184142042316824 0.24904974090543947\n",
      "30 0.24353507502423585 0.2518807303043076\n",
      "50 0.25153642732533055 0.25651391317177474\n",
      "100 0.2609955583567132 0.26356092682709814\n",
      "150 0.2651254238254027 0.2670667462538331\n",
      "200 0.26872643441994504 0.2703872320874618\n"
     ]
    }
   ],
   "source": [
    "for k in [1, 3, 5, 10, 15, 30, 50, 100, 150, 200]:\n",
    "    trainResults, testResults, predictions, indices = CVTestKNN(n_neighbors=k, n_jobs=-1, p=2)\n",
    "    print(k, np.mean(trainResults), np.mean(testResults))"
   ]
  },
  {
   "cell_type": "markdown",
   "id": "70ea30a6",
   "metadata": {},
   "source": [
    "Wydaje się, że najlepsza jest liczba 10-ciu\n"
   ]
  },
  {
   "cell_type": "markdown",
   "id": "192ad272",
   "metadata": {},
   "source": [
    "2. Wybór miary dystansu"
   ]
  },
  {
   "cell_type": "code",
   "execution_count": 5,
   "id": "f0816473",
   "metadata": {},
   "outputs": [
    {
     "name": "stdout",
     "output_type": "stream",
     "text": [
      "5 0.2400728402173018\n",
      "10 0.23714754587900191\n",
      "15 0.2371800109899858\n"
     ]
    }
   ],
   "source": [
    "for k in [5, 10, 15]:\n",
    "    trainResults, testResults, predictions, indices = CVTestKNN(n_neighbors=k, n_jobs=-1, p=1)\n",
    "    print(k, np.mean(testResults))"
   ]
  },
  {
   "cell_type": "markdown",
   "id": "725284fe",
   "metadata": {},
   "source": [
    "Lepszy wynik dla miary Manhattan"
   ]
  },
  {
   "cell_type": "markdown",
   "id": "8b86dd10",
   "metadata": {},
   "source": [
    "3. Wybór funkcji wag w predykcjach"
   ]
  },
  {
   "cell_type": "code",
   "execution_count": 7,
   "id": "df67ae94",
   "metadata": {},
   "outputs": [
    {
     "name": "stdout",
     "output_type": "stream",
     "text": [
      "uniform 0.23714754587900191\n",
      "distance 0.22715809432132272\n"
     ]
    }
   ],
   "source": [
    "for k in ['uniform', 'distance']:\n",
    "    trainResults, testResults, predictions, indices = CVTestKNN(weights=k, n_neighbors=10, n_jobs=-1, p=1)\n",
    "    print(k, np.mean(testResults))"
   ]
  },
  {
   "cell_type": "markdown",
   "id": "ac5927ed",
   "metadata": {},
   "source": [
    "Lepszy wynik przy odwrotności odległości jako wagach (bliżsi sąsiedzi punktu mają większy wpływ niż sąsiedzi, którzy są dalej)."
   ]
  },
  {
   "cell_type": "markdown",
   "id": "9381708e",
   "metadata": {},
   "source": [
    "4. Wybór zmiennych"
   ]
  },
  {
   "cell_type": "code",
   "execution_count": 17,
   "id": "aa4044b9",
   "metadata": {},
   "outputs": [
    {
     "data": {
      "text/plain": [
       "[('author_stars', 0.28681211312172755),\n",
       " ('series_author_stars', 0.2891324674665949),\n",
       " ('Nonfiction_author_stars', 0.29510628651844895),\n",
       " ('Nonfiction_challenging_mm', 0.29678866578420654),\n",
       " ('Fiction_mix_qt', 0.29733237368174076),\n",
       " ('Social_author_stars', 0.29834374403982455),\n",
       " ('Literary_author_stars', 0.2988068981036811),\n",
       " ('inspiring_log', 0.29895734662268425),\n",
       " ('Fiction_emotional_boxcox', 0.29923728659543575),\n",
       " ('Literary_emotional_boxcox', 0.30067157297427843),\n",
       " ('series_inspiring_log', 0.30090466749258127),\n",
       " ('Nonfiction_author_count_ss', 0.3009893021621016),\n",
       " ('Nonfiction_dark_ss', 0.30138628948276946),\n",
       " ('Fiction_hopeful_rs', 0.3014319109482832),\n",
       " ('Fiction_author_count_ss', 0.3027270556529116),\n",
       " ('Literary_inspiring_log', 0.30350403642234436),\n",
       " ('series_mix_qt', 0.3048832060449637),\n",
       " ('Social_challenging_mm', 0.30551112465428865),\n",
       " ('Literary_hopeful_rs', 0.3066110470894786),\n",
       " ('emotional_boxcox', 0.3084932117671919),\n",
       " ('Fantasy_mix_qt', 0.31036980316483004),\n",
       " ('Romans', 0.3115477744171891),\n",
       " ('Literary_mysterious_rs', 0.31162953637994184),\n",
       " ('Fiction_pages_qt', 0.3118855036655407),\n",
       " ('Fantasy_author_stars', 0.3131234729813833),\n",
       " ('Fiction_character_ss', 0.31369281150102707),\n",
       " ('Fiction_plot_qt', 0.3145760825322183),\n",
       " ('Fiction_challenging_mm', 0.31699633636417524),\n",
       " ('Fiction_adventurous_qt', 0.3173724080801795),\n",
       " ('informative_boxcox', 0.31785099230092717),\n",
       " ('challenging_mm', 0.31847023499379007),\n",
       " ('Crime', 0.3187967897243765),\n",
       " ('sad_mm', 0.31966232072035694),\n",
       " ('reflective_boxcox', 0.3209824575405881),\n",
       " ('mysterious_rs', 0.32240464372690797),\n",
       " ('lighthearted_mm__funny_qt', 0.3299623073205896),\n",
       " ('lighthearted_mm__relaxing_boxcox', 0.3351128277466333),\n",
       " ('tense_rs_dark_ss', 0.3394369023087983),\n",
       " ('reviews_boxcox', 0.34494252468665926)]"
      ]
     },
     "execution_count": 17,
     "metadata": {},
     "output_type": "execute_result"
    }
   ],
   "source": [
    "# Estymujemy model dla każdej zmiennej pojedynczo.\n",
    "results = []\n",
    "for feature in features:\n",
    "    # Estymacja modelu\n",
    "    trainResults, testResults, predictions, indices = CVTestKNN(weights='distance', n_neighbors=10, n_jobs=-1, p=1, features=[feature])\n",
    "    # Zapisanie wyniku jako do obiektu results\n",
    "    results.append((feature, np.mean(testResults)))\n",
    "results = sorted(results, key=lambda x: x[1], reverse=False)\n",
    "results"
   ]
  },
  {
   "cell_type": "markdown",
   "id": "098b77f7",
   "metadata": {},
   "source": [
    "Bardzo porównywalne wyniki dla każdej zmiennej"
   ]
  },
  {
   "cell_type": "code",
   "execution_count": 26,
   "id": "03531249",
   "metadata": {},
   "outputs": [
    {
     "name": "stdout",
     "output_type": "stream",
     "text": [
      "reviews_boxcox 0.22710525096738846\n",
      "tense_rs_dark_ss 0.2271355481851018\n",
      "lighthearted_mm__relaxing_boxcox 0.224529222133442\n",
      "lighthearted_mm__funny_qt 0.22439216786036442\n",
      "mysterious_rs 0.22478657963830173\n",
      "reflective_boxcox 0.22502317996537502\n",
      "sad_mm 0.22531469839581514\n",
      "Crime 0.22502627085510368\n",
      "challenging_mm 0.22578488339582892\n",
      "informative_boxcox 0.22274739606854554\n",
      "Fiction_adventurous_qt 0.22299010544814063\n",
      "Fiction_challenging_mm 0.22363147324816687\n",
      "Fiction_plot_qt 0.22410069929760948\n",
      "Fiction_character_ss 0.22406840199964284\n",
      "Fantasy_author_stars 0.22400293165855345\n",
      "Fiction_pages_qt 0.2237239657528983\n",
      "Literary_mysterious_rs 0.22347514845730693\n",
      "Romans 0.22354670349230435\n",
      "Fantasy_mix_qt 0.224240084712019\n",
      "emotional_boxcox 0.2263706605238595\n",
      "Literary_hopeful_rs 0.22614166238535086\n",
      "Social_challenging_mm 0.22712460213166802\n",
      "series_mix_qt 0.22796110467003103\n",
      "Literary_inspiring_log 0.2268645976854101\n",
      "Fiction_author_count_ss 0.22638887247216352\n",
      "Fiction_hopeful_rs 0.22695072741661262\n",
      "Nonfiction_dark_ss 0.2270238633623479\n",
      "Nonfiction_author_count_ss 0.22739409801552588\n",
      "series_inspiring_log 0.22700754704459558\n",
      "Literary_emotional_boxcox 0.2279861948419196\n",
      "Fiction_emotional_boxcox 0.24539636751447796\n",
      "inspiring_log 0.2526773087653237\n",
      "Literary_author_stars 0.2550332376466649\n",
      "Social_author_stars 0.2560043857370817\n",
      "Fiction_mix_qt 0.2679473746271797\n",
      "Nonfiction_challenging_mm 0.2749709659759787\n",
      "Nonfiction_author_stars 0.2857814385241372\n",
      "series_author_stars 0.28681211312172755\n"
     ]
    }
   ],
   "source": [
    "results = sorted(results, key=lambda x: x[1], reverse=True)\n",
    "for i in results[:-1]:\n",
    "    featuresSet2 = [x for x,y in results if y < i[1]]\n",
    "    trainResults, testResults, predictions, indices = CVTestKNN(weights='distance', n_neighbors=10, n_jobs=-1, p=1, features=featuresSet2)\n",
    "    print(i[0], np.mean(testResults))"
   ]
  },
  {
   "cell_type": "markdown",
   "id": "de2dc024",
   "metadata": {},
   "source": [
    "Najlepszy wynik przy usunięciu zmiennych: reviews_boxcox, tense_rs_dark_ss, lighthearted_mm__relaxing_boxcox, lighthearted_mm__funny_qt, mysterious_rs, reflective_boxcox, sad_mm, Crime, challenging_mm, informative_boxcox."
   ]
  },
  {
   "cell_type": "code",
   "execution_count": 35,
   "id": "74aa853c",
   "metadata": {},
   "outputs": [],
   "source": [
    "features = [x for x,y in results if y <0.31785]"
   ]
  },
  {
   "cell_type": "markdown",
   "id": "c9531188",
   "metadata": {},
   "source": [
    "5. Skalowanie zmiennych"
   ]
  },
  {
   "cell_type": "code",
   "execution_count": 30,
   "id": "ae40229f",
   "metadata": {
    "scrolled": true
   },
   "outputs": [
    {
     "data": {
      "text/plain": [
       "[('author_stars', 0.22198043295205835),\n",
       " ('Fiction_challenging_mm', 0.22207283294488459),\n",
       " ('Fiction_mix_qt', 0.2222923675547234),\n",
       " ('Literary_author_stars', 0.2223371399802551),\n",
       " ('Nonfiction_challenging_mm', 0.22234718583926374),\n",
       " ('Fantasy_mix_qt', 0.22244283016634192),\n",
       " ('Fiction_emotional_boxcox', 0.22247104377772192),\n",
       " ('Fiction_plot_qt', 0.2225133610460412),\n",
       " ('emotional_boxcox', 0.22251958961763135),\n",
       " ('series_mix_qt', 0.22253571551854553),\n",
       " ('Social_challenging_mm', 0.22262037300948906),\n",
       " ('Fantasy_author_stars', 0.22266196306275626),\n",
       " ('Literary_emotional_boxcox', 0.2227120792191128),\n",
       " ('Nonfiction_author_stars', 0.22273073768545312),\n",
       " ('Nonfiction_dark_ss', 0.22275095872441994),\n",
       " ('Fiction_adventurous_qt', 0.22277835170443056),\n",
       " ('series_author_stars', 0.22284355185431814),\n",
       " ('Nonfiction_author_count_ss', 0.22285111400798918),\n",
       " ('Social_author_stars', 0.22291283892288688),\n",
       " ('Fiction_pages_qt', 0.2229586238417117),\n",
       " ('Literary_hopeful_rs', 0.22301648840022836),\n",
       " ('Fiction_author_count_ss', 0.2231301481956919),\n",
       " ('Literary_mysterious_rs', 0.22314315840769655),\n",
       " ('Literary_inspiring_log', 0.22333143234789085),\n",
       " ('Fiction_hopeful_rs', 0.2233335787803266),\n",
       " ('Fiction_character_ss', 0.22352462963533629),\n",
       " ('Romans', 0.2235362209863442),\n",
       " ('series_inspiring_log', 0.22362678529646957),\n",
       " ('inspiring_log', 0.22496781020716622)]"
      ]
     },
     "execution_count": 30,
     "metadata": {},
     "output_type": "execute_result"
    }
   ],
   "source": [
    "dfCopy=df.copy()\n",
    "results2 = []\n",
    "for feature in features:\n",
    "    df = dfCopy.copy()\n",
    "    # Dwukrotnie zwiększamy zmienną\n",
    "    df[feature]=df[feature]*2\n",
    "    #Walidujemy model\n",
    "    trainResults, testResults, predictions, indices = CVTestKNN(weights='distance', n_neighbors=10, n_jobs=-1, p=1, features=features)\n",
    "    results2.append((feature, np.mean(testResults)))\n",
    "df = dfCopy.copy()\n",
    "results2 = sorted(results2, key=lambda x: x[1], reverse=False)\n",
    "results2"
   ]
  },
  {
   "cell_type": "markdown",
   "id": "5a8420e1",
   "metadata": {},
   "source": [
    "Te z najlepszym wynikiem podwajamy a z najgorszym zmniejszamy o połowę."
   ]
  },
  {
   "cell_type": "code",
   "execution_count": 36,
   "id": "fb1b929e",
   "metadata": {},
   "outputs": [
    {
     "name": "stdout",
     "output_type": "stream",
     "text": [
      "0.21798414066396382\n"
     ]
    }
   ],
   "source": [
    "features2 = [x for x,y in results2 if y < 0.22274739606854554]\n",
    "features05 = [x for x,y in results2 if y > 0.22274739606854554]\n",
    "dfCopy=df.copy()\n",
    "for feature in features2:\n",
    "    # Dwukrotnie zwiększamy zmienną\n",
    "    df[feature]=df[feature]*2\n",
    "for feature in features05:\n",
    "    # Dwukrotnie zmniejszamy zmienną\n",
    "    df[feature]=df[feature]*0.5\n",
    "    #Walidujemy model\n",
    "trainResults, testResults, predictions, indices = CVTestKNN(weights='distance', n_neighbors=10, n_jobs=-1, p=1, features=features)\n",
    "print(np.mean(testResults))\n",
    "df=dfCopy.copy()"
   ]
  },
  {
   "cell_type": "code",
   "execution_count": 39,
   "id": "38fee6c7",
   "metadata": {},
   "outputs": [
    {
     "name": "stdout",
     "output_type": "stream",
     "text": [
      "0.21710026652719422\n"
     ]
    }
   ],
   "source": [
    "features2 = [x for x,y in results2 if y < 0.2224]\n",
    "features05 = [x for x,y in results2 if y > 0.223]\n",
    "dfCopy=df.copy()\n",
    "for feature in features2:\n",
    "    # Dwukrotnie zwiększamy zmienną\n",
    "    df[feature]=df[feature]*2\n",
    "for feature in features05:\n",
    "    # Dwukrotnie zmniejszamy zmienną\n",
    "    df[feature]=df[feature]*0.5\n",
    "    #Walidujemy model\n",
    "trainResults, testResults, predictions, indices = CVTestKNN(weights='distance', n_neighbors=10, n_jobs=-1, p=1, features=features)\n",
    "print(np.mean(testResults))\n",
    "df=dfCopy.copy()"
   ]
  },
  {
   "cell_type": "code",
   "execution_count": 54,
   "id": "7ee0f3b3",
   "metadata": {},
   "outputs": [
    {
     "name": "stdout",
     "output_type": "stream",
     "text": [
      "0.21691452248443724\n"
     ]
    }
   ],
   "source": [
    "features2 = [x for x,y in results2 if y < 0.2224]\n",
    "features05 = [x for x,y in results2 if y > 0.223]\n",
    "dfCopy=df.copy()\n",
    "for feature in features2:\n",
    "    # Dwukrotnie zwiększamy zmienną\n",
    "    df[feature]=df[feature]*2\n",
    "for feature in features05:\n",
    "    # Dwukrotnie zmniejszamy zmienną\n",
    "    df[feature]=df[feature]*0.5\n",
    "\n",
    "features3 = [x for x,y in results2 if y < 0.222]\n",
    "features03 = [x for x,y in results2 if y > 0.2235]\n",
    "\n",
    "for feature in features3:\n",
    "    # Dwukrotnie zwiększamy zmienną\n",
    "    df[feature]=df[feature]*1.5\n",
    "for feature in features03:\n",
    "    # Dwukrotnie zmniejszamy zmienną\n",
    "    df[feature]=df[feature]*0.75\n",
    "    #Walidujemy model\n",
    "trainResults, testResults, predictions, indices = CVTestKNN(weights='distance', n_neighbors=10, n_jobs=-1, p=1, features=features)\n",
    "print(np.mean(testResults))\n",
    "\n",
    "df=dfCopy.copy()"
   ]
  },
  {
   "cell_type": "markdown",
   "id": "c87647f5",
   "metadata": {},
   "source": [
    "Ostateczny wynik jest nieznacznie gorszy od OLS: *0.21691*"
   ]
  }
 ],
 "metadata": {
  "kernelspec": {
   "display_name": "Python 3 (ipykernel)",
   "language": "python",
   "name": "python3"
  },
  "language_info": {
   "codemirror_mode": {
    "name": "ipython",
    "version": 3
   },
   "file_extension": ".py",
   "mimetype": "text/x-python",
   "name": "python",
   "nbconvert_exporter": "python",
   "pygments_lexer": "ipython3",
   "version": "3.11.5"
  }
 },
 "nbformat": 4,
 "nbformat_minor": 5
}
