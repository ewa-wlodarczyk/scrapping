{
 "cells": [
  {
   "cell_type": "markdown",
   "id": "97f8b5ad",
   "metadata": {},
   "source": [
    "# Import bibliotek"
   ]
  },
  {
   "cell_type": "code",
   "execution_count": 1,
   "id": "ff888dcb",
   "metadata": {},
   "outputs": [],
   "source": [
    "import pandas as pd\n",
    "import numpy as np\n",
    "import pickle\n",
    "import statsmodels.api as sm\n",
    "from sklearn.metrics import *\n",
    "from sklearn.model_selection import train_test_split, KFold\n",
    "from sklearn import neighbors\n",
    "import typing\n",
    "SEED = 17"
   ]
  },
  {
   "cell_type": "markdown",
   "id": "cbf1cf95",
   "metadata": {},
   "source": [
    "# Ładowanie danych"
   ]
  },
  {
   "cell_type": "code",
   "execution_count": 2,
   "id": "24aa10bc",
   "metadata": {},
   "outputs": [
    {
     "data": {
      "text/html": [
       "<div>\n",
       "<style scoped>\n",
       "    .dataframe tbody tr th:only-of-type {\n",
       "        vertical-align: middle;\n",
       "    }\n",
       "\n",
       "    .dataframe tbody tr th {\n",
       "        vertical-align: top;\n",
       "    }\n",
       "\n",
       "    .dataframe thead th {\n",
       "        text-align: right;\n",
       "    }\n",
       "</style>\n",
       "<table border=\"1\" class=\"dataframe\">\n",
       "  <thead>\n",
       "    <tr style=\"text-align: right;\">\n",
       "      <th></th>\n",
       "      <th>pages</th>\n",
       "      <th>stars</th>\n",
       "      <th>reviews</th>\n",
       "      <th>series</th>\n",
       "      <th>mix</th>\n",
       "      <th>character</th>\n",
       "      <th>plot</th>\n",
       "      <th>funny</th>\n",
       "      <th>lighthearted</th>\n",
       "      <th>emotional</th>\n",
       "      <th>...</th>\n",
       "      <th>author_stars</th>\n",
       "      <th>Fiction</th>\n",
       "      <th>Nonfiction</th>\n",
       "      <th>Literary</th>\n",
       "      <th>Fantasy</th>\n",
       "      <th>Crime</th>\n",
       "      <th>Social</th>\n",
       "      <th>Children</th>\n",
       "      <th>Romans</th>\n",
       "      <th>Realism</th>\n",
       "    </tr>\n",
       "  </thead>\n",
       "  <tbody>\n",
       "    <tr>\n",
       "      <th>0</th>\n",
       "      <td>273</td>\n",
       "      <td>4.00</td>\n",
       "      <td>2017</td>\n",
       "      <td>0</td>\n",
       "      <td>0.44</td>\n",
       "      <td>0.51</td>\n",
       "      <td>0.02</td>\n",
       "      <td>0.27</td>\n",
       "      <td>0.37</td>\n",
       "      <td>0.91</td>\n",
       "      <td>...</td>\n",
       "      <td>4.305000</td>\n",
       "      <td>1</td>\n",
       "      <td>1</td>\n",
       "      <td>0</td>\n",
       "      <td>0</td>\n",
       "      <td>0</td>\n",
       "      <td>1</td>\n",
       "      <td>0</td>\n",
       "      <td>1</td>\n",
       "      <td>1</td>\n",
       "    </tr>\n",
       "    <tr>\n",
       "      <th>1</th>\n",
       "      <td>302</td>\n",
       "      <td>3.78</td>\n",
       "      <td>7330</td>\n",
       "      <td>0</td>\n",
       "      <td>0.39</td>\n",
       "      <td>0.42</td>\n",
       "      <td>0.17</td>\n",
       "      <td>0.03</td>\n",
       "      <td>0.01</td>\n",
       "      <td>0.18</td>\n",
       "      <td>...</td>\n",
       "      <td>3.670000</td>\n",
       "      <td>1</td>\n",
       "      <td>0</td>\n",
       "      <td>0</td>\n",
       "      <td>0</td>\n",
       "      <td>1</td>\n",
       "      <td>0</td>\n",
       "      <td>0</td>\n",
       "      <td>0</td>\n",
       "      <td>0</td>\n",
       "    </tr>\n",
       "    <tr>\n",
       "      <th>2</th>\n",
       "      <td>400</td>\n",
       "      <td>4.15</td>\n",
       "      <td>16761</td>\n",
       "      <td>0</td>\n",
       "      <td>0.51</td>\n",
       "      <td>0.39</td>\n",
       "      <td>0.08</td>\n",
       "      <td>0.02</td>\n",
       "      <td>0.01</td>\n",
       "      <td>0.88</td>\n",
       "      <td>...</td>\n",
       "      <td>0.000000</td>\n",
       "      <td>1</td>\n",
       "      <td>0</td>\n",
       "      <td>1</td>\n",
       "      <td>0</td>\n",
       "      <td>0</td>\n",
       "      <td>0</td>\n",
       "      <td>0</td>\n",
       "      <td>0</td>\n",
       "      <td>0</td>\n",
       "    </tr>\n",
       "    <tr>\n",
       "      <th>3</th>\n",
       "      <td>459</td>\n",
       "      <td>4.16</td>\n",
       "      <td>2128</td>\n",
       "      <td>1</td>\n",
       "      <td>0.48</td>\n",
       "      <td>0.10</td>\n",
       "      <td>0.40</td>\n",
       "      <td>0.04</td>\n",
       "      <td>0.02</td>\n",
       "      <td>0.07</td>\n",
       "      <td>...</td>\n",
       "      <td>0.000000</td>\n",
       "      <td>1</td>\n",
       "      <td>0</td>\n",
       "      <td>0</td>\n",
       "      <td>1</td>\n",
       "      <td>0</td>\n",
       "      <td>0</td>\n",
       "      <td>0</td>\n",
       "      <td>0</td>\n",
       "      <td>0</td>\n",
       "    </tr>\n",
       "    <tr>\n",
       "      <th>4</th>\n",
       "      <td>160</td>\n",
       "      <td>3.65</td>\n",
       "      <td>6634</td>\n",
       "      <td>1</td>\n",
       "      <td>0.28</td>\n",
       "      <td>0.16</td>\n",
       "      <td>0.54</td>\n",
       "      <td>0.92</td>\n",
       "      <td>0.73</td>\n",
       "      <td>0.00</td>\n",
       "      <td>...</td>\n",
       "      <td>4.115000</td>\n",
       "      <td>1</td>\n",
       "      <td>0</td>\n",
       "      <td>0</td>\n",
       "      <td>1</td>\n",
       "      <td>0</td>\n",
       "      <td>0</td>\n",
       "      <td>0</td>\n",
       "      <td>0</td>\n",
       "      <td>0</td>\n",
       "    </tr>\n",
       "    <tr>\n",
       "      <th>...</th>\n",
       "      <td>...</td>\n",
       "      <td>...</td>\n",
       "      <td>...</td>\n",
       "      <td>...</td>\n",
       "      <td>...</td>\n",
       "      <td>...</td>\n",
       "      <td>...</td>\n",
       "      <td>...</td>\n",
       "      <td>...</td>\n",
       "      <td>...</td>\n",
       "      <td>...</td>\n",
       "      <td>...</td>\n",
       "      <td>...</td>\n",
       "      <td>...</td>\n",
       "      <td>...</td>\n",
       "      <td>...</td>\n",
       "      <td>...</td>\n",
       "      <td>...</td>\n",
       "      <td>...</td>\n",
       "      <td>...</td>\n",
       "      <td>...</td>\n",
       "    </tr>\n",
       "    <tr>\n",
       "      <th>6925</th>\n",
       "      <td>432</td>\n",
       "      <td>4.15</td>\n",
       "      <td>30643</td>\n",
       "      <td>0</td>\n",
       "      <td>0.48</td>\n",
       "      <td>0.05</td>\n",
       "      <td>0.46</td>\n",
       "      <td>0.00</td>\n",
       "      <td>0.00</td>\n",
       "      <td>0.40</td>\n",
       "      <td>...</td>\n",
       "      <td>3.856667</td>\n",
       "      <td>1</td>\n",
       "      <td>0</td>\n",
       "      <td>0</td>\n",
       "      <td>1</td>\n",
       "      <td>1</td>\n",
       "      <td>0</td>\n",
       "      <td>0</td>\n",
       "      <td>0</td>\n",
       "      <td>0</td>\n",
       "    </tr>\n",
       "    <tr>\n",
       "      <th>6926</th>\n",
       "      <td>352</td>\n",
       "      <td>3.62</td>\n",
       "      <td>1058</td>\n",
       "      <td>0</td>\n",
       "      <td>0.55</td>\n",
       "      <td>0.13</td>\n",
       "      <td>0.30</td>\n",
       "      <td>0.15</td>\n",
       "      <td>0.10</td>\n",
       "      <td>0.25</td>\n",
       "      <td>...</td>\n",
       "      <td>3.700000</td>\n",
       "      <td>1</td>\n",
       "      <td>0</td>\n",
       "      <td>0</td>\n",
       "      <td>1</td>\n",
       "      <td>0</td>\n",
       "      <td>1</td>\n",
       "      <td>0</td>\n",
       "      <td>0</td>\n",
       "      <td>0</td>\n",
       "    </tr>\n",
       "    <tr>\n",
       "      <th>6927</th>\n",
       "      <td>535</td>\n",
       "      <td>3.88</td>\n",
       "      <td>30975</td>\n",
       "      <td>1</td>\n",
       "      <td>0.45</td>\n",
       "      <td>0.08</td>\n",
       "      <td>0.45</td>\n",
       "      <td>0.14</td>\n",
       "      <td>0.19</td>\n",
       "      <td>0.31</td>\n",
       "      <td>...</td>\n",
       "      <td>3.870000</td>\n",
       "      <td>1</td>\n",
       "      <td>0</td>\n",
       "      <td>0</td>\n",
       "      <td>1</td>\n",
       "      <td>0</td>\n",
       "      <td>0</td>\n",
       "      <td>1</td>\n",
       "      <td>0</td>\n",
       "      <td>0</td>\n",
       "    </tr>\n",
       "    <tr>\n",
       "      <th>6928</th>\n",
       "      <td>472</td>\n",
       "      <td>3.88</td>\n",
       "      <td>5914</td>\n",
       "      <td>1</td>\n",
       "      <td>0.64</td>\n",
       "      <td>0.12</td>\n",
       "      <td>0.22</td>\n",
       "      <td>0.07</td>\n",
       "      <td>0.00</td>\n",
       "      <td>0.36</td>\n",
       "      <td>...</td>\n",
       "      <td>3.660000</td>\n",
       "      <td>1</td>\n",
       "      <td>0</td>\n",
       "      <td>0</td>\n",
       "      <td>1</td>\n",
       "      <td>0</td>\n",
       "      <td>0</td>\n",
       "      <td>1</td>\n",
       "      <td>0</td>\n",
       "      <td>0</td>\n",
       "    </tr>\n",
       "    <tr>\n",
       "      <th>6929</th>\n",
       "      <td>350</td>\n",
       "      <td>4.27</td>\n",
       "      <td>67909</td>\n",
       "      <td>0</td>\n",
       "      <td>0.37</td>\n",
       "      <td>0.56</td>\n",
       "      <td>0.05</td>\n",
       "      <td>0.74</td>\n",
       "      <td>0.28</td>\n",
       "      <td>0.78</td>\n",
       "      <td>...</td>\n",
       "      <td>4.315833</td>\n",
       "      <td>1</td>\n",
       "      <td>0</td>\n",
       "      <td>1</td>\n",
       "      <td>0</td>\n",
       "      <td>1</td>\n",
       "      <td>0</td>\n",
       "      <td>0</td>\n",
       "      <td>0</td>\n",
       "      <td>1</td>\n",
       "    </tr>\n",
       "  </tbody>\n",
       "</table>\n",
       "<p>6930 rows × 32 columns</p>\n",
       "</div>"
      ],
      "text/plain": [
       "      pages  stars  reviews  series   mix  character  plot  funny  \\\n",
       "0       273   4.00     2017       0  0.44       0.51  0.02   0.27   \n",
       "1       302   3.78     7330       0  0.39       0.42  0.17   0.03   \n",
       "2       400   4.15    16761       0  0.51       0.39  0.08   0.02   \n",
       "3       459   4.16     2128       1  0.48       0.10  0.40   0.04   \n",
       "4       160   3.65     6634       1  0.28       0.16  0.54   0.92   \n",
       "...     ...    ...      ...     ...   ...        ...   ...    ...   \n",
       "6925    432   4.15    30643       0  0.48       0.05  0.46   0.00   \n",
       "6926    352   3.62     1058       0  0.55       0.13  0.30   0.15   \n",
       "6927    535   3.88    30975       1  0.45       0.08  0.45   0.14   \n",
       "6928    472   3.88     5914       1  0.64       0.12  0.22   0.07   \n",
       "6929    350   4.27    67909       0  0.37       0.56  0.05   0.74   \n",
       "\n",
       "      lighthearted  emotional  ...  author_stars  Fiction  Nonfiction  \\\n",
       "0             0.37       0.91  ...      4.305000        1           1   \n",
       "1             0.01       0.18  ...      3.670000        1           0   \n",
       "2             0.01       0.88  ...      0.000000        1           0   \n",
       "3             0.02       0.07  ...      0.000000        1           0   \n",
       "4             0.73       0.00  ...      4.115000        1           0   \n",
       "...            ...        ...  ...           ...      ...         ...   \n",
       "6925          0.00       0.40  ...      3.856667        1           0   \n",
       "6926          0.10       0.25  ...      3.700000        1           0   \n",
       "6927          0.19       0.31  ...      3.870000        1           0   \n",
       "6928          0.00       0.36  ...      3.660000        1           0   \n",
       "6929          0.28       0.78  ...      4.315833        1           0   \n",
       "\n",
       "      Literary  Fantasy  Crime  Social  Children  Romans  Realism  \n",
       "0            0        0      0       1         0       1        1  \n",
       "1            0        0      1       0         0       0        0  \n",
       "2            1        0      0       0         0       0        0  \n",
       "3            0        1      0       0         0       0        0  \n",
       "4            0        1      0       0         0       0        0  \n",
       "...        ...      ...    ...     ...       ...     ...      ...  \n",
       "6925         0        1      1       0         0       0        0  \n",
       "6926         0        1      0       1         0       0        0  \n",
       "6927         0        1      0       0         1       0        0  \n",
       "6928         0        1      0       0         1       0        0  \n",
       "6929         1        0      1       0         0       0        1  \n",
       "\n",
       "[6930 rows x 32 columns]"
      ]
     },
     "execution_count": 2,
     "metadata": {},
     "output_type": "execute_result"
    }
   ],
   "source": [
    "data=pd.read_csv(\"../data/data_eda.csv\")\n",
    "data=data.drop(columns=['Unnamed: 0'])\n",
    "features=data.columns.tolist()\n",
    "features.remove('stars')\n",
    "target='stars'\n",
    "data"
   ]
  },
  {
   "cell_type": "markdown",
   "id": "45122bd1",
   "metadata": {},
   "source": [
    "$\\text{Podział danych na zbiór treningowy i testowy}$"
   ]
  },
  {
   "cell_type": "code",
   "execution_count": 3,
   "id": "ab780c03",
   "metadata": {},
   "outputs": [],
   "source": [
    "train_data, test_data = train_test_split(data, test_size=0.2, random_state=SEED)"
   ]
  },
  {
   "cell_type": "code",
   "execution_count": 4,
   "id": "89b3eead",
   "metadata": {},
   "outputs": [],
   "source": [
    "def perform_cv(X: pd.DataFrame, y: pd.Series, algorithm: typing.Any, cv: typing.Any = KFold(n_splits=5, shuffle=True, random_state=SEED), metric: typing.Any = mean_squared_error) -> typing.List[float]:\n",
    "    \"\"\"\n",
    "    Perform cross-validation and return list of scores\n",
    "    \n",
    "    Args:\n",
    "        X (pd.DataFrame): input data\n",
    "        y (pd.Series): target data\n",
    "        algorithm (typing.Any): algorithm to use for training and prediction\n",
    "        cv (typing.Any): cross-validation strategy\n",
    "        metric (typing.Any): metric to use for evaluation\n",
    "    \n",
    "    Returns:\n",
    "        typing.List[float]: list of scores in order: train_scores, validation_scores\n",
    "    \"\"\"\n",
    "    train_scores = []\n",
    "    validation_scores = []\n",
    "    for train_idx, val_idx in cv.split(X, y):\n",
    "        X_train, X_val = X.iloc[train_idx], X.iloc[val_idx]\n",
    "        y_train, y_val = y.iloc[train_idx], y.iloc[val_idx]\n",
    "        algorithm.fit(X_train, y_train)\n",
    "        y_train_pred = algorithm.predict(X_train)\n",
    "        y_val_pred = algorithm.predict(X_val)\n",
    "        train_scores.append(metric(y_train, y_train_pred, squared=False))\n",
    "        validation_scores.append(metric(y_val, y_val_pred, squared=False))\n",
    "    return np.mean(train_scores), np.mean(validation_scores)\n",
    "\n",
    "def evaluation(X_train: pd.DataFrame, y_train: pd.Series, X_test: pd.DataFrame, y_test: pd.Series, algorithm: typing.Any, metric: typing.Any = mean_squared_error) -> typing.Tuple[float, float, np.ndarray]:\n",
    "    \"\"\"\n",
    "    Train the algorithm on the train data and evaluate on the train and test data\n",
    "    \n",
    "    Args:\n",
    "        X_train (pd.DataFrame): input train data\n",
    "        y_train (pd.Series): target train data\n",
    "        X_test (pd.DataFrame): input test data\n",
    "        y_test (pd.Series): target test data\n",
    "        algorithm (typing.Any): algorithm to use for training and prediction\n",
    "        metric (typing.Any): metric to use for evaluation\n",
    "    \n",
    "    Returns:\n",
    "        typing.Tuple[float, float, np.ndarray]: train_score, test_score, predictions on test data\n",
    "    \"\"\"\n",
    "    algorithm.fit(X_train, y_train)\n",
    "    y_train_pred = algorithm.predict(X_train)\n",
    "    y_test_pred = algorithm.predict(X_test)\n",
    "    train_results = metric(y_train, y_train_pred, squared=False)\n",
    "    test_results = metric(y_test, y_test_pred, squared=False)\n",
    "    return train_results, test_results, y_test_pred"
   ]
  },
  {
   "cell_type": "markdown",
   "id": "37c19692",
   "metadata": {},
   "source": [
    "Zobaczymy czy w tym przypadku feature engineering poprawił jakość predykcyjną."
   ]
  },
  {
   "cell_type": "markdown",
   "id": "52630037",
   "metadata": {},
   "source": [
    "## Model bez feature engineeringu"
   ]
  },
  {
   "cell_type": "code",
   "execution_count": 5,
   "id": "6eae305e",
   "metadata": {},
   "outputs": [
    {
     "name": "stdout",
     "output_type": "stream",
     "text": [
      "Train RMSE: 0.2908859671453747\n",
      "Validation RMSE: 0.297474944141276\n"
     ]
    }
   ],
   "source": [
    "model = neighbors.KNeighborsRegressor(n_neighbors=50, n_jobs=-1)\n",
    "train_scores, validation_scores = perform_cv(train_data[features], train_data[target], model)\n",
    "print(\"Train RMSE:\", train_scores)\n",
    "print(\"Validation RMSE:\", validation_scores)"
   ]
  },
  {
   "cell_type": "markdown",
   "id": "e3aa52b3",
   "metadata": {},
   "source": [
    "## Model z interakcjami"
   ]
  },
  {
   "cell_type": "code",
   "execution_count": 6,
   "id": "e016adbe",
   "metadata": {},
   "outputs": [
    {
     "name": "stdout",
     "output_type": "stream",
     "text": [
      "Train RMSE: 0.2897043196010073\n",
      "Validation RMSE: 0.2952206662560052\n"
     ]
    }
   ],
   "source": [
    "data_interactions=pd.read_csv(\"../data/data_add.csv\")\n",
    "data_interactions=data_interactions.drop(columns=['Unnamed: 0'])\n",
    "features_interactions=data_interactions.columns.tolist()\n",
    "features_interactions.remove('stars')\n",
    "train_data_interactions, test_data_interactions = train_test_split(data_interactions, test_size=0.2, random_state=SEED)\n",
    "model = neighbors.KNeighborsRegressor(n_neighbors=50, n_jobs=-1)\n",
    "train_scores, validation_scores = perform_cv(train_data_interactions[features_interactions], train_data_interactions[target], model)\n",
    "print(\"Train RMSE:\", train_scores)\n",
    "print(\"Validation RMSE:\", validation_scores)"
   ]
  },
  {
   "cell_type": "markdown",
   "id": "876dd6ca",
   "metadata": {},
   "source": [
    "## Model z transformacją zmiennych"
   ]
  },
  {
   "cell_type": "code",
   "execution_count": 7,
   "id": "688f4aef",
   "metadata": {},
   "outputs": [
    {
     "name": "stdout",
     "output_type": "stream",
     "text": [
      "Train RMSE: 0.25260235114061624\n",
      "Validation RMSE: 0.25775968118975995\n"
     ]
    }
   ],
   "source": [
    "data_transformations=pd.read_csv(\"../data/data_fe.csv\")\n",
    "data_transformations=data_transformations.drop(columns=['Unnamed: 0'])\n",
    "features_transformations=data_transformations.columns.tolist()\n",
    "features_transformations.remove('stars')\n",
    "train_data_transformations, test_data_transformations = train_test_split(data_transformations, test_size=0.2, random_state=SEED)\n",
    "model = neighbors.KNeighborsRegressor(n_neighbors=50, n_jobs=-1)\n",
    "train_scores, validation_scores = perform_cv(train_data_transformations[features_transformations], train_data_transformations[target], model)\n",
    "print(\"Train RMSE:\", train_scores)\n",
    "print(\"Validation RMSE:\", validation_scores)"
   ]
  },
  {
   "cell_type": "markdown",
   "id": "361545de",
   "metadata": {},
   "source": [
    "Widzimy, że w tym przypadku feature engineering poprawił znacząco moc predykcyjną modelu, lecz jest nadal słabsza od OLS, spróbujemy to poprawić tuningiem parametrów."
   ]
  },
  {
   "cell_type": "markdown",
   "id": "75e614ac",
   "metadata": {},
   "source": [
    "# Tuning hiperparametrów kNN"
   ]
  },
  {
   "cell_type": "markdown",
   "id": "a6d35b2f",
   "metadata": {},
   "source": [
    "1. Wybór liczby najbliższych sąsiadów"
   ]
  },
  {
   "cell_type": "code",
   "execution_count": 8,
   "id": "db3dafa2",
   "metadata": {},
   "outputs": [
    {
     "name": "stdout",
     "output_type": "stream",
     "text": [
      "Neighbors: 1; RMSE train: 0.00000; RMSE validation: 0.30768\n",
      "Neighbors: 3; RMSE train: 0.18172; RMSE validation: 0.25928\n",
      "Neighbors: 5; RMSE train: 0.20468; RMSE validation: 0.25255\n",
      "Neighbors: 10; RMSE train: 0.22417; RMSE validation: 0.24995\n",
      "Neighbors: 15; RMSE train: 0.23321; RMSE validation: 0.25031\n",
      "Neighbors: 30; RMSE train: 0.24438; RMSE validation: 0.25278\n",
      "Neighbors: 50; RMSE train: 0.25260; RMSE validation: 0.25776\n",
      "Neighbors: 100; RMSE train: 0.26136; RMSE validation: 0.26389\n",
      "Neighbors: 150; RMSE train: 0.26634; RMSE validation: 0.26792\n",
      "Neighbors: 200; RMSE train: 0.26991; RMSE validation: 0.27090\n"
     ]
    }
   ],
   "source": [
    "for k in [1, 3, 5, 10, 15, 30, 50, 100, 150, 200]:\n",
    "    model = neighbors.KNeighborsRegressor(n_neighbors=k, n_jobs=-1)\n",
    "    train_scores, validation_scores = perform_cv(train_data_transformations[features_transformations], train_data_transformations[target], model)\n",
    "    print(\"Neighbors: {}; RMSE train: {:.5f}; RMSE validation: {:.5f}\".format(k, train_scores, validation_scores))"
   ]
  },
  {
   "cell_type": "markdown",
   "id": "70ea30a6",
   "metadata": {},
   "source": [
    "Wydaje się, że najlepsza liczba sąsiadów wynosi 10."
   ]
  },
  {
   "cell_type": "markdown",
   "id": "192ad272",
   "metadata": {},
   "source": [
    "2. Wybór miary dystansu"
   ]
  },
  {
   "cell_type": "code",
   "execution_count": 9,
   "id": "f0816473",
   "metadata": {},
   "outputs": [
    {
     "name": "stdout",
     "output_type": "stream",
     "text": [
      "Distance: euclidean; RMSE train: 0.22417; RMSE validation: 0.24995\n",
      "Distance: manhattan; RMSE train: 0.21356; RMSE validation: 0.23689\n",
      "Distance: chebyshev; RMSE train: 0.23902; RMSE validation: 0.26541\n",
      "Distance: minkowski; RMSE train: 0.22417; RMSE validation: 0.24995\n"
     ]
    }
   ],
   "source": [
    "distances = ['euclidean', 'manhattan', 'chebyshev', 'minkowski']\n",
    "for distance in distances:\n",
    "    model = neighbors.KNeighborsRegressor(n_neighbors=10, n_jobs=-1, metric=distance)\n",
    "    train_scores, validation_scores = perform_cv(train_data_transformations[features_transformations], train_data_transformations[target], model)\n",
    "    print(\"Distance: {}; RMSE train: {:.5f}; RMSE validation: {:.5f}\".format(distance, train_scores, validation_scores))"
   ]
  },
  {
   "cell_type": "markdown",
   "id": "725284fe",
   "metadata": {},
   "source": [
    "Lepszy wynik dla miary Manhattan"
   ]
  },
  {
   "cell_type": "markdown",
   "id": "8b86dd10",
   "metadata": {},
   "source": [
    "3. Wybór funkcji wag w predykcjach"
   ]
  },
  {
   "cell_type": "code",
   "execution_count": 10,
   "id": "df67ae94",
   "metadata": {},
   "outputs": [
    {
     "name": "stdout",
     "output_type": "stream",
     "text": [
      "Weight: uniform; RMSE train: 0.21356; RMSE validation: 0.23689\n",
      "Weight: distance; RMSE train: 0.00000; RMSE validation: 0.22873\n"
     ]
    }
   ],
   "source": [
    "weights = ['uniform', 'distance']\n",
    "for weight in weights:\n",
    "    model = neighbors.KNeighborsRegressor(n_neighbors=10, n_jobs=-1, metric='manhattan', weights=weight)\n",
    "    train_scores, validation_scores = perform_cv(train_data_transformations[features_transformations], train_data_transformations[target], model)\n",
    "    print(\"Weight: {}; RMSE train: {:.5f}; RMSE validation: {:.5f}\".format(weight, train_scores, validation_scores))"
   ]
  },
  {
   "cell_type": "markdown",
   "id": "ac5927ed",
   "metadata": {},
   "source": [
    "Lepszy wynik przy odwrotności odległości jako wagach (bliżsi sąsiedzi punktu mają większy wpływ niż sąsiedzi, którzy są dalej)."
   ]
  },
  {
   "cell_type": "markdown",
   "id": "9381708e",
   "metadata": {},
   "source": [
    "4. Wybór zmiennych"
   ]
  },
  {
   "cell_type": "code",
   "execution_count": 11,
   "id": "aa4044b9",
   "metadata": {},
   "outputs": [
    {
     "data": {
      "text/plain": [
       "{'author_stars': 0.2764297242255428,\n",
       " 'inspiring_log': 0.28531859636488044,\n",
       " 'Fiction_mix_qt': 0.2907843972716632,\n",
       " 'Fiction_emotional_boxcox': 0.2920820264250924,\n",
       " 'Fiction_hopeful_rs': 0.2923358930926584,\n",
       " 'Nonfiction_author_stars': 0.29430447287788725,\n",
       " 'series_author_stars': 0.29502469862736386,\n",
       " 'Social_author_stars': 0.29595190476471733,\n",
       " 'Fantasy_author_stars': 0.29646088661698056,\n",
       " 'Nonfiction_dark_ss': 0.29708194065932386,\n",
       " 'Nonfiction_author_count_ss': 0.2983919369702595,\n",
       " 'series_mix_qt': 0.298477414262312,\n",
       " 'emotional_boxcox': 0.3003059294720321,\n",
       " 'informative_boxcox': 0.3008279535811423,\n",
       " 'Social_challenging_mm': 0.30111730615497556,\n",
       " 'Fantasy_mix_qt': 0.3018817297166998,\n",
       " 'Literary_emotional_boxcox': 0.3020605393435344,\n",
       " 'Nonfiction_challenging_mm': 0.3025284569433614,\n",
       " 'Literary_inspiring_log': 0.30254866076248715,\n",
       " 'Fiction_adventurous_qt': 0.3035452760603026,\n",
       " 'Literary_hopeful_rs': 0.30479530126108056,\n",
       " 'Crime': 0.3048286850096803,\n",
       " 'Romans': 0.3054794874342523,\n",
       " 'Fiction_author_count_ss': 0.3062012880792196,\n",
       " 'Fiction_challenging_mm': 0.3062305991514565,\n",
       " 'Fiction_plot_qt': 0.3062929331500369,\n",
       " 'Literary_mysterious_rs': 0.30673190721031673,\n",
       " 'mysterious_rs': 0.3069888459784224,\n",
       " 'Fiction_character_ss': 0.30699975003038127,\n",
       " 'challenging_mm': 0.3084694350545705,\n",
       " 'sad_mm': 0.309049884697418,\n",
       " 'Fiction_pages_qt': 0.30934173868527715,\n",
       " 'reflective_boxcox': 0.3094393154767365,\n",
       " 'Literary_author_stars': 0.31166434781748237,\n",
       " 'series_inspiring_log': 0.31916851079704545,\n",
       " 'lighthearted_mm__relaxing_boxcox': 0.3313733655590512,\n",
       " 'lighthearted_mm__funny_qt': 0.3336337200448246,\n",
       " 'tense_rs_dark_ss': 0.3437659983236597,\n",
       " 'reviews_boxcox': 0.3477791455411022}"
      ]
     },
     "execution_count": 11,
     "metadata": {},
     "output_type": "execute_result"
    }
   ],
   "source": [
    "results = {}\n",
    "for feature in features_transformations:\n",
    "    model = neighbors.KNeighborsRegressor(n_neighbors=10, n_jobs=-1, metric='manhattan', weights='distance')\n",
    "    train_scores, validation_scores = perform_cv(train_data_transformations[[feature]], train_data_transformations[target], model)\n",
    "    results[feature] = validation_scores\n",
    "results = dict(sorted(results.items(), key=lambda item: item[1]))\n",
    "results"
   ]
  },
  {
   "cell_type": "markdown",
   "id": "098b77f7",
   "metadata": {},
   "source": [
    "Bardzo porównywalne wyniki dla każdej zmiennej"
   ]
  },
  {
   "cell_type": "markdown",
   "id": "69205bf5",
   "metadata": {},
   "source": [
    "Poniżej zweryfikowano wyniki w sytuacji, gdy iteracyjnie usuwamy zmienne (w kolejności od najmniej istotnej do najbardziej istotnej, sugerując się powyższymi rezultatami)."
   ]
  },
  {
   "cell_type": "code",
   "execution_count": 12,
   "id": "0fd88841",
   "metadata": {},
   "outputs": [
    {
     "name": "stdout",
     "output_type": "stream",
     "text": [
      "Feature removed: reviews_boxcox; RMSE train: 0.00000; RMSE validation: 0.22907\n",
      "Feature removed: tense_rs_dark_ss; RMSE train: 0.00000; RMSE validation: 0.22906\n",
      "Feature removed: lighthearted_mm__funny_qt; RMSE train: 0.00000; RMSE validation: 0.22936\n",
      "Feature removed: lighthearted_mm__relaxing_boxcox; RMSE train: 0.00000; RMSE validation: 0.22573\n",
      "Feature removed: series_inspiring_log; RMSE train: 0.00000; RMSE validation: 0.22545\n",
      "Feature removed: Literary_author_stars; RMSE train: 0.00000; RMSE validation: 0.22566\n",
      "Feature removed: reflective_boxcox; RMSE train: 0.00000; RMSE validation: 0.22569\n",
      "Feature removed: Fiction_pages_qt; RMSE train: 0.00000; RMSE validation: 0.22649\n",
      "Feature removed: sad_mm; RMSE train: 0.00000; RMSE validation: 0.22752\n",
      "Feature removed: challenging_mm; RMSE train: 0.00000; RMSE validation: 0.22779\n",
      "Feature removed: Fiction_character_ss; RMSE train: 0.00000; RMSE validation: 0.22743\n",
      "Feature removed: mysterious_rs; RMSE train: 0.00000; RMSE validation: 0.22686\n",
      "Feature removed: Literary_mysterious_rs; RMSE train: 0.00000; RMSE validation: 0.22688\n",
      "Feature removed: Fiction_plot_qt; RMSE train: 0.00000; RMSE validation: 0.22722\n",
      "Feature removed: Fiction_challenging_mm; RMSE train: 0.00000; RMSE validation: 0.22749\n",
      "Feature removed: Fiction_author_count_ss; RMSE train: 0.00000; RMSE validation: 0.22838\n",
      "Feature removed: Romans; RMSE train: 0.00000; RMSE validation: 0.22827\n",
      "Feature removed: Crime; RMSE train: 0.00000; RMSE validation: 0.22834\n",
      "Feature removed: Literary_hopeful_rs; RMSE train: 0.00000; RMSE validation: 0.22787\n",
      "Feature removed: Fiction_adventurous_qt; RMSE train: 0.00000; RMSE validation: 0.22835\n",
      "Feature removed: Literary_inspiring_log; RMSE train: 0.00000; RMSE validation: 0.22758\n",
      "Feature removed: Nonfiction_challenging_mm; RMSE train: 0.00000; RMSE validation: 0.22813\n",
      "Feature removed: Literary_emotional_boxcox; RMSE train: 0.00000; RMSE validation: 0.22836\n",
      "Feature removed: Fantasy_mix_qt; RMSE train: 0.00000; RMSE validation: 0.22899\n",
      "Feature removed: Social_challenging_mm; RMSE train: 0.00000; RMSE validation: 0.22994\n",
      "Feature removed: informative_boxcox; RMSE train: 0.00886; RMSE validation: 0.22754\n",
      "Feature removed: emotional_boxcox; RMSE train: 0.03184; RMSE validation: 0.23086\n",
      "Feature removed: series_mix_qt; RMSE train: 0.03208; RMSE validation: 0.23113\n",
      "Feature removed: Nonfiction_author_count_ss; RMSE train: 0.03208; RMSE validation: 0.23134\n",
      "Feature removed: Nonfiction_dark_ss; RMSE train: 0.07308; RMSE validation: 0.23392\n",
      "Feature removed: Fantasy_author_stars; RMSE train: 0.07308; RMSE validation: 0.23376\n",
      "Feature removed: Social_author_stars; RMSE train: 0.07310; RMSE validation: 0.23344\n",
      "Feature removed: series_author_stars; RMSE train: 0.07310; RMSE validation: 0.23328\n",
      "Feature removed: Nonfiction_author_stars; RMSE train: 0.07310; RMSE validation: 0.23359\n",
      "Feature removed: Fiction_hopeful_rs; RMSE train: 0.07399; RMSE validation: 0.23637\n",
      "Feature removed: Fiction_emotional_boxcox; RMSE train: 0.10912; RMSE validation: 0.25374\n",
      "Feature removed: Fiction_mix_qt; RMSE train: 0.17367; RMSE validation: 0.25874\n",
      "Feature removed: inspiring_log; RMSE train: 0.23144; RMSE validation: 0.27643\n"
     ]
    }
   ],
   "source": [
    "descending_results = dict(sorted(results.items(), key=lambda item: item[1], reverse=True))\n",
    "features_transformations_copy = features_transformations.copy()\n",
    "for feature, score in descending_results.items():\n",
    "    if len(features_transformations_copy) == 1:\n",
    "        break\n",
    "    features_transformations_copy.remove(feature)\n",
    "    model = neighbors.KNeighborsRegressor(n_neighbors=10, n_jobs=-1, metric='manhattan', weights='distance')\n",
    "    train_scores, validation_scores = perform_cv(train_data_transformations[features_transformations_copy], train_data_transformations[target], model)\n",
    "    print(\"Feature removed: {}; RMSE train: {:.5f}; RMSE validation: {:.5f}\".format(feature, train_scores, validation_scores))"
   ]
  },
  {
   "cell_type": "markdown",
   "id": "de2dc024",
   "metadata": {},
   "source": [
    "Najlepszy wynik przy usunięciu zmiennych: reviews_boxcox, tense_rs_dark_ss, lighthearted_mm__funny_qt, lighthearted_mm__relaxing_boxcox, series_inspiring_log.\n",
    "\n",
    "Zmienne zostaną usunięte ze zbioru danych"
   ]
  },
  {
   "cell_type": "code",
   "execution_count": 13,
   "id": "74aa853c",
   "metadata": {},
   "outputs": [],
   "source": [
    "features_to_remove = [\"reviews_boxcox\", \"tense_rs_dark_ss\", \"lighthearted_mm__funny_qt\", \"lighthearted_mm__relaxing_boxcox\", \"series_inspiring_log\"]\n",
    "for feature in features_to_remove:\n",
    "    features_transformations.remove(feature)"
   ]
  },
  {
   "cell_type": "markdown",
   "id": "d5b94c2f",
   "metadata": {},
   "source": [
    "Zweryfikujmy, czy usunięcie zmiennych poprawi wynik modelu."
   ]
  },
  {
   "cell_type": "code",
   "execution_count": 14,
   "id": "c12514f4",
   "metadata": {},
   "outputs": [
    {
     "name": "stdout",
     "output_type": "stream",
     "text": [
      "Train RMSE: 0.0\n",
      "Validation RMSE: 0.2254511593378382\n"
     ]
    }
   ],
   "source": [
    "model = neighbors.KNeighborsRegressor(n_neighbors=10, n_jobs=-1, metric='manhattan', weights='distance')\n",
    "train_scores, validation_scores = perform_cv(train_data_transformations[features_transformations], train_data_transformations[target], model)\n",
    "print(\"Train RMSE:\", train_scores)\n",
    "print(\"Validation RMSE:\", validation_scores)"
   ]
  },
  {
   "cell_type": "markdown",
   "id": "f38a7249",
   "metadata": {},
   "source": [
    "Usunięcie wybranych zmiennych poprawiło wynik modelu dla zbioru walidacyjnego (z 0.22873 na 0.22545)."
   ]
  },
  {
   "cell_type": "markdown",
   "id": "c9531188",
   "metadata": {},
   "source": [
    "5. Skalowanie zmiennych"
   ]
  },
  {
   "cell_type": "markdown",
   "id": "39d0bbe8",
   "metadata": {},
   "source": [
    "W poniższym punkcie zweryfikowano wpływ dwukrotnego zwiększenia wartości zmiennej.\n",
    "\n",
    "W tym celu iteracyjnie podwajano wartości zmiennej i sprawdzano, czy model zwraca lepsze wyniki."
   ]
  },
  {
   "cell_type": "code",
   "execution_count": 15,
   "id": "6d31fead",
   "metadata": {},
   "outputs": [
    {
     "data": {
      "text/plain": [
       "{'author_stars': 0.22376032555967176,\n",
       " 'emotional_boxcox': 0.22437562431221214,\n",
       " 'Fiction_mix_qt': 0.2246592205448304,\n",
       " 'Fiction_pages_qt': 0.22481286575407777,\n",
       " 'Fiction_emotional_boxcox': 0.22485181681732672,\n",
       " 'Literary_author_stars': 0.2248595258872267,\n",
       " 'Fiction_author_count_ss': 0.22491466138966545,\n",
       " 'Fiction_adventurous_qt': 0.22505001706161593,\n",
       " 'Fantasy_author_stars': 0.22508901636247053,\n",
       " 'Literary_emotional_boxcox': 0.22510485442004297,\n",
       " 'Fantasy_mix_qt': 0.2251297159429444,\n",
       " 'series_mix_qt': 0.22514856312647263,\n",
       " 'Nonfiction_author_count_ss': 0.22518891939391109,\n",
       " 'Literary_mysterious_rs': 0.22525384700268375,\n",
       " 'mysterious_rs': 0.2252746969331448,\n",
       " 'Fiction_plot_qt': 0.22533144123470464,\n",
       " 'sad_mm': 0.22534526232439914,\n",
       " 'series_author_stars': 0.22535895419518806,\n",
       " 'Fiction_character_ss': 0.2253852921817016,\n",
       " 'Fiction_hopeful_rs': 0.22538883644077248,\n",
       " 'Nonfiction_author_stars': 0.22543488035062964,\n",
       " 'Fiction_challenging_mm': 0.2254525664257779,\n",
       " 'challenging_mm': 0.22553262148754544,\n",
       " 'Nonfiction_challenging_mm': 0.22555764761842517,\n",
       " 'Crime': 0.22558629131885982,\n",
       " 'Social_challenging_mm': 0.22560252743704062,\n",
       " 'Literary_hopeful_rs': 0.22571220625437233,\n",
       " 'Nonfiction_dark_ss': 0.22574413056696732,\n",
       " 'Romans': 0.22575901981970153,\n",
       " 'Social_author_stars': 0.22581435102260317,\n",
       " 'reflective_boxcox': 0.2258518719580742,\n",
       " 'Literary_inspiring_log': 0.2260585514793006,\n",
       " 'inspiring_log': 0.2268675197112704,\n",
       " 'informative_boxcox': 0.22743466528683082}"
      ]
     },
     "execution_count": 15,
     "metadata": {},
     "output_type": "execute_result"
    }
   ],
   "source": [
    "results2 = {}\n",
    "for feature in features_transformations:\n",
    "    train_data_transformations_copy = train_data_transformations.copy()\n",
    "    train_data_transformations_copy[feature] = train_data_transformations[feature]*2\n",
    "    model = neighbors.KNeighborsRegressor(n_neighbors=10, n_jobs=-1, metric='manhattan', weights='distance')\n",
    "    train_scores, validation_scores = perform_cv(train_data_transformations_copy[features_transformations], train_data_transformations_copy[target], model)\n",
    "    results2[feature] = validation_scores\n",
    "results2 = dict(sorted(results2.items(), key=lambda item: item[1]))\n",
    "results2"
   ]
  },
  {
   "cell_type": "markdown",
   "id": "5a8420e1",
   "metadata": {},
   "source": [
    "Te z najlepszym wynikiem podwajamy a z najgorszym zmniejszamy o połowę.\n",
    "\n",
    "Jako próg odcięcia posłuży średnia wartość powyższych rezultatów.\n",
    "\n",
    "Zmienne, po których zwiększeniu uzyskano wynik mniejszy niż średnia (bo metryka to RMSE, więc im mniejsza wartość tym lepiej), zostaną dwukrotnie zwiększone."
   ]
  },
  {
   "cell_type": "code",
   "execution_count": 16,
   "id": "f571932c",
   "metadata": {},
   "outputs": [
    {
     "name": "stdout",
     "output_type": "stream",
     "text": [
      "Train RMSE: 0.0\n",
      "Validation RMSE: 0.22176314629610322\n"
     ]
    }
   ],
   "source": [
    "threshold = np.mean(list(results2.values()))\n",
    "train_data_transformations_copy = train_data_transformations.copy()\n",
    "for feature, score in results2.items():\n",
    "    if score < threshold:\n",
    "        train_data_transformations_copy[feature] = train_data_transformations_copy[feature]*2\n",
    "model = neighbors.KNeighborsRegressor(n_neighbors=10, n_jobs=-1, metric='manhattan', weights='distance')\n",
    "train_scores, validation_scores = perform_cv(train_data_transformations_copy[features_transformations], train_data_transformations_copy[target], model)\n",
    "print(\"Train RMSE:\", train_scores)\n",
    "print(\"Validation RMSE:\", validation_scores)"
   ]
  },
  {
   "cell_type": "markdown",
   "id": "a4ad2416",
   "metadata": {},
   "source": [
    "Warto również zweryfikować, czy zmniejszenie wartości pozostałych zmiennych (mniej istotnych) nie wpłynie na poprawę wyników."
   ]
  },
  {
   "cell_type": "code",
   "execution_count": 17,
   "id": "09e74a60",
   "metadata": {},
   "outputs": [
    {
     "name": "stdout",
     "output_type": "stream",
     "text": [
      "Train RMSE: 0.0\n",
      "Validation RMSE: 0.22041794184475266\n"
     ]
    }
   ],
   "source": [
    "threshold = np.mean(list(results2.values()))\n",
    "train_data_transformations_copy = train_data_transformations.copy()\n",
    "for feature, score in results2.items():\n",
    "    if score < threshold:\n",
    "        train_data_transformations_copy[feature] = train_data_transformations_copy[feature]*2\n",
    "    else:\n",
    "        train_data_transformations_copy[feature] = train_data_transformations_copy[feature]*0.5\n",
    "model = neighbors.KNeighborsRegressor(n_neighbors=10, n_jobs=-1, metric='manhattan', weights='distance')\n",
    "train_scores, validation_scores = perform_cv(train_data_transformations_copy[features_transformations], train_data_transformations_copy[target], model)\n",
    "print(\"Train RMSE:\", train_scores)\n",
    "print(\"Validation RMSE:\", validation_scores)"
   ]
  },
  {
   "cell_type": "markdown",
   "metadata": {},
   "source": [
    "Ponownie poprawa wyników - względem poprzedniego punktu, dla zbioru walidacyjnego (z 0.22545 na 0.22041)."
   ]
  },
  {
   "cell_type": "markdown",
   "id": "4c1c2923",
   "metadata": {},
   "source": [
    "## Zapisanie modelu"
   ]
  },
  {
   "cell_type": "code",
   "execution_count": 18,
   "id": "9d973a25",
   "metadata": {},
   "outputs": [
    {
     "name": "stdout",
     "output_type": "stream",
     "text": [
      "Train RMSE: 0.0\n",
      "Test RMSE: 0.225\n"
     ]
    }
   ],
   "source": [
    "for feature, score in results2.items():\n",
    "    if score < threshold:\n",
    "        train_data_transformations[feature] = train_data_transformations[feature]*2\n",
    "        test_data_transformations[feature] = test_data_transformations[feature]*2\n",
    "    else:\n",
    "        train_data_transformations[feature] = train_data_transformations[feature]*0.5\n",
    "        test_data_transformations[feature] = test_data_transformations[feature]*0.5\n",
    "\n",
    "test_indices = test_data_transformations.index\n",
    "\n",
    "#Ewaluacja modelu\n",
    "model = neighbors.KNeighborsRegressor(n_neighbors=10, n_jobs=-1, metric='manhattan', weights='distance')\n",
    "train_results, test_results, y_test_pred = evaluation(train_data_transformations[features_transformations], train_data_transformations[target], test_data_transformations[features_transformations], test_data_transformations[target], model)\n",
    "print(\"Train RMSE: {}\".format(round(train_results, 5)))\n",
    "print(\"Test RMSE: {}\".format(round(test_results, 5)))\n",
    "\n",
    "#Zapisanie modelu\n",
    "model_KNN = {\n",
    "    \"name\": \"KNN\",\n",
    "    \"trainResults\": train_results,\n",
    "    \"testResults\": test_results,\n",
    "    \"predictions\": y_test_pred,\n",
    "    \"indices\": test_indices,\n",
    "}\n",
    "with open(\"../data/model_KNN.p\", \"wb\") as fp:\n",
    "    pickle.dump(model_KNN, fp)"
   ]
  },
  {
   "cell_type": "markdown",
   "id": "91a61062",
   "metadata": {},
   "source": [
    "## Podsumowanie"
   ]
  },
  {
   "cell_type": "markdown",
   "id": "a8e3cec9",
   "metadata": {},
   "source": [
    "$\\text{Najlepsze wyniki walidacji krzyżowej uzyskano dla modelu bazującego na danych z transformacją zmiennych}$<p>\n",
    "$\\text{Ponadto, optymalizacja hiperparametrów, usunięcie najmniej istotnych zmiennych oraz skalowanie wybranych cech pozwoliło na poprawę wyników}$<p>\n",
    "$\\text{Wyniki na zbiorze treningowym (RMSE): 0.0}$<p>\n",
    "$\\text{Wyniki na zbiorze testowym (RMSE): 0.225}$"
   ]
  }
 ],
 "metadata": {
  "kernelspec": {
   "display_name": "Python 3 (ipykernel)",
   "language": "python",
   "name": "python3"
  },
  "language_info": {
   "codemirror_mode": {
    "name": "ipython",
    "version": 3
   },
   "file_extension": ".py",
   "mimetype": "text/x-python",
   "name": "python",
   "nbconvert_exporter": "python",
   "pygments_lexer": "ipython3",
   "version": "3.11.3"
  }
 },
 "nbformat": 4,
 "nbformat_minor": 5
}
