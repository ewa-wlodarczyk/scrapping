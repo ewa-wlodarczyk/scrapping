{
 "cells": [
  {
   "cell_type": "markdown",
   "id": "97f8b5ad",
   "metadata": {},
   "source": [
    "# Import bibliotek i danych"
   ]
  },
  {
   "cell_type": "code",
   "execution_count": 16,
   "id": "ff888dcb",
   "metadata": {},
   "outputs": [],
   "source": [
    "import pandas as pd\n",
    "import numpy as np\n",
    "import pickle\n",
    "import statsmodels.api as sm\n",
    "from sklearn import metrics\n",
    "from sklearn.model_selection import KFold\n",
    "from sklearn import metrics\n",
    "from sklearn import neighbors\n",
    "\n",
    "df=pd.read_csv(\"data_fe.csv\")\n",
    "df=df.drop(columns=['Unnamed: 0'])\n",
    "features=df.columns.tolist()\n",
    "features.remove('stars')\n",
    "target='stars'"
   ]
  },
  {
   "cell_type": "markdown",
   "id": "4d6ea887",
   "metadata": {},
   "source": [
    "# Oszacowanie modelu kNN"
   ]
  },
  {
   "cell_type": "code",
   "execution_count": 9,
   "id": "0a85efce",
   "metadata": {},
   "outputs": [],
   "source": [
    "def CVTestKNN(nFolds = 5, randomState=2024, debug=False, *args, **kwargs):\n",
    "    kf = KFold(n_splits=nFolds, shuffle=True, random_state=randomState)\n",
    "    # Listy z wynikami\n",
    "    testResults = []\n",
    "    trainResults = []\n",
    "    predictions = []\n",
    "    indices = []\n",
    "    # Pętla walidująca model na kolejnych foldach\n",
    "    for train, test in kf.split(df.index.values):\n",
    "        # Przygotowanie estymatora\n",
    "        clf = neighbors.KNeighborsRegressor(*args, **kwargs)\n",
    "        if debug:\n",
    "            print(clf)\n",
    "        # Trenowanie modelu\n",
    "        clf.fit(df.iloc[train][features], df.iloc[train][target])\n",
    "        # Przygotowanie prognoz dla zbioru treningowego i testowego\n",
    "        predsTrain = clf.predict(df.iloc[train][features])\n",
    "        preds = clf.predict(df.iloc[test][features])\n",
    "        # Zachowajmy informacje o predykcjach dla tego foldu\n",
    "        predictions.append(preds.tolist().copy())\n",
    "        # Razem z indeksami w oryginalnym data frame\n",
    "        indices.append(df.iloc[test].index.tolist().copy())\n",
    "        # Policzenie RMSE dla foldów\n",
    "        trainScore = metrics.mean_squared_error(df.iloc[train][target], predsTrain)**0.5\n",
    "        testScore = metrics.mean_squared_error(df.iloc[test][target], preds)**0.5\n",
    "        # Zapisanie wyników dla foldów\n",
    "        trainResults.append(trainScore)\n",
    "        testResults.append(testScore)\n",
    "        # Informowanie o każdym foldzie razem z wynikami treningowymi możemy opcjonalnie wyświetlać w trakcie\n",
    "        if debug:\n",
    "            print(\"Train RMSE:\", trainScore,\n",
    "                  \"Valid RMSE:\", testScore)\n",
    "        \n",
    "    return trainResults, testResults, predictions, indices"
   ]
  },
  {
   "cell_type": "code",
   "execution_count": 17,
   "id": "81a7ed06",
   "metadata": {},
   "outputs": [
    {
     "name": "stdout",
     "output_type": "stream",
     "text": [
      "0.25651391317177474\n"
     ]
    }
   ],
   "source": [
    "trainResults, testResults, predictions, indices = CVTestKNN(n_neighbors=50, n_jobs=-1, p=2, debug=False)\n",
    "print(np.mean(testResults))"
   ]
  },
  {
   "cell_type": "markdown",
   "id": "75e614ac",
   "metadata": {},
   "source": [
    "# Tuning hiperparametrów kNN"
   ]
  },
  {
   "cell_type": "markdown",
   "id": "a6d35b2f",
   "metadata": {},
   "source": [
    "1. Liczba najbliższych sąsiadów - k"
   ]
  },
  {
   "cell_type": "code",
   "execution_count": 11,
   "id": "db3dafa2",
   "metadata": {},
   "outputs": [
    {
     "name": "stdout",
     "output_type": "stream",
     "text": [
      "1 0.0 0.30081044226868137\n",
      "3 0.1801776704743168 0.2575041102974596\n",
      "5 0.20297742763910342 0.2506271471840048\n",
      "10 0.22334966818424307 0.24726283974535637\n",
      "15 0.23184142042316824 0.24904974090543947\n",
      "30 0.24353507502423585 0.2518807303043076\n",
      "50 0.25153642732533055 0.25651391317177474\n",
      "100 0.2609955583567132 0.26356092682709814\n",
      "150 0.2651254238254027 0.2670667462538331\n",
      "200 0.26872643441994504 0.2703872320874618\n"
     ]
    }
   ],
   "source": [
    "for k in [1, 3, 5, 10, 15, 30, 50, 100, 150, 200]:\n",
    "    trainResults, testResults, predictions, indices = CVTestKNN(n_neighbors=k, n_jobs=-1, p=2)\n",
    "    print(k, np.mean(trainResults), np.mean(testResults))"
   ]
  },
  {
   "cell_type": "markdown",
   "id": "70ea30a6",
   "metadata": {},
   "source": [
    "Wydaje się, że najlepsza jest liczba 10-ciu\n"
   ]
  },
  {
   "cell_type": "markdown",
   "id": "192ad272",
   "metadata": {},
   "source": [
    "2. Wybór miary dystansu"
   ]
  },
  {
   "cell_type": "code",
   "execution_count": 18,
   "id": "f0816473",
   "metadata": {},
   "outputs": [
    {
     "name": "stdout",
     "output_type": "stream",
     "text": [
      "5 0.2400728402173018\n",
      "10 0.23714754587900191\n",
      "15 0.2371800109899858\n"
     ]
    }
   ],
   "source": [
    "for k in [5, 10, 15]:\n",
    "    trainResults, testResults, predictions, indices = CVTestKNN(n_neighbors=k, n_jobs=-1, p=1)\n",
    "    print(k, np.mean(testResults))"
   ]
  },
  {
   "cell_type": "markdown",
   "id": "725284fe",
   "metadata": {},
   "source": [
    "Lepszy wynik dla miary Manhattan"
   ]
  },
  {
   "cell_type": "code",
   "execution_count": null,
   "id": "df67ae94",
   "metadata": {},
   "outputs": [],
   "source": []
  }
 ],
 "metadata": {
  "kernelspec": {
   "display_name": "Python 3 (ipykernel)",
   "language": "python",
   "name": "python3"
  },
  "language_info": {
   "codemirror_mode": {
    "name": "ipython",
    "version": 3
   },
   "file_extension": ".py",
   "mimetype": "text/x-python",
   "name": "python",
   "nbconvert_exporter": "python",
   "pygments_lexer": "ipython3",
   "version": "3.11.5"
  }
 },
 "nbformat": 4,
 "nbformat_minor": 5
}
