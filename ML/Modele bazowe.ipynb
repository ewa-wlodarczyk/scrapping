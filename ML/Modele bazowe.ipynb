{
 "cells": [
  {
   "cell_type": "markdown",
   "metadata": {},
   "source": [
    "# Import bibliotek"
   ]
  },
  {
   "cell_type": "code",
   "execution_count": 14,
   "metadata": {},
   "outputs": [],
   "source": [
    "import pandas as pd\n",
    "import os\n",
    "from sklearn.model_selection import train_test_split\n",
    "from sklearn.metrics import *\n",
    "from sklearn.linear_model import LinearRegression, Lasso, Ridge, ElasticNet\n",
    "from sklearn.svm import SVR\n",
    "from sklearn.tree import DecisionTreeRegressor\n",
    "from sklearn.ensemble import RandomForestRegressor\n",
    "from lightgbm import LGBMRegressor\n",
    "from xgboost import XGBRegressor\n",
    "from sklearn.neural_network import MLPRegressor\n",
    "SEED = 17"
   ]
  },
  {
   "cell_type": "markdown",
   "metadata": {},
   "source": [
    "$\\text{Poniższy notebook przedstawia ogólny zarys projektu oraz pierwszy etap modelowania.}$<p>\n",
    "$\\text{Do modelowania danych wykorzystane zostaną następujące algorytmy:}$<p>\n",
    "$\\qquad\\text{1. Regresja liniowa}$<p>\n",
    "$\\qquad\\text{2. Lasso}$<p>\n",
    "$\\qquad\\text{3. Rigde}$<p>\n",
    "$\\qquad\\text{4. ElasticNet}$<p>\n",
    "$\\qquad\\text{5. SVM Regressor}$<p>\n",
    "$\\qquad\\text{6. Decision Tree}$<p>\n",
    "$\\qquad\\text{7. RandomForest}$<p>\n",
    "$\\qquad\\text{8. LightGBM}$<p>\n",
    "$\\qquad\\text{9. XGBoost}$<p>\n",
    "$\\qquad\\text{10. MLP Regressor}$"
   ]
  },
  {
   "cell_type": "markdown",
   "metadata": {},
   "source": [
    "$\\text{Dla każdego algorytmu indywidualnie zostaną wykonane procesy służące optymalizacji wyników:}$<p>\n",
    "$\\qquad\\text{1. Usunięcie wartości odstających}$<p>\n",
    "$\\qquad\\text{2. Feature Engineering (usuwanie skośności, skalowanie)}$<p>\n",
    "$\\qquad\\text{3. Selekcja cech}$<p>\n",
    "$\\qquad\\text{4. Optymalizacja hiperparametrów}$<p>\n",
    "$\\text{W celu porównania wyników zastosujemy walidację krzyżową, która pozwoli w bardziej obiektywny sposób ocenić jakość modeli.}$<p>\n",
    "$\\text{Metryką oceny modeli będzie Root Mean Squared Error (RMSE).}$<p>\n",
    "$\\text{Na końcu podsumujemy wyniki w formie tabeli, dzięki czemu będziemy mogli zweryfikować jak poszczególne powyższe procesy wpłynęły na jakość modeli.}$"
   ]
  },
  {
   "cell_type": "markdown",
   "metadata": {},
   "source": [
    "# Podział zbioru"
   ]
  },
  {
   "cell_type": "markdown",
   "metadata": {},
   "source": [
    "$\\text{W celu ewaluacji modeli podzielmy zbiór na zbiór treningowy i testowy.}$<p>\n",
    "$\\text{Zbiór treningowy będzie zawierał 80\\% danych, natomiast zbiór testowy 20\\%.}$<p>\n",
    "$\\text{Ponieważ dane nie mają charakteru czasowego, podział będzie losowy.}$<p>\n",
    "$\\text{Zbiór testowy zostanie wykorzystany jedynie do ewaluacji modeli i nie będzie miał wpływu na proces trenowania i optymalizacji opisanych powyżej.}$"
   ]
  },
  {
   "cell_type": "code",
   "execution_count": 15,
   "metadata": {},
   "outputs": [],
   "source": [
    "parent_dir = os.path.dirname(os.getcwd())\n",
    "data = pd.read_csv(os.path.join(parent_dir, 'data//data_eda.csv'), index_col=0)\n",
    "train_data, test_data = train_test_split(data, test_size=0.2, random_state=SEED, shuffle=True)\n",
    "train_data.to_csv(os.path.join(parent_dir, 'data//train_data.csv'))\n",
    "test_data.to_csv(os.path.join(parent_dir, 'data//test_data.csv'))"
   ]
  },
  {
   "cell_type": "markdown",
   "metadata": {},
   "source": [
    "# Modele bazowe"
   ]
  },
  {
   "cell_type": "markdown",
   "metadata": {},
   "source": [
    "$\\text{Każdy z powyżej opisanych algorytmów wytrenowany zostanie na danych treningowych z domyślnymi hipermarametrami.}$<p>"
   ]
  },
  {
   "cell_type": "code",
   "execution_count": 16,
   "metadata": {},
   "outputs": [],
   "source": [
    "target = \"stars\"\n",
    "X_train = train_data.drop(target, axis=1)\n",
    "y_train = train_data[target]\n",
    "X_test = test_data.drop(target, axis=1)\n",
    "y_test = test_data[target]"
   ]
  },
  {
   "cell_type": "markdown",
   "metadata": {},
   "source": [
    "## 1. Regresja liniowa"
   ]
  },
  {
   "cell_type": "code",
   "execution_count": 17,
   "metadata": {},
   "outputs": [
    {
     "name": "stdout",
     "output_type": "stream",
     "text": [
      "Linear Regression RMSE: 0.23332\n"
     ]
    }
   ],
   "source": [
    "model = LinearRegression()\n",
    "model.fit(X_train, y_train)\n",
    "y_pred = model.predict(X_test)\n",
    "print(\"Linear Regression RMSE: {}\".format(round(mean_squared_error(y_test, y_pred)**0.5, 5)))"
   ]
  },
  {
   "cell_type": "markdown",
   "metadata": {},
   "source": [
    "## 2. Lasso"
   ]
  },
  {
   "cell_type": "code",
   "execution_count": 18,
   "metadata": {},
   "outputs": [
    {
     "name": "stdout",
     "output_type": "stream",
     "text": [
      "Lasso RMSE: 0.29881\n"
     ]
    }
   ],
   "source": [
    "model = Lasso(random_state=SEED)\n",
    "model.fit(X_train, y_train)\n",
    "y_pred = model.predict(X_test)\n",
    "print(\"Lasso RMSE: {}\".format(round(mean_squared_error(y_test, y_pred)**0.5, 5)))"
   ]
  },
  {
   "cell_type": "markdown",
   "metadata": {},
   "source": [
    "## 3. Ridge"
   ]
  },
  {
   "cell_type": "code",
   "execution_count": 19,
   "metadata": {},
   "outputs": [
    {
     "name": "stdout",
     "output_type": "stream",
     "text": [
      "Ridge RMSE: 0.23314\n"
     ]
    }
   ],
   "source": [
    "model = Ridge(random_state=SEED)\n",
    "model.fit(X_train, y_train)\n",
    "y_pred = model.predict(X_test)\n",
    "print(\"Ridge RMSE: {}\".format(round(mean_squared_error(y_test, y_pred)**0.5, 5)))"
   ]
  },
  {
   "cell_type": "markdown",
   "metadata": {},
   "source": [
    "## 4. ElasticNet"
   ]
  },
  {
   "cell_type": "code",
   "execution_count": 20,
   "metadata": {},
   "outputs": [
    {
     "name": "stdout",
     "output_type": "stream",
     "text": [
      "ElasticNet RMSE: 0.29879\n"
     ]
    }
   ],
   "source": [
    "model = ElasticNet(random_state=SEED)\n",
    "model.fit(X_train, y_train)\n",
    "y_pred = model.predict(X_test)\n",
    "print(\"ElasticNet RMSE: {}\".format(round(mean_squared_error(y_test, y_pred)**0.5, 5)))"
   ]
  },
  {
   "cell_type": "markdown",
   "metadata": {},
   "source": [
    "## 5. SVM Regressor"
   ]
  },
  {
   "cell_type": "code",
   "execution_count": 21,
   "metadata": {},
   "outputs": [
    {
     "name": "stdout",
     "output_type": "stream",
     "text": [
      "SVM Regressor RMSE: 0.29944\n"
     ]
    }
   ],
   "source": [
    "model = SVR()\n",
    "model.fit(X_train, y_train)\n",
    "y_pred = model.predict(X_test)\n",
    "print(\"SVM Regressor RMSE: {}\".format(round(mean_squared_error(y_test, y_pred)**0.5, 5)))"
   ]
  },
  {
   "cell_type": "markdown",
   "metadata": {},
   "source": [
    "## 6. Decision Tree"
   ]
  },
  {
   "cell_type": "code",
   "execution_count": 22,
   "metadata": {},
   "outputs": [
    {
     "name": "stdout",
     "output_type": "stream",
     "text": [
      "Decision Tree RMSE: 0.31403\n"
     ]
    }
   ],
   "source": [
    "model = DecisionTreeRegressor(random_state=SEED)\n",
    "model.fit(X_train, y_train)\n",
    "y_pred = model.predict(X_test)\n",
    "print(\"Decision Tree RMSE: {}\".format(round(mean_squared_error(y_test, y_pred)**0.5, 5)))"
   ]
  },
  {
   "cell_type": "markdown",
   "metadata": {},
   "source": [
    "## 7. Random Forest"
   ]
  },
  {
   "cell_type": "code",
   "execution_count": 23,
   "metadata": {},
   "outputs": [
    {
     "name": "stdout",
     "output_type": "stream",
     "text": [
      "Random Forest RMSE: 0.21355\n"
     ]
    }
   ],
   "source": [
    "model = RandomForestRegressor(random_state=SEED)\n",
    "model.fit(X_train, y_train)\n",
    "y_pred = model.predict(X_test)\n",
    "print(\"Random Forest RMSE: {}\".format(round(mean_squared_error(y_test, y_pred)**0.5, 5)))"
   ]
  },
  {
   "cell_type": "markdown",
   "metadata": {},
   "source": [
    "## 8. LightGBM"
   ]
  },
  {
   "cell_type": "code",
   "execution_count": 24,
   "metadata": {},
   "outputs": [
    {
     "name": "stdout",
     "output_type": "stream",
     "text": [
      "LGBM RMSE: 0.19964\n"
     ]
    }
   ],
   "source": [
    "model = LGBMRegressor(random_state=SEED, verbosity=-1)\n",
    "model.fit(X_train, y_train)\n",
    "y_pred = model.predict(X_test)\n",
    "print(\"LGBM RMSE: {}\".format(round(mean_squared_error(y_test, y_pred)**0.5, 5)))"
   ]
  },
  {
   "cell_type": "markdown",
   "metadata": {},
   "source": [
    "## 9. XGBoost"
   ]
  },
  {
   "cell_type": "code",
   "execution_count": 25,
   "metadata": {},
   "outputs": [
    {
     "name": "stdout",
     "output_type": "stream",
     "text": [
      "XGB RMSE: 0.2029\n"
     ]
    }
   ],
   "source": [
    "model = XGBRegressor(random_state=SEED)\n",
    "model.fit(X_train, y_train)\n",
    "y_pred = model.predict(X_test)\n",
    "print(\"XGB RMSE: {}\".format(round(mean_squared_error(y_test, y_pred)**0.5, 5)))"
   ]
  },
  {
   "cell_type": "markdown",
   "metadata": {},
   "source": [
    "## 10. MLP Regressor"
   ]
  },
  {
   "cell_type": "code",
   "execution_count": 26,
   "metadata": {},
   "outputs": [
    {
     "name": "stdout",
     "output_type": "stream",
     "text": [
      "MLP RMSE: 283.28169\n"
     ]
    }
   ],
   "source": [
    "model = MLPRegressor(random_state=SEED)\n",
    "model.fit(X_train, y_train)\n",
    "y_pred = model.predict(X_test)\n",
    "print(\"MLP RMSE: {}\".format(round(mean_squared_error(y_test, y_pred)**0.5, 5)))"
   ]
  }
 ],
 "metadata": {
  "kernelspec": {
   "display_name": "Python 3",
   "language": "python",
   "name": "python3"
  },
  "language_info": {
   "codemirror_mode": {
    "name": "ipython",
    "version": 3
   },
   "file_extension": ".py",
   "mimetype": "text/x-python",
   "name": "python",
   "nbconvert_exporter": "python",
   "pygments_lexer": "ipython3",
   "version": "3.11.3"
  }
 },
 "nbformat": 4,
 "nbformat_minor": 2
}
