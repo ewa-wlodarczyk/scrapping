{
 "cells": [
  {
   "cell_type": "markdown",
   "id": "5900080e",
   "metadata": {},
   "source": [
    "# Import bibliotek i danych"
   ]
  },
  {
   "cell_type": "code",
   "execution_count": 90,
   "id": "577417d9",
   "metadata": {},
   "outputs": [],
   "source": [
    "import pandas as pd\n",
    "import numpy as np\n",
    "import statsmodels.api as sm\n",
    "from sklearn import metrics\n",
    "from sklearn.model_selection import KFold\n",
    "from sklearn.model_selection import train_test_split\n",
    "from sklearn.model_selection import StratifiedKFold\n",
    "from operator import itemgetter\n",
    "import time\n",
    "from xgboost import XGBRegressor\n",
    "from sklearn import metrics\n",
    "from sklearn import neighbors\n",
    "import statsmodels.formula.api as smf\n",
    "from statsmodels.stats.outliers_influence import variance_inflation_factor \n",
    "from sklearn.model_selection import KFold\n",
    "from sklearn.metrics import *\n",
    "from sklearn.linear_model import LinearRegression\n",
    "from scipy import stats\n",
    "from sklearn import linear_model\n",
    "import pickle\n",
    "with open(\"model_kNN.p\", \"rb\") as fp:\n",
    "    modelkNN = pickle.load(fp)\n",
    "with open(\"model_OLS.p\", \"rb\") as fp:\n",
    "    modelOLS = pickle.load(fp)\n",
    "with open(\"model_XGBoost.p\", \"rb\") as fp:\n",
    "    modelXGBoost = pickle.load(fp)\n",
    "    \n",
    "df = pd.read_csv('data_eda.csv')\n",
    "df=df.rename(columns={'Unnamed: 0': 'index_0'})"
   ]
  },
  {
   "cell_type": "markdown",
   "id": "4f86e792",
   "metadata": {},
   "source": [
    "Tworzymy dataframe z predykcjami wszystkich modeli"
   ]
  },
  {
   "cell_type": "code",
   "execution_count": 92,
   "id": "0370a43f",
   "metadata": {},
   "outputs": [],
   "source": [
    "predNames = []\n",
    "true = df[target].sort_index()\n",
    "for result in [modelXGBoost, modelkNN, modelOLS]:\n",
    "    # Tworzymy wektor predykcji tworząc serię pandasa, a następnie sortujemy indeks\n",
    "    pred = pd.Series(sum(result[\"predictions\"], []), index=sum(result[\"indices\"], [])).sort_index()\n",
    "    # Dodajmy kolumnę z predykcjami na podstawie nazwy z pliku\n",
    "    # Wyczyścimy nazwy modeli aby zlikwidować spacje i pozbyć się niepotrzebnych składników\n",
    "    cleanName = (result['name']).replace(\" \", \"_\").split(\"_\")[0]\n",
    "    predNames.append(f\"pred_{cleanName}\")\n",
    "    df[f\"pred_{cleanName}\"] = pred"
   ]
  },
  {
   "cell_type": "code",
   "execution_count": 93,
   "id": "5b7a8559",
   "metadata": {},
   "outputs": [
    {
     "data": {
      "text/html": [
       "<div>\n",
       "<style scoped>\n",
       "    .dataframe tbody tr th:only-of-type {\n",
       "        vertical-align: middle;\n",
       "    }\n",
       "\n",
       "    .dataframe tbody tr th {\n",
       "        vertical-align: top;\n",
       "    }\n",
       "\n",
       "    .dataframe thead th {\n",
       "        text-align: right;\n",
       "    }\n",
       "</style>\n",
       "<table border=\"1\" class=\"dataframe\">\n",
       "  <thead>\n",
       "    <tr style=\"text-align: right;\">\n",
       "      <th></th>\n",
       "      <th>pred_XGBoost</th>\n",
       "      <th>pred_KNN</th>\n",
       "      <th>pred_OLS</th>\n",
       "    </tr>\n",
       "  </thead>\n",
       "  <tbody>\n",
       "    <tr>\n",
       "      <th>pred_XGBoost</th>\n",
       "      <td>1.000000</td>\n",
       "      <td>0.841211</td>\n",
       "      <td>0.844737</td>\n",
       "    </tr>\n",
       "    <tr>\n",
       "      <th>pred_KNN</th>\n",
       "      <td>0.841211</td>\n",
       "      <td>1.000000</td>\n",
       "      <td>0.779810</td>\n",
       "    </tr>\n",
       "    <tr>\n",
       "      <th>pred_OLS</th>\n",
       "      <td>0.844737</td>\n",
       "      <td>0.779810</td>\n",
       "      <td>1.000000</td>\n",
       "    </tr>\n",
       "  </tbody>\n",
       "</table>\n",
       "</div>"
      ],
      "text/plain": [
       "              pred_XGBoost  pred_KNN  pred_OLS\n",
       "pred_XGBoost      1.000000  0.841211  0.844737\n",
       "pred_KNN          0.841211  1.000000  0.779810\n",
       "pred_OLS          0.844737  0.779810  1.000000"
      ]
     },
     "execution_count": 93,
     "metadata": {},
     "output_type": "execute_result"
    }
   ],
   "source": [
    "df[predNames].corr()"
   ]
  },
  {
   "cell_type": "markdown",
   "id": "d78c2010",
   "metadata": {},
   "source": [
    "Najmniejsza korelacja między KNN i OLS, dla reszty dość wysoka."
   ]
  },
  {
   "cell_type": "code",
   "execution_count": 94,
   "id": "1a6eee2c",
   "metadata": {},
   "outputs": [
    {
     "data": {
      "text/html": [
       "<div>\n",
       "<style scoped>\n",
       "    .dataframe tbody tr th:only-of-type {\n",
       "        vertical-align: middle;\n",
       "    }\n",
       "\n",
       "    .dataframe tbody tr th {\n",
       "        vertical-align: top;\n",
       "    }\n",
       "\n",
       "    .dataframe thead th {\n",
       "        text-align: right;\n",
       "    }\n",
       "</style>\n",
       "<table border=\"1\" class=\"dataframe\">\n",
       "  <thead>\n",
       "    <tr style=\"text-align: right;\">\n",
       "      <th></th>\n",
       "      <th>pred_XGBoost</th>\n",
       "      <th>pred_KNN</th>\n",
       "      <th>pred_OLS</th>\n",
       "    </tr>\n",
       "  </thead>\n",
       "  <tbody>\n",
       "    <tr>\n",
       "      <th>5461</th>\n",
       "      <td>3.667854</td>\n",
       "      <td>3.696292</td>\n",
       "      <td>3.701928</td>\n",
       "    </tr>\n",
       "    <tr>\n",
       "      <th>119</th>\n",
       "      <td>3.752836</td>\n",
       "      <td>3.893834</td>\n",
       "      <td>3.730671</td>\n",
       "    </tr>\n",
       "    <tr>\n",
       "      <th>6429</th>\n",
       "      <td>4.030631</td>\n",
       "      <td>3.988778</td>\n",
       "      <td>4.230372</td>\n",
       "    </tr>\n",
       "    <tr>\n",
       "      <th>3902</th>\n",
       "      <td>3.987619</td>\n",
       "      <td>4.182165</td>\n",
       "      <td>3.973627</td>\n",
       "    </tr>\n",
       "    <tr>\n",
       "      <th>1012</th>\n",
       "      <td>3.917302</td>\n",
       "      <td>3.928595</td>\n",
       "      <td>3.900619</td>\n",
       "    </tr>\n",
       "    <tr>\n",
       "      <th>4662</th>\n",
       "      <td>4.304137</td>\n",
       "      <td>4.062801</td>\n",
       "      <td>4.207721</td>\n",
       "    </tr>\n",
       "    <tr>\n",
       "      <th>2019</th>\n",
       "      <td>3.754264</td>\n",
       "      <td>3.885266</td>\n",
       "      <td>3.917883</td>\n",
       "    </tr>\n",
       "    <tr>\n",
       "      <th>4668</th>\n",
       "      <td>4.339694</td>\n",
       "      <td>4.283528</td>\n",
       "      <td>4.102498</td>\n",
       "    </tr>\n",
       "    <tr>\n",
       "      <th>4294</th>\n",
       "      <td>4.287140</td>\n",
       "      <td>4.140000</td>\n",
       "      <td>4.446698</td>\n",
       "    </tr>\n",
       "    <tr>\n",
       "      <th>6296</th>\n",
       "      <td>3.682573</td>\n",
       "      <td>3.942500</td>\n",
       "      <td>3.754338</td>\n",
       "    </tr>\n",
       "  </tbody>\n",
       "</table>\n",
       "</div>"
      ],
      "text/plain": [
       "      pred_XGBoost  pred_KNN  pred_OLS\n",
       "5461      3.667854  3.696292  3.701928\n",
       "119       3.752836  3.893834  3.730671\n",
       "6429      4.030631  3.988778  4.230372\n",
       "3902      3.987619  4.182165  3.973627\n",
       "1012      3.917302  3.928595  3.900619\n",
       "4662      4.304137  4.062801  4.207721\n",
       "2019      3.754264  3.885266  3.917883\n",
       "4668      4.339694  4.283528  4.102498\n",
       "4294      4.287140  4.140000  4.446698\n",
       "6296      3.682573  3.942500  3.754338"
      ]
     },
     "execution_count": 94,
     "metadata": {},
     "output_type": "execute_result"
    }
   ],
   "source": [
    "df[predNames].sample(10)"
   ]
  },
  {
   "cell_type": "markdown",
   "id": "89a9e490",
   "metadata": {},
   "source": [
    "Ale nadal widać różnice w predykcjach, sprawdźmy jakość predykcji średniej z modeli:"
   ]
  },
  {
   "cell_type": "code",
   "execution_count": 95,
   "id": "8f2c1012",
   "metadata": {},
   "outputs": [],
   "source": [
    "df[\"pred_mean\"] = df[['pred_XGBoost','pred_KNN','pred_OLS']].mean(axis=1)"
   ]
  },
  {
   "cell_type": "code",
   "execution_count": 98,
   "id": "39c69f0f",
   "metadata": {},
   "outputs": [
    {
     "data": {
      "text/plain": [
       "0.1929641178716523"
      ]
     },
     "execution_count": 98,
     "metadata": {},
     "output_type": "execute_result"
    }
   ],
   "source": [
    "metrics.mean_squared_error(df['stars'], df['pred_mean'])**0.5"
   ]
  },
  {
   "cell_type": "markdown",
   "id": "9a59fa9d",
   "metadata": {},
   "source": [
    "Jakość predykcji lepsza niż dla kNN i OLS osobno, ale gorsza niż dla XGBoost, więc spróbujmy zmienić wagi na współczynniki z regresji:"
   ]
  },
  {
   "cell_type": "code",
   "execution_count": 111,
   "id": "27ecfa01",
   "metadata": {},
   "outputs": [
    {
     "data": {
      "text/html": [
       "<table class=\"simpletable\">\n",
       "<caption>OLS Regression Results</caption>\n",
       "<tr>\n",
       "  <th>Dep. Variable:</th>          <td>stars</td>      <th>  R-squared (uncentered):</th>      <td>   0.998</td> \n",
       "</tr>\n",
       "<tr>\n",
       "  <th>Model:</th>                   <td>OLS</td>       <th>  Adj. R-squared (uncentered):</th> <td>   0.998</td> \n",
       "</tr>\n",
       "<tr>\n",
       "  <th>Method:</th>             <td>Least Squares</td>  <th>  F-statistic:       </th>          <td>1.015e+06</td>\n",
       "</tr>\n",
       "<tr>\n",
       "  <th>Date:</th>             <td>Mon, 22 Apr 2024</td> <th>  Prob (F-statistic):</th>           <td>  0.00</td>  \n",
       "</tr>\n",
       "<tr>\n",
       "  <th>Time:</th>                 <td>16:29:08</td>     <th>  Log-Likelihood:    </th>          <td>  1775.5</td> \n",
       "</tr>\n",
       "<tr>\n",
       "  <th>No. Observations:</th>      <td>  6930</td>      <th>  AIC:               </th>          <td>  -3545.</td> \n",
       "</tr>\n",
       "<tr>\n",
       "  <th>Df Residuals:</th>          <td>  6927</td>      <th>  BIC:               </th>          <td>  -3525.</td> \n",
       "</tr>\n",
       "<tr>\n",
       "  <th>Df Model:</th>              <td>     3</td>      <th>                     </th>              <td> </td>    \n",
       "</tr>\n",
       "<tr>\n",
       "  <th>Covariance Type:</th>      <td>nonrobust</td>    <th>                     </th>              <td> </td>    \n",
       "</tr>\n",
       "</table>\n",
       "<table class=\"simpletable\">\n",
       "<tr>\n",
       "        <td></td>          <th>coef</th>     <th>std err</th>      <th>t</th>      <th>P>|t|</th>  <th>[0.025</th>    <th>0.975]</th>  \n",
       "</tr>\n",
       "<tr>\n",
       "  <th>pred_XGBoost</th> <td>    0.7733</td> <td>    0.021</td> <td>   36.250</td> <td> 0.000</td> <td>    0.732</td> <td>    0.815</td>\n",
       "</tr>\n",
       "<tr>\n",
       "  <th>pred_KNN</th>     <td>    0.1100</td> <td>    0.019</td> <td>    5.805</td> <td> 0.000</td> <td>    0.073</td> <td>    0.147</td>\n",
       "</tr>\n",
       "<tr>\n",
       "  <th>pred_OLS</th>     <td>    0.1172</td> <td>    0.019</td> <td>    6.118</td> <td> 0.000</td> <td>    0.080</td> <td>    0.155</td>\n",
       "</tr>\n",
       "</table>\n",
       "<table class=\"simpletable\">\n",
       "<tr>\n",
       "  <th>Omnibus:</th>       <td>346.896</td> <th>  Durbin-Watson:     </th> <td>   1.998</td> \n",
       "</tr>\n",
       "<tr>\n",
       "  <th>Prob(Omnibus):</th> <td> 0.000</td>  <th>  Jarque-Bera (JB):  </th> <td> 646.315</td> \n",
       "</tr>\n",
       "<tr>\n",
       "  <th>Skew:</th>          <td>-0.380</td>  <th>  Prob(JB):          </th> <td>4.51e-141</td>\n",
       "</tr>\n",
       "<tr>\n",
       "  <th>Kurtosis:</th>      <td> 4.288</td>  <th>  Cond. No.          </th> <td>    78.9</td> \n",
       "</tr>\n",
       "</table><br/><br/>Notes:<br/>[1] R² is computed without centering (uncentered) since the model does not contain a constant.<br/>[2] Standard Errors assume that the covariance matrix of the errors is correctly specified."
      ],
      "text/latex": [
       "\\begin{center}\n",
       "\\begin{tabular}{lclc}\n",
       "\\toprule\n",
       "\\textbf{Dep. Variable:}    &      stars       & \\textbf{  R-squared (uncentered):}      &     0.998   \\\\\n",
       "\\textbf{Model:}            &       OLS        & \\textbf{  Adj. R-squared (uncentered):} &     0.998   \\\\\n",
       "\\textbf{Method:}           &  Least Squares   & \\textbf{  F-statistic:       }          & 1.015e+06   \\\\\n",
       "\\textbf{Date:}             & Mon, 22 Apr 2024 & \\textbf{  Prob (F-statistic):}          &     0.00    \\\\\n",
       "\\textbf{Time:}             &     16:29:08     & \\textbf{  Log-Likelihood:    }          &    1775.5   \\\\\n",
       "\\textbf{No. Observations:} &        6930      & \\textbf{  AIC:               }          &    -3545.   \\\\\n",
       "\\textbf{Df Residuals:}     &        6927      & \\textbf{  BIC:               }          &    -3525.   \\\\\n",
       "\\textbf{Df Model:}         &           3      & \\textbf{                     }          &             \\\\\n",
       "\\textbf{Covariance Type:}  &    nonrobust     & \\textbf{                     }          &             \\\\\n",
       "\\bottomrule\n",
       "\\end{tabular}\n",
       "\\begin{tabular}{lcccccc}\n",
       "                       & \\textbf{coef} & \\textbf{std err} & \\textbf{t} & \\textbf{P$> |$t$|$} & \\textbf{[0.025} & \\textbf{0.975]}  \\\\\n",
       "\\midrule\n",
       "\\textbf{pred\\_XGBoost} &       0.7733  &        0.021     &    36.250  &         0.000        &        0.732    &        0.815     \\\\\n",
       "\\textbf{pred\\_KNN}     &       0.1100  &        0.019     &     5.805  &         0.000        &        0.073    &        0.147     \\\\\n",
       "\\textbf{pred\\_OLS}     &       0.1172  &        0.019     &     6.118  &         0.000        &        0.080    &        0.155     \\\\\n",
       "\\bottomrule\n",
       "\\end{tabular}\n",
       "\\begin{tabular}{lclc}\n",
       "\\textbf{Omnibus:}       & 346.896 & \\textbf{  Durbin-Watson:     } &     1.998  \\\\\n",
       "\\textbf{Prob(Omnibus):} &   0.000 & \\textbf{  Jarque-Bera (JB):  } &   646.315  \\\\\n",
       "\\textbf{Skew:}          &  -0.380 & \\textbf{  Prob(JB):          } & 4.51e-141  \\\\\n",
       "\\textbf{Kurtosis:}      &   4.288 & \\textbf{  Cond. No.          } &      78.9  \\\\\n",
       "\\bottomrule\n",
       "\\end{tabular}\n",
       "%\\caption{OLS Regression Results}\n",
       "\\end{center}\n",
       "\n",
       "Notes: \\newline\n",
       " [1] R² is computed without centering (uncentered) since the model does not contain a constant. \\newline\n",
       " [2] Standard Errors assume that the covariance matrix of the errors is correctly specified."
      ],
      "text/plain": [
       "<class 'statsmodels.iolib.summary.Summary'>\n",
       "\"\"\"\n",
       "                                 OLS Regression Results                                \n",
       "=======================================================================================\n",
       "Dep. Variable:                  stars   R-squared (uncentered):                   0.998\n",
       "Model:                            OLS   Adj. R-squared (uncentered):              0.998\n",
       "Method:                 Least Squares   F-statistic:                          1.015e+06\n",
       "Date:                Mon, 22 Apr 2024   Prob (F-statistic):                        0.00\n",
       "Time:                        16:29:08   Log-Likelihood:                          1775.5\n",
       "No. Observations:                6930   AIC:                                     -3545.\n",
       "Df Residuals:                    6927   BIC:                                     -3525.\n",
       "Df Model:                           3                                                  \n",
       "Covariance Type:            nonrobust                                                  \n",
       "================================================================================\n",
       "                   coef    std err          t      P>|t|      [0.025      0.975]\n",
       "--------------------------------------------------------------------------------\n",
       "pred_XGBoost     0.7733      0.021     36.250      0.000       0.732       0.815\n",
       "pred_KNN         0.1100      0.019      5.805      0.000       0.073       0.147\n",
       "pred_OLS         0.1172      0.019      6.118      0.000       0.080       0.155\n",
       "==============================================================================\n",
       "Omnibus:                      346.896   Durbin-Watson:                   1.998\n",
       "Prob(Omnibus):                  0.000   Jarque-Bera (JB):              646.315\n",
       "Skew:                          -0.380   Prob(JB):                    4.51e-141\n",
       "Kurtosis:                       4.288   Cond. No.                         78.9\n",
       "==============================================================================\n",
       "\n",
       "Notes:\n",
       "[1] R² is computed without centering (uncentered) since the model does not contain a constant.\n",
       "[2] Standard Errors assume that the covariance matrix of the errors is correctly specified.\n",
       "\"\"\""
      ]
     },
     "execution_count": 111,
     "metadata": {},
     "output_type": "execute_result"
    }
   ],
   "source": [
    "from sklearn import linear_model\n",
    "\n",
    "from statsmodels.api import OLS\n",
    "OLS(df['stars'],df[['pred_XGBoost','pred_KNN','pred_OLS']]).fit().summary()"
   ]
  },
  {
   "cell_type": "code",
   "execution_count": 112,
   "id": "68eeb5e1",
   "metadata": {},
   "outputs": [
    {
     "data": {
      "text/plain": [
       "0.18728083923943667"
      ]
     },
     "execution_count": 112,
     "metadata": {},
     "output_type": "execute_result"
    }
   ],
   "source": [
    "df[\"pred_regg\"] = df['pred_XGBoost']*0.7733+df['pred_KNN']*0.1100+df['pred_OLS']*0.1172\n",
    "metrics.mean_squared_error(df['stars'], df['pred_regg'])**0.5"
   ]
  },
  {
   "cell_type": "markdown",
   "id": "9e7cc556",
   "metadata": {},
   "source": [
    "Ostateczny wynik lepszy niż dla samego XGBoost: *0.18728*"
   ]
  }
 ],
 "metadata": {
  "kernelspec": {
   "display_name": "Python 3 (ipykernel)",
   "language": "python",
   "name": "python3"
  },
  "language_info": {
   "codemirror_mode": {
    "name": "ipython",
    "version": 3
   },
   "file_extension": ".py",
   "mimetype": "text/x-python",
   "name": "python",
   "nbconvert_exporter": "python",
   "pygments_lexer": "ipython3",
   "version": "3.11.5"
  }
 },
 "nbformat": 4,
 "nbformat_minor": 5
}
