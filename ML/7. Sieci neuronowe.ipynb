{
 "cells": [
  {
   "cell_type": "markdown",
   "metadata": {},
   "source": [
    "# Import bibliotek"
   ]
  },
  {
   "cell_type": "code",
   "execution_count": 1,
   "metadata": {},
   "outputs": [],
   "source": [
    "import pandas as pd\n",
    "import numpy as np\n",
    "from sklearn.neural_network import MLPRegressor\n",
    "from sklearn.metrics import *\n",
    "from sklearn.feature_selection import mutual_info_regression\n",
    "from sklearn.model_selection import train_test_split, KFold\n",
    "from  sklearn.preprocessing import StandardScaler, MinMaxScaler, RobustScaler, QuantileTransformer\n",
    "import optuna\n",
    "import typing\n",
    "import plotly.graph_objs as go\n",
    "import itertools\n",
    "import warnings\n",
    "from scipy.special import digamma\n",
    "from sklearn.neighbors import NearestNeighbors, KDTree\n",
    "warnings.filterwarnings('ignore')\n",
    "SEED = 17"
   ]
  },
  {
   "cell_type": "markdown",
   "metadata": {},
   "source": [
    "# Ładowanie danych"
   ]
  },
  {
   "cell_type": "code",
   "execution_count": 2,
   "metadata": {},
   "outputs": [
    {
     "data": {
      "text/html": [
       "<div>\n",
       "<style scoped>\n",
       "    .dataframe tbody tr th:only-of-type {\n",
       "        vertical-align: middle;\n",
       "    }\n",
       "\n",
       "    .dataframe tbody tr th {\n",
       "        vertical-align: top;\n",
       "    }\n",
       "\n",
       "    .dataframe thead th {\n",
       "        text-align: right;\n",
       "    }\n",
       "</style>\n",
       "<table border=\"1\" class=\"dataframe\">\n",
       "  <thead>\n",
       "    <tr style=\"text-align: right;\">\n",
       "      <th></th>\n",
       "      <th>pages</th>\n",
       "      <th>stars</th>\n",
       "      <th>reviews</th>\n",
       "      <th>series</th>\n",
       "      <th>mix</th>\n",
       "      <th>character</th>\n",
       "      <th>plot</th>\n",
       "      <th>funny</th>\n",
       "      <th>lighthearted</th>\n",
       "      <th>emotional</th>\n",
       "      <th>...</th>\n",
       "      <th>author_stars</th>\n",
       "      <th>Fiction</th>\n",
       "      <th>Nonfiction</th>\n",
       "      <th>Literary</th>\n",
       "      <th>Fantasy</th>\n",
       "      <th>Crime</th>\n",
       "      <th>Social</th>\n",
       "      <th>Children</th>\n",
       "      <th>Romans</th>\n",
       "      <th>Realism</th>\n",
       "    </tr>\n",
       "  </thead>\n",
       "  <tbody>\n",
       "    <tr>\n",
       "      <th>0</th>\n",
       "      <td>273</td>\n",
       "      <td>4.00</td>\n",
       "      <td>2017</td>\n",
       "      <td>0</td>\n",
       "      <td>0.44</td>\n",
       "      <td>0.51</td>\n",
       "      <td>0.02</td>\n",
       "      <td>0.27</td>\n",
       "      <td>0.37</td>\n",
       "      <td>0.91</td>\n",
       "      <td>...</td>\n",
       "      <td>4.305000</td>\n",
       "      <td>1</td>\n",
       "      <td>1</td>\n",
       "      <td>0</td>\n",
       "      <td>0</td>\n",
       "      <td>0</td>\n",
       "      <td>1</td>\n",
       "      <td>0</td>\n",
       "      <td>1</td>\n",
       "      <td>1</td>\n",
       "    </tr>\n",
       "    <tr>\n",
       "      <th>1</th>\n",
       "      <td>302</td>\n",
       "      <td>3.78</td>\n",
       "      <td>7330</td>\n",
       "      <td>0</td>\n",
       "      <td>0.39</td>\n",
       "      <td>0.42</td>\n",
       "      <td>0.17</td>\n",
       "      <td>0.03</td>\n",
       "      <td>0.01</td>\n",
       "      <td>0.18</td>\n",
       "      <td>...</td>\n",
       "      <td>3.670000</td>\n",
       "      <td>1</td>\n",
       "      <td>0</td>\n",
       "      <td>0</td>\n",
       "      <td>0</td>\n",
       "      <td>1</td>\n",
       "      <td>0</td>\n",
       "      <td>0</td>\n",
       "      <td>0</td>\n",
       "      <td>0</td>\n",
       "    </tr>\n",
       "    <tr>\n",
       "      <th>2</th>\n",
       "      <td>400</td>\n",
       "      <td>4.15</td>\n",
       "      <td>16761</td>\n",
       "      <td>0</td>\n",
       "      <td>0.51</td>\n",
       "      <td>0.39</td>\n",
       "      <td>0.08</td>\n",
       "      <td>0.02</td>\n",
       "      <td>0.01</td>\n",
       "      <td>0.88</td>\n",
       "      <td>...</td>\n",
       "      <td>0.000000</td>\n",
       "      <td>1</td>\n",
       "      <td>0</td>\n",
       "      <td>1</td>\n",
       "      <td>0</td>\n",
       "      <td>0</td>\n",
       "      <td>0</td>\n",
       "      <td>0</td>\n",
       "      <td>0</td>\n",
       "      <td>0</td>\n",
       "    </tr>\n",
       "    <tr>\n",
       "      <th>3</th>\n",
       "      <td>459</td>\n",
       "      <td>4.16</td>\n",
       "      <td>2128</td>\n",
       "      <td>1</td>\n",
       "      <td>0.48</td>\n",
       "      <td>0.10</td>\n",
       "      <td>0.40</td>\n",
       "      <td>0.04</td>\n",
       "      <td>0.02</td>\n",
       "      <td>0.07</td>\n",
       "      <td>...</td>\n",
       "      <td>0.000000</td>\n",
       "      <td>1</td>\n",
       "      <td>0</td>\n",
       "      <td>0</td>\n",
       "      <td>1</td>\n",
       "      <td>0</td>\n",
       "      <td>0</td>\n",
       "      <td>0</td>\n",
       "      <td>0</td>\n",
       "      <td>0</td>\n",
       "    </tr>\n",
       "    <tr>\n",
       "      <th>4</th>\n",
       "      <td>160</td>\n",
       "      <td>3.65</td>\n",
       "      <td>6634</td>\n",
       "      <td>1</td>\n",
       "      <td>0.28</td>\n",
       "      <td>0.16</td>\n",
       "      <td>0.54</td>\n",
       "      <td>0.92</td>\n",
       "      <td>0.73</td>\n",
       "      <td>0.00</td>\n",
       "      <td>...</td>\n",
       "      <td>4.115000</td>\n",
       "      <td>1</td>\n",
       "      <td>0</td>\n",
       "      <td>0</td>\n",
       "      <td>1</td>\n",
       "      <td>0</td>\n",
       "      <td>0</td>\n",
       "      <td>0</td>\n",
       "      <td>0</td>\n",
       "      <td>0</td>\n",
       "    </tr>\n",
       "    <tr>\n",
       "      <th>...</th>\n",
       "      <td>...</td>\n",
       "      <td>...</td>\n",
       "      <td>...</td>\n",
       "      <td>...</td>\n",
       "      <td>...</td>\n",
       "      <td>...</td>\n",
       "      <td>...</td>\n",
       "      <td>...</td>\n",
       "      <td>...</td>\n",
       "      <td>...</td>\n",
       "      <td>...</td>\n",
       "      <td>...</td>\n",
       "      <td>...</td>\n",
       "      <td>...</td>\n",
       "      <td>...</td>\n",
       "      <td>...</td>\n",
       "      <td>...</td>\n",
       "      <td>...</td>\n",
       "      <td>...</td>\n",
       "      <td>...</td>\n",
       "      <td>...</td>\n",
       "    </tr>\n",
       "    <tr>\n",
       "      <th>6925</th>\n",
       "      <td>432</td>\n",
       "      <td>4.15</td>\n",
       "      <td>30643</td>\n",
       "      <td>0</td>\n",
       "      <td>0.48</td>\n",
       "      <td>0.05</td>\n",
       "      <td>0.46</td>\n",
       "      <td>0.00</td>\n",
       "      <td>0.00</td>\n",
       "      <td>0.40</td>\n",
       "      <td>...</td>\n",
       "      <td>3.856667</td>\n",
       "      <td>1</td>\n",
       "      <td>0</td>\n",
       "      <td>0</td>\n",
       "      <td>1</td>\n",
       "      <td>1</td>\n",
       "      <td>0</td>\n",
       "      <td>0</td>\n",
       "      <td>0</td>\n",
       "      <td>0</td>\n",
       "    </tr>\n",
       "    <tr>\n",
       "      <th>6926</th>\n",
       "      <td>352</td>\n",
       "      <td>3.62</td>\n",
       "      <td>1058</td>\n",
       "      <td>0</td>\n",
       "      <td>0.55</td>\n",
       "      <td>0.13</td>\n",
       "      <td>0.30</td>\n",
       "      <td>0.15</td>\n",
       "      <td>0.10</td>\n",
       "      <td>0.25</td>\n",
       "      <td>...</td>\n",
       "      <td>3.700000</td>\n",
       "      <td>1</td>\n",
       "      <td>0</td>\n",
       "      <td>0</td>\n",
       "      <td>1</td>\n",
       "      <td>0</td>\n",
       "      <td>1</td>\n",
       "      <td>0</td>\n",
       "      <td>0</td>\n",
       "      <td>0</td>\n",
       "    </tr>\n",
       "    <tr>\n",
       "      <th>6927</th>\n",
       "      <td>535</td>\n",
       "      <td>3.88</td>\n",
       "      <td>30975</td>\n",
       "      <td>1</td>\n",
       "      <td>0.45</td>\n",
       "      <td>0.08</td>\n",
       "      <td>0.45</td>\n",
       "      <td>0.14</td>\n",
       "      <td>0.19</td>\n",
       "      <td>0.31</td>\n",
       "      <td>...</td>\n",
       "      <td>3.870000</td>\n",
       "      <td>1</td>\n",
       "      <td>0</td>\n",
       "      <td>0</td>\n",
       "      <td>1</td>\n",
       "      <td>0</td>\n",
       "      <td>0</td>\n",
       "      <td>1</td>\n",
       "      <td>0</td>\n",
       "      <td>0</td>\n",
       "    </tr>\n",
       "    <tr>\n",
       "      <th>6928</th>\n",
       "      <td>472</td>\n",
       "      <td>3.88</td>\n",
       "      <td>5914</td>\n",
       "      <td>1</td>\n",
       "      <td>0.64</td>\n",
       "      <td>0.12</td>\n",
       "      <td>0.22</td>\n",
       "      <td>0.07</td>\n",
       "      <td>0.00</td>\n",
       "      <td>0.36</td>\n",
       "      <td>...</td>\n",
       "      <td>3.660000</td>\n",
       "      <td>1</td>\n",
       "      <td>0</td>\n",
       "      <td>0</td>\n",
       "      <td>1</td>\n",
       "      <td>0</td>\n",
       "      <td>0</td>\n",
       "      <td>1</td>\n",
       "      <td>0</td>\n",
       "      <td>0</td>\n",
       "    </tr>\n",
       "    <tr>\n",
       "      <th>6929</th>\n",
       "      <td>350</td>\n",
       "      <td>4.27</td>\n",
       "      <td>67909</td>\n",
       "      <td>0</td>\n",
       "      <td>0.37</td>\n",
       "      <td>0.56</td>\n",
       "      <td>0.05</td>\n",
       "      <td>0.74</td>\n",
       "      <td>0.28</td>\n",
       "      <td>0.78</td>\n",
       "      <td>...</td>\n",
       "      <td>4.315833</td>\n",
       "      <td>1</td>\n",
       "      <td>0</td>\n",
       "      <td>1</td>\n",
       "      <td>0</td>\n",
       "      <td>1</td>\n",
       "      <td>0</td>\n",
       "      <td>0</td>\n",
       "      <td>0</td>\n",
       "      <td>1</td>\n",
       "    </tr>\n",
       "  </tbody>\n",
       "</table>\n",
       "<p>6930 rows × 32 columns</p>\n",
       "</div>"
      ],
      "text/plain": [
       "      pages  stars  reviews  series   mix  character  plot  funny  \\\n",
       "0       273   4.00     2017       0  0.44       0.51  0.02   0.27   \n",
       "1       302   3.78     7330       0  0.39       0.42  0.17   0.03   \n",
       "2       400   4.15    16761       0  0.51       0.39  0.08   0.02   \n",
       "3       459   4.16     2128       1  0.48       0.10  0.40   0.04   \n",
       "4       160   3.65     6634       1  0.28       0.16  0.54   0.92   \n",
       "...     ...    ...      ...     ...   ...        ...   ...    ...   \n",
       "6925    432   4.15    30643       0  0.48       0.05  0.46   0.00   \n",
       "6926    352   3.62     1058       0  0.55       0.13  0.30   0.15   \n",
       "6927    535   3.88    30975       1  0.45       0.08  0.45   0.14   \n",
       "6928    472   3.88     5914       1  0.64       0.12  0.22   0.07   \n",
       "6929    350   4.27    67909       0  0.37       0.56  0.05   0.74   \n",
       "\n",
       "      lighthearted  emotional  ...  author_stars  Fiction  Nonfiction  \\\n",
       "0             0.37       0.91  ...      4.305000        1           1   \n",
       "1             0.01       0.18  ...      3.670000        1           0   \n",
       "2             0.01       0.88  ...      0.000000        1           0   \n",
       "3             0.02       0.07  ...      0.000000        1           0   \n",
       "4             0.73       0.00  ...      4.115000        1           0   \n",
       "...            ...        ...  ...           ...      ...         ...   \n",
       "6925          0.00       0.40  ...      3.856667        1           0   \n",
       "6926          0.10       0.25  ...      3.700000        1           0   \n",
       "6927          0.19       0.31  ...      3.870000        1           0   \n",
       "6928          0.00       0.36  ...      3.660000        1           0   \n",
       "6929          0.28       0.78  ...      4.315833        1           0   \n",
       "\n",
       "      Literary  Fantasy  Crime  Social  Children  Romans  Realism  \n",
       "0            0        0      0       1         0       1        1  \n",
       "1            0        0      1       0         0       0        0  \n",
       "2            1        0      0       0         0       0        0  \n",
       "3            0        1      0       0         0       0        0  \n",
       "4            0        1      0       0         0       0        0  \n",
       "...        ...      ...    ...     ...       ...     ...      ...  \n",
       "6925         0        1      1       0         0       0        0  \n",
       "6926         0        1      0       1         0       0        0  \n",
       "6927         0        1      0       0         1       0        0  \n",
       "6928         0        1      0       0         1       0        0  \n",
       "6929         1        0      1       0         0       0        1  \n",
       "\n",
       "[6930 rows x 32 columns]"
      ]
     },
     "execution_count": 2,
     "metadata": {},
     "output_type": "execute_result"
    }
   ],
   "source": [
    "data=pd.read_csv(\"../data/data_eda.csv\")\n",
    "data=data.drop(columns=['Unnamed: 0'])\n",
    "features=data.columns.tolist()\n",
    "features.remove('stars')\n",
    "target='stars'\n",
    "data"
   ]
  },
  {
   "cell_type": "markdown",
   "metadata": {},
   "source": [
    "$\\text{Podział danych na zbiór treningowy i testowy}$"
   ]
  },
  {
   "cell_type": "code",
   "execution_count": 3,
   "metadata": {},
   "outputs": [],
   "source": [
    "train_data, test_data = train_test_split(data, test_size=0.2, random_state=SEED)"
   ]
  },
  {
   "cell_type": "code",
   "execution_count": 4,
   "metadata": {},
   "outputs": [],
   "source": [
    "def perform_cv(X: pd.DataFrame, y: pd.Series, algorithm: typing.Any, cv: typing.Any = KFold(n_splits=5, shuffle=True, random_state=SEED), metric: typing.Any = mean_squared_error) -> typing.List[float]:\n",
    "    \"\"\"\n",
    "    Perform cross-validation and return list of scores\n",
    "    \n",
    "    Args:\n",
    "        X (pd.DataFrame): input data\n",
    "        y (pd.Series): target data\n",
    "        algorithm (typing.Any): algorithm to use for training and prediction\n",
    "        cv (typing.Any): cross-validation strategy\n",
    "        metric (typing.Any): metric to use for evaluation\n",
    "    \n",
    "    Returns:\n",
    "        typing.List[float]: list of scores in order: train_scores, validation_scores\n",
    "    \"\"\"\n",
    "    train_scores = []\n",
    "    validation_scores = []\n",
    "    for train_idx, val_idx in cv.split(X, y):\n",
    "        X_train, X_val = X.iloc[train_idx], X.iloc[val_idx]\n",
    "        y_train, y_val = y.iloc[train_idx], y.iloc[val_idx]\n",
    "        algorithm.fit(X_train, y_train)\n",
    "        y_train_pred = algorithm.predict(X_train)\n",
    "        y_val_pred = algorithm.predict(X_val)\n",
    "        train_scores.append(metric(y_train, y_train_pred, squared=False))\n",
    "        validation_scores.append(metric(y_val, y_val_pred, squared=False))\n",
    "    return np.mean(train_scores), np.mean(validation_scores)\n",
    "\n",
    "def test_evaluation(X_train: pd.DataFrame, y_train: pd.Series, X_test: pd.DataFrame, y_test: pd.Series, algorithm: typing.Any, metric: typing.Any = mean_squared_error) -> float:\n",
    "    \"\"\"\n",
    "    Train the algorithm on the train data and evaluate on the test data\n",
    "    \n",
    "    Args:\n",
    "        X_train (pd.DataFrame): input train data\n",
    "        y_train (pd.Series): target train data\n",
    "        X_test (pd.DataFrame): input test data\n",
    "        y_test (pd.Series): target test data\n",
    "        algorithm (typing.Any): algorithm to use for training and prediction\n",
    "        metric (typing.Any): metric to use for evaluation\n",
    "    \n",
    "    Returns:\n",
    "        float: test score\n",
    "    \"\"\"\n",
    "    algorithm.fit(X_train, y_train)\n",
    "    y_test_pred = algorithm.predict(X_test)\n",
    "    return metric(y_test, y_test_pred, squared=False)"
   ]
  },
  {
   "cell_type": "markdown",
   "metadata": {},
   "source": [
    "## Base score"
   ]
  },
  {
   "cell_type": "code",
   "execution_count": 5,
   "metadata": {},
   "outputs": [
    {
     "name": "stdout",
     "output_type": "stream",
     "text": [
      "Średni błąd RMSE na zbiorze treningowym: 2.16058\n",
      "Średni błąd RMSE na zbiorze walidacyjnym: 2.06503\n"
     ]
    }
   ],
   "source": [
    "model = MLPRegressor(random_state=SEED)\n",
    "train_scores, validation_scores = perform_cv(train_data[features], train_data[target], model)\n",
    "print(\"Średni błąd RMSE na zbiorze treningowym: {:.5f}\".format(train_scores))\n",
    "print(\"Średni błąd RMSE na zbiorze walidacyjnym: {:.5f}\".format(validation_scores))"
   ]
  },
  {
   "cell_type": "markdown",
   "metadata": {},
   "source": [
    "## Model z interakcjami"
   ]
  },
  {
   "cell_type": "code",
   "execution_count": 6,
   "metadata": {},
   "outputs": [
    {
     "name": "stdout",
     "output_type": "stream",
     "text": [
      "Średni błąd RMSE na zbiorze treningowym: 8010.13228\n",
      "Średni błąd RMSE na zbiorze walidacyjnym: 7178.18110\n"
     ]
    }
   ],
   "source": [
    "data_interactions=pd.read_csv(\"../data/data_interactions.csv\")\n",
    "data_interactions=data_interactions.drop(columns=['Unnamed: 0'])\n",
    "features_interactions=data_interactions.columns.tolist()\n",
    "features_interactions.remove('stars')\n",
    "train_data_interactions, test_data_interactions = train_test_split(data_interactions, test_size=0.2, random_state=SEED)\n",
    "model = MLPRegressor(random_state=SEED)\n",
    "train_scores, validation_scores = perform_cv(train_data_interactions[features_interactions], train_data_interactions[target], model)\n",
    "print(\"Średni błąd RMSE na zbiorze treningowym: {:.5f}\".format(train_scores))\n",
    "print(\"Średni błąd RMSE na zbiorze walidacyjnym: {:.5f}\".format(validation_scores))"
   ]
  },
  {
   "cell_type": "markdown",
   "metadata": {},
   "source": [
    "## Model z transformacją zmiennych"
   ]
  },
  {
   "cell_type": "code",
   "execution_count": 7,
   "metadata": {},
   "outputs": [
    {
     "name": "stdout",
     "output_type": "stream",
     "text": [
      "Średni błąd RMSE na zbiorze treningowym: 0.12664\n",
      "Średni błąd RMSE na zbiorze walidacyjnym: 0.24091\n"
     ]
    }
   ],
   "source": [
    "data_transformations=pd.read_csv(\"../data/data_feature_engineering.csv\")\n",
    "data_transformations=data_transformations.drop(columns=['Unnamed: 0'])\n",
    "features_transformations=data_transformations.columns.tolist()\n",
    "features_transformations.remove('stars')\n",
    "train_data_transformations, test_data_transformations = train_test_split(data_transformations, test_size=0.2, random_state=SEED)\n",
    "model = MLPRegressor(random_state=SEED)\n",
    "train_scores, validation_scores = perform_cv(train_data_transformations[features_transformations], train_data_transformations[target], model)\n",
    "print(\"Średni błąd RMSE na zbiorze treningowym: {:.5f}\".format(train_scores))\n",
    "print(\"Średni błąd RMSE na zbiorze walidacyjnym: {:.5f}\".format(validation_scores))"
   ]
  },
  {
   "cell_type": "markdown",
   "metadata": {},
   "source": [
    "$\\text{Wyniki dla modelu bazowego oraz modelu wykorzystując dane z interakcjami wyglądają bardzo słabo w porównaniu do pozostałych algorytmów.}$<p>\n",
    "$\\text{Warto jednak zaznaczyć, że w przypadku sieci neuronowych, podobnie jak w KNN, należy znormalizować dane, ponieważ algorytmy te są wrażliwe na skalę danych.}$<p>\n",
    "$\\text{Z tego powodu, zdecydowanie najlepsze rezultaty uzyskano dla modelu z transformacją zmiennych, który zostanie wykorzystany do dalszej optymalizacji.}$"
   ]
  },
  {
   "cell_type": "code",
   "execution_count": 8,
   "metadata": {},
   "outputs": [],
   "source": [
    "def perform_cv_scaling(X: pd.DataFrame, y: pd.Series, algorithm: typing.Any, cv: typing.Any = KFold(n_splits=5, shuffle=True, random_state=SEED), metric: typing.Any = mean_squared_error, scaler: typing.Any = StandardScaler(), features_to_scale: typing.List[str] = None, target_to_scale: bool = False) -> typing.List[float]:\n",
    "    \"\"\"\n",
    "    Perform cross-validation and return list of scores\n",
    "    \n",
    "    Args:\n",
    "        X (pd.DataFrame): input data\n",
    "        y (pd.Series): target data\n",
    "        algorithm (typing.Any): algorithm to use for training and prediction\n",
    "        cv (typing.Any): cross-validation strategy\n",
    "        metric (typing.Any): metric to use for evaluation\n",
    "        scaler (typing.Any): scaler to use for scaling\n",
    "        features_to_scale (typing.List[str]): list of features to scale\n",
    "        target_to_scale (bool): whether to scale target data\n",
    "    \n",
    "    Returns:\n",
    "        typing.List[float]: list of scores in order: train_scores, validation_scores\n",
    "    \"\"\"\n",
    "    train_scores = []\n",
    "    validation_scores = []\n",
    "    for train_idx, val_idx in cv.split(X, y):\n",
    "        X_train, X_val = X.iloc[train_idx], X.iloc[val_idx]\n",
    "        y_train, y_val = y.iloc[train_idx], y.iloc[val_idx]\n",
    "        X_train[features_to_scale] = scaler.fit_transform(X_train[features_to_scale])\n",
    "        X_val[features_to_scale] = scaler.transform(X_val[features_to_scale])\n",
    "        if target_to_scale:\n",
    "            y_train = scaler.fit_transform(y_train.values.reshape(-1, 1)).ravel()\n",
    "            y_val = scaler.transform(y_val.values.reshape(-1, 1)).ravel()    \n",
    "        algorithm.fit(X_train, y_train)\n",
    "        y_train_pred = algorithm.predict(X_train)\n",
    "        y_val_pred = algorithm.predict(X_val)\n",
    "        if(target_to_scale):\n",
    "            y_train = scaler.inverse_transform(y_train.reshape(-1, 1)).ravel()\n",
    "            y_val = scaler.inverse_transform(y_val.reshape(-1, 1)).ravel()\n",
    "            y_train_pred = scaler.inverse_transform(y_train_pred.reshape(-1, 1)).ravel()\n",
    "            y_val_pred = scaler.inverse_transform(y_val_pred.reshape(-1, 1)).ravel()\n",
    "        train_scores.append(metric(y_train, y_train_pred, squared=False))\n",
    "        validation_scores.append(metric(y_val, y_val_pred, squared=False))\n",
    "    return np.mean(train_scores), np.mean(validation_scores)\n",
    "\n",
    "def test_evaluation_scaling(X_train: pd.DataFrame, y_train: pd.Series, X_test: pd.DataFrame, y_test: pd.Series, algorithm: typing.Any, metric: typing.Any = mean_squared_error, scaler: typing.Any = StandardScaler(), features_to_scale: typing.List[str] = None, target_to_scale: bool = False) -> float:\n",
    "    \"\"\"\n",
    "    Train the algorithm on the train data and evaluate on the test data\n",
    "    \n",
    "    Args:\n",
    "        X_train (pd.DataFrame): input train data\n",
    "        y_train (pd.Series): target train data\n",
    "        X_test (pd.DataFrame): input test data\n",
    "        y_test (pd.Series): target test data\n",
    "        algorithm (typing.Any): algorithm to use for training and prediction\n",
    "        metric (typing.Any): metric to use for evaluation.\n",
    "        scaler (typing.Any): scaler to use for scaling\n",
    "        features_to_scale (typing.List[str]): list of features to scale\n",
    "        target_to_scale (bool): whether to scale target data\n",
    "    \n",
    "    Returns:\n",
    "        float: test score\n",
    "    \"\"\"\n",
    "    X_train[features_to_scale] = scaler.fit_transform(X_train[features_to_scale])\n",
    "    X_test[features_to_scale] = scaler.transform(X_test[features_to_scale])\n",
    "    if target_to_scale:\n",
    "        y_train = scaler.fit_transform(y_train.values.reshape(-1, 1)).ravel()\n",
    "        y_test = scaler.transform(y_test.values.reshape(-1, 1)).ravel()\n",
    "    algorithm.fit(X_train, y_train)\n",
    "    y_test_pred = algorithm.predict(X_test)\n",
    "    if target_to_scale:\n",
    "        y_test = scaler.inverse_transform(y_test.reshape(-1, 1)).ravel()\n",
    "        y_test_pred = scaler.inverse_transform(y_test_pred.reshape(-1, 1)).ravel()\n",
    "    return metric(y_test, y_test_pred, squared=False)"
   ]
  },
  {
   "cell_type": "markdown",
   "metadata": {},
   "source": [
    "$\\text{Sieci neuronowe to algorytmy, które są wrażliwe na skalę danych.}$<p>\n",
    "$\\text{W sytuacji, gdy dane nie są znormalizowane, algorytm może mieć problem z odnalezieniem optymalnych wag.}$<p>\n",
    "$\\text{Dzieje się tak, ponieważ, gdy przemnażamy dane przez wagi, uzyskane macierze będą miały różne wartości, co może prowadzić do problemów z optymalizacją.}$<p>\n",
    "$\\text{Ponieważ przeprowadzone w pliku \"2. Feature engineering\" transformacje zmiennych nie posiadają jednolitej skali, przetestujemy czy w przypadku, gdy wykorzystamy kilka metod skalowania, wyniki się poprawią.}$"
   ]
  },
  {
   "cell_type": "code",
   "execution_count": 9,
   "metadata": {},
   "outputs": [
    {
     "name": "stdout",
     "output_type": "stream",
     "text": [
      "Średni błąd RMSE na zbiorze treningowym z użyciem skaler: StandardScaler wynosi: 0.06585\n",
      "Średni błąd RMSE na zbiorze walidacyjnym z użyciem skaler: StandardScaler wynosi: 0.22693\n",
      "\n",
      "Średni błąd RMSE na zbiorze treningowym z użyciem skaler: MinMaxScaler wynosi: 0.14002\n",
      "Średni błąd RMSE na zbiorze walidacyjnym z użyciem skaler: MinMaxScaler wynosi: 0.21470\n",
      "\n",
      "Średni błąd RMSE na zbiorze treningowym z użyciem skaler: RobustScaler wynosi: 0.11173\n",
      "Średni błąd RMSE na zbiorze walidacyjnym z użyciem skaler: RobustScaler wynosi: 0.24308\n",
      "\n",
      "Średni błąd RMSE na zbiorze treningowym z użyciem skaler: QuantileTransformer wynosi: 0.16671\n",
      "Średni błąd RMSE na zbiorze walidacyjnym z użyciem skaler: QuantileTransformer wynosi: 0.27252\n",
      "\n"
     ]
    }
   ],
   "source": [
    "categorical_features = ['series', 'Fiction', 'Nonfiction', 'Literary', 'Fantasy','Crime', 'Social', 'Children', 'Romans', 'Realism']\n",
    "continous_features = list(set(features_transformations) - set(categorical_features))\n",
    "scalers = [StandardScaler(), MinMaxScaler(), RobustScaler(), QuantileTransformer()]\n",
    "scalers_names = [\"StandardScaler\", \"MinMaxScaler\", \"RobustScaler\", \"QuantileTransformer\"]\n",
    "for scaler, scaler_name in zip(scalers, scalers_names):\n",
    "    train_scores, validation_scores = perform_cv_scaling(train_data_transformations[features_transformations], train_data_transformations[target], model, scaler=scaler, features_to_scale=continous_features, target_to_scale=True)\n",
    "    print(\"Średni błąd RMSE na zbiorze treningowym z użyciem skaler: {} wynosi: {:.5f}\".format(scaler_name, train_scores))\n",
    "    print(\"Średni błąd RMSE na zbiorze walidacyjnym z użyciem skaler: {} wynosi: {:.5f}\".format(scaler_name, validation_scores))\n",
    "    print()"
   ]
  },
  {
   "cell_type": "markdown",
   "metadata": {},
   "source": [
    "$\\text{Wyniki walidacji krzyżowej sugerują wykorzystanie narzędzia StandardScaler do transformacji zmiennych ciągłych (pomimo tego, że gorszy wynik na zbiorze walidacyjnym niż dla MinMax, to na zbiorze treningowym dużo lepszy).}$<p>\n",
    "$\\text{Zaletą RobustScaler jest zwiększona odporność na obserwacje odstające, co jest istotne w przypadku niektórych zmiennych ciągłych występujących w zbiorze danych (np.: author\\_count, reviews, czy pages).}$<p>\n",
    "$\\text{Sprawdźmy wyniki na zbiorze testowym po dokonaniu standaryzacji.}$"
   ]
  },
  {
   "cell_type": "code",
   "execution_count": 10,
   "metadata": {},
   "outputs": [
    {
     "name": "stdout",
     "output_type": "stream",
     "text": [
      "Średni błąd RMSE na zbiorze treningowym: 0.06585\n",
      "Średni błąd RMSE na zbiorze walidacyjnym: 0.22693\n"
     ]
    }
   ],
   "source": [
    "model = MLPRegressor(random_state=SEED)\n",
    "scaler = StandardScaler()\n",
    "train_scores, validation_scores = perform_cv_scaling(train_data_transformations[features_transformations], train_data_transformations[target], model, scaler=scaler, features_to_scale=continous_features, target_to_scale=True)\n",
    "print(\"Średni błąd RMSE na zbiorze treningowym: {:.5f}\".format(train_scores))\n",
    "print(\"Średni błąd RMSE na zbiorze walidacyjnym: {:.5f}\".format(validation_scores))"
   ]
  },
  {
   "cell_type": "markdown",
   "metadata": {},
   "source": [
    "$\\text{Podobnie jak w poprzednich przypadkach, ze względu na to, że zbiór danych zawiera bardzo dużą ilość zmiennych, zdecydowaliśmy się na zastosowanie Mutual Information w celu wyboru zmiennych, które mają największy wpływ na zmienną celu.}$"
   ]
  },
  {
   "cell_type": "code",
   "execution_count": 11,
   "metadata": {},
   "outputs": [
    {
     "data": {
      "image/png": "[encoded data removed]"
     },
     "metadata": {},
     "output_type": "display_data"
    }
   ],
   "source": [
    "mi_scores = {feature: mutual_info_regression(train_data_transformations[[feature]], train_data_transformations[target], random_state=SEED)[0] for feature in features_transformations}\n",
    "mi_scores = {k: v for k, v in sorted(mi_scores.items(), key=lambda item: item[1], reverse=True)}\n",
    "fig = go.Figure()\n",
    "fig.add_trace(go.Scatter(x=list(mi_scores.keys()), y=list(mi_scores.values()), mode='lines+markers', marker=dict(size=10, color=\"blue\", line=dict(width=2, color=\"black\")), line=dict(width=2, color=\"blue\")))\n",
    "fig.update_layout(template=\"simple_white\", width=1200, height=800, title=\"<b>Mutual Information<b>\", title_x=0.5, xaxis_title=\"Feature\", yaxis_title=f\"Mutual Information\", font=dict(family=\"Times New Roman\",size=16,color=\"Black\"), showlegend=False)\n",
    "fig.show(\"png\")"
   ]
  },
  {
   "cell_type": "code",
   "execution_count": 12,
   "metadata": {},
   "outputs": [
    {
     "name": "stdout",
     "output_type": "stream",
     "text": [
      "Kwantyl: 1; Procent zmiennych: 100.0%\n",
      "Średni błąd RMSE na zbiorze treningowym dla kwantyla 0: 0.06460493354174823\n",
      "Średni błąd RMSE na zbiorze walidacyjnym dla kwantyla 0: 0.22710887934287305\n",
      "\n",
      "Kwantyl: 0.9; Procent zmiennych: 89.92%\n",
      "Średni błąd RMSE na zbiorze treningowym dla kwantyla 0.1: 0.060005759436613\n",
      "Średni błąd RMSE na zbiorze walidacyjnym dla kwantyla 0.1: 0.22638155498542703\n",
      "\n",
      "Kwantyl: 0.75; Procent zmiennych: 75.0%\n",
      "Średni błąd RMSE na zbiorze treningowym dla kwantyla 0.25: 0.06353556771642332\n",
      "Średni błąd RMSE na zbiorze walidacyjnym dla kwantyla 0.25: 0.23021443480456477\n",
      "\n",
      "Kwantyl: 0.5; Procent zmiennych: 50.0%\n",
      "Średni błąd RMSE na zbiorze treningowym dla kwantyla 0.5: 0.06649011889841674\n",
      "Średni błąd RMSE na zbiorze walidacyjnym dla kwantyla 0.5: 0.22553092048234863\n",
      "\n",
      "Kwantyl: 0.25; Procent zmiennych: 25.0%\n",
      "Średni błąd RMSE na zbiorze treningowym dla kwantyla 0.75: 0.11106637960608812\n",
      "Średni błąd RMSE na zbiorze walidacyjnym dla kwantyla 0.75: 0.21983351198643825\n",
      "\n",
      "Kwantyl: 0.09999999999999998; Procent zmiennych: 10.08%\n",
      "Średni błąd RMSE na zbiorze treningowym dla kwantyla 0.9: 0.16046177422924518\n",
      "Średni błąd RMSE na zbiorze walidacyjnym dla kwantyla 0.9: 0.2188013930662159\n",
      "\n"
     ]
    }
   ],
   "source": [
    "for quantile in [0, 0.1, 0.25, 0.5, 0.75, 0.9]:\n",
    "    threshold = np.quantile(list(mi_scores.values()), quantile)\n",
    "    features_to_drop = [k for k, v in mi_scores.items() if v < threshold]\n",
    "    subset = set(features_transformations) - set(features_to_drop)\n",
    "    features_to_scale = subset - set(categorical_features)\n",
    "    model = MLPRegressor(random_state=SEED)\n",
    "    train_scores, validation_scores = perform_cv_scaling(train_data_transformations[list(subset)], train_data_transformations[target], model, scaler=scaler, features_to_scale=list(features_to_scale), target_to_scale=True)\n",
    "    print(\"Kwantyl: {}; Procent zmiennych: {}%\".format(1-quantile, np.round(len(subset)/len(features_transformations)*100, 2)))\n",
    "    print(f\"Średni błąd RMSE na zbiorze treningowym dla kwantyla {quantile}: {train_scores}\")\n",
    "    print(f\"Średni błąd RMSE na zbiorze walidacyjnym dla kwantyla {quantile}: {validation_scores}\")\n",
    "    print()"
   ]
  },
  {
   "cell_type": "markdown",
   "metadata": {},
   "source": [
    "$\\text{Zmniejszenie liczby zmiennych do zaledwie 10\\% wszystkich cech, pozwoliło zmniejszyć stratę dla zbioru walidacyjnego.}$<p>\n",
    "$\\text{Oczywiście widoczne jest również znaczne pogorszenie rezultatów dla zbioru treningowego, jednak wciąż są one na zadowalającym poziomie.}$<p>\n",
    "$\\text{Zbadamy dokładniej okolice kwantyla 0.9, w celu znalezienia optymalnej liczby zmiennych.}$"
   ]
  },
  {
   "cell_type": "code",
   "execution_count": 13,
   "metadata": {},
   "outputs": [
    {
     "name": "stdout",
     "output_type": "stream",
     "text": [
      "Kwantyl: 0.19999999999999996; Procent zmiennych: 20.16%\n",
      "Średni błąd RMSE na zbiorze treningowym dla kwantyla 0.8: 0.11872934320167103\n",
      "Średni błąd RMSE na zbiorze walidacyjnym dla kwantyla 0.8: 0.220294093129029\n",
      "\n",
      "Kwantyl: 0.18999999999999995; Procent zmiennych: 19.15%\n",
      "Średni błąd RMSE na zbiorze treningowym dla kwantyla 0.81: 0.11908814978461198\n",
      "Średni błąd RMSE na zbiorze walidacyjnym dla kwantyla 0.81: 0.2194640922653254\n",
      "\n",
      "Kwantyl: 0.17999999999999994; Procent zmiennych: 18.15%\n",
      "Średni błąd RMSE na zbiorze treningowym dla kwantyla 0.8200000000000001: 0.12326445242268672\n",
      "Średni błąd RMSE na zbiorze walidacyjnym dla kwantyla 0.8200000000000001: 0.21965968725451607\n",
      "\n",
      "Kwantyl: 0.16999999999999993; Procent zmiennych: 17.14%\n",
      "Średni błąd RMSE na zbiorze treningowym dla kwantyla 0.8300000000000001: 0.13233450848652023\n",
      "Średni błąd RMSE na zbiorze walidacyjnym dla kwantyla 0.8300000000000001: 0.22162906455634937\n",
      "\n",
      "Kwantyl: 0.16000000000000003; Procent zmiennych: 16.13%\n",
      "Średni błąd RMSE na zbiorze treningowym dla kwantyla 0.84: 0.13763395941960704\n",
      "Średni błąd RMSE na zbiorze walidacyjnym dla kwantyla 0.84: 0.21895387519725248\n",
      "\n",
      "Kwantyl: 0.15000000000000002; Procent zmiennych: 15.12%\n",
      "Średni błąd RMSE na zbiorze treningowym dla kwantyla 0.85: 0.14809496935126237\n",
      "Średni błąd RMSE na zbiorze walidacyjnym dla kwantyla 0.85: 0.2239423967680295\n",
      "\n",
      "Kwantyl: 0.14; Procent zmiennych: 14.11%\n",
      "Średni błąd RMSE na zbiorze treningowym dla kwantyla 0.86: 0.1409635767924899\n",
      "Średni błąd RMSE na zbiorze walidacyjnym dla kwantyla 0.86: 0.21966334994821235\n",
      "\n",
      "Kwantyl: 0.13; Procent zmiennych: 13.1%\n",
      "Średni błąd RMSE na zbiorze treningowym dla kwantyla 0.87: 0.14296114792798603\n",
      "Średni błąd RMSE na zbiorze walidacyjnym dla kwantyla 0.87: 0.2198081629682324\n",
      "\n",
      "Kwantyl: 0.12; Procent zmiennych: 12.1%\n",
      "Średni błąd RMSE na zbiorze treningowym dla kwantyla 0.88: 0.14876267028607879\n",
      "Średni błąd RMSE na zbiorze walidacyjnym dla kwantyla 0.88: 0.22073613639178785\n",
      "\n",
      "Kwantyl: 0.10999999999999999; Procent zmiennych: 11.09%\n",
      "Średni błąd RMSE na zbiorze treningowym dla kwantyla 0.89: 0.1560127766389375\n",
      "Średni błąd RMSE na zbiorze walidacyjnym dla kwantyla 0.89: 0.2195193512081862\n",
      "\n",
      "Kwantyl: 0.09999999999999998; Procent zmiennych: 10.08%\n",
      "Średni błąd RMSE na zbiorze treningowym dla kwantyla 0.9: 0.16046177422924518\n",
      "Średni błąd RMSE na zbiorze walidacyjnym dla kwantyla 0.9: 0.2188013930662159\n",
      "\n",
      "Kwantyl: 0.09000000000000008; Procent zmiennych: 9.07%\n",
      "Średni błąd RMSE na zbiorze treningowym dla kwantyla 0.9099999999999999: 0.1698549571759536\n",
      "Średni błąd RMSE na zbiorze walidacyjnym dla kwantyla 0.9099999999999999: 0.21996553595074914\n",
      "\n",
      "Kwantyl: 0.08000000000000007; Procent zmiennych: 8.06%\n",
      "Średni błąd RMSE na zbiorze treningowym dla kwantyla 0.9199999999999999: 0.17587875340996972\n",
      "Średni błąd RMSE na zbiorze walidacyjnym dla kwantyla 0.9199999999999999: 0.22315294383368367\n",
      "\n",
      "Kwantyl: 0.07000000000000006; Procent zmiennych: 7.06%\n",
      "Średni błąd RMSE na zbiorze treningowym dla kwantyla 0.9299999999999999: 0.17557797526632432\n",
      "Średni błąd RMSE na zbiorze walidacyjnym dla kwantyla 0.9299999999999999: 0.22051215201915655\n",
      "\n",
      "Kwantyl: 0.06000000000000005; Procent zmiennych: 6.05%\n",
      "Średni błąd RMSE na zbiorze treningowym dla kwantyla 0.94: 0.1826866547869485\n",
      "Średni błąd RMSE na zbiorze walidacyjnym dla kwantyla 0.94: 0.21810340637273407\n",
      "\n",
      "Kwantyl: 0.050000000000000044; Procent zmiennych: 5.04%\n",
      "Średni błąd RMSE na zbiorze treningowym dla kwantyla 0.95: 0.19484716526188492\n",
      "Średni błąd RMSE na zbiorze walidacyjnym dla kwantyla 0.95: 0.22508067485994548\n",
      "\n"
     ]
    }
   ],
   "source": [
    "for quantile in np.linspace(0.8, 0.95, 16):\n",
    "    threshold = np.quantile(list(mi_scores.values()), quantile)\n",
    "    features_to_drop = [k for k, v in mi_scores.items() if v < threshold]\n",
    "    subset = set(features_transformations) - set(features_to_drop)\n",
    "    features_to_scale = subset - set(categorical_features)\n",
    "    model = MLPRegressor(random_state=SEED)\n",
    "    train_scores, validation_scores = perform_cv_scaling(train_data_transformations[list(subset)], train_data_transformations[target], model, scaler=scaler, features_to_scale=list(features_to_scale), target_to_scale=True)\n",
    "    print(\"Kwantyl: {}; Procent zmiennych: {}%\".format(1-quantile, np.round(len(subset)/len(features_transformations)*100, 2)))\n",
    "    print(f\"Średni błąd RMSE na zbiorze treningowym dla kwantyla {quantile}: {train_scores}\")\n",
    "    print(f\"Średni błąd RMSE na zbiorze walidacyjnym dla kwantyla {quantile}: {validation_scores}\")\n",
    "    print()"
   ]
  },
  {
   "cell_type": "markdown",
   "metadata": {},
   "source": [
    "$\\text{Bazując na otrzymanych wynikach, zdecydowaliśmy się na wybór kwantyla 0.87 jako progu odcięcia.}$"
   ]
  },
  {
   "cell_type": "code",
   "execution_count": 14,
   "metadata": {},
   "outputs": [
    {
     "name": "stdout",
     "output_type": "stream",
     "text": [
      "Procent zmiennych: 13.1%\n",
      "Średni błąd RMSE na zbiorze treningowym: 0.14296114792798603\n",
      "Średni błąd RMSE na zbiorze walidacyjnym: 0.2198081629682324\n",
      "\n"
     ]
    }
   ],
   "source": [
    "quantile = 0.87\n",
    "threshold = np.quantile(list(mi_scores.values()), quantile)\n",
    "features_to_drop = [k for k, v in mi_scores.items() if v < threshold]\n",
    "subset = list(set(features_transformations) - set(features_to_drop))\n",
    "features_to_scale = list(set(subset) - set(categorical_features))\n",
    "model = MLPRegressor(random_state=SEED)\n",
    "train_scores, validation_scores = perform_cv_scaling(train_data_transformations[subset], train_data_transformations[target], model, scaler=scaler, features_to_scale=features_to_scale, target_to_scale=True)\n",
    "print(\"Procent zmiennych: {}%\".format(np.round(len(subset)/len(features_transformations)*100, 2)))\n",
    "print(f\"Średni błąd RMSE na zbiorze treningowym: {train_scores}\")\n",
    "print(f\"Średni błąd RMSE na zbiorze walidacyjnym: {validation_scores}\")\n",
    "print()"
   ]
  },
  {
   "cell_type": "markdown",
   "metadata": {},
   "source": [
    "$\\text{Wyniki uległy znacznej poprawie względem modelu bazowego, natomiast warto odnotować, że sieć została przetrenowana.}$<p>\n",
    "$\\text{W kolejnych etapach będziemy starali się dokonać pewnej regularyzacji w celu możliwego zredukoania overfittingu.}$"
   ]
  },
  {
   "cell_type": "markdown",
   "metadata": {},
   "source": [
    "# Optymalizacja"
   ]
  },
  {
   "cell_type": "markdown",
   "metadata": {},
   "source": [
    "## hidden_layer_sizes"
   ]
  },
  {
   "cell_type": "markdown",
   "metadata": {},
   "source": [
    "$\\text{W przypadku sieci neuronowych, jednym z najważniejszych parametrów jest liczba warstw ukrytych oraz liczba neuronów w każdej z warstw.}$<p>\n",
    "$\\text{Zbyt mała liczba neuronów może prowadzić do underfittingu, natomiast zbyt duża do overfittingu oraz długiego czasu uczenia.}$<p>\n",
    "$\\text{Oczywiście dokładne znalezienie optymalnego rozwiązania jest niemal niemożliwe, dlatego spróbujemy zaledwie z kilkoma różnymi wartościami tego parametru.}$"
   ]
  },
  {
   "cell_type": "code",
   "execution_count": 15,
   "metadata": {},
   "outputs": [
    {
     "name": "stdout",
     "output_type": "stream",
     "text": [
      "Hidden layer sizes: 50; RMSE train: 0.16443; RMSE validation: 0.21818\n",
      "Hidden layer sizes: 100; RMSE train: 0.14296; RMSE validation: 0.21981\n",
      "Hidden layer sizes: 150; RMSE train: 0.13145; RMSE validation: 0.21762\n",
      "Hidden layer sizes: (50, 100); RMSE train: 0.10584; RMSE validation: 0.23920\n",
      "Hidden layer sizes: (50, 150); RMSE train: 0.09557; RMSE validation: 0.24500\n",
      "Hidden layer sizes: (100, 50); RMSE train: 0.09266; RMSE validation: 0.24299\n",
      "Hidden layer sizes: (100, 150); RMSE train: 0.06790; RMSE validation: 0.24701\n",
      "Hidden layer sizes: (150, 50); RMSE train: 0.07845; RMSE validation: 0.24370\n",
      "Hidden layer sizes: (150, 100); RMSE train: 0.06902; RMSE validation: 0.23619\n",
      "Hidden layer sizes: (50, 100, 150); RMSE train: 0.05197; RMSE validation: 0.25591\n",
      "Hidden layer sizes: (50, 150, 100); RMSE train: 0.05386; RMSE validation: 0.25621\n",
      "Hidden layer sizes: (100, 50, 150); RMSE train: 0.05784; RMSE validation: 0.25777\n",
      "Hidden layer sizes: (100, 150, 50); RMSE train: 0.04595; RMSE validation: 0.24782\n",
      "Hidden layer sizes: (150, 50, 100); RMSE train: 0.05869; RMSE validation: 0.25165\n",
      "Hidden layer sizes: (150, 100, 50); RMSE train: 0.05274; RMSE validation: 0.24479\n"
     ]
    }
   ],
   "source": [
    "hidden_layer_sizes = [50,100,150] + list(itertools.permutations([50,100,150],2)) + list(itertools.permutations([50,100,150],3))\n",
    "for hidden_layer_size in hidden_layer_sizes:\n",
    "    model = MLPRegressor(hidden_layer_sizes=hidden_layer_size, random_state=SEED)\n",
    "    train_scores, validation_scores = perform_cv_scaling(train_data_transformations[subset], train_data_transformations[target], model, scaler=scaler, features_to_scale=features_to_scale, target_to_scale=True)\n",
    "    print(\"Hidden layer sizes: {}; RMSE train: {:.5f}; RMSE validation: {:.5f}\".format(hidden_layer_size, train_scores, validation_scores))"
   ]
  },
  {
   "cell_type": "markdown",
   "metadata": {},
   "source": [
    "$\\text{Widzimy, że wraz ze zwiększaniem liczby neuronów oraz warstw, wyniki na zbiorze trenigowym ulegają poprawie.}$<p>\n",
    "$\\text{Niestety, powoduje to również zwiększenie overfittingu.}$<p>\n",
    "$\\text{Wygląda na to, że optymalna będzie zaledwie jedna warstwa w sieci.}$<p>\n",
    "$\\text{Na dalszym etapie, podczas tuningowania całej sieci, testować będziemy wyniki dla wartości w okolicach 100 neuronów w pojedynczej warstwie.}$"
   ]
  },
  {
   "cell_type": "markdown",
   "metadata": {},
   "source": [
    "## activation"
   ]
  },
  {
   "cell_type": "markdown",
   "metadata": {},
   "source": [
    "$\\text{Kolejnym ważnym parametrem jest funkcja aktywacji.}$<p>\n",
    "$\\text{Odpowiada ona za to, jaka transformacja zostanie zastosowana na danych wychodzących z warstwy ukrytej.}$<p>\n",
    "$\\text{Dla sieci neuronowych dostępne są różne funkcje aktywacji, poniżej przetestujemy następujące: identity, logistic, tanh, relu.}$"
   ]
  },
  {
   "cell_type": "code",
   "execution_count": 16,
   "metadata": {},
   "outputs": [
    {
     "name": "stdout",
     "output_type": "stream",
     "text": [
      "Activation: identity; RMSE train: 0.22673; RMSE validation: 0.22973\n",
      "Activation: logistic; RMSE train: 0.19952; RMSE validation: 0.21925\n",
      "Activation: tanh; RMSE train: 0.14934; RMSE validation: 0.22678\n",
      "Activation: relu; RMSE train: 0.14296; RMSE validation: 0.21981\n"
     ]
    }
   ],
   "source": [
    "activations = ['identity', 'logistic', 'tanh', 'relu']\n",
    "for activation in activations:\n",
    "    model = MLPRegressor(hidden_layer_sizes=100, activation=activation, random_state=SEED)\n",
    "    train_scores, validation_scores = perform_cv_scaling(train_data_transformations[subset], train_data_transformations[target], model, scaler=scaler, features_to_scale=features_to_scale, target_to_scale=True)\n",
    "    print(\"Activation: {}; RMSE train: {:.5f}; RMSE validation: {:.5f}\".format(activation, train_scores, validation_scores))"
   ]
  },
  {
   "cell_type": "markdown",
   "metadata": {},
   "source": [
    "$\\text{Najlepsze wyniki na zbiorze walidacyjnym uzyskano w przypadku funkcji aktywacji relu.}$"
   ]
  },
  {
   "cell_type": "markdown",
   "metadata": {},
   "source": [
    "## solver"
   ]
  },
  {
   "cell_type": "markdown",
   "metadata": {},
   "source": [
    "$\\text{Parametr solver odpowiada za algorytm optymalizacji wag - za to jak będą one aktualizowane w trakcie uczenia.}$<p>\n",
    "$\\text{Podobnie jak w przypadku funkcji aktywacji, dostępne są różne algorytmy, poniżej przetestujemy następujące: lbfgs, sgd, adam.}$"
   ]
  },
  {
   "cell_type": "code",
   "execution_count": 17,
   "metadata": {},
   "outputs": [
    {
     "name": "stdout",
     "output_type": "stream",
     "text": [
      "Solver: lbfgs; RMSE train: 0.13316; RMSE validation: 0.23270\n",
      "Solver: sgd; RMSE train: 0.20084; RMSE validation: 0.21918\n",
      "Solver: adam; RMSE train: 0.14296; RMSE validation: 0.21981\n"
     ]
    }
   ],
   "source": [
    "solvers = ['lbfgs', 'sgd', 'adam']\n",
    "for solver in solvers:\n",
    "    model = MLPRegressor(hidden_layer_sizes=100, activation='relu', solver=solver, random_state=SEED)\n",
    "    train_scores, validation_scores = perform_cv_scaling(train_data_transformations[subset], train_data_transformations[target], model, scaler=scaler, features_to_scale=features_to_scale, target_to_scale=True)\n",
    "    print(\"Solver: {}; RMSE train: {:.5f}; RMSE validation: {:.5f}\".format(solver, train_scores, validation_scores))"
   ]
  },
  {
   "cell_type": "markdown",
   "metadata": {},
   "source": [
    "$\\text{Zarówno rezultaty na zbiorze treningowym, jak i walidacyjnym są najlepsze dla solvera adam.}$"
   ]
  },
  {
   "cell_type": "markdown",
   "metadata": {},
   "source": [
    "## alpha"
   ]
  },
  {
   "cell_type": "markdown",
   "metadata": {},
   "source": [
    "$\\text{Parametr alpha odpowiada za regularyzację sieci.}$<p>\n",
    "$\\text{alpha służy do ograniczenia rozmiaru wag, co może pomóc w redukcji overfittingu.}$"
   ]
  },
  {
   "cell_type": "code",
   "execution_count": 18,
   "metadata": {},
   "outputs": [
    {
     "name": "stdout",
     "output_type": "stream",
     "text": [
      "Alpha: 1e-05; RMSE train: 0.14260; RMSE validation: 0.21931\n",
      "Alpha: 0.0001; RMSE train: 0.14296; RMSE validation: 0.21981\n",
      "Alpha: 0.001; RMSE train: 0.14310; RMSE validation: 0.21993\n",
      "Alpha: 0.01; RMSE train: 0.14329; RMSE validation: 0.21959\n",
      "Alpha: 0.1; RMSE train: 0.14826; RMSE validation: 0.21659\n",
      "Alpha: 1; RMSE train: 0.18091; RMSE validation: 0.21065\n",
      "Alpha: 10; RMSE train: 0.22870; RMSE validation: 0.23151\n",
      "Alpha: 100; RMSE train: 0.25618; RMSE validation: 0.25658\n",
      "Alpha: 1000; RMSE train: 0.30130; RMSE validation: 0.30145\n",
      "Alpha: 10000; RMSE train: 0.30130; RMSE validation: 0.30144\n"
     ]
    }
   ],
   "source": [
    "alphas = [10**i for i in range(-5, 5)]\n",
    "for alpha in alphas:\n",
    "    model = MLPRegressor(hidden_layer_sizes=100, activation='relu', solver='adam', alpha=alpha, random_state=SEED)\n",
    "    train_scores, validation_scores = perform_cv_scaling(train_data_transformations[subset], train_data_transformations[target], model, scaler=scaler, features_to_scale=features_to_scale, target_to_scale=True)\n",
    "    print(\"Alpha: {}; RMSE train: {:.5f}; RMSE validation: {:.5f}\".format(alpha, train_scores, validation_scores))"
   ]
  },
  {
   "cell_type": "markdown",
   "metadata": {},
   "source": [
    "$\\text{Wraz ze wzrostem wartości parametru alpha, wyniki na zbiorze trenigowym ulegają pogorszeniu.}$<p>\n",
    "$\\text{W przypadku zbioru walidacyjnego, najlepsze wyniki uzyskano dla wartości 1.}$<p>\n",
    "$\\text{Możemy dokładniej zbadać okolice wartości 1.}$"
   ]
  },
  {
   "cell_type": "code",
   "execution_count": 19,
   "metadata": {},
   "outputs": [
    {
     "name": "stdout",
     "output_type": "stream",
     "text": [
      "Alpha: 0.5; RMSE train: 0.16672; RMSE validation: 0.21010\n",
      "Alpha: 0.6; RMSE train: 0.17092; RMSE validation: 0.21028\n",
      "Alpha: 0.7; RMSE train: 0.17346; RMSE validation: 0.20957\n",
      "Alpha: 0.8; RMSE train: 0.17698; RMSE validation: 0.20966\n",
      "Alpha: 0.9; RMSE train: 0.18038; RMSE validation: 0.21066\n",
      "Alpha: 1.0; RMSE train: 0.18091; RMSE validation: 0.21065\n",
      "Alpha: 1.1; RMSE train: 0.18427; RMSE validation: 0.21020\n",
      "Alpha: 1.2000000000000002; RMSE train: 0.18633; RMSE validation: 0.21083\n",
      "Alpha: 1.3; RMSE train: 0.18887; RMSE validation: 0.21183\n",
      "Alpha: 1.4; RMSE train: 0.19022; RMSE validation: 0.21195\n",
      "Alpha: 1.5; RMSE train: 0.19219; RMSE validation: 0.21267\n",
      "Alpha: 1.6; RMSE train: 0.19419; RMSE validation: 0.21245\n",
      "Alpha: 1.7000000000000002; RMSE train: 0.19532; RMSE validation: 0.21301\n",
      "Alpha: 1.8; RMSE train: 0.19712; RMSE validation: 0.21387\n",
      "Alpha: 1.9000000000000001; RMSE train: 0.19903; RMSE validation: 0.21429\n",
      "Alpha: 2.0; RMSE train: 0.20027; RMSE validation: 0.21497\n"
     ]
    }
   ],
   "source": [
    "alphas = np.linspace(0.5, 2, 16)\n",
    "for alpha in alphas:\n",
    "    model = MLPRegressor(hidden_layer_sizes=100, activation='relu', solver='adam', alpha=alpha, random_state=SEED)\n",
    "    train_scores, validation_scores = perform_cv_scaling(train_data_transformations[subset], train_data_transformations[target], model, scaler=scaler, features_to_scale=features_to_scale, target_to_scale=True)\n",
    "    print(\"Alpha: {}; RMSE train: {:.5f}; RMSE validation: {:.5f}\".format(alpha, train_scores, validation_scores))"
   ]
  },
  {
   "cell_type": "markdown",
   "metadata": {},
   "source": [
    "$\\text{Najlepszy rezultat na zbiorze walidacyjnym, dla alpha=0.9.}$"
   ]
  },
  {
   "cell_type": "markdown",
   "metadata": {},
   "source": [
    "## learning_rate"
   ]
  },
  {
   "cell_type": "markdown",
   "metadata": {},
   "source": [
    "$\\text{Parametr learning\\_rate odpowiada za to jak silnie aktualizowane są wagi w trakcie uczenia.}$"
   ]
  },
  {
   "cell_type": "code",
   "execution_count": 20,
   "metadata": {},
   "outputs": [
    {
     "name": "stdout",
     "output_type": "stream",
     "text": [
      "Learning rate: 1e-05; RMSE train: 0.22974; RMSE validation: 0.23437\n",
      "Learning rate: 0.0001; RMSE train: 0.20198; RMSE validation: 0.21822\n",
      "Learning rate: 0.001; RMSE train: 0.18038; RMSE validation: 0.21066\n",
      "Learning rate: 0.01; RMSE train: 0.21011; RMSE validation: 0.22223\n",
      "Learning rate: 0.1; RMSE train: 0.22535; RMSE validation: 0.22908\n",
      "Learning rate: 1; RMSE train: 0.23017; RMSE validation: 0.23622\n"
     ]
    }
   ],
   "source": [
    "learning_rates = [10**i for i in range(-5, 1)]\n",
    "for learning_rate in learning_rates:\n",
    "    model = MLPRegressor(hidden_layer_sizes=100, activation='relu', solver='adam', alpha=0.9, learning_rate_init=learning_rate, random_state=SEED)\n",
    "    train_scores, validation_scores = perform_cv_scaling(train_data_transformations[subset], train_data_transformations[target], model, scaler=scaler, features_to_scale=features_to_scale, target_to_scale=True)\n",
    "    print(\"Learning rate: {}; RMSE train: {:.5f}; RMSE validation: {:.5f}\".format(learning_rate, train_scores, validation_scores))"
   ]
  },
  {
   "cell_type": "markdown",
   "metadata": {},
   "source": [
    "$\\text{Dla wartości domyślnej: 0.001, wyniki na zbiorze walidacyjnym są najlepsze.}$"
   ]
  },
  {
   "cell_type": "markdown",
   "metadata": {},
   "source": [
    "## max_iter"
   ]
  },
  {
   "cell_type": "markdown",
   "metadata": {},
   "source": [
    "$\\text{Parametr max\\_iter odpowiada za maksymalną liczbę iteracji - czyli ile razy algorytm będzie uczył się na danych i optymalizował wagi.}$"
   ]
  },
  {
   "cell_type": "code",
   "execution_count": 21,
   "metadata": {},
   "outputs": [
    {
     "name": "stdout",
     "output_type": "stream",
     "text": [
      "Max iter: 100; RMSE train: 0.18605; RMSE validation: 0.21272\n",
      "Max iter: 200; RMSE train: 0.18038; RMSE validation: 0.21066\n",
      "Max iter: 300; RMSE train: 0.18038; RMSE validation: 0.21066\n",
      "Max iter: 400; RMSE train: 0.18038; RMSE validation: 0.21066\n",
      "Max iter: 500; RMSE train: 0.18038; RMSE validation: 0.21066\n",
      "Max iter: 600; RMSE train: 0.18038; RMSE validation: 0.21066\n",
      "Max iter: 700; RMSE train: 0.18038; RMSE validation: 0.21066\n",
      "Max iter: 800; RMSE train: 0.18038; RMSE validation: 0.21066\n",
      "Max iter: 900; RMSE train: 0.18038; RMSE validation: 0.21066\n",
      "Max iter: 1000; RMSE train: 0.18038; RMSE validation: 0.21066\n"
     ]
    }
   ],
   "source": [
    "max_iters = [i for i in range(100, 1001, 100)]\n",
    "for max_iter in max_iters:\n",
    "    model = MLPRegressor(hidden_layer_sizes=100, activation='relu', solver='adam', alpha=0.9, learning_rate_init=0.001, max_iter=max_iter, random_state=SEED)\n",
    "    train_scores, validation_scores = perform_cv_scaling(train_data_transformations[subset], train_data_transformations[target], model, scaler=scaler, features_to_scale=features_to_scale, target_to_scale=True)\n",
    "    print(\"Max iter: {}; RMSE train: {:.5f}; RMSE validation: {:.5f}\".format(max_iter, train_scores, validation_scores))"
   ]
  },
  {
   "cell_type": "markdown",
   "metadata": {},
   "source": [
    "$\\text{Od okolic 300 iteracji, brak wpływu liczby iteracji na wyniki modelu.}$<p>\n",
    "$\\text{Warto zaznaczyć, że przy 200 iteracjach model osiąga najniższą wartość straty na zbiorze walidacyjnym.}$<p>\n",
    "$\\text{Spróbujemy zatem znaleźć dokładniejszą wartość.}$"
   ]
  },
  {
   "cell_type": "code",
   "execution_count": 22,
   "metadata": {},
   "outputs": [
    {
     "name": "stdout",
     "output_type": "stream",
     "text": [
      "Max iter: 100; RMSE train: 0.18605; RMSE validation: 0.21272\n",
      "Max iter: 120; RMSE train: 0.18461; RMSE validation: 0.21203\n",
      "Max iter: 140; RMSE train: 0.18145; RMSE validation: 0.21100\n",
      "Max iter: 160; RMSE train: 0.17931; RMSE validation: 0.20975\n",
      "Max iter: 180; RMSE train: 0.18038; RMSE validation: 0.21066\n",
      "Max iter: 200; RMSE train: 0.18038; RMSE validation: 0.21066\n",
      "Max iter: 220; RMSE train: 0.18038; RMSE validation: 0.21066\n",
      "Max iter: 240; RMSE train: 0.18038; RMSE validation: 0.21066\n",
      "Max iter: 260; RMSE train: 0.18038; RMSE validation: 0.21066\n",
      "Max iter: 280; RMSE train: 0.18038; RMSE validation: 0.21066\n"
     ]
    }
   ],
   "source": [
    "max_iters = [i for i in range(100, 300, 20)]\n",
    "for max_iter in max_iters:\n",
    "    model = MLPRegressor(hidden_layer_sizes=100, activation='relu', solver='adam', alpha=0.9, learning_rate_init=0.001, max_iter=max_iter, random_state=SEED)\n",
    "    train_scores, validation_scores = perform_cv_scaling(train_data_transformations[subset], train_data_transformations[target], model, scaler=scaler, features_to_scale=features_to_scale, target_to_scale=True)\n",
    "    print(\"Max iter: {}; RMSE train: {:.5f}; RMSE validation: {:.5f}\".format(max_iter, train_scores, validation_scores))"
   ]
  },
  {
   "cell_type": "markdown",
   "metadata": {},
   "source": [
    "$\\text{Najlepszy wynik dla max\\_iter=160.}$"
   ]
  },
  {
   "cell_type": "markdown",
   "metadata": {},
   "source": [
    "# Tuning"
   ]
  },
  {
   "cell_type": "code",
   "execution_count": 23,
   "metadata": {},
   "outputs": [],
   "source": [
    "class RandomSearchCV:\n",
    "    \"\"\"\n",
    "    This class is used to optimize the hyperparameters of the algorithm using Random Search.\n",
    "    \"\"\"\n",
    "\n",
    "    def __init__(\n",
    "        self,\n",
    "        algorithm: typing.Any,\n",
    "        metric: str,\n",
    "        cv: typing.Any = KFold(n_splits=5, shuffle=True, random_state=17),\n",
    "        n_trials: int = 100,\n",
    "        seed: int = 17,\n",
    "    ) -> None:\n",
    "        \"\"\"\n",
    "        Initializes the RandomSearchCV class.\n",
    "\n",
    "        Args:\n",
    "            algorithm (typing.Any): algorithm to optimize.\n",
    "            metric (str): metric to use for optimization.\n",
    "            cv (typing.Any): cross-validation strategy.\n",
    "            n_trials (int): number of trials to perform.\n",
    "            seed (int): random seed.\n",
    "        \"\"\"\n",
    "        self.algorithm = algorithm\n",
    "        metrics = {\n",
    "            \"accuracy\": [lambda y, y_pred: accuracy_score(y, y_pred), \"preds\", \"maximize\"],\n",
    "            \"roc_auc\": [lambda y, y_pred: roc_auc_score(y, y_pred), \"probs\", \"maximize\"],\n",
    "            \"mse\": [lambda y, y_pred: mean_squared_error(y, y_pred), \"preds\", \"minimize\"],\n",
    "            \"rmse\": [\n",
    "                lambda y, y_pred: mean_squared_error(y, y_pred, squared=False),\n",
    "                \"preds\", \"minimize\"\n",
    "            ],\n",
    "            \"mae\": [lambda y, y_pred: mean_absolute_error(y, y_pred), \"preds\", \"minimize\"],\n",
    "        }\n",
    "        if metric not in metrics:\n",
    "            raise ValueError(\"Unsupported metric: {}\".format(metric))\n",
    "        self.eval_metric = metrics[metric][0]\n",
    "        self.metric_type = metrics[metric][1]\n",
    "        self.direction = metrics[metric][2]\n",
    "        self.cv = cv\n",
    "        self.n_trials = n_trials\n",
    "        self.seed = seed\n",
    "    \n",
    "    def check_X(\n",
    "        self, X: typing.Union[pd.DataFrame, pd.Series, np.ndarray]\n",
    "    ) -> np.ndarray:\n",
    "        \"\"\"Check if X is pandas DataFrame, pandas Series or numpy array and convert it to numpy array.\n",
    "\n",
    "        Args:\n",
    "            X: (Union[pd.DataFrame, pd.Series, np.ndarray]): input data.\n",
    "\n",
    "        Returns:\n",
    "            X: (np.ndarray): converted input data.\n",
    "        \"\"\"\n",
    "        if (\n",
    "            not isinstance(X, pd.DataFrame)\n",
    "            and not isinstance(X, pd.Series)\n",
    "            and not isinstance(X, np.ndarray)\n",
    "        ):\n",
    "            raise TypeError(\n",
    "                \"Wrong type of X. It should be pandas DataFrame, pandas Series, numpy array.\"\n",
    "            )\n",
    "        X = np.array(X)\n",
    "        if X.ndim == 1:\n",
    "            X = X[None, :]\n",
    "        return X\n",
    "\n",
    "    def check_y(\n",
    "        self, y: typing.Union[pd.DataFrame, pd.Series, np.ndarray]\n",
    "    ) -> np.ndarray:\n",
    "        \"\"\"Check if y is pandas DataFrame, pandas Series or numpy array and convert it to numpy array.\n",
    "\n",
    "        Args:\n",
    "            y: (Union[pd.DataFrame, pd.Series, np.ndarray]): target data.\n",
    "\n",
    "        Returns:\n",
    "            y: (np.ndarray): converted target data.\n",
    "        \"\"\"\n",
    "        if (\n",
    "            not isinstance(y, pd.DataFrame)\n",
    "            and not isinstance(y, pd.Series)\n",
    "            and not isinstance(y, np.ndarray)\n",
    "        ):\n",
    "            raise TypeError(\n",
    "                \"Wrong type of y. It should be pandas DataFrame, pandas Series, numpy array.\"\n",
    "            )\n",
    "        y = np.array(y)\n",
    "        if y.ndim != 1:\n",
    "            y = y.squeeze()\n",
    "        return y\n",
    "\n",
    "    def check_for_object_columns(self, X: np.ndarray) -> np.ndarray:\n",
    "        \"\"\"Check if X contains object columns and convert it to numeric data.\n",
    "\n",
    "        Args:\n",
    "            X: (np.ndarray): input data.\n",
    "\n",
    "        Returns:\n",
    "            X: (np.ndarray): converted input data.\n",
    "        \"\"\"\n",
    "        X = pd.DataFrame(X)\n",
    "        if X.select_dtypes(include=np.number).shape[1] != X.shape[1]:\n",
    "            raise TypeError(\n",
    "                \"Your data contains object or string columns. Numeric data is obligated.\"\n",
    "            )\n",
    "        return np.array(X)\n",
    "\n",
    "    def tune(\n",
    "        self,\n",
    "        X: pd.DataFrame,\n",
    "        y: pd.Series,\n",
    "        params_grid: typing.Dict[str, typing.Tuple[str, typing.List[typing.Any]]],\n",
    "        X_valid: pd.DataFrame = None,\n",
    "        y_valid: pd.Series = None,\n",
    "    ) -> typing.Dict[str, typing.Any]:\n",
    "        \"\"\"\n",
    "        This method tunes the algorithm hyperparameters.\n",
    "\n",
    "        Args:\n",
    "            X (pd.DataFrame): input data.\n",
    "            y (pd.Series): target data.\n",
    "            params_grid (typing.Dict[str, typing.Tuple[str, typing.List[typing.Any]]]): hyperparameters grid.\n",
    "            X_valid (pd.DataFrame): validation data (default is None).\n",
    "            y_valid (pd.Series): validation labels (default is None).\n",
    "\n",
    "        Returns:\n",
    "            typing.Dict[str, typing.Any]: best hyperparameters.\n",
    "        \"\"\"\n",
    "        self.params_grid = params_grid\n",
    "        study = self.create_study()\n",
    "        X = self.check_X(X)\n",
    "        X = self.check_for_object_columns(X)\n",
    "        y = self.check_y(y)\n",
    "        if X_valid is not None and y_valid is not None:\n",
    "            X_valid = self.check_X(X_valid)\n",
    "            y_valid = self.check_y(y_valid)\n",
    "            X_valid = self.check_for_object_columns(X_valid)\n",
    "            study.optimize(\n",
    "                lambda trial: self.objective(trial, X, y, X_valid, y_valid),\n",
    "                n_trials=self.n_trials,\n",
    "            )\n",
    "        else:\n",
    "            study.optimize(\n",
    "                lambda trial: self.objective_cv(trial, X, y),\n",
    "                n_trials=self.n_trials,\n",
    "            )\n",
    "        return study.best_params\n",
    "    \n",
    "    def create_study(self,) -> optuna.study.Study:\n",
    "        \"\"\"This method creates an optuna study object.\n",
    "\n",
    "        Returns:\n",
    "            optuna.study.Study: optuna study object.\n",
    "        \"\"\"\n",
    "        sampler = optuna.samplers.TPESampler(seed=self.seed)\n",
    "        return optuna.create_study(direction=self.direction, sampler=sampler)\n",
    "    \n",
    "    def objective(self, trial: optuna.Trial, X_train: np.ndarray, y_train: np.ndarray, X_valid: np.ndarray, y_valid: np.ndarray) -> float:\n",
    "        \"\"\"\n",
    "        This method defines the objective function for optimization when validation data is provided.\n",
    "\n",
    "        Args:\n",
    "            trial (optuna.Trial): trial object.\n",
    "            X_train (np.ndarray): input data.\n",
    "            y_train (np.ndarray): target data.\n",
    "            X_valid (np.ndarray): validation data.\n",
    "            y_valid (np.ndarray): validation labels.\n",
    "        \n",
    "        Returns:\n",
    "            float: Validation score.\n",
    "        \"\"\"\n",
    "        params = {param_name: self.get_param(trial, param_name, param_values) for param_name, param_values in self.params_grid.items()}\n",
    "        self.algorithm = self.algorithm.set_params(**params)\n",
    "        model.fit(X_train, y_train)\n",
    "        y_valid_pred = model.predict(X_valid)\n",
    "        return self.eval_metric(y_valid, y_valid_pred)\n",
    "    \n",
    "    def objective_cv(self, trial: optuna.Trial, X: np.ndarray, y: np.ndarray) -> float:\n",
    "        \"\"\"\n",
    "        This method defines the objective function for optimization when validation data is not provided.\n",
    "\n",
    "        Args:\n",
    "            trial (optuna.Trial): trial object.\n",
    "            X (np.ndarray): input data.\n",
    "            y (np.ndarray): target data.\n",
    "        \n",
    "        Returns:\n",
    "            float: Cross-validation score.\n",
    "        \"\"\"\n",
    "        params = {param_name: self.get_param(trial, param_name, param_values) for param_name, param_values in self.params_grid.items()}\n",
    "        self.algorithm = self.algorithm.set_params(**params)\n",
    "        return self.perform_cv(X, y)\n",
    "\n",
    "    \n",
    "    def get_param(self, trial: optuna.Trial, param_name: str, param_values: typing.Tuple[str, typing.List[typing.Any]]) -> typing.Any:\n",
    "        \"\"\"\n",
    "        This method converts the parameter values to the optuna parameter suggestion.\n",
    "\n",
    "        Args:\n",
    "            trial (optuna.Trial): trial object.\n",
    "            param_name (str): parameter name.\n",
    "            param_values (typing.Tuple[str, typing.List[typing.Any]]): parameter values.\n",
    "\n",
    "        Returns:\n",
    "            typing.Any: parameter suggestion.\n",
    "        \"\"\"\n",
    "        param_type, param_value = param_values\n",
    "        if param_type == \"int\":\n",
    "            return trial.suggest_int(param_name, low=param_value[0], high=param_value[1])\n",
    "        elif param_type == \"float\":\n",
    "            return trial.suggest_float(param_name, low=param_value[0], high=param_value[1])\n",
    "        elif param_type == \"categorical\":\n",
    "            return trial.suggest_categorical(param_name, param_value)\n",
    "        elif param_type == \"constant\":\n",
    "            return trial.suggest_categorical(param_name, [param_value])\n",
    "\n",
    "    def perform_cv(self, X: np.ndarray, y: np.ndarray) -> float:\n",
    "        \"\"\"This method performs cross-validation.\n",
    "\n",
    "        Args:\n",
    "            X: (np.ndarray): input data.\n",
    "            y: (np.ndarray): target data.\n",
    "\n",
    "        Returns:\n",
    "            float: cross-validation score.\n",
    "        \"\"\"\n",
    "        valid_scores = []\n",
    "        for train_idx, valid_idx in self.cv.split(X):\n",
    "            X_train_cv, X_valid_cv = X[train_idx], X[valid_idx]\n",
    "            y_train_cv, y_valid_cv = y[train_idx], y[valid_idx]\n",
    "            self.algorithm.fit(X_train_cv, y_train_cv)\n",
    "            if self.metric_type == \"preds\":\n",
    "                y_valid_pred = self.algorithm.predict(X_valid_cv)\n",
    "            else:\n",
    "                y_valid_pred = self.algorithm.predict_proba(X_valid_cv)[:, 1]\n",
    "            valid_scores.append(self.eval_metric(y_valid_cv, y_valid_pred))\n",
    "        return np.mean(valid_scores)"
   ]
  },
  {
   "cell_type": "code",
   "execution_count": 24,
   "metadata": {},
   "outputs": [
    {
     "name": "stderr",
     "output_type": "stream",
     "text": [
      "[I 2024-05-27 12:21:22,962] A new study created in memory with name: no-name-8f14996f-7807-43c4-8d0d-afdec45e7940\n"
     ]
    },
    {
     "name": "stderr",
     "output_type": "stream",
     "text": [
      "[I 2024-05-27 12:21:32,029] Trial 0 finished with value: 0.7364348856604982 and parameters: {'hidden_layer_sizes': 79, 'activation': 'tanh', 'solver': 'adam', 'alpha': 1.329850367462918, 'learning_rate_init': 0.0033688440321963616, 'max_iter': 186, 'random_state': 17}. Best is trial 0 with value: 0.7364348856604982.\n",
      "[I 2024-05-27 12:21:47,410] Trial 1 finished with value: 0.710775440667055 and parameters: {'hidden_layer_sizes': 53, 'activation': 'relu', 'solver': 'adam', 'alpha': 1.760716525988659, 'learning_rate_init': 0.0007303714952920416, 'max_iter': 198, 'random_state': 17}. Best is trial 1 with value: 0.710775440667055.\n",
      "[I 2024-05-27 12:21:55,961] Trial 2 finished with value: 0.7361815195458608 and parameters: {'hidden_layer_sizes': 105, 'activation': 'tanh', 'solver': 'adam', 'alpha': 1.1449423653864041, 'learning_rate_init': 0.0022822134622116196, 'max_iter': 219, 'random_state': 17}. Best is trial 1 with value: 0.710775440667055.\n",
      "[I 2024-05-27 12:22:09,187] Trial 3 finished with value: 0.7081155260653174 and parameters: {'hidden_layer_sizes': 92, 'activation': 'relu', 'solver': 'adam', 'alpha': 0.6200188412830702, 'learning_rate_init': 0.001394482424901544, 'max_iter': 225, 'random_state': 17}. Best is trial 3 with value: 0.7081155260653174.\n",
      "[I 2024-05-27 12:22:22,264] Trial 4 finished with value: 0.7145982992992957 and parameters: {'hidden_layer_sizes': 107, 'activation': 'relu', 'solver': 'adam', 'alpha': 0.28102091651419914, 'learning_rate_init': 0.00250248229754031, 'max_iter': 234, 'random_state': 17}. Best is trial 3 with value: 0.7081155260653174.\n",
      "[I 2024-05-27 12:22:29,562] Trial 5 finished with value: 0.7255439305936126 and parameters: {'hidden_layer_sizes': 130, 'activation': 'relu', 'solver': 'adam', 'alpha': 1.4999746920114883, 'learning_rate_init': 0.004494813583485366, 'max_iter': 120, 'random_state': 17}. Best is trial 3 with value: 0.7081155260653174.\n",
      "[I 2024-05-27 12:22:38,009] Trial 6 finished with value: 0.732143077915128 and parameters: {'hidden_layer_sizes': 128, 'activation': 'tanh', 'solver': 'adam', 'alpha': 0.9026413847276797, 'learning_rate_init': 0.0028428577858009936, 'max_iter': 174, 'random_state': 17}. Best is trial 3 with value: 0.7081155260653174.\n",
      "[I 2024-05-27 12:22:46,129] Trial 7 finished with value: 0.7501885800101344 and parameters: {'hidden_layer_sizes': 63, 'activation': 'tanh', 'solver': 'adam', 'alpha': 1.9109588378360023, 'learning_rate_init': 0.0013884969988115388, 'max_iter': 112, 'random_state': 17}. Best is trial 3 with value: 0.7081155260653174.\n",
      "[I 2024-05-27 12:22:55,132] Trial 8 finished with value: 0.7215635859378936 and parameters: {'hidden_layer_sizes': 139, 'activation': 'relu', 'solver': 'adam', 'alpha': 1.8364146684596327, 'learning_rate_init': 0.0017321593681300293, 'max_iter': 135, 'random_state': 17}. Best is trial 3 with value: 0.7081155260653174.\n",
      "[I 2024-05-27 12:23:02,644] Trial 9 finished with value: 0.742866569180485 and parameters: {'hidden_layer_sizes': 81, 'activation': 'tanh', 'solver': 'adam', 'alpha': 1.4011489240271868, 'learning_rate_init': 0.004032876610687683, 'max_iter': 153, 'random_state': 17}. Best is trial 3 with value: 0.7081155260653174.\n",
      "[I 2024-05-27 12:23:25,881] Trial 10 finished with value: 0.7295934028687355 and parameters: {'hidden_layer_sizes': 89, 'activation': 'relu', 'solver': 'sgd', 'alpha': 0.6323720990931839, 'learning_rate_init': 0.0006638809896344954, 'max_iter': 250, 'random_state': 17}. Best is trial 3 with value: 0.7081155260653174.\n",
      "[I 2024-05-27 12:23:42,099] Trial 11 finished with value: 0.736189140106329 and parameters: {'hidden_layer_sizes': 51, 'activation': 'relu', 'solver': 'sgd', 'alpha': 0.7519708723924592, 'learning_rate_init': 0.0008085981736316585, 'max_iter': 204, 'random_state': 17}. Best is trial 3 with value: 0.7081155260653174.\n",
      "[I 2024-05-27 12:23:59,493] Trial 12 finished with value: 0.7279016409392918 and parameters: {'hidden_layer_sizes': 65, 'activation': 'relu', 'solver': 'sgd', 'alpha': 0.07301045711818488, 'learning_rate_init': 0.0013773490590759277, 'max_iter': 206, 'random_state': 17}. Best is trial 3 with value: 0.7081155260653174.\n",
      "[I 2024-05-27 12:24:14,062] Trial 13 finished with value: 0.7055061398640928 and parameters: {'hidden_layer_sizes': 50, 'activation': 'relu', 'solver': 'adam', 'alpha': 0.5542217274386481, 'learning_rate_init': 0.0007280383067610909, 'max_iter': 183, 'random_state': 17}. Best is trial 13 with value: 0.7055061398640928.\n",
      "[I 2024-05-27 12:24:30,006] Trial 14 finished with value: 0.7358631874071418 and parameters: {'hidden_layer_sizes': 112, 'activation': 'relu', 'solver': 'sgd', 'alpha': 0.5185632047006926, 'learning_rate_init': 0.0005089934798971536, 'max_iter': 163, 'random_state': 17}. Best is trial 13 with value: 0.7055061398640928.\n",
      "[I 2024-05-27 12:24:42,423] Trial 15 finished with value: 0.7059359499712143 and parameters: {'hidden_layer_sizes': 150, 'activation': 'relu', 'solver': 'adam', 'alpha': 0.460232518062032, 'learning_rate_init': 0.0018826678104680926, 'max_iter': 229, 'random_state': 17}. Best is trial 13 with value: 0.7055061398640928.\n",
      "[I 2024-05-27 12:24:52,849] Trial 16 finished with value: 0.7093421458425805 and parameters: {'hidden_layer_sizes': 150, 'activation': 'relu', 'solver': 'adam', 'alpha': 0.40045933550124896, 'learning_rate_init': 0.0019631044768622127, 'max_iter': 244, 'random_state': 17}. Best is trial 13 with value: 0.7055061398640928.\n",
      "[I 2024-05-27 12:25:04,519] Trial 17 finished with value: 0.7170671539422195 and parameters: {'hidden_layer_sizes': 119, 'activation': 'relu', 'solver': 'adam', 'alpha': 0.8594945214197542, 'learning_rate_init': 0.0028636914740477154, 'max_iter': 146, 'random_state': 17}. Best is trial 13 with value: 0.7055061398640928.\n",
      "[I 2024-05-27 12:25:24,345] Trial 18 finished with value: 0.7204855119818495 and parameters: {'hidden_layer_sizes': 149, 'activation': 'relu', 'solver': 'sgd', 'alpha': 0.32840391461395774, 'learning_rate_init': 0.0011111448163081924, 'max_iter': 183, 'random_state': 17}. Best is trial 13 with value: 0.7055061398640928.\n",
      "[I 2024-05-27 12:25:39,357] Trial 19 finished with value: 0.7307487539248532 and parameters: {'hidden_layer_sizes': 73, 'activation': 'relu', 'solver': 'adam', 'alpha': 0.1480621373093502, 'learning_rate_init': 0.001877321603187371, 'max_iter': 220, 'random_state': 17}. Best is trial 13 with value: 0.7055061398640928.\n",
      "[I 2024-05-27 12:25:55,074] Trial 20 finished with value: 0.7061680483629892 and parameters: {'hidden_layer_sizes': 93, 'activation': 'relu', 'solver': 'adam', 'alpha': 0.49971431066166727, 'learning_rate_init': 0.001029628526507557, 'max_iter': 192, 'random_state': 17}. Best is trial 13 with value: 0.7055061398640928.\n",
      "[I 2024-05-27 12:26:11,068] Trial 21 finished with value: 0.6968756801764464 and parameters: {'hidden_layer_sizes': 119, 'activation': 'relu', 'solver': 'adam', 'alpha': 0.5076763487529935, 'learning_rate_init': 0.0010666694196056596, 'max_iter': 170, 'random_state': 17}. Best is trial 21 with value: 0.6968756801764464.\n",
      "[I 2024-05-27 12:26:27,924] Trial 22 finished with value: 0.6951726987155102 and parameters: {'hidden_layer_sizes': 125, 'activation': 'relu', 'solver': 'adam', 'alpha': 0.6389031751013508, 'learning_rate_init': 0.0011232350419849149, 'max_iter': 171, 'random_state': 17}. Best is trial 22 with value: 0.6951726987155102.\n",
      "[I 2024-05-27 12:26:42,826] Trial 23 finished with value: 0.6994423534415668 and parameters: {'hidden_layer_sizes': 119, 'activation': 'relu', 'solver': 'adam', 'alpha': 0.7884271905962266, 'learning_rate_init': 0.0011140617547777025, 'max_iter': 166, 'random_state': 17}. Best is trial 22 with value: 0.6951726987155102.\n",
      "[I 2024-05-27 12:26:59,581] Trial 24 finished with value: 0.6908214709996872 and parameters: {'hidden_layer_sizes': 122, 'activation': 'relu', 'solver': 'adam', 'alpha': 0.749796742961385, 'learning_rate_init': 0.0010876804786106743, 'max_iter': 167, 'random_state': 17}. Best is trial 24 with value: 0.6908214709996872.\n",
      "[I 2024-05-27 12:27:12,197] Trial 25 finished with value: 0.7053860396013576 and parameters: {'hidden_layer_sizes': 130, 'activation': 'relu', 'solver': 'adam', 'alpha': 1.0739959904213627, 'learning_rate_init': 0.001425806775981406, 'max_iter': 137, 'random_state': 17}. Best is trial 24 with value: 0.6908214709996872.\n",
      "[I 2024-05-27 12:27:27,438] Trial 26 finished with value: 0.7450055554650198 and parameters: {'hidden_layer_sizes': 118, 'activation': 'tanh', 'solver': 'sgd', 'alpha': 0.700629471107571, 'learning_rate_init': 0.0010273739793613466, 'max_iter': 154, 'random_state': 17}. Best is trial 24 with value: 0.6908214709996872.\n",
      "[I 2024-05-27 12:27:40,462] Trial 27 finished with value: 0.6994221743872416 and parameters: {'hidden_layer_sizes': 136, 'activation': 'relu', 'solver': 'adam', 'alpha': 0.929418356438036, 'learning_rate_init': 0.0016855958142574525, 'max_iter': 170, 'random_state': 17}. Best is trial 24 with value: 0.6908214709996872.\n",
      "[I 2024-05-27 12:27:50,577] Trial 28 finished with value: 0.7041793722488496 and parameters: {'hidden_layer_sizes': 112, 'activation': 'relu', 'solver': 'adam', 'alpha': 0.7318646841416725, 'learning_rate_init': 0.002170417981503919, 'max_iter': 131, 'random_state': 17}. Best is trial 24 with value: 0.6908214709996872.\n",
      "[I 2024-05-27 12:28:06,973] Trial 29 finished with value: 0.7318439364299069 and parameters: {'hidden_layer_sizes': 140, 'activation': 'tanh', 'solver': 'adam', 'alpha': 1.0351780310125969, 'learning_rate_init': 0.0005138306729316875, 'max_iter': 155, 'random_state': 17}. Best is trial 24 with value: 0.6908214709996872.\n",
      "[I 2024-05-27 12:28:16,575] Trial 30 finished with value: 0.7096497268948783 and parameters: {'hidden_layer_sizes': 124, 'activation': 'relu', 'solver': 'adam', 'alpha': 0.605552039548996, 'learning_rate_init': 0.00342279737495242, 'max_iter': 179, 'random_state': 17}. Best is trial 24 with value: 0.6908214709996872.\n",
      "[I 2024-05-27 12:28:27,299] Trial 31 finished with value: 0.7075401351962916 and parameters: {'hidden_layer_sizes': 139, 'activation': 'relu', 'solver': 'adam', 'alpha': 0.8862122533737471, 'learning_rate_init': 0.0014834152044546625, 'max_iter': 173, 'random_state': 17}. Best is trial 24 with value: 0.6908214709996872.\n",
      "[I 2024-05-27 12:28:39,597] Trial 32 finished with value: 0.7001482250296285 and parameters: {'hidden_layer_sizes': 135, 'activation': 'relu', 'solver': 'adam', 'alpha': 0.8862578265276374, 'learning_rate_init': 0.0016352431970066824, 'max_iter': 163, 'random_state': 17}. Best is trial 24 with value: 0.6908214709996872.\n",
      "[I 2024-05-27 12:28:55,046] Trial 33 finished with value: 0.7014875592454715 and parameters: {'hidden_layer_sizes': 123, 'activation': 'relu', 'solver': 'adam', 'alpha': 1.1867019156078928, 'learning_rate_init': 0.0008919711412695893, 'max_iter': 195, 'random_state': 17}. Best is trial 24 with value: 0.6908214709996872.\n",
      "[I 2024-05-27 12:29:07,688] Trial 34 finished with value: 0.6948365137997677 and parameters: {'hidden_layer_sizes': 100, 'activation': 'relu', 'solver': 'adam', 'alpha': 0.9727306861473195, 'learning_rate_init': 0.0011671281406370876, 'max_iter': 173, 'random_state': 17}. Best is trial 24 with value: 0.6908214709996872.\n",
      "[I 2024-05-27 12:29:23,364] Trial 35 finished with value: 0.6976686329289559 and parameters: {'hidden_layer_sizes': 100, 'activation': 'relu', 'solver': 'adam', 'alpha': 0.6298745410829856, 'learning_rate_init': 0.0011525170141579743, 'max_iter': 188, 'random_state': 17}. Best is trial 24 with value: 0.6908214709996872.\n",
      "[I 2024-05-27 12:29:39,682] Trial 36 finished with value: 0.7027033203144871 and parameters: {'hidden_layer_sizes': 103, 'activation': 'relu', 'solver': 'adam', 'alpha': 0.3966801114994463, 'learning_rate_init': 0.001212547087928655, 'max_iter': 207, 'random_state': 17}. Best is trial 24 with value: 0.6908214709996872.\n",
      "[I 2024-05-27 12:29:54,131] Trial 37 finished with value: 0.7250779574744117 and parameters: {'hidden_layer_sizes': 110, 'activation': 'tanh', 'solver': 'adam', 'alpha': 0.9744935711458089, 'learning_rate_init': 0.0008850902251136878, 'max_iter': 147, 'random_state': 17}. Best is trial 24 with value: 0.6908214709996872.\n",
      "[I 2024-05-27 12:30:08,217] Trial 38 finished with value: 0.7039942742345081 and parameters: {'hidden_layer_sizes': 98, 'activation': 'relu', 'solver': 'adam', 'alpha': 0.7901578038790157, 'learning_rate_init': 0.001250767721017725, 'max_iter': 160, 'random_state': 17}. Best is trial 24 with value: 0.6908214709996872.\n",
      "[I 2024-05-27 12:30:18,661] Trial 39 finished with value: 0.7118694852109215 and parameters: {'hidden_layer_sizes': 116, 'activation': 'relu', 'solver': 'adam', 'alpha': 1.160632528818376, 'learning_rate_init': 0.001476758386105548, 'max_iter': 173, 'random_state': 17}. Best is trial 24 with value: 0.6908214709996872.\n",
      "[I 2024-05-27 12:30:28,886] Trial 40 finished with value: 0.7242351798926394 and parameters: {'hidden_layer_sizes': 127, 'activation': 'tanh', 'solver': 'adam', 'alpha': 0.23377917859716346, 'learning_rate_init': 0.002171238369973858, 'max_iter': 101, 'random_state': 17}. Best is trial 24 with value: 0.6908214709996872.\n",
      "[I 2024-05-27 12:30:45,136] Trial 41 finished with value: 0.6947592590618774 and parameters: {'hidden_layer_sizes': 99, 'activation': 'relu', 'solver': 'adam', 'alpha': 0.6377052367421411, 'learning_rate_init': 0.00094356104033426, 'max_iter': 189, 'random_state': 17}. Best is trial 24 with value: 0.6908214709996872.\n",
      "[I 2024-05-27 12:31:01,990] Trial 42 finished with value: 0.7016254744497493 and parameters: {'hidden_layer_sizes': 95, 'activation': 'relu', 'solver': 'adam', 'alpha': 0.6560914673706524, 'learning_rate_init': 0.0009209193105079196, 'max_iter': 179, 'random_state': 17}. Best is trial 24 with value: 0.6908214709996872.\n",
      "[I 2024-05-27 12:31:19,862] Trial 43 finished with value: 0.6969297923541828 and parameters: {'hidden_layer_sizes': 86, 'activation': 'relu', 'solver': 'adam', 'alpha': 0.7979885341999642, 'learning_rate_init': 0.0007037835099583001, 'max_iter': 190, 'random_state': 17}. Best is trial 24 with value: 0.6908214709996872.\n",
      "[I 2024-05-27 12:31:31,838] Trial 44 finished with value: 0.6974587852397112 and parameters: {'hidden_layer_sizes': 106, 'activation': 'relu', 'solver': 'adam', 'alpha': 0.5641760627756289, 'learning_rate_init': 0.0013217011462867705, 'max_iter': 200, 'random_state': 17}. Best is trial 24 with value: 0.6908214709996872.\n",
      "[I 2024-05-27 12:31:47,669] Trial 45 finished with value: 0.7005683130862594 and parameters: {'hidden_layer_sizes': 85, 'activation': 'relu', 'solver': 'adam', 'alpha': 0.7010265434061254, 'learning_rate_init': 0.0007903738788520344, 'max_iter': 169, 'random_state': 17}. Best is trial 24 with value: 0.6908214709996872.\n",
      "[I 2024-05-27 12:32:04,717] Trial 46 finished with value: 0.7158820220430006 and parameters: {'hidden_layer_sizes': 107, 'activation': 'relu', 'solver': 'sgd', 'alpha': 0.45707502257600097, 'learning_rate_init': 0.0012625952423864527, 'max_iter': 178, 'random_state': 17}. Best is trial 24 with value: 0.6908214709996872.\n",
      "[I 2024-05-27 12:32:19,628] Trial 47 finished with value: 0.7059046182147445 and parameters: {'hidden_layer_sizes': 115, 'activation': 'relu', 'solver': 'adam', 'alpha': 0.5719473295159044, 'learning_rate_init': 0.001552288824531824, 'max_iter': 212, 'random_state': 17}. Best is trial 24 with value: 0.6908214709996872.\n",
      "[I 2024-05-27 12:32:34,499] Trial 48 finished with value: 0.7274532778741235 and parameters: {'hidden_layer_sizes': 97, 'activation': 'tanh', 'solver': 'adam', 'alpha': 0.6905530506563105, 'learning_rate_init': 0.0005523468121822511, 'max_iter': 148, 'random_state': 17}. Best is trial 24 with value: 0.6908214709996872.\n",
      "[I 2024-05-27 12:32:51,758] Trial 49 finished with value: 0.7313006398754102 and parameters: {'hidden_layer_sizes': 103, 'activation': 'relu', 'solver': 'sgd', 'alpha': 0.8354382641596967, 'learning_rate_init': 0.0009425154322337887, 'max_iter': 185, 'random_state': 17}. Best is trial 24 with value: 0.6908214709996872.\n",
      "[I 2024-05-27 12:33:05,516] Trial 50 finished with value: 0.7060800387318811 and parameters: {'hidden_layer_sizes': 76, 'activation': 'relu', 'solver': 'adam', 'alpha': 0.9963567487442034, 'learning_rate_init': 0.0006653902961220707, 'max_iter': 156, 'random_state': 17}. Best is trial 24 with value: 0.6908214709996872.\n",
      "[I 2024-05-27 12:33:22,470] Trial 51 finished with value: 0.6954955692340078 and parameters: {'hidden_layer_sizes': 89, 'activation': 'relu', 'solver': 'adam', 'alpha': 0.7827337468161791, 'learning_rate_init': 0.0007138575926878063, 'max_iter': 190, 'random_state': 17}. Best is trial 24 with value: 0.6908214709996872.\n",
      "[I 2024-05-27 12:33:38,054] Trial 52 finished with value: 0.7015008474820374 and parameters: {'hidden_layer_sizes': 91, 'activation': 'relu', 'solver': 'adam', 'alpha': 0.737823819824196, 'learning_rate_init': 0.001013711601792926, 'max_iter': 195, 'random_state': 17}. Best is trial 24 with value: 0.6908214709996872.\n",
      "[I 2024-05-27 12:33:57,513] Trial 53 finished with value: 0.6980261181092491 and parameters: {'hidden_layer_sizes': 85, 'activation': 'relu', 'solver': 'adam', 'alpha': 0.6247335901404637, 'learning_rate_init': 0.0007361403175235306, 'max_iter': 199, 'random_state': 17}. Best is trial 24 with value: 0.6908214709996872.\n",
      "[I 2024-05-27 12:34:11,036] Trial 54 finished with value: 0.6982513825838225 and parameters: {'hidden_layer_sizes': 70, 'activation': 'relu', 'solver': 'adam', 'alpha': 0.8137333608338619, 'learning_rate_init': 0.0012805843670801334, 'max_iter': 183, 'random_state': 17}. Best is trial 24 with value: 0.6908214709996872.\n",
      "[I 2024-05-27 12:34:24,856] Trial 55 finished with value: 0.70529226170327 and parameters: {'hidden_layer_sizes': 57, 'activation': 'relu', 'solver': 'adam', 'alpha': 0.5308743252704103, 'learning_rate_init': 0.0010694555010671656, 'max_iter': 168, 'random_state': 17}. Best is trial 24 with value: 0.6908214709996872.\n",
      "[I 2024-05-27 12:34:37,223] Trial 56 finished with value: 0.7005288399103752 and parameters: {'hidden_layer_sizes': 79, 'activation': 'relu', 'solver': 'adam', 'alpha': 0.9351520053260094, 'learning_rate_init': 0.0008438638664904118, 'max_iter': 140, 'random_state': 17}. Best is trial 24 with value: 0.6908214709996872.\n",
      "[I 2024-05-27 12:34:59,314] Trial 57 finished with value: 0.6951498386116151 and parameters: {'hidden_layer_sizes': 124, 'activation': 'relu', 'solver': 'adam', 'alpha': 0.45826481555975085, 'learning_rate_init': 0.000500373654089594, 'max_iter': 212, 'random_state': 17}. Best is trial 24 with value: 0.6908214709996872.\n",
      "[I 2024-05-27 12:35:21,572] Trial 58 finished with value: 0.7377295870148289 and parameters: {'hidden_layer_sizes': 125, 'activation': 'relu', 'solver': 'sgd', 'alpha': 0.41296567467802436, 'learning_rate_init': 0.0005093576610694489, 'max_iter': 216, 'random_state': 17}. Best is trial 24 with value: 0.6908214709996872.\n",
      "[I 2024-05-27 12:35:41,710] Trial 59 finished with value: 0.6997859903434211 and parameters: {'hidden_layer_sizes': 133, 'activation': 'relu', 'solver': 'adam', 'alpha': 0.7437483178467424, 'learning_rate_init': 0.000616536123874888, 'max_iter': 226, 'random_state': 17}. Best is trial 24 with value: 0.6908214709996872.\n",
      "[I 2024-05-27 12:35:59,692] Trial 60 finished with value: 0.7183237544845863 and parameters: {'hidden_layer_sizes': 89, 'activation': 'tanh', 'solver': 'adam', 'alpha': 0.6671208714882542, 'learning_rate_init': 0.0007910114444220487, 'max_iter': 204, 'random_state': 17}. Best is trial 24 with value: 0.6908214709996872.\n",
      "[I 2024-05-27 12:36:15,952] Trial 61 finished with value: 0.6984682831058027 and parameters: {'hidden_layer_sizes': 121, 'activation': 'relu', 'solver': 'adam', 'alpha': 0.49455451947667006, 'learning_rate_init': 0.0010068750987863675, 'max_iter': 161, 'random_state': 17}. Best is trial 24 with value: 0.6908214709996872.\n",
      "[I 2024-05-27 12:36:32,664] Trial 62 finished with value: 0.7062416407700389 and parameters: {'hidden_layer_sizes': 129, 'activation': 'relu', 'solver': 'adam', 'alpha': 0.5711175145151188, 'learning_rate_init': 0.0011502603625251774, 'max_iter': 177, 'random_state': 17}. Best is trial 24 with value: 0.6908214709996872.\n",
      "[I 2024-05-27 12:36:51,695] Trial 63 finished with value: 0.6998403695257505 and parameters: {'hidden_layer_sizes': 114, 'activation': 'relu', 'solver': 'adam', 'alpha': 0.3380984037418005, 'learning_rate_init': 0.0006973100529828229, 'max_iter': 187, 'random_state': 17}. Best is trial 24 with value: 0.6908214709996872.\n",
      "[I 2024-05-27 12:37:03,743] Trial 64 finished with value: 0.7047929912431289 and parameters: {'hidden_layer_sizes': 110, 'activation': 'relu', 'solver': 'adam', 'alpha': 0.8603838515240139, 'learning_rate_init': 0.0013421274166684415, 'max_iter': 236, 'random_state': 17}. Best is trial 24 with value: 0.6908214709996872.\n",
      "[I 2024-05-27 12:37:20,890] Trial 65 finished with value: 0.6968585505332175 and parameters: {'hidden_layer_sizes': 102, 'activation': 'relu', 'solver': 'adam', 'alpha': 0.49860591939081766, 'learning_rate_init': 0.000878214175346666, 'max_iter': 174, 'random_state': 17}. Best is trial 24 with value: 0.6908214709996872.\n",
      "[I 2024-05-27 12:37:38,984] Trial 66 finished with value: 0.7078698452124703 and parameters: {'hidden_layer_sizes': 101, 'activation': 'relu', 'solver': 'adam', 'alpha': 0.7577645717029585, 'learning_rate_init': 0.0008549056259095177, 'max_iter': 192, 'random_state': 17}. Best is trial 24 with value: 0.6908214709996872.\n",
      "[I 2024-05-27 12:37:56,008] Trial 67 finished with value: 0.7013123697431629 and parameters: {'hidden_layer_sizes': 97, 'activation': 'relu', 'solver': 'adam', 'alpha': 0.6315488861896243, 'learning_rate_init': 0.000506658226679012, 'max_iter': 165, 'random_state': 17}. Best is trial 24 with value: 0.6908214709996872.\n",
      "[I 2024-05-27 12:38:16,062] Trial 68 finished with value: 0.7141594937573406 and parameters: {'hidden_layer_sizes': 108, 'activation': 'relu', 'solver': 'sgd', 'alpha': 0.6927325294169536, 'learning_rate_init': 0.001781573539323347, 'max_iter': 212, 'random_state': 17}. Best is trial 24 with value: 0.6908214709996872.\n",
      "[I 2024-05-27 12:38:35,033] Trial 69 finished with value: 0.6944537444551969 and parameters: {'hidden_layer_sizes': 143, 'activation': 'relu', 'solver': 'adam', 'alpha': 0.4796480507853151, 'learning_rate_init': 0.0006388443478059006, 'max_iter': 174, 'random_state': 17}. Best is trial 24 with value: 0.6908214709996872.\n",
      "[I 2024-05-27 12:38:54,636] Trial 70 finished with value: 0.6977295539179372 and parameters: {'hidden_layer_sizes': 145, 'activation': 'relu', 'solver': 'adam', 'alpha': 0.600203055956689, 'learning_rate_init': 0.0006435545467892161, 'max_iter': 181, 'random_state': 17}. Best is trial 24 with value: 0.6908214709996872.\n",
      "[I 2024-05-27 12:39:10,982] Trial 71 finished with value: 0.6961412865387318 and parameters: {'hidden_layer_sizes': 142, 'activation': 'relu', 'solver': 'adam', 'alpha': 0.45762559073078374, 'learning_rate_init': 0.0009586482347868987, 'max_iter': 173, 'random_state': 17}. Best is trial 24 with value: 0.6908214709996872.\n",
      "[I 2024-05-27 12:39:24,770] Trial 72 finished with value: 0.6976536259550211 and parameters: {'hidden_layer_sizes': 142, 'activation': 'relu', 'solver': 'adam', 'alpha': 0.4455118593120621, 'learning_rate_init': 0.0011836717630362768, 'max_iter': 173, 'random_state': 17}. Best is trial 24 with value: 0.6908214709996872.\n",
      "[I 2024-05-27 12:39:43,330] Trial 73 finished with value: 0.7011366774731128 and parameters: {'hidden_layer_sizes': 133, 'activation': 'relu', 'solver': 'adam', 'alpha': 0.3583677069216856, 'learning_rate_init': 0.0009953153896040887, 'max_iter': 186, 'random_state': 17}. Best is trial 24 with value: 0.6908214709996872.\n",
      "[I 2024-05-27 12:40:00,586] Trial 74 finished with value: 0.7053532855812976 and parameters: {'hidden_layer_sizes': 144, 'activation': 'relu', 'solver': 'adam', 'alpha': 0.25740956410142124, 'learning_rate_init': 0.0007472506415738829, 'max_iter': 158, 'random_state': 17}. Best is trial 24 with value: 0.6908214709996872.\n",
      "[I 2024-05-27 12:40:16,286] Trial 75 finished with value: 0.7089107575801842 and parameters: {'hidden_layer_sizes': 148, 'activation': 'relu', 'solver': 'adam', 'alpha': 0.5331045478616925, 'learning_rate_init': 0.0014186079848010071, 'max_iter': 150, 'random_state': 17}. Best is trial 24 with value: 0.6908214709996872.\n",
      "[I 2024-05-27 12:40:33,485] Trial 76 finished with value: 0.7080072648825035 and parameters: {'hidden_layer_sizes': 138, 'activation': 'relu', 'solver': 'adam', 'alpha': 0.4394050040031066, 'learning_rate_init': 0.0011062710794863288, 'max_iter': 164, 'random_state': 17}. Best is trial 24 with value: 0.6908214709996872.\n",
      "[I 2024-05-27 12:40:51,335] Trial 77 finished with value: 0.7145581536532103 and parameters: {'hidden_layer_sizes': 134, 'activation': 'tanh', 'solver': 'adam', 'alpha': 0.29962457496088, 'learning_rate_init': 0.0006114171349882122, 'max_iter': 170, 'random_state': 17}. Best is trial 24 with value: 0.6908214709996872.\n",
      "[I 2024-05-27 12:41:10,168] Trial 78 finished with value: 0.7033016841547151 and parameters: {'hidden_layer_sizes': 131, 'activation': 'relu', 'solver': 'adam', 'alpha': 0.36808998440553564, 'learning_rate_init': 0.0009315176366695656, 'max_iter': 176, 'random_state': 17}. Best is trial 24 with value: 0.6908214709996872.\n",
      "[I 2024-05-27 12:41:22,162] Trial 79 finished with value: 0.7140091085711532 and parameters: {'hidden_layer_sizes': 146, 'activation': 'relu', 'solver': 'adam', 'alpha': 0.47601558026133134, 'learning_rate_init': 0.001570643242215708, 'max_iter': 195, 'random_state': 17}. Best is trial 24 with value: 0.6908214709996872.\n",
      "[I 2024-05-27 12:41:39,071] Trial 80 finished with value: 0.7077912388141993 and parameters: {'hidden_layer_sizes': 141, 'activation': 'relu', 'solver': 'adam', 'alpha': 0.5856863147583242, 'learning_rate_init': 0.0012122993599362982, 'max_iter': 202, 'random_state': 17}. Best is trial 24 with value: 0.6908214709996872.\n",
      "[I 2024-05-27 12:41:57,019] Trial 81 finished with value: 0.7032237503160076 and parameters: {'hidden_layer_sizes': 93, 'activation': 'relu', 'solver': 'adam', 'alpha': 0.4870221367565817, 'learning_rate_init': 0.0008146720346452397, 'max_iter': 174, 'random_state': 17}. Best is trial 24 with value: 0.6908214709996872.\n",
      "[I 2024-05-27 12:42:15,095] Trial 82 finished with value: 0.7049075468971167 and parameters: {'hidden_layer_sizes': 104, 'activation': 'relu', 'solver': 'adam', 'alpha': 0.5193395030012392, 'learning_rate_init': 0.0008529846060276536, 'max_iter': 180, 'random_state': 17}. Best is trial 24 with value: 0.6908214709996872.\n",
      "[I 2024-05-27 12:42:30,888] Trial 83 finished with value: 0.6940551721776973 and parameters: {'hidden_layer_sizes': 137, 'activation': 'relu', 'solver': 'adam', 'alpha': 0.6503365772860737, 'learning_rate_init': 0.0009592161174761193, 'max_iter': 171, 'random_state': 17}. Best is trial 24 with value: 0.6908214709996872.\n",
      "[I 2024-05-27 12:42:50,586] Trial 84 finished with value: 0.6943026491463787 and parameters: {'hidden_layer_sizes': 137, 'activation': 'relu', 'solver': 'adam', 'alpha': 0.7801274278666932, 'learning_rate_init': 0.0005956818531897357, 'max_iter': 167, 'random_state': 17}. Best is trial 24 with value: 0.6908214709996872.\n",
      "[I 2024-05-27 12:43:08,710] Trial 85 finished with value: 0.6976294023614245 and parameters: {'hidden_layer_sizes': 126, 'activation': 'relu', 'solver': 'adam', 'alpha': 0.8402684089061536, 'learning_rate_init': 0.0005955302536321738, 'max_iter': 161, 'random_state': 17}. Best is trial 24 with value: 0.6908214709996872.\n",
      "[I 2024-05-27 12:43:26,160] Trial 86 finished with value: 0.7319366171364622 and parameters: {'hidden_layer_sizes': 137, 'activation': 'relu', 'solver': 'sgd', 'alpha': 0.7759148445490454, 'learning_rate_init': 0.0007021215913686887, 'max_iter': 166, 'random_state': 17}. Best is trial 24 with value: 0.6908214709996872.\n",
      "[I 2024-05-27 12:43:44,755] Trial 87 finished with value: 0.6924126258650373 and parameters: {'hidden_layer_sizes': 122, 'activation': 'relu', 'solver': 'adam', 'alpha': 0.655579638027029, 'learning_rate_init': 0.0006054148024579364, 'max_iter': 190, 'random_state': 17}. Best is trial 24 with value: 0.6908214709996872.\n",
      "[I 2024-05-27 12:44:00,725] Trial 88 finished with value: 0.7267194379091007 and parameters: {'hidden_layer_sizes': 123, 'activation': 'tanh', 'solver': 'adam', 'alpha': 0.6603364184425613, 'learning_rate_init': 0.00055634484278699, 'max_iter': 153, 'random_state': 17}. Best is trial 24 with value: 0.6908214709996872.\n",
      "[I 2024-05-27 12:44:15,935] Trial 89 finished with value: 0.6997638683549361 and parameters: {'hidden_layer_sizes': 121, 'activation': 'relu', 'solver': 'adam', 'alpha': 0.7201604205737295, 'learning_rate_init': 0.0010846640206583625, 'max_iter': 183, 'random_state': 17}. Best is trial 24 with value: 0.6908214709996872.\n",
      "[I 2024-05-27 12:44:33,639] Trial 90 finished with value: 0.7006169271373963 and parameters: {'hidden_layer_sizes': 131, 'activation': 'relu', 'solver': 'adam', 'alpha': 0.6737160498012972, 'learning_rate_init': 0.0007836277214727925, 'max_iter': 168, 'random_state': 17}. Best is trial 24 with value: 0.6908214709996872.\n",
      "[I 2024-05-27 12:44:54,087] Trial 91 finished with value: 0.6938127280150888 and parameters: {'hidden_layer_sizes': 128, 'activation': 'relu', 'solver': 'adam', 'alpha': 0.8002369687194537, 'learning_rate_init': 0.0006292406127089453, 'max_iter': 190, 'random_state': 17}. Best is trial 24 with value: 0.6908214709996872.\n",
      "[I 2024-05-27 12:45:16,061] Trial 92 finished with value: 0.6935726761652761 and parameters: {'hidden_layer_sizes': 128, 'activation': 'relu', 'solver': 'adam', 'alpha': 0.6093293357076087, 'learning_rate_init': 0.0006438005215219587, 'max_iter': 208, 'random_state': 17}. Best is trial 24 with value: 0.6908214709996872.\n",
      "[I 2024-05-27 12:45:38,962] Trial 93 finished with value: 0.6949773915888222 and parameters: {'hidden_layer_sizes': 128, 'activation': 'relu', 'solver': 'adam', 'alpha': 0.8177742623462569, 'learning_rate_init': 0.000501635925138715, 'max_iter': 219, 'random_state': 17}. Best is trial 24 with value: 0.6908214709996872.\n",
      "[I 2024-05-27 12:46:00,498] Trial 94 finished with value: 0.6947905468348954 and parameters: {'hidden_layer_sizes': 128, 'activation': 'relu', 'solver': 'adam', 'alpha': 0.9231576612919588, 'learning_rate_init': 0.0006727130634374674, 'max_iter': 223, 'random_state': 17}. Best is trial 24 with value: 0.6908214709996872.\n",
      "[I 2024-05-27 12:46:22,187] Trial 95 finished with value: 0.6954689913826029 and parameters: {'hidden_layer_sizes': 132, 'activation': 'relu', 'solver': 'adam', 'alpha': 0.9131637782332819, 'learning_rate_init': 0.0006094440478591022, 'max_iter': 240, 'random_state': 17}. Best is trial 24 with value: 0.6908214709996872.\n",
      "[I 2024-05-27 12:46:41,108] Trial 96 finished with value: 0.6971284369147608 and parameters: {'hidden_layer_sizes': 117, 'activation': 'relu', 'solver': 'adam', 'alpha': 0.8559190019626622, 'learning_rate_init': 0.0006887450159828146, 'max_iter': 231, 'random_state': 17}. Best is trial 24 with value: 0.6908214709996872.\n",
      "[I 2024-05-27 12:47:00,287] Trial 97 finished with value: 0.7018501724025781 and parameters: {'hidden_layer_sizes': 135, 'activation': 'relu', 'solver': 'adam', 'alpha': 0.7636834861830677, 'learning_rate_init': 0.0007945958054122515, 'max_iter': 207, 'random_state': 17}. Best is trial 24 with value: 0.6908214709996872.\n",
      "[I 2024-05-27 12:47:16,494] Trial 98 finished with value: 0.6948647404923023 and parameters: {'hidden_layer_sizes': 128, 'activation': 'relu', 'solver': 'adam', 'alpha': 0.9378688114727463, 'learning_rate_init': 0.0009698817194040395, 'max_iter': 197, 'random_state': 17}. Best is trial 24 with value: 0.6908214709996872.\n",
      "[I 2024-05-27 12:47:34,195] Trial 99 finished with value: 0.7005570804078112 and parameters: {'hidden_layer_sizes': 121, 'activation': 'relu', 'solver': 'adam', 'alpha': 0.7283495174919119, 'learning_rate_init': 0.0009077737469363018, 'max_iter': 222, 'random_state': 17}. Best is trial 24 with value: 0.6908214709996872.\n"
     ]
    }
   ],
   "source": [
    "params_dict = {\n",
    "    \"hidden_layer_sizes\": (\"int\", [50, 150]),\n",
    "    \"activation\": (\"categorical\", [\"tanh\", \"relu\"]),\n",
    "    \"solver\": (\"categorical\", [\"sgd\", \"adam\"]),\n",
    "    \"alpha\": (\"float\", [0.05, 2]),\n",
    "    \"learning_rate_init\": (\"float\", [0.0005, 0.005]),\n",
    "    \"max_iter\": (\"int\", [100, 250]),\n",
    "    \"random_state\": (\"constant\", SEED),\n",
    "}\n",
    "CV = RandomSearchCV(\n",
    "    algorithm=MLPRegressor(random_state=SEED),\n",
    "    metric=\"rmse\",\n",
    "    cv=KFold(n_splits=5, shuffle=True, random_state=SEED),\n",
    "    n_trials=100,\n",
    "    seed=SEED,\n",
    ")\n",
    "train_data_scaled = train_data_transformations.copy()\n",
    "train_data_scaled[features_to_scale] = scaler.fit_transform(train_data_scaled[features_to_scale])\n",
    "train_data_scaled[target] = scaler.fit_transform(train_data_scaled[target].values.reshape(-1, 1)).ravel()\n",
    "best_params = CV.tune(train_data_scaled[subset], train_data_scaled[target], params_dict)"
   ]
  },
  {
   "cell_type": "code",
   "execution_count": 27,
   "metadata": {},
   "outputs": [
    {
     "data": {
      "text/html": [
       "<style type=\"text/css\">\n",
       "#T_ccc10_row0_col1, #T_ccc10_row1_col2, #T_ccc10_row1_col3 {\n",
       "  background-color: #fff5f0;\n",
       "  color: #000000;\n",
       "}\n",
       "#T_ccc10_row0_col2, #T_ccc10_row0_col3, #T_ccc10_row1_col1 {\n",
       "  background-color: #67000d;\n",
       "  color: #f1f1f1;\n",
       "}\n",
       "</style>\n",
       "<table id=\"T_ccc10\">\n",
       "  <thead>\n",
       "    <tr>\n",
       "      <th class=\"blank level0\" >&nbsp;</th>\n",
       "      <th id=\"T_ccc10_level0_col0\" class=\"col_heading level0 col0\" >Model</th>\n",
       "      <th id=\"T_ccc10_level0_col1\" class=\"col_heading level0 col1\" >Train RMSE</th>\n",
       "      <th id=\"T_ccc10_level0_col2\" class=\"col_heading level0 col2\" >Validation RMSE</th>\n",
       "      <th id=\"T_ccc10_level0_col3\" class=\"col_heading level0 col3\" >Test RMSE</th>\n",
       "    </tr>\n",
       "  </thead>\n",
       "  <tbody>\n",
       "    <tr>\n",
       "      <th id=\"T_ccc10_level0_row0\" class=\"row_heading level0 row0\" >0</th>\n",
       "      <td id=\"T_ccc10_row0_col0\" class=\"data row0 col0\" >Base</td>\n",
       "      <td id=\"T_ccc10_row0_col1\" class=\"data row0 col1\" >0.142961</td>\n",
       "      <td id=\"T_ccc10_row0_col2\" class=\"data row0 col2\" >0.219808</td>\n",
       "      <td id=\"T_ccc10_row0_col3\" class=\"data row0 col3\" >0.224677</td>\n",
       "    </tr>\n",
       "    <tr>\n",
       "      <th id=\"T_ccc10_level0_row1\" class=\"row_heading level0 row1\" >1</th>\n",
       "      <td id=\"T_ccc10_row1_col0\" class=\"data row1 col0\" >Tuning</td>\n",
       "      <td id=\"T_ccc10_row1_col1\" class=\"data row1 col1\" >0.173332</td>\n",
       "      <td id=\"T_ccc10_row1_col2\" class=\"data row1 col2\" >0.207850</td>\n",
       "      <td id=\"T_ccc10_row1_col3\" class=\"data row1 col3\" >0.209427</td>\n",
       "    </tr>\n",
       "  </tbody>\n",
       "</table>\n"
      ],
      "text/plain": [
       "<pandas.io.formats.style.Styler at 0x212717b35d0>"
      ]
     },
     "execution_count": 27,
     "metadata": {},
     "output_type": "execute_result"
    }
   ],
   "source": [
    "#Model bazowy\n",
    "model = MLPRegressor(random_state=SEED)\n",
    "base_train_scores, base_validation_scores = perform_cv_scaling(train_data_transformations[subset], train_data_transformations[target], model, scaler=scaler, features_to_scale=features_to_scale, target_to_scale=True)\n",
    "base_test_score = test_evaluation_scaling(train_data_transformations[subset], train_data_transformations[target], test_data_transformations[subset], test_data_transformations[target], model, scaler=scaler, features_to_scale=features_to_scale, target_to_scale=True)\n",
    "#Tuning\n",
    "model = MLPRegressor(**best_params)\n",
    "tuning_train_scores, tuning_validation_scores = perform_cv_scaling(train_data_transformations[subset], train_data_transformations[target], model, scaler=scaler, features_to_scale=features_to_scale, target_to_scale=True)\n",
    "tuning_test_score = test_evaluation_scaling(train_data_transformations[subset], train_data_transformations[target], test_data_transformations[subset], test_data_transformations[target], model, scaler=scaler, features_to_scale=features_to_scale, target_to_scale=True)\n",
    "results = pd.DataFrame({\n",
    "    \"Model\": [\"Base\", \"Tuning\"],\n",
    "    \"Train RMSE\": [base_train_scores, tuning_train_scores],\n",
    "    \"Validation RMSE\": [base_validation_scores, tuning_validation_scores],\n",
    "    \"Test RMSE\": [base_test_score, tuning_test_score]\n",
    "})\n",
    "results.style.background_gradient(cmap='Reds', axis=0)"
   ]
  },
  {
   "cell_type": "code",
   "execution_count": 30,
   "metadata": {},
   "outputs": [],
   "source": [
    "def evaluation_scaling(X_train: pd.DataFrame, y_train: pd.Series, X_test: pd.DataFrame, y_test: pd.Series, algorithm: typing.Any, metric: typing.Any = mean_squared_error, scaler: typing.Any = StandardScaler(), features_to_scale: typing.List[str] = None, target_to_scale: bool = False) -> typing.Tuple[float, float, np.ndarray]:\n",
    "    \"\"\"\n",
    "    Train the algorithm on the train data and evaluate on the train and test data\n",
    "    \n",
    "    Args:\n",
    "        X_train (pd.DataFrame): input train data\n",
    "        y_train (pd.Series): target train data\n",
    "        X_test (pd.DataFrame): input test data\n",
    "        y_test (pd.Series): target test data\n",
    "        algorithm (typing.Any): algorithm to use for training and prediction\n",
    "        metric (typing.Any): metric to use for evaluation.\n",
    "        scaler (typing.Any): scaler to use for scaling\n",
    "        features_to_scale (typing.List[str]): list of features to scale\n",
    "        target_to_scale (bool): whether to scale target data\n",
    "    \n",
    "    Returns:\n",
    "        typing.Tuple[float, float, np.ndarray]: train_score, test_score, predictions on test data\n",
    "    \"\"\"\n",
    "    X_train[features_to_scale] = scaler.fit_transform(X_train[features_to_scale])\n",
    "    X_test[features_to_scale] = scaler.transform(X_test[features_to_scale])\n",
    "    if target_to_scale:\n",
    "        y_train = scaler.fit_transform(y_train.values.reshape(-1, 1)).ravel()\n",
    "        y_test = scaler.transform(y_test.values.reshape(-1, 1)).ravel()\n",
    "    algorithm.fit(X_train, y_train)\n",
    "    y_train_pred = algorithm.predict(X_train)\n",
    "    y_test_pred = algorithm.predict(X_test)\n",
    "    if target_to_scale:\n",
    "        y_train = scaler.inverse_transform(y_train.reshape(-1, 1)).ravel()\n",
    "        y_train_pred = scaler.inverse_transform(y_train_pred.reshape(-1, 1)).ravel()\n",
    "        y_test = scaler.inverse_transform(y_test.reshape(-1, 1)).ravel()\n",
    "        y_test_pred = scaler.inverse_transform(y_test_pred.reshape(-1, 1)).ravel()\n",
    "    train_results = metric(y_train, y_train_pred, squared=False)\n",
    "    test_results = metric(y_test, y_test_pred, squared=False)\n",
    "    return train_results, test_results, y_test_pred"
   ]
  },
  {
   "cell_type": "code",
   "execution_count": 33,
   "metadata": {},
   "outputs": [],
   "source": [
    "#Zapisanie modelu\n",
    "import pickle\n",
    "test_indices = test_data.index\n",
    "model = MLPRegressor(**best_params)\n",
    "train_results, test_results, y_test_pred = evaluation_scaling(train_data_transformations[subset], train_data_transformations[target], test_data_transformations[subset], test_data_transformations[target], model, scaler=scaler, features_to_scale=features_to_scale, target_to_scale=True)\n",
    "model_MLP = {\n",
    "    \"name\": \"MLP\",\n",
    "    \"trainResults\": train_results,\n",
    "    \"testResults\": test_results,\n",
    "    \"predictions\": y_test_pred,\n",
    "    \"indices\": test_indices,\n",
    "}\n",
    "with open(\"../data/model_MLP.p\", \"wb\") as fp:\n",
    "    pickle.dump(model_MLP, fp)"
   ]
  },
  {
   "cell_type": "markdown",
   "metadata": {},
   "source": [
    "$\\text{Optymalizacja hiperparametrów modelu pozwoliła na uzyskanie lepszych wyników na zbiorze walidacyjnym oraz testowym.}$"
   ]
  }
 ],
 "metadata": {
  "kernelspec": {
   "display_name": "Python 3",
   "language": "python",
   "name": "python3"
  },
  "language_info": {
   "codemirror_mode": {
    "name": "ipython",
    "version": 3
   },
   "file_extension": ".py",
   "mimetype": "text/x-python",
   "name": "python",
   "nbconvert_exporter": "python",
   "pygments_lexer": "ipython3",
   "version": "3.11.3"
  }
 },
 "nbformat": 4,
 "nbformat_minor": 2
}
