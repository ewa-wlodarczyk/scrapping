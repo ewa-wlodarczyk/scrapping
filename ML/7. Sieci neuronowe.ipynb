{
 "cells": [
  {
   "cell_type": "markdown",
   "metadata": {},
   "source": [
    "# Import bibliotek"
   ]
  },
  {
   "cell_type": "code",
   "execution_count": 1,
   "metadata": {},
   "outputs": [],
   "source": [
    "import pandas as pd\n",
    "import numpy as np\n",
    "from sklearn.neural_network import MLPRegressor\n",
    "from sklearn.metrics import *\n",
    "from sklearn.feature_selection import mutual_info_regression\n",
    "from sklearn.model_selection import train_test_split, KFold\n",
    "from  sklearn.preprocessing import StandardScaler, MinMaxScaler, RobustScaler, QuantileTransformer\n",
    "import optuna\n",
    "import typing\n",
    "import plotly.graph_objs as go\n",
    "import itertools\n",
    "import warnings\n",
    "from scipy.special import digamma\n",
    "from sklearn.neighbors import NearestNeighbors, KDTree\n",
    "warnings.filterwarnings('ignore')\n",
    "SEED = 17"
   ]
  },
  {
   "cell_type": "markdown",
   "metadata": {},
   "source": [
    "# Ładowanie danych"
   ]
  },
  {
   "cell_type": "code",
   "execution_count": 2,
   "metadata": {},
   "outputs": [
    {
     "data": {
      "text/html": [
       "<div>\n",
       "<style scoped>\n",
       "    .dataframe tbody tr th:only-of-type {\n",
       "        vertical-align: middle;\n",
       "    }\n",
       "\n",
       "    .dataframe tbody tr th {\n",
       "        vertical-align: top;\n",
       "    }\n",
       "\n",
       "    .dataframe thead th {\n",
       "        text-align: right;\n",
       "    }\n",
       "</style>\n",
       "<table border=\"1\" class=\"dataframe\">\n",
       "  <thead>\n",
       "    <tr style=\"text-align: right;\">\n",
       "      <th></th>\n",
       "      <th>pages</th>\n",
       "      <th>stars</th>\n",
       "      <th>reviews</th>\n",
       "      <th>series</th>\n",
       "      <th>mix</th>\n",
       "      <th>character</th>\n",
       "      <th>plot</th>\n",
       "      <th>funny</th>\n",
       "      <th>lighthearted</th>\n",
       "      <th>emotional</th>\n",
       "      <th>...</th>\n",
       "      <th>author_stars</th>\n",
       "      <th>Fiction</th>\n",
       "      <th>Nonfiction</th>\n",
       "      <th>Literary</th>\n",
       "      <th>Fantasy</th>\n",
       "      <th>Crime</th>\n",
       "      <th>Social</th>\n",
       "      <th>Children</th>\n",
       "      <th>Romans</th>\n",
       "      <th>Realism</th>\n",
       "    </tr>\n",
       "  </thead>\n",
       "  <tbody>\n",
       "    <tr>\n",
       "      <th>0</th>\n",
       "      <td>273</td>\n",
       "      <td>4.00</td>\n",
       "      <td>2017</td>\n",
       "      <td>0</td>\n",
       "      <td>0.44</td>\n",
       "      <td>0.51</td>\n",
       "      <td>0.02</td>\n",
       "      <td>0.27</td>\n",
       "      <td>0.37</td>\n",
       "      <td>0.91</td>\n",
       "      <td>...</td>\n",
       "      <td>4.305000</td>\n",
       "      <td>1</td>\n",
       "      <td>1</td>\n",
       "      <td>0</td>\n",
       "      <td>0</td>\n",
       "      <td>0</td>\n",
       "      <td>1</td>\n",
       "      <td>0</td>\n",
       "      <td>1</td>\n",
       "      <td>1</td>\n",
       "    </tr>\n",
       "    <tr>\n",
       "      <th>1</th>\n",
       "      <td>302</td>\n",
       "      <td>3.78</td>\n",
       "      <td>7330</td>\n",
       "      <td>0</td>\n",
       "      <td>0.39</td>\n",
       "      <td>0.42</td>\n",
       "      <td>0.17</td>\n",
       "      <td>0.03</td>\n",
       "      <td>0.01</td>\n",
       "      <td>0.18</td>\n",
       "      <td>...</td>\n",
       "      <td>3.670000</td>\n",
       "      <td>1</td>\n",
       "      <td>0</td>\n",
       "      <td>0</td>\n",
       "      <td>0</td>\n",
       "      <td>1</td>\n",
       "      <td>0</td>\n",
       "      <td>0</td>\n",
       "      <td>0</td>\n",
       "      <td>0</td>\n",
       "    </tr>\n",
       "    <tr>\n",
       "      <th>2</th>\n",
       "      <td>400</td>\n",
       "      <td>4.15</td>\n",
       "      <td>16761</td>\n",
       "      <td>0</td>\n",
       "      <td>0.51</td>\n",
       "      <td>0.39</td>\n",
       "      <td>0.08</td>\n",
       "      <td>0.02</td>\n",
       "      <td>0.01</td>\n",
       "      <td>0.88</td>\n",
       "      <td>...</td>\n",
       "      <td>0.000000</td>\n",
       "      <td>1</td>\n",
       "      <td>0</td>\n",
       "      <td>1</td>\n",
       "      <td>0</td>\n",
       "      <td>0</td>\n",
       "      <td>0</td>\n",
       "      <td>0</td>\n",
       "      <td>0</td>\n",
       "      <td>0</td>\n",
       "    </tr>\n",
       "    <tr>\n",
       "      <th>3</th>\n",
       "      <td>459</td>\n",
       "      <td>4.16</td>\n",
       "      <td>2128</td>\n",
       "      <td>1</td>\n",
       "      <td>0.48</td>\n",
       "      <td>0.10</td>\n",
       "      <td>0.40</td>\n",
       "      <td>0.04</td>\n",
       "      <td>0.02</td>\n",
       "      <td>0.07</td>\n",
       "      <td>...</td>\n",
       "      <td>0.000000</td>\n",
       "      <td>1</td>\n",
       "      <td>0</td>\n",
       "      <td>0</td>\n",
       "      <td>1</td>\n",
       "      <td>0</td>\n",
       "      <td>0</td>\n",
       "      <td>0</td>\n",
       "      <td>0</td>\n",
       "      <td>0</td>\n",
       "    </tr>\n",
       "    <tr>\n",
       "      <th>4</th>\n",
       "      <td>160</td>\n",
       "      <td>3.65</td>\n",
       "      <td>6634</td>\n",
       "      <td>1</td>\n",
       "      <td>0.28</td>\n",
       "      <td>0.16</td>\n",
       "      <td>0.54</td>\n",
       "      <td>0.92</td>\n",
       "      <td>0.73</td>\n",
       "      <td>0.00</td>\n",
       "      <td>...</td>\n",
       "      <td>4.115000</td>\n",
       "      <td>1</td>\n",
       "      <td>0</td>\n",
       "      <td>0</td>\n",
       "      <td>1</td>\n",
       "      <td>0</td>\n",
       "      <td>0</td>\n",
       "      <td>0</td>\n",
       "      <td>0</td>\n",
       "      <td>0</td>\n",
       "    </tr>\n",
       "    <tr>\n",
       "      <th>...</th>\n",
       "      <td>...</td>\n",
       "      <td>...</td>\n",
       "      <td>...</td>\n",
       "      <td>...</td>\n",
       "      <td>...</td>\n",
       "      <td>...</td>\n",
       "      <td>...</td>\n",
       "      <td>...</td>\n",
       "      <td>...</td>\n",
       "      <td>...</td>\n",
       "      <td>...</td>\n",
       "      <td>...</td>\n",
       "      <td>...</td>\n",
       "      <td>...</td>\n",
       "      <td>...</td>\n",
       "      <td>...</td>\n",
       "      <td>...</td>\n",
       "      <td>...</td>\n",
       "      <td>...</td>\n",
       "      <td>...</td>\n",
       "      <td>...</td>\n",
       "    </tr>\n",
       "    <tr>\n",
       "      <th>6925</th>\n",
       "      <td>432</td>\n",
       "      <td>4.15</td>\n",
       "      <td>30643</td>\n",
       "      <td>0</td>\n",
       "      <td>0.48</td>\n",
       "      <td>0.05</td>\n",
       "      <td>0.46</td>\n",
       "      <td>0.00</td>\n",
       "      <td>0.00</td>\n",
       "      <td>0.40</td>\n",
       "      <td>...</td>\n",
       "      <td>3.856667</td>\n",
       "      <td>1</td>\n",
       "      <td>0</td>\n",
       "      <td>0</td>\n",
       "      <td>1</td>\n",
       "      <td>1</td>\n",
       "      <td>0</td>\n",
       "      <td>0</td>\n",
       "      <td>0</td>\n",
       "      <td>0</td>\n",
       "    </tr>\n",
       "    <tr>\n",
       "      <th>6926</th>\n",
       "      <td>352</td>\n",
       "      <td>3.62</td>\n",
       "      <td>1058</td>\n",
       "      <td>0</td>\n",
       "      <td>0.55</td>\n",
       "      <td>0.13</td>\n",
       "      <td>0.30</td>\n",
       "      <td>0.15</td>\n",
       "      <td>0.10</td>\n",
       "      <td>0.25</td>\n",
       "      <td>...</td>\n",
       "      <td>3.700000</td>\n",
       "      <td>1</td>\n",
       "      <td>0</td>\n",
       "      <td>0</td>\n",
       "      <td>1</td>\n",
       "      <td>0</td>\n",
       "      <td>1</td>\n",
       "      <td>0</td>\n",
       "      <td>0</td>\n",
       "      <td>0</td>\n",
       "    </tr>\n",
       "    <tr>\n",
       "      <th>6927</th>\n",
       "      <td>535</td>\n",
       "      <td>3.88</td>\n",
       "      <td>30975</td>\n",
       "      <td>1</td>\n",
       "      <td>0.45</td>\n",
       "      <td>0.08</td>\n",
       "      <td>0.45</td>\n",
       "      <td>0.14</td>\n",
       "      <td>0.19</td>\n",
       "      <td>0.31</td>\n",
       "      <td>...</td>\n",
       "      <td>3.870000</td>\n",
       "      <td>1</td>\n",
       "      <td>0</td>\n",
       "      <td>0</td>\n",
       "      <td>1</td>\n",
       "      <td>0</td>\n",
       "      <td>0</td>\n",
       "      <td>1</td>\n",
       "      <td>0</td>\n",
       "      <td>0</td>\n",
       "    </tr>\n",
       "    <tr>\n",
       "      <th>6928</th>\n",
       "      <td>472</td>\n",
       "      <td>3.88</td>\n",
       "      <td>5914</td>\n",
       "      <td>1</td>\n",
       "      <td>0.64</td>\n",
       "      <td>0.12</td>\n",
       "      <td>0.22</td>\n",
       "      <td>0.07</td>\n",
       "      <td>0.00</td>\n",
       "      <td>0.36</td>\n",
       "      <td>...</td>\n",
       "      <td>3.660000</td>\n",
       "      <td>1</td>\n",
       "      <td>0</td>\n",
       "      <td>0</td>\n",
       "      <td>1</td>\n",
       "      <td>0</td>\n",
       "      <td>0</td>\n",
       "      <td>1</td>\n",
       "      <td>0</td>\n",
       "      <td>0</td>\n",
       "    </tr>\n",
       "    <tr>\n",
       "      <th>6929</th>\n",
       "      <td>350</td>\n",
       "      <td>4.27</td>\n",
       "      <td>67909</td>\n",
       "      <td>0</td>\n",
       "      <td>0.37</td>\n",
       "      <td>0.56</td>\n",
       "      <td>0.05</td>\n",
       "      <td>0.74</td>\n",
       "      <td>0.28</td>\n",
       "      <td>0.78</td>\n",
       "      <td>...</td>\n",
       "      <td>4.315833</td>\n",
       "      <td>1</td>\n",
       "      <td>0</td>\n",
       "      <td>1</td>\n",
       "      <td>0</td>\n",
       "      <td>1</td>\n",
       "      <td>0</td>\n",
       "      <td>0</td>\n",
       "      <td>0</td>\n",
       "      <td>1</td>\n",
       "    </tr>\n",
       "  </tbody>\n",
       "</table>\n",
       "<p>6930 rows × 32 columns</p>\n",
       "</div>"
      ],
      "text/plain": [
       "      pages  stars  reviews  series   mix  character  plot  funny  \\\n",
       "0       273   4.00     2017       0  0.44       0.51  0.02   0.27   \n",
       "1       302   3.78     7330       0  0.39       0.42  0.17   0.03   \n",
       "2       400   4.15    16761       0  0.51       0.39  0.08   0.02   \n",
       "3       459   4.16     2128       1  0.48       0.10  0.40   0.04   \n",
       "4       160   3.65     6634       1  0.28       0.16  0.54   0.92   \n",
       "...     ...    ...      ...     ...   ...        ...   ...    ...   \n",
       "6925    432   4.15    30643       0  0.48       0.05  0.46   0.00   \n",
       "6926    352   3.62     1058       0  0.55       0.13  0.30   0.15   \n",
       "6927    535   3.88    30975       1  0.45       0.08  0.45   0.14   \n",
       "6928    472   3.88     5914       1  0.64       0.12  0.22   0.07   \n",
       "6929    350   4.27    67909       0  0.37       0.56  0.05   0.74   \n",
       "\n",
       "      lighthearted  emotional  ...  author_stars  Fiction  Nonfiction  \\\n",
       "0             0.37       0.91  ...      4.305000        1           1   \n",
       "1             0.01       0.18  ...      3.670000        1           0   \n",
       "2             0.01       0.88  ...      0.000000        1           0   \n",
       "3             0.02       0.07  ...      0.000000        1           0   \n",
       "4             0.73       0.00  ...      4.115000        1           0   \n",
       "...            ...        ...  ...           ...      ...         ...   \n",
       "6925          0.00       0.40  ...      3.856667        1           0   \n",
       "6926          0.10       0.25  ...      3.700000        1           0   \n",
       "6927          0.19       0.31  ...      3.870000        1           0   \n",
       "6928          0.00       0.36  ...      3.660000        1           0   \n",
       "6929          0.28       0.78  ...      4.315833        1           0   \n",
       "\n",
       "      Literary  Fantasy  Crime  Social  Children  Romans  Realism  \n",
       "0            0        0      0       1         0       1        1  \n",
       "1            0        0      1       0         0       0        0  \n",
       "2            1        0      0       0         0       0        0  \n",
       "3            0        1      0       0         0       0        0  \n",
       "4            0        1      0       0         0       0        0  \n",
       "...        ...      ...    ...     ...       ...     ...      ...  \n",
       "6925         0        1      1       0         0       0        0  \n",
       "6926         0        1      0       1         0       0        0  \n",
       "6927         0        1      0       0         1       0        0  \n",
       "6928         0        1      0       0         1       0        0  \n",
       "6929         1        0      1       0         0       0        1  \n",
       "\n",
       "[6930 rows x 32 columns]"
      ]
     },
     "execution_count": 2,
     "metadata": {},
     "output_type": "execute_result"
    }
   ],
   "source": [
    "data=pd.read_csv(\"../data/data_eda.csv\")\n",
    "data=data.drop(columns=['Unnamed: 0'])\n",
    "features=data.columns.tolist()\n",
    "features.remove('stars')\n",
    "target='stars'\n",
    "data"
   ]
  },
  {
   "cell_type": "markdown",
   "metadata": {},
   "source": [
    "$\\text{Podział danych na zbiór treningowy i testowy}$"
   ]
  },
  {
   "cell_type": "code",
   "execution_count": 3,
   "metadata": {},
   "outputs": [],
   "source": [
    "train_data, test_data = train_test_split(data, test_size=0.2, random_state=SEED)"
   ]
  },
  {
   "cell_type": "code",
   "execution_count": 4,
   "metadata": {},
   "outputs": [],
   "source": [
    "def perform_cv(X: pd.DataFrame, y: pd.Series, algorithm: typing.Any, cv: typing.Any = KFold(n_splits=5, shuffle=True, random_state=SEED), metric: typing.Any = mean_squared_error) -> typing.List[float]:\n",
    "    \"\"\"\n",
    "    Perform cross-validation and return list of scores\n",
    "    \n",
    "    Args:\n",
    "        X (pd.DataFrame): input data\n",
    "        y (pd.Series): target data\n",
    "        algorithm (typing.Any): algorithm to use for training and prediction\n",
    "        cv (typing.Any): cross-validation strategy\n",
    "        metric (typing.Any): metric to use for evaluation\n",
    "    \n",
    "    Returns:\n",
    "        typing.List[float]: list of scores in order: train_scores, validation_scores\n",
    "    \"\"\"\n",
    "    train_scores = []\n",
    "    validation_scores = []\n",
    "    for train_idx, val_idx in cv.split(X, y):\n",
    "        X_train, X_val = X.iloc[train_idx], X.iloc[val_idx]\n",
    "        y_train, y_val = y.iloc[train_idx], y.iloc[val_idx]\n",
    "        algorithm.fit(X_train, y_train)\n",
    "        y_train_pred = algorithm.predict(X_train)\n",
    "        y_val_pred = algorithm.predict(X_val)\n",
    "        train_scores.append(metric(y_train, y_train_pred, squared=False))\n",
    "        validation_scores.append(metric(y_val, y_val_pred, squared=False))\n",
    "    return np.mean(train_scores), np.mean(validation_scores)\n",
    "\n",
    "def test_evaluation(X_train: pd.DataFrame, y_train: pd.Series, X_test: pd.DataFrame, y_test: pd.Series, algorithm: typing.Any, metric: typing.Any = mean_squared_error) -> float:\n",
    "    \"\"\"\n",
    "    Train the algorithm on the train data and evaluate on the test data\n",
    "    \n",
    "    Args:\n",
    "        X_train (pd.DataFrame): input train data\n",
    "        y_train (pd.Series): target train data\n",
    "        X_test (pd.DataFrame): input test data\n",
    "        y_test (pd.Series): target test data\n",
    "        algorithm (typing.Any): algorithm to use for training and prediction\n",
    "        metric (typing.Any): metric to use for evaluation\n",
    "    \n",
    "    Returns:\n",
    "        float: test score\n",
    "    \"\"\"\n",
    "    algorithm.fit(X_train, y_train)\n",
    "    y_test_pred = algorithm.predict(X_test)\n",
    "    return metric(y_test, y_test_pred, squared=False)"
   ]
  },
  {
   "cell_type": "markdown",
   "metadata": {},
   "source": [
    "## Base score"
   ]
  },
  {
   "cell_type": "code",
   "execution_count": 5,
   "metadata": {},
   "outputs": [
    {
     "name": "stdout",
     "output_type": "stream",
     "text": [
      "Średni błąd RMSE na zbiorze treningowym: 2.16058\n",
      "Średni błąd RMSE na zbiorze walidacyjnym: 2.06503\n"
     ]
    }
   ],
   "source": [
    "model = MLPRegressor(random_state=SEED)\n",
    "train_scores, validation_scores = perform_cv(train_data[features], train_data[target], model)\n",
    "print(\"Średni błąd RMSE na zbiorze treningowym: {:.5f}\".format(train_scores))\n",
    "print(\"Średni błąd RMSE na zbiorze walidacyjnym: {:.5f}\".format(validation_scores))"
   ]
  },
  {
   "cell_type": "markdown",
   "metadata": {},
   "source": [
    "## Model z interakcjami"
   ]
  },
  {
   "cell_type": "code",
   "execution_count": 6,
   "metadata": {},
   "outputs": [
    {
     "name": "stdout",
     "output_type": "stream",
     "text": [
      "Średni błąd RMSE na zbiorze treningowym: 8010.13228\n",
      "Średni błąd RMSE na zbiorze walidacyjnym: 7178.18110\n"
     ]
    }
   ],
   "source": [
    "data_interactions=pd.read_csv(\"../data/data_interactions.csv\")\n",
    "data_interactions=data_interactions.drop(columns=['Unnamed: 0'])\n",
    "features_interactions=data_interactions.columns.tolist()\n",
    "features_interactions.remove('stars')\n",
    "train_data_interactions, test_data_interactions = train_test_split(data_interactions, test_size=0.2, random_state=SEED)\n",
    "model = MLPRegressor(random_state=SEED)\n",
    "train_scores, validation_scores = perform_cv(train_data_interactions[features_interactions], train_data_interactions[target], model)\n",
    "print(\"Średni błąd RMSE na zbiorze treningowym: {:.5f}\".format(train_scores))\n",
    "print(\"Średni błąd RMSE na zbiorze walidacyjnym: {:.5f}\".format(validation_scores))"
   ]
  },
  {
   "cell_type": "markdown",
   "metadata": {},
   "source": [
    "## Model z transformacją zmiennych"
   ]
  },
  {
   "cell_type": "code",
   "execution_count": 7,
   "metadata": {},
   "outputs": [
    {
     "name": "stdout",
     "output_type": "stream",
     "text": [
      "Średni błąd RMSE na zbiorze treningowym: 0.12664\n",
      "Średni błąd RMSE na zbiorze walidacyjnym: 0.24091\n"
     ]
    }
   ],
   "source": [
    "data_transformations=pd.read_csv(\"../data/data_feature_engineering.csv\")\n",
    "data_transformations=data_transformations.drop(columns=['Unnamed: 0'])\n",
    "features_transformations=data_transformations.columns.tolist()\n",
    "features_transformations.remove('stars')\n",
    "train_data_transformations, test_data_transformations = train_test_split(data_transformations, test_size=0.2, random_state=SEED)\n",
    "model = MLPRegressor(random_state=SEED)\n",
    "train_scores, validation_scores = perform_cv(train_data_transformations[features_transformations], train_data_transformations[target], model)\n",
    "print(\"Średni błąd RMSE na zbiorze treningowym: {:.5f}\".format(train_scores))\n",
    "print(\"Średni błąd RMSE na zbiorze walidacyjnym: {:.5f}\".format(validation_scores))"
   ]
  },
  {
   "cell_type": "markdown",
   "metadata": {},
   "source": [
    "$\\text{Wyniki dla modelu bazowego oraz modelu wykorzystując dane z interakcjami wyglądają bardzo słabo w porównaniu do pozostałych algorytmów.}$<p>\n",
    "$\\text{Warto jednak zaznaczyć, że w przypadku sieci neuronowych, podobnie jak w KNN, należy znormalizować dane, ponieważ algorytmy te są wrażliwe na skalę danych.}$<p>\n",
    "$\\text{Z tego powodu, zdecydowanie najlepsze rezultaty uzyskano dla modelu z transformacją zmiennych, który zostanie wykorzystany do dalszej optymalizacji.}$"
   ]
  },
  {
   "cell_type": "code",
   "execution_count": 8,
   "metadata": {},
   "outputs": [],
   "source": [
    "def perform_cv_scaling(X: pd.DataFrame, y: pd.Series, algorithm: typing.Any, cv: typing.Any = KFold(n_splits=5, shuffle=True, random_state=SEED), metric: typing.Any = mean_squared_error, scaler: typing.Any = StandardScaler(), features_to_scale: typing.List[str] = None, target_to_scale: bool = False) -> typing.List[float]:\n",
    "    \"\"\"\n",
    "    Perform cross-validation and return list of scores\n",
    "    \n",
    "    Args:\n",
    "        X (pd.DataFrame): input data\n",
    "        y (pd.Series): target data\n",
    "        algorithm (typing.Any): algorithm to use for training and prediction\n",
    "        cv (typing.Any): cross-validation strategy\n",
    "        metric (typing.Any): metric to use for evaluation\n",
    "        scaler (typing.Any): scaler to use for scaling\n",
    "        features_to_scale (typing.List[str]): list of features to scale\n",
    "        target_to_scale (bool): whether to scale target data\n",
    "    \n",
    "    Returns:\n",
    "        typing.List[float]: list of scores in order: train_scores, validation_scores\n",
    "    \"\"\"\n",
    "    train_scores = []\n",
    "    validation_scores = []\n",
    "    for train_idx, val_idx in cv.split(X, y):\n",
    "        X_train, X_val = X.iloc[train_idx], X.iloc[val_idx]\n",
    "        y_train, y_val = y.iloc[train_idx], y.iloc[val_idx]\n",
    "        X_train[features_to_scale] = scaler.fit_transform(X_train[features_to_scale])\n",
    "        X_val[features_to_scale] = scaler.transform(X_val[features_to_scale])\n",
    "        if target_to_scale:\n",
    "            y_train = scaler.fit_transform(y_train.values.reshape(-1, 1)).ravel()\n",
    "            y_val = scaler.transform(y_val.values.reshape(-1, 1)).ravel()    \n",
    "        algorithm.fit(X_train, y_train)\n",
    "        y_train_pred = algorithm.predict(X_train)\n",
    "        y_val_pred = algorithm.predict(X_val)\n",
    "        if(target_to_scale):\n",
    "            y_train = scaler.inverse_transform(y_train.reshape(-1, 1)).ravel()\n",
    "            y_val = scaler.inverse_transform(y_val.reshape(-1, 1)).ravel()\n",
    "            y_train_pred = scaler.inverse_transform(y_train_pred.reshape(-1, 1)).ravel()\n",
    "            y_val_pred = scaler.inverse_transform(y_val_pred.reshape(-1, 1)).ravel()\n",
    "        train_scores.append(metric(y_train, y_train_pred, squared=False))\n",
    "        validation_scores.append(metric(y_val, y_val_pred, squared=False))\n",
    "    return np.mean(train_scores), np.mean(validation_scores)\n",
    "\n",
    "def test_evaluation_scaling(X_train: pd.DataFrame, y_train: pd.Series, X_test: pd.DataFrame, y_test: pd.Series, algorithm: typing.Any, metric: typing.Any = mean_squared_error, scaler: typing.Any = StandardScaler(), features_to_scale: typing.List[str] = None, target_to_scale: bool = False) -> float:\n",
    "    \"\"\"\n",
    "    Train the algorithm on the train data and evaluate on the test data\n",
    "    \n",
    "    Args:\n",
    "        X_train (pd.DataFrame): input train data\n",
    "        y_train (pd.Series): target train data\n",
    "        X_test (pd.DataFrame): input test data\n",
    "        y_test (pd.Series): target test data\n",
    "        algorithm (typing.Any): algorithm to use for training and prediction\n",
    "        metric (typing.Any): metric to use for evaluation.\n",
    "        scaler (typing.Any): scaler to use for scaling\n",
    "        features_to_scale (typing.List[str]): list of features to scale\n",
    "        target_to_scale (bool): whether to scale target data\n",
    "    \n",
    "    Returns:\n",
    "        float: test score\n",
    "    \"\"\"\n",
    "    X_train[features_to_scale] = scaler.fit_transform(X_train[features_to_scale])\n",
    "    X_test[features_to_scale] = scaler.transform(X_test[features_to_scale])\n",
    "    if target_to_scale:\n",
    "        y_train = scaler.fit_transform(y_train.values.reshape(-1, 1)).ravel()\n",
    "        y_test = scaler.transform(y_test.values.reshape(-1, 1)).ravel()\n",
    "    algorithm.fit(X_train, y_train)\n",
    "    y_test_pred = algorithm.predict(X_test)\n",
    "    if target_to_scale:\n",
    "        y_test = scaler.inverse_transform(y_test.reshape(-1, 1)).ravel()\n",
    "        y_test_pred = scaler.inverse_transform(y_test_pred.reshape(-1, 1)).ravel()\n",
    "    return metric(y_test, y_test_pred, squared=False)"
   ]
  },
  {
   "cell_type": "markdown",
   "metadata": {},
   "source": [
    "$\\text{Sieci neuronowe to algorytmy, które są wrażliwe na skalę danych.}$<p>\n",
    "$\\text{W sytuacji, gdy dane nie są znormalizowane, algorytm może mieć problem z odnalezieniem optymalnych wag.}$<p>\n",
    "$\\text{Dzieje się tak, ponieważ, gdy przemnażamy dane przez wagi, uzyskane macierze będą miały różne wartości, co może prowadzić do problemów z optymalizacją.}$<p>\n",
    "$\\text{Ponieważ przeprowadzone w pliku \"2. Feature engineering\" transformacje zmiennych nie posiadają jednolitej skali, przetestujemy czy w przypadku, gdy wykorzystamy kilka metod skalowania, wyniki się poprawią.}$"
   ]
  },
  {
   "cell_type": "code",
   "execution_count": 9,
   "metadata": {},
   "outputs": [
    {
     "name": "stdout",
     "output_type": "stream",
     "text": [
      "Średni błąd RMSE na zbiorze treningowym z użyciem skaler: StandardScaler wynosi: 0.06585\n",
      "Średni błąd RMSE na zbiorze walidacyjnym z użyciem skaler: StandardScaler wynosi: 0.22693\n",
      "\n",
      "Średni błąd RMSE na zbiorze treningowym z użyciem skaler: MinMaxScaler wynosi: 0.14002\n",
      "Średni błąd RMSE na zbiorze walidacyjnym z użyciem skaler: MinMaxScaler wynosi: 0.21470\n",
      "\n",
      "Średni błąd RMSE na zbiorze treningowym z użyciem skaler: RobustScaler wynosi: 0.11173\n",
      "Średni błąd RMSE na zbiorze walidacyjnym z użyciem skaler: RobustScaler wynosi: 0.24308\n",
      "\n",
      "Średni błąd RMSE na zbiorze treningowym z użyciem skaler: QuantileTransformer wynosi: 0.16671\n",
      "Średni błąd RMSE na zbiorze walidacyjnym z użyciem skaler: QuantileTransformer wynosi: 0.27252\n",
      "\n"
     ]
    }
   ],
   "source": [
    "categorical_features = ['series', 'Fiction', 'Nonfiction', 'Literary', 'Fantasy','Crime', 'Social', 'Children', 'Romans', 'Realism']\n",
    "continous_features = list(set(features_transformations) - set(categorical_features))\n",
    "scalers = [StandardScaler(), MinMaxScaler(), RobustScaler(), QuantileTransformer()]\n",
    "scalers_names = [\"StandardScaler\", \"MinMaxScaler\", \"RobustScaler\", \"QuantileTransformer\"]\n",
    "for scaler, scaler_name in zip(scalers, scalers_names):\n",
    "    train_scores, validation_scores = perform_cv_scaling(train_data_transformations[features_transformations], train_data_transformations[target], model, scaler=scaler, features_to_scale=continous_features, target_to_scale=True)\n",
    "    print(\"Średni błąd RMSE na zbiorze treningowym z użyciem skaler: {} wynosi: {:.5f}\".format(scaler_name, train_scores))\n",
    "    print(\"Średni błąd RMSE na zbiorze walidacyjnym z użyciem skaler: {} wynosi: {:.5f}\".format(scaler_name, validation_scores))\n",
    "    print()"
   ]
  },
  {
   "cell_type": "markdown",
   "metadata": {},
   "source": [
    "$\\text{Wyniki walidacji krzyżowej sugerują wykorzystanie narzędzia StandardScaler do transformacji zmiennych ciągłych (pomimo tego, że gorszy wynik na zbiorze walidacyjnym niż dla MinMax, to na zbiorze treningowym dużo lepszy).}$<p>\n",
    "$\\text{Sprawdźmy wyniki na zbiorze testowym po dokonaniu standaryzacji.}$"
   ]
  },
  {
   "cell_type": "code",
   "execution_count": 10,
   "metadata": {},
   "outputs": [
    {
     "name": "stdout",
     "output_type": "stream",
     "text": [
      "Średni błąd RMSE na zbiorze treningowym: 0.06585\n",
      "Średni błąd RMSE na zbiorze walidacyjnym: 0.22693\n"
     ]
    }
   ],
   "source": [
    "model = MLPRegressor(random_state=SEED)\n",
    "scaler = StandardScaler()\n",
    "train_scores, validation_scores = perform_cv_scaling(train_data_transformations[features_transformations], train_data_transformations[target], model, scaler=scaler, features_to_scale=continous_features, target_to_scale=True)\n",
    "print(\"Średni błąd RMSE na zbiorze treningowym: {:.5f}\".format(train_scores))\n",
    "print(\"Średni błąd RMSE na zbiorze walidacyjnym: {:.5f}\".format(validation_scores))"
   ]
  },
  {
   "cell_type": "markdown",
   "metadata": {},
   "source": [
    "$\\text{Podobnie jak w poprzednich przypadkach, ze względu na to, że zbiór danych zawiera bardzo dużą ilość zmiennych, zdecydowaliśmy się na zastosowanie Mutual Information w celu wyboru zmiennych, które mają największy wpływ na zmienną celu.}$"
   ]
  },
  {
   "cell_type": "code",
   "execution_count": 11,
   "metadata": {},
   "outputs": [
    {
     "data": {
      "image/png": "[encoded data removed]"
     },
     "metadata": {},
     "output_type": "display_data"
    }
   ],
   "source": [
    "scaler = StandardScaler()\n",
    "train_data_transformations_scaled = train_data_transformations.copy()\n",
    "train_data_transformations_scaled[continous_features] = scaler.fit_transform(train_data_transformations_scaled[continous_features])\n",
    "train_data_transformations_scaled[target] = scaler.fit_transform(train_data_transformations_scaled[target].values.reshape(-1, 1)).ravel()\n",
    "mi_scores = {feature: mutual_info_regression(train_data_transformations_scaled[[feature]], train_data_transformations_scaled[target], random_state=SEED)[0] for feature in features_transformations}\n",
    "mi_scores = {k: v for k, v in sorted(mi_scores.items(), key=lambda item: item[1], reverse=True)}\n",
    "fig = go.Figure()\n",
    "fig.add_trace(go.Scatter(x=list(mi_scores.keys()), y=list(mi_scores.values()), mode='lines+markers', marker=dict(size=10, color=\"blue\", line=dict(width=2, color=\"black\")), line=dict(width=2, color=\"blue\")))\n",
    "fig.update_layout(template=\"simple_white\", width=1200, height=800, title=\"<b>Mutual Information<b>\", title_x=0.5, xaxis_title=\"Feature\", yaxis_title=f\"Mutual Information\", font=dict(family=\"Times New Roman\",size=16,color=\"Black\"), showlegend=False)\n",
    "fig.show(\"png\")"
   ]
  },
  {
   "cell_type": "code",
   "execution_count": 12,
   "metadata": {},
   "outputs": [
    {
     "name": "stdout",
     "output_type": "stream",
     "text": [
      "Kwantyl: 1; Procent zmiennych: 100.0%\n",
      "Średni błąd RMSE na zbiorze treningowym dla kwantyla 0: 0.0665328331951239\n",
      "Średni błąd RMSE na zbiorze walidacyjnym dla kwantyla 0: 0.23123000379285794\n",
      "\n",
      "Kwantyl: 0.9; Procent zmiennych: 89.92%\n",
      "Średni błąd RMSE na zbiorze treningowym dla kwantyla 0.1: 0.069781469390391\n",
      "Średni błąd RMSE na zbiorze walidacyjnym dla kwantyla 0.1: 0.22491527937848638\n",
      "\n",
      "Kwantyl: 0.75; Procent zmiennych: 75.0%\n",
      "Średni błąd RMSE na zbiorze treningowym dla kwantyla 0.25: 0.06069420042701974\n",
      "Średni błąd RMSE na zbiorze walidacyjnym dla kwantyla 0.25: 0.2277058037015883\n",
      "\n",
      "Kwantyl: 0.5; Procent zmiennych: 50.0%\n",
      "Średni błąd RMSE na zbiorze treningowym dla kwantyla 0.5: 0.06932812156949729\n",
      "Średni błąd RMSE na zbiorze walidacyjnym dla kwantyla 0.5: 0.22434485017530476\n",
      "\n",
      "Kwantyl: 0.25; Procent zmiennych: 25.0%\n",
      "Średni błąd RMSE na zbiorze treningowym dla kwantyla 0.75: 0.10818813838487693\n",
      "Średni błąd RMSE na zbiorze walidacyjnym dla kwantyla 0.75: 0.22252119054283565\n",
      "\n",
      "Kwantyl: 0.09999999999999998; Procent zmiennych: 10.08%\n",
      "Średni błąd RMSE na zbiorze treningowym dla kwantyla 0.9: 0.15884214782780975\n",
      "Średni błąd RMSE na zbiorze walidacyjnym dla kwantyla 0.9: 0.219821351231886\n",
      "\n"
     ]
    }
   ],
   "source": [
    "train_scores, validation_scores, percentages = [], [], []\n",
    "quantiles = [0, 0.1, 0.25, 0.5, 0.75, 0.9]\n",
    "for quantile in quantiles:\n",
    "    threshold = np.quantile(list(mi_scores.values()), quantile)\n",
    "    features_to_drop = [k for k, v in mi_scores.items() if v < threshold]\n",
    "    subset = set(features_transformations) - set(features_to_drop)\n",
    "    features_to_scale = subset - set(categorical_features)\n",
    "    model = MLPRegressor(random_state=SEED)\n",
    "    train_score, validation_score = perform_cv_scaling(train_data_transformations[list(subset)], train_data_transformations[target], model, scaler=scaler, features_to_scale=list(features_to_scale), target_to_scale=True)\n",
    "    print(\"Kwantyl: {}; Procent zmiennych: {}%\".format(1-quantile, np.round(len(subset)/len(features_transformations)*100, 2)))\n",
    "    print(f\"Średni błąd RMSE na zbiorze treningowym dla kwantyla {quantile}: {train_score}\")\n",
    "    print(f\"Średni błąd RMSE na zbiorze walidacyjnym dla kwantyla {quantile}: {validation_score}\")\n",
    "    print()\n",
    "    train_scores.append(train_score)\n",
    "    validation_scores.append(validation_score)\n",
    "    percentages.append(np.round(len(subset)/len(features_transformations)*100, 2))"
   ]
  },
  {
   "cell_type": "code",
   "execution_count": 13,
   "metadata": {},
   "outputs": [
    {
     "data": {
      "image/png": "[encoded data removed]"
     },
     "metadata": {},
     "output_type": "display_data"
    }
   ],
   "source": [
    "fig = go.Figure()\n",
    "fig.add_trace(go.Scatter(x=percentages, y=train_scores, mode='lines+markers', name=\"Train\", marker=dict(size=10, color=\"blue\", line=dict(width=2, color=\"black\")), line=dict(width=2, color=\"blue\")))\n",
    "fig.add_trace(go.Scatter(x=percentages, y=validation_scores, mode='lines+markers', name=\"Validation\", marker=dict(size=10, color=\"red\", line=dict(width=2, color=\"black\")), line=dict(width=2, color=\"red\")))\n",
    "fig.update_layout(template=\"simple_white\", width=1200, height=800, title=\"<b>Feature Selection<b>\", title_x=0.5, xaxis_title=\"Percentage of features\", yaxis_title=\"RMSE\", font=dict(family=\"Times New Roman\",size=16,color=\"Black\"))\n",
    "fig.show(\"png\")"
   ]
  },
  {
   "cell_type": "markdown",
   "metadata": {},
   "source": [
    "$\\text{Zmniejszenie liczby zmiennych do zaledwie 10\\% wszystkich cech, pozwoliło zmniejszyć stratę dla zbioru walidacyjnego.}$<p>\n",
    "$\\text{Oczywiście widoczne jest również znaczne pogorszenie rezultatów dla zbioru treningowego, jednak wciąż są one na zadowalającym poziomie.}$<p>\n",
    "$\\text{Zbadamy dokładniej okolice kwantyla 0.9, w celu znalezienia optymalnej liczby zmiennych.}$"
   ]
  },
  {
   "cell_type": "code",
   "execution_count": 14,
   "metadata": {},
   "outputs": [
    {
     "name": "stdout",
     "output_type": "stream",
     "text": [
      "Kwantyl: 0.19999999999999996; Procent zmiennych: 20.16%\n",
      "Średni błąd RMSE na zbiorze treningowym dla kwantyla 0.8: 0.11950673529287834\n",
      "Średni błąd RMSE na zbiorze walidacyjnym dla kwantyla 0.8: 0.22381209424775766\n",
      "\n",
      "Kwantyl: 0.18999999999999995; Procent zmiennych: 19.15%\n",
      "Średni błąd RMSE na zbiorze treningowym dla kwantyla 0.81: 0.12444972414961522\n",
      "Średni błąd RMSE na zbiorze walidacyjnym dla kwantyla 0.81: 0.2224453198520842\n",
      "\n",
      "Kwantyl: 0.17999999999999994; Procent zmiennych: 18.15%\n",
      "Średni błąd RMSE na zbiorze treningowym dla kwantyla 0.8200000000000001: 0.12657137375616972\n",
      "Średni błąd RMSE na zbiorze walidacyjnym dla kwantyla 0.8200000000000001: 0.22138468926317517\n",
      "\n",
      "Kwantyl: 0.16999999999999993; Procent zmiennych: 17.14%\n",
      "Średni błąd RMSE na zbiorze treningowym dla kwantyla 0.8300000000000001: 0.13077911014873528\n",
      "Średni błąd RMSE na zbiorze walidacyjnym dla kwantyla 0.8300000000000001: 0.22095433046923801\n",
      "\n",
      "Kwantyl: 0.16000000000000003; Procent zmiennych: 16.13%\n",
      "Średni błąd RMSE na zbiorze treningowym dla kwantyla 0.84: 0.13449863177604313\n",
      "Średni błąd RMSE na zbiorze walidacyjnym dla kwantyla 0.84: 0.21866225594632122\n",
      "\n",
      "Kwantyl: 0.15000000000000002; Procent zmiennych: 15.12%\n",
      "Średni błąd RMSE na zbiorze treningowym dla kwantyla 0.85: 0.13948621441965905\n",
      "Średni błąd RMSE na zbiorze walidacyjnym dla kwantyla 0.85: 0.22002928223338797\n",
      "\n",
      "Kwantyl: 0.14; Procent zmiennych: 14.11%\n",
      "Średni błąd RMSE na zbiorze treningowym dla kwantyla 0.86: 0.13734308498553421\n",
      "Średni błąd RMSE na zbiorze walidacyjnym dla kwantyla 0.86: 0.21649325831533922\n",
      "\n",
      "Kwantyl: 0.13; Procent zmiennych: 13.1%\n",
      "Średni błąd RMSE na zbiorze treningowym dla kwantyla 0.87: 0.1423499705407933\n",
      "Średni błąd RMSE na zbiorze walidacyjnym dla kwantyla 0.87: 0.21751553693810974\n",
      "\n",
      "Kwantyl: 0.12; Procent zmiennych: 12.1%\n",
      "Średni błąd RMSE na zbiorze treningowym dla kwantyla 0.88: 0.1496026194270304\n",
      "Średni błąd RMSE na zbiorze walidacyjnym dla kwantyla 0.88: 0.21907595856080517\n",
      "\n",
      "Kwantyl: 0.10999999999999999; Procent zmiennych: 11.09%\n",
      "Średni błąd RMSE na zbiorze treningowym dla kwantyla 0.89: 0.1548523320368766\n",
      "Średni błąd RMSE na zbiorze walidacyjnym dla kwantyla 0.89: 0.22173492736916045\n",
      "\n",
      "Kwantyl: 0.09999999999999998; Procent zmiennych: 10.08%\n",
      "Średni błąd RMSE na zbiorze treningowym dla kwantyla 0.9: 0.15884214782780975\n",
      "Średni błąd RMSE na zbiorze walidacyjnym dla kwantyla 0.9: 0.219821351231886\n",
      "\n",
      "Kwantyl: 0.09000000000000008; Procent zmiennych: 9.07%\n",
      "Średni błąd RMSE na zbiorze treningowym dla kwantyla 0.9099999999999999: 0.16633869596715284\n",
      "Średni błąd RMSE na zbiorze walidacyjnym dla kwantyla 0.9099999999999999: 0.21971647777591746\n",
      "\n",
      "Kwantyl: 0.08000000000000007; Procent zmiennych: 8.06%\n",
      "Średni błąd RMSE na zbiorze treningowym dla kwantyla 0.9199999999999999: 0.17508373193443455\n",
      "Średni błąd RMSE na zbiorze walidacyjnym dla kwantyla 0.9199999999999999: 0.22017002604351096\n",
      "\n",
      "Kwantyl: 0.07000000000000006; Procent zmiennych: 7.06%\n",
      "Średni błąd RMSE na zbiorze treningowym dla kwantyla 0.9299999999999999: 0.17808479428907012\n",
      "Średni błąd RMSE na zbiorze walidacyjnym dla kwantyla 0.9299999999999999: 0.22017294952216152\n",
      "\n",
      "Kwantyl: 0.06000000000000005; Procent zmiennych: 6.05%\n",
      "Średni błąd RMSE na zbiorze treningowym dla kwantyla 0.94: 0.18322333905647986\n",
      "Średni błąd RMSE na zbiorze walidacyjnym dla kwantyla 0.94: 0.22104350774524306\n",
      "\n",
      "Kwantyl: 0.050000000000000044; Procent zmiennych: 5.04%\n",
      "Średni błąd RMSE na zbiorze treningowym dla kwantyla 0.95: 0.19063651776793747\n",
      "Średni błąd RMSE na zbiorze walidacyjnym dla kwantyla 0.95: 0.22175570213339074\n",
      "\n"
     ]
    }
   ],
   "source": [
    "for quantile in np.linspace(0.8, 0.95, 16):\n",
    "    threshold = np.quantile(list(mi_scores.values()), quantile)\n",
    "    features_to_drop = [k for k, v in mi_scores.items() if v < threshold]\n",
    "    subset = set(features_transformations) - set(features_to_drop)\n",
    "    features_to_scale = subset - set(categorical_features)\n",
    "    model = MLPRegressor(random_state=SEED)\n",
    "    train_scores, validation_scores = perform_cv_scaling(train_data_transformations[list(subset)], train_data_transformations[target], model, scaler=scaler, features_to_scale=list(features_to_scale), target_to_scale=True)\n",
    "    print(\"Kwantyl: {}; Procent zmiennych: {}%\".format(1-quantile, np.round(len(subset)/len(features_transformations)*100, 2)))\n",
    "    print(f\"Średni błąd RMSE na zbiorze treningowym dla kwantyla {quantile}: {train_scores}\")\n",
    "    print(f\"Średni błąd RMSE na zbiorze walidacyjnym dla kwantyla {quantile}: {validation_scores}\")\n",
    "    print()"
   ]
  },
  {
   "cell_type": "markdown",
   "metadata": {},
   "source": [
    "$\\text{Bazując na otrzymanych wynikach, zdecydowaliśmy się na wybór kwantyla 0.86 jako progu odcięcia.}$"
   ]
  },
  {
   "cell_type": "code",
   "execution_count": 15,
   "metadata": {},
   "outputs": [
    {
     "name": "stdout",
     "output_type": "stream",
     "text": [
      "Procent zmiennych: 14.11%\n",
      "Średni błąd RMSE na zbiorze treningowym: 0.13734308498553421\n",
      "Średni błąd RMSE na zbiorze walidacyjnym: 0.21649325831533922\n",
      "\n"
     ]
    }
   ],
   "source": [
    "quantile = 0.86\n",
    "threshold = np.quantile(list(mi_scores.values()), quantile)\n",
    "features_to_drop = [k for k, v in mi_scores.items() if v < threshold]\n",
    "subset = list(set(features_transformations) - set(features_to_drop))\n",
    "features_to_scale = list(set(subset) - set(categorical_features))\n",
    "model = MLPRegressor(random_state=SEED)\n",
    "train_scores, validation_scores = perform_cv_scaling(train_data_transformations[subset], train_data_transformations[target], model, scaler=scaler, features_to_scale=features_to_scale, target_to_scale=True)\n",
    "print(\"Procent zmiennych: {}%\".format(np.round(len(subset)/len(features_transformations)*100, 2)))\n",
    "print(f\"Średni błąd RMSE na zbiorze treningowym: {train_scores}\")\n",
    "print(f\"Średni błąd RMSE na zbiorze walidacyjnym: {validation_scores}\")\n",
    "print()"
   ]
  },
  {
   "cell_type": "markdown",
   "metadata": {},
   "source": [
    "$\\text{Wyniki uległy znacznej poprawie względem modelu bazowego, natomiast warto odnotować, że sieć została przetrenowana.}$<p>\n",
    "$\\text{W kolejnych etapach będziemy starali się dokonać pewnej regularyzacji w celu możliwego zredukoania overfittingu.}$"
   ]
  },
  {
   "cell_type": "markdown",
   "metadata": {},
   "source": [
    "# Optymalizacja"
   ]
  },
  {
   "cell_type": "markdown",
   "metadata": {},
   "source": [
    "## hidden_layer_sizes"
   ]
  },
  {
   "cell_type": "markdown",
   "metadata": {},
   "source": [
    "$\\text{W przypadku sieci neuronowych, jednym z najważniejszych parametrów jest liczba warstw ukrytych oraz liczba neuronów w każdej z warstw.}$<p>\n",
    "$\\text{Zbyt mała liczba neuronów może prowadzić do underfittingu, natomiast zbyt duża do overfittingu oraz długiego czasu uczenia.}$<p>\n",
    "$\\text{Oczywiście dokładne znalezienie optymalnego rozwiązania jest niemal niemożliwe, dlatego spróbujemy zaledwie z kilkoma różnymi wartościami tego parametru.}$"
   ]
  },
  {
   "cell_type": "code",
   "execution_count": 16,
   "metadata": {},
   "outputs": [
    {
     "name": "stdout",
     "output_type": "stream",
     "text": [
      "Hidden layer sizes: 50; RMSE train: 0.16296; RMSE validation: 0.21887\n",
      "Hidden layer sizes: 100; RMSE train: 0.13734; RMSE validation: 0.21649\n",
      "Hidden layer sizes: 150; RMSE train: 0.12758; RMSE validation: 0.21935\n",
      "Hidden layer sizes: (50, 100); RMSE train: 0.10039; RMSE validation: 0.24410\n",
      "Hidden layer sizes: (50, 150); RMSE train: 0.08948; RMSE validation: 0.24192\n",
      "Hidden layer sizes: (100, 50); RMSE train: 0.09148; RMSE validation: 0.24650\n",
      "Hidden layer sizes: (100, 150); RMSE train: 0.06548; RMSE validation: 0.24076\n",
      "Hidden layer sizes: (150, 50); RMSE train: 0.06753; RMSE validation: 0.24178\n",
      "Hidden layer sizes: (150, 100); RMSE train: 0.05678; RMSE validation: 0.24098\n",
      "Hidden layer sizes: (50, 100, 150); RMSE train: 0.04900; RMSE validation: 0.25584\n",
      "Hidden layer sizes: (50, 150, 100); RMSE train: 0.04605; RMSE validation: 0.25732\n",
      "Hidden layer sizes: (100, 50, 150); RMSE train: 0.05194; RMSE validation: 0.25364\n",
      "Hidden layer sizes: (100, 150, 50); RMSE train: 0.04981; RMSE validation: 0.24449\n",
      "Hidden layer sizes: (150, 50, 100); RMSE train: 0.05498; RMSE validation: 0.24862\n",
      "Hidden layer sizes: (150, 100, 50); RMSE train: 0.05916; RMSE validation: 0.24588\n"
     ]
    }
   ],
   "source": [
    "hidden_layer_sizes = [50,100,150] + list(itertools.permutations([50,100,150],2)) + list(itertools.permutations([50,100,150],3))\n",
    "for hidden_layer_size in hidden_layer_sizes:\n",
    "    model = MLPRegressor(hidden_layer_sizes=hidden_layer_size, random_state=SEED)\n",
    "    train_scores, validation_scores = perform_cv_scaling(train_data_transformations[subset], train_data_transformations[target], model, scaler=scaler, features_to_scale=features_to_scale, target_to_scale=True)\n",
    "    print(\"Hidden layer sizes: {}; RMSE train: {:.5f}; RMSE validation: {:.5f}\".format(hidden_layer_size, train_scores, validation_scores))"
   ]
  },
  {
   "cell_type": "markdown",
   "metadata": {},
   "source": [
    "$\\text{Widzimy, że wraz ze zwiększaniem liczby neuronów oraz warstw, wyniki na zbiorze trenigowym ulegają poprawie.}$<p>\n",
    "$\\text{Niestety, powoduje to również zwiększenie overfittingu.}$<p>\n",
    "$\\text{Wygląda na to, że optymalna będzie zaledwie jedna warstwa w sieci.}$<p>\n",
    "$\\text{Na dalszym etapie, podczas tuningowania całej sieci, testować będziemy wyniki dla wartości w okolicach 100 neuronów w pojedynczej warstwie.}$"
   ]
  },
  {
   "cell_type": "markdown",
   "metadata": {},
   "source": [
    "## activation"
   ]
  },
  {
   "cell_type": "markdown",
   "metadata": {},
   "source": [
    "$\\text{Kolejnym ważnym parametrem jest funkcja aktywacji.}$<p>\n",
    "$\\text{Odpowiada ona za to, jaka transformacja zostanie zastosowana na danych wychodzących z warstwy ukrytej.}$<p>\n",
    "$\\text{Dla sieci neuronowych dostępne są różne funkcje aktywacji, poniżej przetestujemy następujące: identity, logistic, tanh, relu.}$"
   ]
  },
  {
   "cell_type": "code",
   "execution_count": 17,
   "metadata": {},
   "outputs": [
    {
     "name": "stdout",
     "output_type": "stream",
     "text": [
      "Activation: identity; RMSE train: 0.22705; RMSE validation: 0.22982\n",
      "Activation: logistic; RMSE train: 0.19364; RMSE validation: 0.21614\n",
      "Activation: tanh; RMSE train: 0.14110; RMSE validation: 0.22693\n",
      "Activation: relu; RMSE train: 0.13734; RMSE validation: 0.21649\n"
     ]
    }
   ],
   "source": [
    "activations = ['identity', 'logistic', 'tanh', 'relu']\n",
    "for activation in activations:\n",
    "    model = MLPRegressor(hidden_layer_sizes=100, activation=activation, random_state=SEED)\n",
    "    train_scores, validation_scores = perform_cv_scaling(train_data_transformations[subset], train_data_transformations[target], model, scaler=scaler, features_to_scale=features_to_scale, target_to_scale=True)\n",
    "    print(\"Activation: {}; RMSE train: {:.5f}; RMSE validation: {:.5f}\".format(activation, train_scores, validation_scores))"
   ]
  },
  {
   "cell_type": "markdown",
   "metadata": {},
   "source": [
    "$\\text{Minimalnie lepsze wyniki na zbiorze walidacyjnym osiągnięto dla funkcji logistycznej.}$<p>\n",
    "$\\text{Warto jednak zaznaczyć, że różnice między funkcją logistyczną, a funkcją relu są niewielkie.}$<p>\n",
    "$\\text{Natomiast występuje duża dysproporcja między wynikami na zbiorze treningowym na korzyść funkcji relu.}$<p>\n",
    "$\\text{Z tego powodu zdecydowaliśmy się na wybór funkcji relu.}$"
   ]
  },
  {
   "cell_type": "markdown",
   "metadata": {},
   "source": [
    "## solver"
   ]
  },
  {
   "cell_type": "markdown",
   "metadata": {},
   "source": [
    "$\\text{Parametr solver odpowiada za algorytm optymalizacji wag - za to jak będą one aktualizowane w trakcie uczenia.}$<p>\n",
    "$\\text{Podobnie jak w przypadku funkcji aktywacji, dostępne są różne algorytmy, poniżej przetestujemy następujące: lbfgs, sgd, adam.}$"
   ]
  },
  {
   "cell_type": "code",
   "execution_count": 18,
   "metadata": {},
   "outputs": [
    {
     "name": "stdout",
     "output_type": "stream",
     "text": [
      "Solver: lbfgs; RMSE train: 0.12695; RMSE validation: 0.22881\n",
      "Solver: sgd; RMSE train: 0.19620; RMSE validation: 0.21483\n",
      "Solver: adam; RMSE train: 0.13734; RMSE validation: 0.21649\n"
     ]
    }
   ],
   "source": [
    "solvers = ['lbfgs', 'sgd', 'adam']\n",
    "for solver in solvers:\n",
    "    model = MLPRegressor(hidden_layer_sizes=100, activation='relu', solver=solver, random_state=SEED)\n",
    "    train_scores, validation_scores = perform_cv_scaling(train_data_transformations[subset], train_data_transformations[target], model, scaler=scaler, features_to_scale=features_to_scale, target_to_scale=True)\n",
    "    print(\"Solver: {}; RMSE train: {:.5f}; RMSE validation: {:.5f}\".format(solver, train_scores, validation_scores))"
   ]
  },
  {
   "cell_type": "markdown",
   "metadata": {},
   "source": [
    "$\\text{Podobnie jak wyżej, ze względu na niewielkie różnice między wynikami, dla zbioru walidacyjnego, jednak dużą dysproporcję na korzyść algorytmu adam (względem sgd) zdecydowaliśmy się na jego wybór.}$"
   ]
  },
  {
   "cell_type": "markdown",
   "metadata": {},
   "source": [
    "## alpha"
   ]
  },
  {
   "cell_type": "markdown",
   "metadata": {},
   "source": [
    "$\\text{Parametr alpha odpowiada za regularyzację sieci.}$<p>\n",
    "$\\text{alpha służy do ograniczenia rozmiaru wag, co może pomóc w redukcji overfittingu.}$"
   ]
  },
  {
   "cell_type": "code",
   "execution_count": 19,
   "metadata": {},
   "outputs": [
    {
     "name": "stdout",
     "output_type": "stream",
     "text": [
      "Alpha: 1e-05; RMSE train: 0.13913; RMSE validation: 0.21745\n",
      "Alpha: 0.0001; RMSE train: 0.13734; RMSE validation: 0.21649\n",
      "Alpha: 0.001; RMSE train: 0.13764; RMSE validation: 0.21671\n",
      "Alpha: 0.01; RMSE train: 0.13969; RMSE validation: 0.21733\n",
      "Alpha: 0.1; RMSE train: 0.14377; RMSE validation: 0.21416\n",
      "Alpha: 1; RMSE train: 0.17812; RMSE validation: 0.20836\n",
      "Alpha: 10; RMSE train: 0.22648; RMSE validation: 0.22917\n",
      "Alpha: 100; RMSE train: 0.25262; RMSE validation: 0.25310\n",
      "Alpha: 1000; RMSE train: 0.30130; RMSE validation: 0.30143\n",
      "Alpha: 10000; RMSE train: 0.30130; RMSE validation: 0.30144\n"
     ]
    }
   ],
   "source": [
    "alphas = [10**i for i in range(-5, 5)]\n",
    "for alpha in alphas:\n",
    "    model = MLPRegressor(hidden_layer_sizes=100, activation='relu', solver='adam', alpha=alpha, random_state=SEED)\n",
    "    train_scores, validation_scores = perform_cv_scaling(train_data_transformations[subset], train_data_transformations[target], model, scaler=scaler, features_to_scale=features_to_scale, target_to_scale=True)\n",
    "    print(\"Alpha: {}; RMSE train: {:.5f}; RMSE validation: {:.5f}\".format(alpha, train_scores, validation_scores))"
   ]
  },
  {
   "cell_type": "markdown",
   "metadata": {},
   "source": [
    "$\\text{Wraz ze wzrostem wartości parametru alpha, wyniki na zbiorze trenigowym ulegają pogorszeniu.}$<p>\n",
    "$\\text{W przypadku zbioru walidacyjnego, najlepsze wyniki uzyskano dla wartości 1.}$<p>\n",
    "$\\text{Możemy dokładniej zbadać okolice wartości 1.}$"
   ]
  },
  {
   "cell_type": "code",
   "execution_count": 20,
   "metadata": {},
   "outputs": [
    {
     "name": "stdout",
     "output_type": "stream",
     "text": [
      "Alpha: 0.5; RMSE train: 0.16204; RMSE validation: 0.20792\n",
      "Alpha: 0.6; RMSE train: 0.16373; RMSE validation: 0.20828\n",
      "Alpha: 0.7; RMSE train: 0.17092; RMSE validation: 0.20809\n",
      "Alpha: 0.8; RMSE train: 0.17226; RMSE validation: 0.20711\n",
      "Alpha: 0.9; RMSE train: 0.17556; RMSE validation: 0.20827\n",
      "Alpha: 1.0; RMSE train: 0.17812; RMSE validation: 0.20836\n",
      "Alpha: 1.1; RMSE train: 0.18011; RMSE validation: 0.20844\n",
      "Alpha: 1.2000000000000002; RMSE train: 0.18298; RMSE validation: 0.20933\n",
      "Alpha: 1.3; RMSE train: 0.18455; RMSE validation: 0.20884\n",
      "Alpha: 1.4; RMSE train: 0.18711; RMSE validation: 0.20967\n",
      "Alpha: 1.5; RMSE train: 0.18861; RMSE validation: 0.20983\n",
      "Alpha: 1.6; RMSE train: 0.19010; RMSE validation: 0.21026\n",
      "Alpha: 1.7000000000000002; RMSE train: 0.19171; RMSE validation: 0.21124\n",
      "Alpha: 1.8; RMSE train: 0.19459; RMSE validation: 0.21181\n",
      "Alpha: 1.9000000000000001; RMSE train: 0.19682; RMSE validation: 0.21298\n",
      "Alpha: 2.0; RMSE train: 0.19799; RMSE validation: 0.21364\n"
     ]
    }
   ],
   "source": [
    "alphas = np.linspace(0.5, 2, 16)\n",
    "for alpha in alphas:\n",
    "    model = MLPRegressor(hidden_layer_sizes=100, activation='relu', solver='adam', alpha=alpha, random_state=SEED)\n",
    "    train_scores, validation_scores = perform_cv_scaling(train_data_transformations[subset], train_data_transformations[target], model, scaler=scaler, features_to_scale=features_to_scale, target_to_scale=True)\n",
    "    print(\"Alpha: {}; RMSE train: {:.5f}; RMSE validation: {:.5f}\".format(alpha, train_scores, validation_scores))"
   ]
  },
  {
   "cell_type": "markdown",
   "metadata": {},
   "source": [
    "$\\text{Najlepszy rezultat na zbiorze walidacyjnym, dla alpha=0.8.}$"
   ]
  },
  {
   "cell_type": "markdown",
   "metadata": {},
   "source": [
    "## learning_rate"
   ]
  },
  {
   "cell_type": "markdown",
   "metadata": {},
   "source": [
    "$\\text{Parametr learning\\_rate odpowiada za to jak silnie aktualizowane są wagi w trakcie uczenia.}$"
   ]
  },
  {
   "cell_type": "code",
   "execution_count": 21,
   "metadata": {},
   "outputs": [
    {
     "name": "stdout",
     "output_type": "stream",
     "text": [
      "Learning rate: 1e-05; RMSE train: 0.23425; RMSE validation: 0.23851\n",
      "Learning rate: 0.0001; RMSE train: 0.19730; RMSE validation: 0.21387\n",
      "Learning rate: 0.001; RMSE train: 0.17226; RMSE validation: 0.20711\n",
      "Learning rate: 0.01; RMSE train: 0.20748; RMSE validation: 0.21954\n",
      "Learning rate: 0.1; RMSE train: 0.22571; RMSE validation: 0.23026\n",
      "Learning rate: 1; RMSE train: 0.23752; RMSE validation: 0.24361\n"
     ]
    }
   ],
   "source": [
    "learning_rates = [10**i for i in range(-5, 1)]\n",
    "for learning_rate in learning_rates:\n",
    "    model = MLPRegressor(hidden_layer_sizes=100, activation='relu', solver='adam', alpha=0.8, learning_rate_init=learning_rate, random_state=SEED)\n",
    "    train_scores, validation_scores = perform_cv_scaling(train_data_transformations[subset], train_data_transformations[target], model, scaler=scaler, features_to_scale=features_to_scale, target_to_scale=True)\n",
    "    print(\"Learning rate: {}; RMSE train: {:.5f}; RMSE validation: {:.5f}\".format(learning_rate, train_scores, validation_scores))"
   ]
  },
  {
   "cell_type": "markdown",
   "metadata": {},
   "source": [
    "$\\text{Dla wartości domyślnej: 0.001, wyniki na zbiorze walidacyjnym są najlepsze.}$"
   ]
  },
  {
   "cell_type": "markdown",
   "metadata": {},
   "source": [
    "## max_iter"
   ]
  },
  {
   "cell_type": "markdown",
   "metadata": {},
   "source": [
    "$\\text{Parametr max\\_iter odpowiada za maksymalną liczbę iteracji - czyli ile razy algorytm będzie uczył się na danych i optymalizował wagi.}$"
   ]
  },
  {
   "cell_type": "code",
   "execution_count": 23,
   "metadata": {},
   "outputs": [
    {
     "name": "stdout",
     "output_type": "stream",
     "text": [
      "Max iter: 100; RMSE train: 0.18015; RMSE validation: 0.20862\n",
      "Max iter: 200; RMSE train: 0.17226; RMSE validation: 0.20711\n",
      "Max iter: 300; RMSE train: 0.17226; RMSE validation: 0.20711\n",
      "Max iter: 400; RMSE train: 0.17226; RMSE validation: 0.20711\n",
      "Max iter: 500; RMSE train: 0.17226; RMSE validation: 0.20711\n",
      "Max iter: 600; RMSE train: 0.17226; RMSE validation: 0.20711\n",
      "Max iter: 700; RMSE train: 0.17226; RMSE validation: 0.20711\n",
      "Max iter: 800; RMSE train: 0.17226; RMSE validation: 0.20711\n",
      "Max iter: 900; RMSE train: 0.17226; RMSE validation: 0.20711\n",
      "Max iter: 1000; RMSE train: 0.17226; RMSE validation: 0.20711\n"
     ]
    }
   ],
   "source": [
    "max_iters = [i for i in range(100, 1001, 100)]\n",
    "for max_iter in max_iters:\n",
    "    model = MLPRegressor(hidden_layer_sizes=100, activation='relu', solver='adam', alpha=0.8, learning_rate_init=0.001, max_iter=max_iter, random_state=SEED)\n",
    "    train_scores, validation_scores = perform_cv_scaling(train_data_transformations[subset], train_data_transformations[target], model, scaler=scaler, features_to_scale=features_to_scale, target_to_scale=True)\n",
    "    print(\"Max iter: {}; RMSE train: {:.5f}; RMSE validation: {:.5f}\".format(max_iter, train_scores, validation_scores))"
   ]
  },
  {
   "cell_type": "markdown",
   "metadata": {},
   "source": [
    "$\\text{Od okolic 200 iteracji, brak wpływu liczby iteracji na wyniki modelu.}$<p>\n",
    "$\\text{Warto zaznaczyć, że przy 200 iteracjach model osiąga najniższą wartość straty na zbiorze walidacyjnym.}$<p>\n",
    "$\\text{Spróbujemy zatem znaleźć dokładniejszą wartość.}$"
   ]
  },
  {
   "cell_type": "code",
   "execution_count": 24,
   "metadata": {},
   "outputs": [
    {
     "name": "stdout",
     "output_type": "stream",
     "text": [
      "Max iter: 100; RMSE train: 0.18015; RMSE validation: 0.20862\n",
      "Max iter: 120; RMSE train: 0.17830; RMSE validation: 0.20902\n",
      "Max iter: 140; RMSE train: 0.17451; RMSE validation: 0.20796\n",
      "Max iter: 160; RMSE train: 0.17360; RMSE validation: 0.20822\n",
      "Max iter: 180; RMSE train: 0.17226; RMSE validation: 0.20711\n",
      "Max iter: 200; RMSE train: 0.17226; RMSE validation: 0.20711\n",
      "Max iter: 220; RMSE train: 0.17226; RMSE validation: 0.20711\n",
      "Max iter: 240; RMSE train: 0.17226; RMSE validation: 0.20711\n",
      "Max iter: 260; RMSE train: 0.17226; RMSE validation: 0.20711\n",
      "Max iter: 280; RMSE train: 0.17226; RMSE validation: 0.20711\n"
     ]
    }
   ],
   "source": [
    "max_iters = [i for i in range(100, 300, 20)]\n",
    "for max_iter in max_iters:\n",
    "    model = MLPRegressor(hidden_layer_sizes=100, activation='relu', solver='adam', alpha=0.8, learning_rate_init=0.001, max_iter=max_iter, random_state=SEED)\n",
    "    train_scores, validation_scores = perform_cv_scaling(train_data_transformations[subset], train_data_transformations[target], model, scaler=scaler, features_to_scale=features_to_scale, target_to_scale=True)\n",
    "    print(\"Max iter: {}; RMSE train: {:.5f}; RMSE validation: {:.5f}\".format(max_iter, train_scores, validation_scores))"
   ]
  },
  {
   "cell_type": "markdown",
   "metadata": {},
   "source": [
    "$\\text{Najlepszy wynik dla max\\_iter=180.}$"
   ]
  },
  {
   "cell_type": "markdown",
   "metadata": {},
   "source": [
    "# Tuning"
   ]
  },
  {
   "cell_type": "code",
   "execution_count": 25,
   "metadata": {},
   "outputs": [],
   "source": [
    "class RandomSearchCV:\n",
    "    \"\"\"\n",
    "    This class is used to optimize the hyperparameters of the algorithm using Random Search.\n",
    "    \"\"\"\n",
    "\n",
    "    def __init__(\n",
    "        self,\n",
    "        algorithm: typing.Any,\n",
    "        metric: str,\n",
    "        cv: typing.Any = KFold(n_splits=5, shuffle=True, random_state=17),\n",
    "        n_trials: int = 100,\n",
    "        seed: int = 17,\n",
    "    ) -> None:\n",
    "        \"\"\"\n",
    "        Initializes the RandomSearchCV class.\n",
    "\n",
    "        Args:\n",
    "            algorithm (typing.Any): algorithm to optimize.\n",
    "            metric (str): metric to use for optimization.\n",
    "            cv (typing.Any): cross-validation strategy.\n",
    "            n_trials (int): number of trials to perform.\n",
    "            seed (int): random seed.\n",
    "        \"\"\"\n",
    "        self.algorithm = algorithm\n",
    "        metrics = {\n",
    "            \"accuracy\": [lambda y, y_pred: accuracy_score(y, y_pred), \"preds\", \"maximize\"],\n",
    "            \"roc_auc\": [lambda y, y_pred: roc_auc_score(y, y_pred), \"probs\", \"maximize\"],\n",
    "            \"mse\": [lambda y, y_pred: mean_squared_error(y, y_pred), \"preds\", \"minimize\"],\n",
    "            \"rmse\": [\n",
    "                lambda y, y_pred: mean_squared_error(y, y_pred, squared=False),\n",
    "                \"preds\", \"minimize\"\n",
    "            ],\n",
    "            \"mae\": [lambda y, y_pred: mean_absolute_error(y, y_pred), \"preds\", \"minimize\"],\n",
    "        }\n",
    "        if metric not in metrics:\n",
    "            raise ValueError(\"Unsupported metric: {}\".format(metric))\n",
    "        self.eval_metric = metrics[metric][0]\n",
    "        self.metric_type = metrics[metric][1]\n",
    "        self.direction = metrics[metric][2]\n",
    "        self.cv = cv\n",
    "        self.n_trials = n_trials\n",
    "        self.seed = seed\n",
    "    \n",
    "    def check_X(\n",
    "        self, X: typing.Union[pd.DataFrame, pd.Series, np.ndarray]\n",
    "    ) -> np.ndarray:\n",
    "        \"\"\"Check if X is pandas DataFrame, pandas Series or numpy array and convert it to numpy array.\n",
    "\n",
    "        Args:\n",
    "            X: (Union[pd.DataFrame, pd.Series, np.ndarray]): input data.\n",
    "\n",
    "        Returns:\n",
    "            X: (np.ndarray): converted input data.\n",
    "        \"\"\"\n",
    "        if (\n",
    "            not isinstance(X, pd.DataFrame)\n",
    "            and not isinstance(X, pd.Series)\n",
    "            and not isinstance(X, np.ndarray)\n",
    "        ):\n",
    "            raise TypeError(\n",
    "                \"Wrong type of X. It should be pandas DataFrame, pandas Series, numpy array.\"\n",
    "            )\n",
    "        X = np.array(X)\n",
    "        if X.ndim == 1:\n",
    "            X = X[None, :]\n",
    "        return X\n",
    "\n",
    "    def check_y(\n",
    "        self, y: typing.Union[pd.DataFrame, pd.Series, np.ndarray]\n",
    "    ) -> np.ndarray:\n",
    "        \"\"\"Check if y is pandas DataFrame, pandas Series or numpy array and convert it to numpy array.\n",
    "\n",
    "        Args:\n",
    "            y: (Union[pd.DataFrame, pd.Series, np.ndarray]): target data.\n",
    "\n",
    "        Returns:\n",
    "            y: (np.ndarray): converted target data.\n",
    "        \"\"\"\n",
    "        if (\n",
    "            not isinstance(y, pd.DataFrame)\n",
    "            and not isinstance(y, pd.Series)\n",
    "            and not isinstance(y, np.ndarray)\n",
    "        ):\n",
    "            raise TypeError(\n",
    "                \"Wrong type of y. It should be pandas DataFrame, pandas Series, numpy array.\"\n",
    "            )\n",
    "        y = np.array(y)\n",
    "        if y.ndim != 1:\n",
    "            y = y.squeeze()\n",
    "        return y\n",
    "\n",
    "    def check_for_object_columns(self, X: np.ndarray) -> np.ndarray:\n",
    "        \"\"\"Check if X contains object columns and convert it to numeric data.\n",
    "\n",
    "        Args:\n",
    "            X: (np.ndarray): input data.\n",
    "\n",
    "        Returns:\n",
    "            X: (np.ndarray): converted input data.\n",
    "        \"\"\"\n",
    "        X = pd.DataFrame(X)\n",
    "        if X.select_dtypes(include=np.number).shape[1] != X.shape[1]:\n",
    "            raise TypeError(\n",
    "                \"Your data contains object or string columns. Numeric data is obligated.\"\n",
    "            )\n",
    "        return np.array(X)\n",
    "\n",
    "    def tune(\n",
    "        self,\n",
    "        X: pd.DataFrame,\n",
    "        y: pd.Series,\n",
    "        params_grid: typing.Dict[str, typing.Tuple[str, typing.List[typing.Any]]],\n",
    "        X_valid: pd.DataFrame = None,\n",
    "        y_valid: pd.Series = None,\n",
    "    ) -> typing.Dict[str, typing.Any]:\n",
    "        \"\"\"\n",
    "        This method tunes the algorithm hyperparameters.\n",
    "\n",
    "        Args:\n",
    "            X (pd.DataFrame): input data.\n",
    "            y (pd.Series): target data.\n",
    "            params_grid (typing.Dict[str, typing.Tuple[str, typing.List[typing.Any]]]): hyperparameters grid.\n",
    "            X_valid (pd.DataFrame): validation data (default is None).\n",
    "            y_valid (pd.Series): validation labels (default is None).\n",
    "\n",
    "        Returns:\n",
    "            typing.Dict[str, typing.Any]: best hyperparameters.\n",
    "        \"\"\"\n",
    "        self.params_grid = params_grid\n",
    "        study = self.create_study()\n",
    "        X = self.check_X(X)\n",
    "        X = self.check_for_object_columns(X)\n",
    "        y = self.check_y(y)\n",
    "        if X_valid is not None and y_valid is not None:\n",
    "            X_valid = self.check_X(X_valid)\n",
    "            y_valid = self.check_y(y_valid)\n",
    "            X_valid = self.check_for_object_columns(X_valid)\n",
    "            study.optimize(\n",
    "                lambda trial: self.objective(trial, X, y, X_valid, y_valid),\n",
    "                n_trials=self.n_trials,\n",
    "            )\n",
    "        else:\n",
    "            study.optimize(\n",
    "                lambda trial: self.objective_cv(trial, X, y),\n",
    "                n_trials=self.n_trials,\n",
    "            )\n",
    "        return study.best_params\n",
    "    \n",
    "    def create_study(self,) -> optuna.study.Study:\n",
    "        \"\"\"This method creates an optuna study object.\n",
    "\n",
    "        Returns:\n",
    "            optuna.study.Study: optuna study object.\n",
    "        \"\"\"\n",
    "        sampler = optuna.samplers.TPESampler(seed=self.seed)\n",
    "        return optuna.create_study(direction=self.direction, sampler=sampler)\n",
    "    \n",
    "    def objective(self, trial: optuna.Trial, X_train: np.ndarray, y_train: np.ndarray, X_valid: np.ndarray, y_valid: np.ndarray) -> float:\n",
    "        \"\"\"\n",
    "        This method defines the objective function for optimization when validation data is provided.\n",
    "\n",
    "        Args:\n",
    "            trial (optuna.Trial): trial object.\n",
    "            X_train (np.ndarray): input data.\n",
    "            y_train (np.ndarray): target data.\n",
    "            X_valid (np.ndarray): validation data.\n",
    "            y_valid (np.ndarray): validation labels.\n",
    "        \n",
    "        Returns:\n",
    "            float: Validation score.\n",
    "        \"\"\"\n",
    "        params = {param_name: self.get_param(trial, param_name, param_values) for param_name, param_values in self.params_grid.items()}\n",
    "        self.algorithm = self.algorithm.set_params(**params)\n",
    "        model.fit(X_train, y_train)\n",
    "        y_valid_pred = model.predict(X_valid)\n",
    "        return self.eval_metric(y_valid, y_valid_pred)\n",
    "    \n",
    "    def objective_cv(self, trial: optuna.Trial, X: np.ndarray, y: np.ndarray) -> float:\n",
    "        \"\"\"\n",
    "        This method defines the objective function for optimization when validation data is not provided.\n",
    "\n",
    "        Args:\n",
    "            trial (optuna.Trial): trial object.\n",
    "            X (np.ndarray): input data.\n",
    "            y (np.ndarray): target data.\n",
    "        \n",
    "        Returns:\n",
    "            float: Cross-validation score.\n",
    "        \"\"\"\n",
    "        params = {param_name: self.get_param(trial, param_name, param_values) for param_name, param_values in self.params_grid.items()}\n",
    "        self.algorithm = self.algorithm.set_params(**params)\n",
    "        return self.perform_cv(X, y)\n",
    "\n",
    "    \n",
    "    def get_param(self, trial: optuna.Trial, param_name: str, param_values: typing.Tuple[str, typing.List[typing.Any]]) -> typing.Any:\n",
    "        \"\"\"\n",
    "        This method converts the parameter values to the optuna parameter suggestion.\n",
    "\n",
    "        Args:\n",
    "            trial (optuna.Trial): trial object.\n",
    "            param_name (str): parameter name.\n",
    "            param_values (typing.Tuple[str, typing.List[typing.Any]]): parameter values.\n",
    "\n",
    "        Returns:\n",
    "            typing.Any: parameter suggestion.\n",
    "        \"\"\"\n",
    "        param_type, param_value = param_values\n",
    "        if param_type == \"int\":\n",
    "            return trial.suggest_int(param_name, low=param_value[0], high=param_value[1])\n",
    "        elif param_type == \"float\":\n",
    "            return trial.suggest_float(param_name, low=param_value[0], high=param_value[1])\n",
    "        elif param_type == \"categorical\":\n",
    "            return trial.suggest_categorical(param_name, param_value)\n",
    "        elif param_type == \"constant\":\n",
    "            return trial.suggest_categorical(param_name, [param_value])\n",
    "\n",
    "    def perform_cv(self, X: np.ndarray, y: np.ndarray) -> float:\n",
    "        \"\"\"This method performs cross-validation.\n",
    "\n",
    "        Args:\n",
    "            X: (np.ndarray): input data.\n",
    "            y: (np.ndarray): target data.\n",
    "\n",
    "        Returns:\n",
    "            float: cross-validation score.\n",
    "        \"\"\"\n",
    "        valid_scores = []\n",
    "        for train_idx, valid_idx in self.cv.split(X):\n",
    "            X_train_cv, X_valid_cv = X[train_idx], X[valid_idx]\n",
    "            y_train_cv, y_valid_cv = y[train_idx], y[valid_idx]\n",
    "            self.algorithm.fit(X_train_cv, y_train_cv)\n",
    "            if self.metric_type == \"preds\":\n",
    "                y_valid_pred = self.algorithm.predict(X_valid_cv)\n",
    "            else:\n",
    "                y_valid_pred = self.algorithm.predict_proba(X_valid_cv)[:, 1]\n",
    "            valid_scores.append(self.eval_metric(y_valid_cv, y_valid_pred))\n",
    "        return np.mean(valid_scores)"
   ]
  },
  {
   "cell_type": "code",
   "execution_count": 26,
   "metadata": {},
   "outputs": [
    {
     "name": "stderr",
     "output_type": "stream",
     "text": [
      "[I 2024-05-30 13:34:31,320] A new study created in memory with name: no-name-eaa53b5a-f572-4093-8a61-c8a2995fc18b\n"
     ]
    },
    {
     "name": "stderr",
     "output_type": "stream",
     "text": [
      "[I 2024-05-30 13:34:39,040] Trial 0 finished with value: 0.7675596911079797 and parameters: {'hidden_layer_sizes': 87, 'activation': 'logistic', 'solver': 'adam', 'alpha': 1.329850367462918, 'learning_rate_init': 0.0033688440321963616, 'max_iter': 186, 'random_state': 17}. Best is trial 0 with value: 0.7675596911079797.\n",
      "[I 2024-05-30 13:34:53,880] Trial 1 finished with value: 0.7036680982178802 and parameters: {'hidden_layer_sizes': 72, 'activation': 'relu', 'solver': 'adam', 'alpha': 1.760716525988659, 'learning_rate_init': 0.0007303714952920416, 'max_iter': 198, 'random_state': 17}. Best is trial 1 with value: 0.7036680982178802.\n",
      "[I 2024-05-30 13:35:02,660] Trial 2 finished with value: 0.76564219963942 and parameters: {'hidden_layer_sizes': 103, 'activation': 'logistic', 'solver': 'adam', 'alpha': 1.1449423653864041, 'learning_rate_init': 0.0022822134622116196, 'max_iter': 219, 'random_state': 17}. Best is trial 1 with value: 0.7036680982178802.\n",
      "[I 2024-05-30 13:35:18,654] Trial 3 finished with value: 0.70128260373043 and parameters: {'hidden_layer_sizes': 95, 'activation': 'relu', 'solver': 'adam', 'alpha': 0.6200188412830702, 'learning_rate_init': 0.001394482424901544, 'max_iter': 225, 'random_state': 17}. Best is trial 3 with value: 0.70128260373043.\n",
      "[I 2024-05-30 13:35:30,299] Trial 4 finished with value: 0.7032431617559023 and parameters: {'hidden_layer_sizes': 104, 'activation': 'relu', 'solver': 'adam', 'alpha': 0.28102091651419914, 'learning_rate_init': 0.00250248229754031, 'max_iter': 234, 'random_state': 17}. Best is trial 3 with value: 0.70128260373043.\n",
      "[I 2024-05-30 13:35:37,228] Trial 5 finished with value: 0.7231977446156662 and parameters: {'hidden_layer_sizes': 118, 'activation': 'relu', 'solver': 'adam', 'alpha': 1.4999746920114883, 'learning_rate_init': 0.004494813583485366, 'max_iter': 120, 'random_state': 17}. Best is trial 3 with value: 0.70128260373043.\n",
      "[I 2024-05-30 13:35:44,583] Trial 6 finished with value: 0.7645145271083512 and parameters: {'hidden_layer_sizes': 117, 'activation': 'logistic', 'solver': 'adam', 'alpha': 0.9026413847276797, 'learning_rate_init': 0.0028428577858009936, 'max_iter': 174, 'random_state': 17}. Best is trial 3 with value: 0.70128260373043.\n",
      "[I 2024-05-30 13:35:52,259] Trial 7 finished with value: 0.7682513171057366 and parameters: {'hidden_layer_sizes': 77, 'activation': 'logistic', 'solver': 'adam', 'alpha': 1.9109588378360023, 'learning_rate_init': 0.0013884969988115388, 'max_iter': 112, 'random_state': 17}. Best is trial 3 with value: 0.70128260373043.\n",
      "[I 2024-05-30 13:36:01,631] Trial 8 finished with value: 0.7085858817736841 and parameters: {'hidden_layer_sizes': 123, 'activation': 'relu', 'solver': 'adam', 'alpha': 1.8364146684596327, 'learning_rate_init': 0.0017321593681300293, 'max_iter': 135, 'random_state': 17}. Best is trial 3 with value: 0.70128260373043.\n",
      "[I 2024-05-30 13:36:08,020] Trial 9 finished with value: 0.7709817476665659 and parameters: {'hidden_layer_sizes': 88, 'activation': 'logistic', 'solver': 'adam', 'alpha': 1.4011489240271868, 'learning_rate_init': 0.004032876610687683, 'max_iter': 153, 'random_state': 17}. Best is trial 3 with value: 0.70128260373043.\n",
      "[I 2024-05-30 13:36:34,608] Trial 10 finished with value: 0.723317838290987 and parameters: {'hidden_layer_sizes': 93, 'activation': 'relu', 'solver': 'sgd', 'alpha': 0.6323720990931839, 'learning_rate_init': 0.0006638809896344954, 'max_iter': 250, 'random_state': 17}. Best is trial 3 with value: 0.70128260373043.\n",
      "[I 2024-05-30 13:37:03,161] Trial 11 finished with value: 0.7108248561462175 and parameters: {'hidden_layer_sizes': 103, 'activation': 'relu', 'solver': 'sgd', 'alpha': 0.08581018635502968, 'learning_rate_init': 0.0023769719064083384, 'max_iter': 248, 'random_state': 17}. Best is trial 3 with value: 0.70128260373043.\n",
      "[I 2024-05-30 13:37:27,563] Trial 12 finished with value: 0.7023857727216372 and parameters: {'hidden_layer_sizes': 110, 'activation': 'relu', 'solver': 'sgd', 'alpha': 0.3990320882677054, 'learning_rate_init': 0.0016312515292208132, 'max_iter': 220, 'random_state': 17}. Best is trial 3 with value: 0.70128260373043.\n",
      "[I 2024-05-30 13:37:52,680] Trial 13 finished with value: 0.71126964744478 and parameters: {'hidden_layer_sizes': 112, 'activation': 'relu', 'solver': 'sgd', 'alpha': 0.5542217274386481, 'learning_rate_init': 0.0014048080154156503, 'max_iter': 210, 'random_state': 17}. Best is trial 3 with value: 0.70128260373043.\n",
      "[I 2024-05-30 13:38:18,627] Trial 14 finished with value: 0.7058212309154535 and parameters: {'hidden_layer_sizes': 130, 'activation': 'relu', 'solver': 'sgd', 'alpha': 0.6734492980670712, 'learning_rate_init': 0.0017334755727983382, 'max_iter': 224, 'random_state': 17}. Best is trial 3 with value: 0.70128260373043.\n",
      "[I 2024-05-30 13:38:36,703] Trial 15 finished with value: 0.7320995715937966 and parameters: {'hidden_layer_sizes': 95, 'activation': 'relu', 'solver': 'sgd', 'alpha': 0.38752094340188165, 'learning_rate_init': 0.000529091878894509, 'max_iter': 170, 'random_state': 17}. Best is trial 3 with value: 0.70128260373043.\n",
      "[I 2024-05-30 13:39:00,322] Trial 16 finished with value: 0.7101859665503225 and parameters: {'hidden_layer_sizes': 110, 'activation': 'relu', 'solver': 'sgd', 'alpha': 0.8953532686504446, 'learning_rate_init': 0.0011992598745496593, 'max_iter': 200, 'random_state': 17}. Best is trial 3 with value: 0.70128260373043.\n",
      "[I 2024-05-30 13:39:25,175] Trial 17 finished with value: 0.7113272860642177 and parameters: {'hidden_layer_sizes': 82, 'activation': 'relu', 'solver': 'sgd', 'alpha': 0.15921716266577932, 'learning_rate_init': 0.0019871276975731837, 'max_iter': 233, 'random_state': 17}. Best is trial 3 with value: 0.70128260373043.\n",
      "[I 2024-05-30 13:39:46,082] Trial 18 finished with value: 0.7216743392947356 and parameters: {'hidden_layer_sizes': 97, 'activation': 'relu', 'solver': 'sgd', 'alpha': 0.4158167479062903, 'learning_rate_init': 0.0010944974172415562, 'max_iter': 191, 'random_state': 17}. Best is trial 3 with value: 0.70128260373043.\n",
      "[I 2024-05-30 13:40:04,343] Trial 19 finished with value: 0.7074900160897903 and parameters: {'hidden_layer_sizes': 108, 'activation': 'relu', 'solver': 'sgd', 'alpha': 0.7159512560860845, 'learning_rate_init': 0.001867407425287332, 'max_iter': 157, 'random_state': 17}. Best is trial 3 with value: 0.70128260373043.\n",
      "[I 2024-05-30 13:40:28,030] Trial 20 finished with value: 0.7001905145956077 and parameters: {'hidden_layer_sizes': 91, 'activation': 'relu', 'solver': 'sgd', 'alpha': 0.4597295512248179, 'learning_rate_init': 0.0028577701452167587, 'max_iter': 212, 'random_state': 17}. Best is trial 20 with value: 0.7001905145956077.\n",
      "[I 2024-05-30 13:40:52,802] Trial 21 finished with value: 0.6941063395286057 and parameters: {'hidden_layer_sizes': 90, 'activation': 'relu', 'solver': 'sgd', 'alpha': 0.47611743126980793, 'learning_rate_init': 0.0029525094079428747, 'max_iter': 211, 'random_state': 17}. Best is trial 21 with value: 0.6941063395286057.\n",
      "[I 2024-05-30 13:41:16,325] Trial 22 finished with value: 0.6951213163811192 and parameters: {'hidden_layer_sizes': 89, 'activation': 'relu', 'solver': 'sgd', 'alpha': 0.5310142693329587, 'learning_rate_init': 0.0030146366161073607, 'max_iter': 208, 'random_state': 17}. Best is trial 21 with value: 0.6941063395286057.\n",
      "[I 2024-05-30 13:41:38,818] Trial 23 finished with value: 0.7001702470057063 and parameters: {'hidden_layer_sizes': 88, 'activation': 'relu', 'solver': 'sgd', 'alpha': 0.20977695479169747, 'learning_rate_init': 0.003056818398740514, 'max_iter': 203, 'random_state': 17}. Best is trial 21 with value: 0.6941063395286057.\n",
      "[I 2024-05-30 13:42:01,569] Trial 24 finished with value: 0.708910014223354 and parameters: {'hidden_layer_sizes': 81, 'activation': 'relu', 'solver': 'sgd', 'alpha': 0.27402150643894, 'learning_rate_init': 0.0032875973225478085, 'max_iter': 205, 'random_state': 17}. Best is trial 21 with value: 0.6941063395286057.\n",
      "[I 2024-05-30 13:42:20,633] Trial 25 finished with value: 0.7135033392043362 and parameters: {'hidden_layer_sizes': 84, 'activation': 'relu', 'solver': 'sgd', 'alpha': 0.06601616901253365, 'learning_rate_init': 0.0032389774132542217, 'max_iter': 186, 'random_state': 17}. Best is trial 21 with value: 0.6941063395286057.\n",
      "[I 2024-05-30 13:42:53,220] Trial 26 finished with value: 0.7503384017735417 and parameters: {'hidden_layer_sizes': 76, 'activation': 'logistic', 'solver': 'sgd', 'alpha': 0.2231405837070416, 'learning_rate_init': 0.003758141187787414, 'max_iter': 192, 'random_state': 17}. Best is trial 21 with value: 0.6941063395286057.\n",
      "[I 2024-05-30 13:43:11,691] Trial 27 finished with value: 0.701204355875358 and parameters: {'hidden_layer_sizes': 88, 'activation': 'relu', 'solver': 'sgd', 'alpha': 0.23995437154616547, 'learning_rate_init': 0.0030002593520988617, 'max_iter': 163, 'random_state': 17}. Best is trial 21 with value: 0.6941063395286057.\n",
      "[I 2024-05-30 13:43:37,403] Trial 28 finished with value: 0.7047040977333314 and parameters: {'hidden_layer_sizes': 98, 'activation': 'relu', 'solver': 'sgd', 'alpha': 0.4864008997144761, 'learning_rate_init': 0.0025781133723347836, 'max_iter': 238, 'random_state': 17}. Best is trial 21 with value: 0.6941063395286057.\n",
      "[I 2024-05-30 13:44:11,871] Trial 29 finished with value: 0.7556219856598124 and parameters: {'hidden_layer_sizes': 90, 'activation': 'logistic', 'solver': 'sgd', 'alpha': 0.7859171057712255, 'learning_rate_init': 0.003619703168928652, 'max_iter': 181, 'random_state': 17}. Best is trial 21 with value: 0.6941063395286057.\n",
      "[I 2024-05-30 13:44:34,218] Trial 30 finished with value: 0.6964146585097089 and parameters: {'hidden_layer_sizes': 85, 'activation': 'relu', 'solver': 'sgd', 'alpha': 0.5516798816523376, 'learning_rate_init': 0.0030738524276722177, 'max_iter': 211, 'random_state': 17}. Best is trial 21 with value: 0.6941063395286057.\n",
      "[I 2024-05-30 13:44:57,640] Trial 31 finished with value: 0.6977314443493674 and parameters: {'hidden_layer_sizes': 85, 'activation': 'relu', 'solver': 'sgd', 'alpha': 0.5272501762231611, 'learning_rate_init': 0.003081934352055768, 'max_iter': 212, 'random_state': 17}. Best is trial 21 with value: 0.6941063395286057.\n",
      "[I 2024-05-30 13:45:21,327] Trial 32 finished with value: 0.7025838404548754 and parameters: {'hidden_layer_sizes': 84, 'activation': 'relu', 'solver': 'sgd', 'alpha': 0.5164839248865764, 'learning_rate_init': 0.003466029649149163, 'max_iter': 213, 'random_state': 17}. Best is trial 21 with value: 0.6941063395286057.\n",
      "[I 2024-05-30 13:45:41,356] Trial 33 finished with value: 0.7039731051594811 and parameters: {'hidden_layer_sizes': 70, 'activation': 'relu', 'solver': 'sgd', 'alpha': 0.7974170331939485, 'learning_rate_init': 0.002636943505979733, 'max_iter': 196, 'random_state': 17}. Best is trial 21 with value: 0.6941063395286057.\n",
      "[I 2024-05-30 13:46:04,784] Trial 34 finished with value: 0.6985646676117717 and parameters: {'hidden_layer_sizes': 76, 'activation': 'relu', 'solver': 'sgd', 'alpha': 0.5958400816698656, 'learning_rate_init': 0.003092391325563518, 'max_iter': 227, 'random_state': 17}. Best is trial 21 with value: 0.6941063395286057.\n",
      "[I 2024-05-30 13:46:28,330] Trial 35 finished with value: 0.7075435015907352 and parameters: {'hidden_layer_sizes': 81, 'activation': 'relu', 'solver': 'sgd', 'alpha': 1.1270103048214994, 'learning_rate_init': 0.0021585763925753864, 'max_iter': 214, 'random_state': 17}. Best is trial 21 with value: 0.6941063395286057.\n",
      "[I 2024-05-30 13:46:54,144] Trial 36 finished with value: 0.7049257472561902 and parameters: {'hidden_layer_sizes': 78, 'activation': 'relu', 'solver': 'sgd', 'alpha': 0.32796165946891487, 'learning_rate_init': 0.002702970202243378, 'max_iter': 240, 'random_state': 17}. Best is trial 21 with value: 0.6941063395286057.\n",
      "[I 2024-05-30 13:47:27,382] Trial 37 finished with value: 0.7567936628945624 and parameters: {'hidden_layer_sizes': 85, 'activation': 'logistic', 'solver': 'sgd', 'alpha': 0.5394688773546051, 'learning_rate_init': 0.002383137981205959, 'max_iter': 182, 'random_state': 17}. Best is trial 21 with value: 0.6941063395286057.\n",
      "[I 2024-05-30 13:47:52,615] Trial 38 finished with value: 0.6993808599777889 and parameters: {'hidden_layer_sizes': 92, 'activation': 'relu', 'solver': 'sgd', 'alpha': 0.329350574951201, 'learning_rate_init': 0.002912496348071894, 'max_iter': 229, 'random_state': 17}. Best is trial 21 with value: 0.6941063395286057.\n",
      "[I 2024-05-30 13:48:01,660] Trial 39 finished with value: 0.7040826907195663 and parameters: {'hidden_layer_sizes': 100, 'activation': 'relu', 'solver': 'adam', 'alpha': 0.6798062938586982, 'learning_rate_init': 0.003436608272398962, 'max_iter': 207, 'random_state': 17}. Best is trial 21 with value: 0.6941063395286057.\n",
      "[I 2024-05-30 13:48:09,275] Trial 40 finished with value: 0.7615149307744672 and parameters: {'hidden_layer_sizes': 73, 'activation': 'logistic', 'solver': 'adam', 'alpha': 0.9578709882052112, 'learning_rate_init': 0.002681455253163534, 'max_iter': 218, 'random_state': 17}. Best is trial 21 with value: 0.6941063395286057.\n",
      "[I 2024-05-30 13:48:32,515] Trial 41 finished with value: 0.7029905533661213 and parameters: {'hidden_layer_sizes': 75, 'activation': 'relu', 'solver': 'sgd', 'alpha': 0.5859069914948969, 'learning_rate_init': 0.0030963725639610454, 'max_iter': 226, 'random_state': 17}. Best is trial 21 with value: 0.6941063395286057.\n",
      "[I 2024-05-30 13:48:58,005] Trial 42 finished with value: 0.6967181294320218 and parameters: {'hidden_layer_sizes': 79, 'activation': 'relu', 'solver': 'sgd', 'alpha': 0.5946494866157181, 'learning_rate_init': 0.0031202395471578636, 'max_iter': 242, 'random_state': 17}. Best is trial 21 with value: 0.6941063395286057.\n",
      "[I 2024-05-30 13:49:23,685] Trial 43 finished with value: 0.6974902626491382 and parameters: {'hidden_layer_sizes': 80, 'activation': 'relu', 'solver': 'sgd', 'alpha': 0.4582715450365166, 'learning_rate_init': 0.003248846306917263, 'max_iter': 244, 'random_state': 17}. Best is trial 21 with value: 0.6941063395286057.\n",
      "[I 2024-05-30 13:49:49,376] Trial 44 finished with value: 0.7000515984449767 and parameters: {'hidden_layer_sizes': 79, 'activation': 'relu', 'solver': 'sgd', 'alpha': 0.4312657603553902, 'learning_rate_init': 0.002821177633249642, 'max_iter': 242, 'random_state': 17}. Best is trial 21 with value: 0.6941063395286057.\n",
      "[I 2024-05-30 13:50:15,406] Trial 45 finished with value: 0.694771607163282 and parameters: {'hidden_layer_sizes': 73, 'activation': 'relu', 'solver': 'sgd', 'alpha': 0.786869345633386, 'learning_rate_init': 0.0038993586937661733, 'max_iter': 242, 'random_state': 17}. Best is trial 21 with value: 0.6941063395286057.\n",
      "[I 2024-05-30 13:50:23,555] Trial 46 finished with value: 0.7124218010936675 and parameters: {'hidden_layer_sizes': 72, 'activation': 'relu', 'solver': 'adam', 'alpha': 0.7533827006127143, 'learning_rate_init': 0.003915017678256685, 'max_iter': 137, 'random_state': 17}. Best is trial 21 with value: 0.6941063395286057.\n",
      "[I 2024-05-30 13:50:48,666] Trial 47 finished with value: 0.6949766144509962 and parameters: {'hidden_layer_sizes': 73, 'activation': 'relu', 'solver': 'sgd', 'alpha': 0.8327380261878736, 'learning_rate_init': 0.004333802097912271, 'max_iter': 250, 'random_state': 17}. Best is trial 21 with value: 0.6941063395286057.\n",
      "[I 2024-05-30 13:51:29,922] Trial 48 finished with value: 0.7542915446248856 and parameters: {'hidden_layer_sizes': 70, 'activation': 'logistic', 'solver': 'sgd', 'alpha': 0.8451629750891066, 'learning_rate_init': 0.0043373560099443315, 'max_iter': 250, 'random_state': 17}. Best is trial 21 with value: 0.6941063395286057.\n",
      "[I 2024-05-30 13:51:39,101] Trial 49 finished with value: 0.7154268875766279 and parameters: {'hidden_layer_sizes': 94, 'activation': 'relu', 'solver': 'adam', 'alpha': 0.6457027680598791, 'learning_rate_init': 0.004634265351380185, 'max_iter': 232, 'random_state': 17}. Best is trial 21 with value: 0.6941063395286057.\n",
      "[I 2024-05-30 13:52:02,300] Trial 50 finished with value: 0.689765351975328 and parameters: {'hidden_layer_sizes': 74, 'activation': 'relu', 'solver': 'sgd', 'alpha': 1.071595918148091, 'learning_rate_init': 0.0049952291451687255, 'max_iter': 220, 'random_state': 17}. Best is trial 50 with value: 0.689765351975328.\n",
      "[I 2024-05-30 13:52:25,414] Trial 51 finished with value: 0.689591964001991 and parameters: {'hidden_layer_sizes': 74, 'activation': 'relu', 'solver': 'sgd', 'alpha': 1.0117190538713936, 'learning_rate_init': 0.0042063034679389565, 'max_iter': 223, 'random_state': 17}. Best is trial 51 with value: 0.689591964001991.\n",
      "[I 2024-05-30 13:52:50,145] Trial 52 finished with value: 0.6925408939832525 and parameters: {'hidden_layer_sizes': 73, 'activation': 'relu', 'solver': 'sgd', 'alpha': 1.0594882211736596, 'learning_rate_init': 0.0043101108054935475, 'max_iter': 237, 'random_state': 17}. Best is trial 51 with value: 0.689591964001991.\n",
      "[I 2024-05-30 13:53:14,019] Trial 53 finished with value: 0.6909866490014971 and parameters: {'hidden_layer_sizes': 74, 'activation': 'relu', 'solver': 'sgd', 'alpha': 1.0604333958427574, 'learning_rate_init': 0.004964506373006086, 'max_iter': 237, 'random_state': 17}. Best is trial 51 with value: 0.689591964001991.\n",
      "[I 2024-05-30 13:53:37,252] Trial 54 finished with value: 0.6907136852851208 and parameters: {'hidden_layer_sizes': 74, 'activation': 'relu', 'solver': 'sgd', 'alpha': 1.0553232473384189, 'learning_rate_init': 0.004790897304219088, 'max_iter': 221, 'random_state': 17}. Best is trial 51 with value: 0.689591964001991.\n",
      "[I 2024-05-30 13:53:59,423] Trial 55 finished with value: 0.6916927058648301 and parameters: {'hidden_layer_sizes': 75, 'activation': 'relu', 'solver': 'sgd', 'alpha': 1.07079813218849, 'learning_rate_init': 0.004967619627991733, 'max_iter': 223, 'random_state': 17}. Best is trial 51 with value: 0.689591964001991.\n",
      "[I 2024-05-30 13:54:22,302] Trial 56 finished with value: 0.6939272477172137 and parameters: {'hidden_layer_sizes': 75, 'activation': 'relu', 'solver': 'sgd', 'alpha': 1.059623380944188, 'learning_rate_init': 0.004973160687605177, 'max_iter': 221, 'random_state': 17}. Best is trial 51 with value: 0.689591964001991.\n",
      "[I 2024-05-30 13:54:45,930] Trial 57 finished with value: 0.6924837733324122 and parameters: {'hidden_layer_sizes': 77, 'activation': 'relu', 'solver': 'sgd', 'alpha': 1.2290200205799147, 'learning_rate_init': 0.004949798242563499, 'max_iter': 235, 'random_state': 17}. Best is trial 51 with value: 0.689591964001991.\n",
      "[I 2024-05-30 13:55:07,529] Trial 58 finished with value: 0.695183185193532 and parameters: {'hidden_layer_sizes': 70, 'activation': 'relu', 'solver': 'sgd', 'alpha': 1.2345797519554031, 'learning_rate_init': 0.004975969915375949, 'max_iter': 218, 'random_state': 17}. Best is trial 51 with value: 0.689591964001991.\n",
      "[I 2024-05-30 13:55:32,232] Trial 59 finished with value: 0.6967832044138886 and parameters: {'hidden_layer_sizes': 77, 'activation': 'relu', 'solver': 'sgd', 'alpha': 1.2517602466895075, 'learning_rate_init': 0.0047349423031153946, 'max_iter': 234, 'random_state': 17}. Best is trial 51 with value: 0.689591964001991.\n",
      "[I 2024-05-30 13:55:38,712] Trial 60 finished with value: 0.7161054067805251 and parameters: {'hidden_layer_sizes': 82, 'activation': 'relu', 'solver': 'adam', 'alpha': 1.007297823080076, 'learning_rate_init': 0.004807642606235565, 'max_iter': 223, 'random_state': 17}. Best is trial 51 with value: 0.689591964001991.\n",
      "[I 2024-05-30 13:56:01,731] Trial 61 finished with value: 0.6908099360136974 and parameters: {'hidden_layer_sizes': 74, 'activation': 'relu', 'solver': 'sgd', 'alpha': 1.1521897364903488, 'learning_rate_init': 0.004548990061059797, 'max_iter': 233, 'random_state': 17}. Best is trial 51 with value: 0.689591964001991.\n",
      "[I 2024-05-30 13:56:24,976] Trial 62 finished with value: 0.6914278517620731 and parameters: {'hidden_layer_sizes': 74, 'activation': 'relu', 'solver': 'sgd', 'alpha': 1.1533633411919613, 'learning_rate_init': 0.004549562125096176, 'max_iter': 230, 'random_state': 17}. Best is trial 51 with value: 0.689591964001991.\n",
      "[I 2024-05-30 13:56:48,431] Trial 63 finished with value: 0.6940147014813374 and parameters: {'hidden_layer_sizes': 75, 'activation': 'relu', 'solver': 'sgd', 'alpha': 1.127539714126183, 'learning_rate_init': 0.00452996644343182, 'max_iter': 230, 'random_state': 17}. Best is trial 51 with value: 0.689591964001991.\n",
      "[I 2024-05-30 13:57:09,921] Trial 64 finished with value: 0.6962348032075144 and parameters: {'hidden_layer_sizes': 71, 'activation': 'relu', 'solver': 'sgd', 'alpha': 0.9502685754075509, 'learning_rate_init': 0.004812577920225159, 'max_iter': 219, 'random_state': 17}. Best is trial 51 with value: 0.689591964001991.\n",
      "[I 2024-05-30 13:57:33,252] Trial 65 finished with value: 0.6900602850483992 and parameters: {'hidden_layer_sizes': 74, 'activation': 'relu', 'solver': 'sgd', 'alpha': 1.1757343629966635, 'learning_rate_init': 0.004615361607186984, 'max_iter': 227, 'random_state': 17}. Best is trial 51 with value: 0.689591964001991.\n",
      "[I 2024-05-30 13:58:14,965] Trial 66 finished with value: 0.7611662615800416 and parameters: {'hidden_layer_sizes': 117, 'activation': 'logistic', 'solver': 'sgd', 'alpha': 1.355560228012171, 'learning_rate_init': 0.0045281412220724675, 'max_iter': 200, 'random_state': 17}. Best is trial 51 with value: 0.689591964001991.\n",
      "[I 2024-05-30 13:58:37,345] Trial 67 finished with value: 0.6955815658024378 and parameters: {'hidden_layer_sizes': 72, 'activation': 'relu', 'solver': 'sgd', 'alpha': 1.1661759982170254, 'learning_rate_init': 0.004693319387155785, 'max_iter': 229, 'random_state': 17}. Best is trial 51 with value: 0.689591964001991.\n",
      "[I 2024-05-30 13:58:47,825] Trial 68 finished with value: 0.7080203018927228 and parameters: {'hidden_layer_sizes': 78, 'activation': 'relu', 'solver': 'sgd', 'alpha': 0.9992978676232377, 'learning_rate_init': 0.004247764748071422, 'max_iter': 100, 'random_state': 17}. Best is trial 51 with value: 0.689591964001991.\n",
      "[I 2024-05-30 13:59:16,654] Trial 69 finished with value: 0.692531612447423 and parameters: {'hidden_layer_sizes': 128, 'activation': 'relu', 'solver': 'sgd', 'alpha': 1.1835758780201973, 'learning_rate_init': 0.0045642196827106055, 'max_iter': 246, 'random_state': 17}. Best is trial 51 with value: 0.689591964001991.\n",
      "[I 2024-05-30 13:59:38,172] Trial 70 finished with value: 0.6927294928009993 and parameters: {'hidden_layer_sizes': 82, 'activation': 'relu', 'solver': 'sgd', 'alpha': 1.3094404658201508, 'learning_rate_init': 0.004819049085082723, 'max_iter': 217, 'random_state': 17}. Best is trial 51 with value: 0.689591964001991.\n",
      "[I 2024-05-30 14:00:01,578] Trial 71 finished with value: 0.6921868113095273 and parameters: {'hidden_layer_sizes': 74, 'activation': 'relu', 'solver': 'sgd', 'alpha': 1.0965826669945777, 'learning_rate_init': 0.004432918340286485, 'max_iter': 224, 'random_state': 17}. Best is trial 51 with value: 0.689591964001991.\n",
      "[I 2024-05-30 14:00:23,889] Trial 72 finished with value: 0.6926461177775903 and parameters: {'hidden_layer_sizes': 76, 'activation': 'relu', 'solver': 'sgd', 'alpha': 1.0685490328819334, 'learning_rate_init': 0.004661541957901547, 'max_iter': 225, 'random_state': 17}. Best is trial 51 with value: 0.689591964001991.\n",
      "[I 2024-05-30 14:00:47,979] Trial 73 finished with value: 0.6913405926575804 and parameters: {'hidden_layer_sizes': 74, 'activation': 'relu', 'solver': 'sgd', 'alpha': 1.016994318372462, 'learning_rate_init': 0.004844901470577453, 'max_iter': 237, 'random_state': 17}. Best is trial 51 with value: 0.689591964001991.\n",
      "[I 2024-05-30 14:01:12,873] Trial 74 finished with value: 0.691554678605949 and parameters: {'hidden_layer_sizes': 78, 'activation': 'relu', 'solver': 'sgd', 'alpha': 0.8985411951056586, 'learning_rate_init': 0.004808120668088009, 'max_iter': 236, 'random_state': 17}. Best is trial 51 with value: 0.689591964001991.\n",
      "[I 2024-05-30 14:01:35,952] Trial 75 finished with value: 0.6973202818539713 and parameters: {'hidden_layer_sizes': 71, 'activation': 'relu', 'solver': 'sgd', 'alpha': 1.1505485812564509, 'learning_rate_init': 0.004418261514104597, 'max_iter': 233, 'random_state': 17}. Best is trial 51 with value: 0.689591964001991.\n",
      "[I 2024-05-30 14:01:59,565] Trial 76 finished with value: 0.6923346854957917 and parameters: {'hidden_layer_sizes': 74, 'activation': 'relu', 'solver': 'sgd', 'alpha': 0.9818958650216041, 'learning_rate_init': 0.00419529762997208, 'max_iter': 229, 'random_state': 17}. Best is trial 51 with value: 0.689591964001991.\n",
      "[I 2024-05-30 14:02:23,774] Trial 77 finished with value: 0.6942374256364283 and parameters: {'hidden_layer_sizes': 80, 'activation': 'relu', 'solver': 'sgd', 'alpha': 1.012314354170125, 'learning_rate_init': 0.004615335529157874, 'max_iter': 237, 'random_state': 17}. Best is trial 51 with value: 0.689591964001991.\n",
      "[I 2024-05-30 14:02:57,143] Trial 78 finished with value: 0.7550245580640749 and parameters: {'hidden_layer_sizes': 71, 'activation': 'logistic', 'solver': 'sgd', 'alpha': 0.9181031956041938, 'learning_rate_init': 0.004130865403462709, 'max_iter': 216, 'random_state': 17}. Best is trial 51 with value: 0.689591964001991.\n",
      "[I 2024-05-30 14:03:22,653] Trial 79 finished with value: 0.6915309849410927 and parameters: {'hidden_layer_sizes': 77, 'activation': 'relu', 'solver': 'sgd', 'alpha': 1.1014260973090138, 'learning_rate_init': 0.004452663596742744, 'max_iter': 245, 'random_state': 17}. Best is trial 51 with value: 0.689591964001991.\n",
      "[I 2024-05-30 14:03:46,593] Trial 80 finished with value: 0.693296635264107 and parameters: {'hidden_layer_sizes': 74, 'activation': 'relu', 'solver': 'sgd', 'alpha': 1.1980568058512346, 'learning_rate_init': 0.004702051385040338, 'max_iter': 239, 'random_state': 17}. Best is trial 51 with value: 0.689591964001991.\n",
      "[I 2024-05-30 14:04:11,718] Trial 81 finished with value: 0.6941707992673953 and parameters: {'hidden_layer_sizes': 77, 'activation': 'relu', 'solver': 'sgd', 'alpha': 1.1164592565889864, 'learning_rate_init': 0.004439266672260868, 'max_iter': 246, 'random_state': 17}. Best is trial 51 with value: 0.689591964001991.\n",
      "[I 2024-05-30 14:04:35,485] Trial 82 finished with value: 0.6944774160899411 and parameters: {'hidden_layer_sizes': 72, 'activation': 'relu', 'solver': 'sgd', 'alpha': 1.1260523768136457, 'learning_rate_init': 0.0045466290297998, 'max_iter': 231, 'random_state': 17}. Best is trial 51 with value: 0.689591964001991.\n",
      "[I 2024-05-30 14:05:00,033] Trial 83 finished with value: 0.6934578098909183 and parameters: {'hidden_layer_sizes': 79, 'activation': 'relu', 'solver': 'sgd', 'alpha': 1.0223706737287663, 'learning_rate_init': 0.004872868773152118, 'max_iter': 245, 'random_state': 17}. Best is trial 51 with value: 0.689591964001991.\n",
      "[I 2024-05-30 14:05:24,436] Trial 84 finished with value: 0.6885303410805015 and parameters: {'hidden_layer_sizes': 76, 'activation': 'relu', 'solver': 'sgd', 'alpha': 0.947292806931232, 'learning_rate_init': 0.004859530660721283, 'max_iter': 239, 'random_state': 17}. Best is trial 84 with value: 0.6885303410805015.\n",
      "[I 2024-05-30 14:05:52,487] Trial 85 finished with value: 0.6920932903673749 and parameters: {'hidden_layer_sizes': 104, 'activation': 'relu', 'solver': 'sgd', 'alpha': 0.956068408455505, 'learning_rate_init': 0.004717566798690741, 'max_iter': 240, 'random_state': 17}. Best is trial 84 with value: 0.6885303410805015.\n",
      "[I 2024-05-30 14:06:00,108] Trial 86 finished with value: 0.714982700204031 and parameters: {'hidden_layer_sizes': 75, 'activation': 'relu', 'solver': 'adam', 'alpha': 1.0283731673354795, 'learning_rate_init': 0.004888154997634025, 'max_iter': 221, 'random_state': 17}. Best is trial 84 with value: 0.6885303410805015.\n",
      "[I 2024-05-30 14:06:23,348] Trial 87 finished with value: 0.6911885641949642 and parameters: {'hidden_layer_sizes': 83, 'activation': 'relu', 'solver': 'sgd', 'alpha': 0.8787978400494108, 'learning_rate_init': 0.004777472604598882, 'max_iter': 227, 'random_state': 17}. Best is trial 84 with value: 0.6885303410805015.\n",
      "[I 2024-05-30 14:06:48,117] Trial 88 finished with value: 0.6902306682119841 and parameters: {'hidden_layer_sizes': 83, 'activation': 'relu', 'solver': 'sgd', 'alpha': 0.8866271676034978, 'learning_rate_init': 0.0047716203354898346, 'max_iter': 226, 'random_state': 17}. Best is trial 84 with value: 0.6885303410805015.\n",
      "[I 2024-05-30 14:07:10,503] Trial 89 finished with value: 0.6948333788612322 and parameters: {'hidden_layer_sizes': 87, 'activation': 'relu', 'solver': 'sgd', 'alpha': 0.8599572297625486, 'learning_rate_init': 0.00465475508451759, 'max_iter': 204, 'random_state': 17}. Best is trial 84 with value: 0.6885303410805015.\n",
      "[I 2024-05-30 14:07:48,557] Trial 90 finished with value: 0.7543618543808711 and parameters: {'hidden_layer_sizes': 83, 'activation': 'logistic', 'solver': 'sgd', 'alpha': 0.9356255564968929, 'learning_rate_init': 0.004945280037282198, 'max_iter': 226, 'random_state': 17}. Best is trial 84 with value: 0.6885303410805015.\n",
      "[I 2024-05-30 14:08:10,797] Trial 91 finished with value: 0.6890240660545166 and parameters: {'hidden_layer_sizes': 80, 'activation': 'relu', 'solver': 'sgd', 'alpha': 0.8848511190141946, 'learning_rate_init': 0.004804489683234002, 'max_iter': 215, 'random_state': 17}. Best is trial 84 with value: 0.6885303410805015.\n",
      "[I 2024-05-30 14:08:31,837] Trial 92 finished with value: 0.6961396065121829 and parameters: {'hidden_layer_sizes': 81, 'activation': 'relu', 'solver': 'sgd', 'alpha': 0.858324596390132, 'learning_rate_init': 0.004762584144730279, 'max_iter': 215, 'random_state': 17}. Best is trial 84 with value: 0.6885303410805015.\n",
      "[I 2024-05-30 14:08:53,555] Trial 93 finished with value: 0.6897632917236407 and parameters: {'hidden_layer_sizes': 80, 'activation': 'relu', 'solver': 'sgd', 'alpha': 0.9038171317910579, 'learning_rate_init': 0.004999288782046379, 'max_iter': 209, 'random_state': 17}. Best is trial 84 with value: 0.6885303410805015.\n",
      "[I 2024-05-30 14:09:15,639] Trial 94 finished with value: 0.6909484557763717 and parameters: {'hidden_layer_sizes': 80, 'activation': 'relu', 'solver': 'sgd', 'alpha': 0.9175932003494703, 'learning_rate_init': 0.004984911707469474, 'max_iter': 211, 'random_state': 17}. Best is trial 84 with value: 0.6885303410805015.\n",
      "[I 2024-05-30 14:09:34,679] Trial 95 finished with value: 0.6915233301949726 and parameters: {'hidden_layer_sizes': 80, 'activation': 'relu', 'solver': 'sgd', 'alpha': 0.9100058269419292, 'learning_rate_init': 0.004625833891890914, 'max_iter': 207, 'random_state': 17}. Best is trial 84 with value: 0.6885303410805015.\n",
      "[I 2024-05-30 14:09:54,502] Trial 96 finished with value: 0.6921662236196685 and parameters: {'hidden_layer_sizes': 78, 'activation': 'relu', 'solver': 'sgd', 'alpha': 0.9497110992910187, 'learning_rate_init': 0.004888698347506704, 'max_iter': 200, 'random_state': 17}. Best is trial 84 with value: 0.6885303410805015.\n",
      "[I 2024-05-30 14:10:16,332] Trial 97 finished with value: 0.6900925835659859 and parameters: {'hidden_layer_sizes': 76, 'activation': 'relu', 'solver': 'sgd', 'alpha': 0.8068651216770663, 'learning_rate_init': 0.004744414711899187, 'max_iter': 210, 'random_state': 17}. Best is trial 84 with value: 0.6885303410805015.\n",
      "[I 2024-05-30 14:10:23,169] Trial 98 finished with value: 0.7173296666166451 and parameters: {'hidden_layer_sizes': 76, 'activation': 'relu', 'solver': 'adam', 'alpha': 0.8136258018949717, 'learning_rate_init': 0.004727536211900906, 'max_iter': 192, 'random_state': 17}. Best is trial 84 with value: 0.6885303410805015.\n",
      "[I 2024-05-30 14:10:41,780] Trial 99 finished with value: 0.6954609528362196 and parameters: {'hidden_layer_sizes': 70, 'activation': 'relu', 'solver': 'sgd', 'alpha': 0.741969445420446, 'learning_rate_init': 0.004375665320275368, 'max_iter': 220, 'random_state': 17}. Best is trial 84 with value: 0.6885303410805015.\n"
     ]
    }
   ],
   "source": [
    "params_dict = {\n",
    "    \"hidden_layer_sizes\": (\"int\", [70, 130]),\n",
    "    \"activation\": (\"categorical\", [\"logistic\", \"relu\"]),\n",
    "    \"solver\": (\"categorical\", [\"sgd\", \"adam\"]),\n",
    "    \"alpha\": (\"float\", [0.05, 2]),\n",
    "    \"learning_rate_init\": (\"float\", [0.0005, 0.005]),\n",
    "    \"max_iter\": (\"int\", [100, 250]),\n",
    "    \"random_state\": (\"constant\", SEED),\n",
    "}\n",
    "CV = RandomSearchCV(\n",
    "    algorithm=MLPRegressor(random_state=SEED),\n",
    "    metric=\"rmse\",\n",
    "    cv=KFold(n_splits=5, shuffle=True, random_state=SEED),\n",
    "    n_trials=100,\n",
    "    seed=SEED,\n",
    ")\n",
    "train_data_scaled = train_data_transformations.copy()\n",
    "train_data_scaled[features_to_scale] = scaler.fit_transform(train_data_scaled[features_to_scale])\n",
    "train_data_scaled[target] = scaler.fit_transform(train_data_scaled[target].values.reshape(-1, 1)).ravel()\n",
    "best_params = CV.tune(train_data_scaled[subset], train_data_scaled[target], params_dict)"
   ]
  },
  {
   "cell_type": "code",
   "execution_count": 27,
   "metadata": {},
   "outputs": [
    {
     "data": {
      "text/html": [
       "<style type=\"text/css\">\n",
       "#T_89118_row0_col1, #T_89118_row1_col2, #T_89118_row1_col3 {\n",
       "  background-color: #fff5f0;\n",
       "  color: #000000;\n",
       "}\n",
       "#T_89118_row0_col2, #T_89118_row0_col3, #T_89118_row1_col1 {\n",
       "  background-color: #67000d;\n",
       "  color: #f1f1f1;\n",
       "}\n",
       "</style>\n",
       "<table id=\"T_89118\">\n",
       "  <thead>\n",
       "    <tr>\n",
       "      <th class=\"blank level0\" >&nbsp;</th>\n",
       "      <th id=\"T_89118_level0_col0\" class=\"col_heading level0 col0\" >Model</th>\n",
       "      <th id=\"T_89118_level0_col1\" class=\"col_heading level0 col1\" >Train RMSE</th>\n",
       "      <th id=\"T_89118_level0_col2\" class=\"col_heading level0 col2\" >Validation RMSE</th>\n",
       "      <th id=\"T_89118_level0_col3\" class=\"col_heading level0 col3\" >Test RMSE</th>\n",
       "    </tr>\n",
       "  </thead>\n",
       "  <tbody>\n",
       "    <tr>\n",
       "      <th id=\"T_89118_level0_row0\" class=\"row_heading level0 row0\" >0</th>\n",
       "      <td id=\"T_89118_row0_col0\" class=\"data row0 col0\" >Base</td>\n",
       "      <td id=\"T_89118_row0_col1\" class=\"data row0 col1\" >0.065848</td>\n",
       "      <td id=\"T_89118_row0_col2\" class=\"data row0 col2\" >0.226930</td>\n",
       "      <td id=\"T_89118_row0_col3\" class=\"data row0 col3\" >0.230274</td>\n",
       "    </tr>\n",
       "    <tr>\n",
       "      <th id=\"T_89118_level0_row1\" class=\"row_heading level0 row1\" >1</th>\n",
       "      <td id=\"T_89118_row1_col0\" class=\"data row1 col0\" >Tuning</td>\n",
       "      <td id=\"T_89118_row1_col1\" class=\"data row1 col1\" >0.176353</td>\n",
       "      <td id=\"T_89118_row1_col2\" class=\"data row1 col2\" >0.207430</td>\n",
       "      <td id=\"T_89118_row1_col3\" class=\"data row1 col3\" >0.208035</td>\n",
       "    </tr>\n",
       "  </tbody>\n",
       "</table>\n"
      ],
      "text/plain": [
       "<pandas.io.formats.style.Styler at 0x24ee0f721d0>"
      ]
     },
     "execution_count": 27,
     "metadata": {},
     "output_type": "execute_result"
    }
   ],
   "source": [
    "#Model bazowy\n",
    "model = MLPRegressor(random_state=SEED)\n",
    "base_train_scores, base_validation_scores = perform_cv_scaling(train_data_transformations[features_transformations], train_data_transformations[target], model, scaler=scaler, features_to_scale=continous_features, target_to_scale=True)\n",
    "base_test_score = test_evaluation_scaling(train_data_transformations[features_transformations], train_data_transformations[target], test_data_transformations[features_transformations], test_data_transformations[target], model, scaler=scaler, features_to_scale=continous_features, target_to_scale=True)\n",
    "#Tuning\n",
    "model = MLPRegressor(**best_params)\n",
    "tuning_train_scores, tuning_validation_scores = perform_cv_scaling(train_data_transformations[subset], train_data_transformations[target], model, scaler=scaler, features_to_scale=features_to_scale, target_to_scale=True)\n",
    "tuning_test_score = test_evaluation_scaling(train_data_transformations[subset], train_data_transformations[target], test_data_transformations[subset], test_data_transformations[target], model, scaler=scaler, features_to_scale=features_to_scale, target_to_scale=True)\n",
    "results = pd.DataFrame({\n",
    "    \"Model\": [\"Base\", \"Tuning\"],\n",
    "    \"Train RMSE\": [base_train_scores, tuning_train_scores],\n",
    "    \"Validation RMSE\": [base_validation_scores, tuning_validation_scores],\n",
    "    \"Test RMSE\": [base_test_score, tuning_test_score]\n",
    "})\n",
    "results.style.background_gradient(cmap='Reds', axis=0)"
   ]
  },
  {
   "cell_type": "code",
   "execution_count": 28,
   "metadata": {},
   "outputs": [],
   "source": [
    "def evaluation_scaling(X_train: pd.DataFrame, y_train: pd.Series, X_test: pd.DataFrame, y_test: pd.Series, algorithm: typing.Any, metric: typing.Any = mean_squared_error, scaler: typing.Any = StandardScaler(), features_to_scale: typing.List[str] = None, target_to_scale: bool = False) -> typing.Tuple[float, float, np.ndarray]:\n",
    "    \"\"\"\n",
    "    Train the algorithm on the train data and evaluate on the train and test data\n",
    "    \n",
    "    Args:\n",
    "        X_train (pd.DataFrame): input train data\n",
    "        y_train (pd.Series): target train data\n",
    "        X_test (pd.DataFrame): input test data\n",
    "        y_test (pd.Series): target test data\n",
    "        algorithm (typing.Any): algorithm to use for training and prediction\n",
    "        metric (typing.Any): metric to use for evaluation.\n",
    "        scaler (typing.Any): scaler to use for scaling\n",
    "        features_to_scale (typing.List[str]): list of features to scale\n",
    "        target_to_scale (bool): whether to scale target data\n",
    "    \n",
    "    Returns:\n",
    "        typing.Tuple[float, float, np.ndarray]: train_score, test_score, predictions on test data\n",
    "    \"\"\"\n",
    "    X_train[features_to_scale] = scaler.fit_transform(X_train[features_to_scale])\n",
    "    X_test[features_to_scale] = scaler.transform(X_test[features_to_scale])\n",
    "    if target_to_scale:\n",
    "        y_train = scaler.fit_transform(y_train.values.reshape(-1, 1)).ravel()\n",
    "        y_test = scaler.transform(y_test.values.reshape(-1, 1)).ravel()\n",
    "    algorithm.fit(X_train, y_train)\n",
    "    y_train_pred = algorithm.predict(X_train)\n",
    "    y_test_pred = algorithm.predict(X_test)\n",
    "    if target_to_scale:\n",
    "        y_train = scaler.inverse_transform(y_train.reshape(-1, 1)).ravel()\n",
    "        y_train_pred = scaler.inverse_transform(y_train_pred.reshape(-1, 1)).ravel()\n",
    "        y_test = scaler.inverse_transform(y_test.reshape(-1, 1)).ravel()\n",
    "        y_test_pred = scaler.inverse_transform(y_test_pred.reshape(-1, 1)).ravel()\n",
    "    train_results = metric(y_train, y_train_pred, squared=False)\n",
    "    test_results = metric(y_test, y_test_pred, squared=False)\n",
    "    return train_results, test_results, y_test_pred"
   ]
  },
  {
   "cell_type": "code",
   "execution_count": 29,
   "metadata": {},
   "outputs": [],
   "source": [
    "#Zapisanie modelu\n",
    "import pickle\n",
    "test_indices = test_data.index\n",
    "model = MLPRegressor(**best_params)\n",
    "train_results, test_results, y_test_pred = evaluation_scaling(train_data_transformations[subset], train_data_transformations[target], test_data_transformations[subset], test_data_transformations[target], model, scaler=scaler, features_to_scale=features_to_scale, target_to_scale=True)\n",
    "model_MLP = {\n",
    "    \"name\": \"MLP\",\n",
    "    \"trainResults\": train_results,\n",
    "    \"testResults\": test_results,\n",
    "    \"predictions\": y_test_pred,\n",
    "    \"indices\": test_indices,\n",
    "}\n",
    "with open(\"../data/model_MLP.p\", \"wb\") as fp:\n",
    "    pickle.dump(model_MLP, fp)"
   ]
  },
  {
   "cell_type": "markdown",
   "metadata": {},
   "source": [
    "$\\text{Optymalizacja hiperparametrów modelu pozwoliła na uzyskanie lepszych wyników na zbiorze walidacyjnym oraz testowym.}$"
   ]
  }
 ],
 "metadata": {
  "kernelspec": {
   "display_name": "Python 3",
   "language": "python",
   "name": "python3"
  },
  "language_info": {
   "codemirror_mode": {
    "name": "ipython",
    "version": 3
   },
   "file_extension": ".py",
   "mimetype": "text/x-python",
   "name": "python",
   "nbconvert_exporter": "python",
   "pygments_lexer": "ipython3",
   "version": "3.11.3"
  }
 },
 "nbformat": 4,
 "nbformat_minor": 2
}
