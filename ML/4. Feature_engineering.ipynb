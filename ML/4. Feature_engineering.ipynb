{
 "cells": [
  {
   "cell_type": "markdown",
   "metadata": {},
   "source": [
    "Do transformacji zmiennych sprawdziłbym:\n",
    "\n",
    "1. Transformacja logarytmiczna\n",
    "\n",
    "2. Transformacja box coxa\n",
    "\n",
    "3. Standard Scaler, Robust Scaler, MinMaxScaler, QuantileTransformer"
   ]
  }
 ],
 "metadata": {
  "language_info": {
   "name": "python"
  }
 },
 "nbformat": 4,
 "nbformat_minor": 2
}
