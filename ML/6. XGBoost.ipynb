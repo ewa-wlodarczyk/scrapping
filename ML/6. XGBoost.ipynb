{
 "cells": [
  {
   "cell_type": "markdown",
   "id": "53c5300f",
   "metadata": {},
   "source": [
    "# Import bibliotek"
   ]
  },
  {
   "cell_type": "code",
   "execution_count": 34,
   "id": "cb05258f",
   "metadata": {},
   "outputs": [],
   "source": [
    "import pandas as pd\n",
    "import numpy as np\n",
    "import pickle\n",
    "import statsmodels.api as sm\n",
    "from sklearn import metrics\n",
    "from sklearn.model_selection import KFold\n",
    "from sklearn.model_selection import train_test_split\n",
    "from sklearn.model_selection import StratifiedKFold\n",
    "from operator import itemgetter\n",
    "import time\n",
    "from xgboost import XGBRegressor"
   ]
  },
  {
   "cell_type": "markdown",
   "id": "acfd3247",
   "metadata": {},
   "source": [
    "# Oszacowanie modelu XGBoost"
   ]
  },
  {
   "cell_type": "code",
   "execution_count": 65,
   "id": "1c103ae7",
   "metadata": {},
   "outputs": [],
   "source": [
    "features=[]\n",
    "df=pd.DataFrame()\n",
    "def CVTestXGB(nFolds = 5, randomState=2024, debug=False, features=features, *args, **kwargs):\n",
    "    kf = KFold(n_splits=nFolds, shuffle=True, random_state=randomState)\n",
    "    # Listy z wynikami\n",
    "    testResults = []\n",
    "    trainResults = []\n",
    "    predictions = []\n",
    "    indices = []\n",
    "    # Pętla walidująca model na kolejnych foldach\n",
    "    for train, test in kf.split(df.index.values):\n",
    "        # Przygotowanie estymatora\n",
    "        clf = XGBRegressor(*args, **kwargs)\n",
    "        # Trenowanie modelu\n",
    "        clf.fit(df.iloc[train][features], df.iloc[train][target])\n",
    "        # Przygotowanie prognoz dla zbioru treningowego i testowego\n",
    "        predsTrain = clf.predict(df.iloc[train][features])\n",
    "        preds = clf.predict(df.iloc[test][features])\n",
    "        # Zachowajmy informacje o predykcjach dla tego foldu\n",
    "        predictions.append(preds.tolist().copy())\n",
    "        # Razem z indeksami w oryginalnym data frame\n",
    "        indices.append(df.iloc[test].index.tolist().copy())\n",
    "        # Policzenie RMSE dla foldów\n",
    "        trainScore = metrics.mean_squared_error(df.iloc[train][target], predsTrain)**0.5\n",
    "        testScore = metrics.mean_squared_error(df.iloc[test][target], preds)**0.5\n",
    "        # Zapisanie wyników dla foldów\n",
    "        trainResults.append(trainScore)\n",
    "        testResults.append(testScore)\n",
    "        # Informowanie o każdym foldzie razem z wynikami treningowymi możemy opcjonalnie wyświetlać w trakcie\n",
    "        if debug:\n",
    "            print(\"Train RMSE:\", trainScore,\n",
    "                  \"Valid RMSE:\", testScore)\n",
    "        \n",
    "    return trainResults, testResults, predictions, indices"
   ]
  },
  {
   "cell_type": "markdown",
   "id": "66ea5172",
   "metadata": {},
   "source": [
    "Zobaczymy czy w tym przypadku feature engineering poprawił jakość predykcyjną:"
   ]
  },
  {
   "cell_type": "markdown",
   "id": "1e6a4ac2",
   "metadata": {},
   "source": [
    "Model bez feature engineeringu:"
   ]
  },
  {
   "cell_type": "code",
   "execution_count": 46,
   "id": "65a77600",
   "metadata": {},
   "outputs": [],
   "source": [
    "df=pd.read_csv(\"data_eda.csv\")\n",
    "df=df.drop(columns=['Unnamed: 0'])\n",
    "features=df.columns.tolist()\n",
    "features.remove('stars')\n",
    "target='stars'"
   ]
  },
  {
   "cell_type": "code",
   "execution_count": 47,
   "id": "335e3c41",
   "metadata": {},
   "outputs": [
    {
     "name": "stdout",
     "output_type": "stream",
     "text": [
      "0.19323604798601268\n"
     ]
    }
   ],
   "source": [
    "trainResults, testResults, predictions, indices = CVTestXGB(features=features)\n",
    "print(np.mean(testResults))"
   ]
  },
  {
   "cell_type": "markdown",
   "id": "746bd631",
   "metadata": {},
   "source": [
    "Model z interakcjami:"
   ]
  },
  {
   "cell_type": "code",
   "execution_count": 48,
   "id": "c9142e23",
   "metadata": {},
   "outputs": [],
   "source": [
    "df=pd.read_csv(\"data_add.csv\")\n",
    "df=df.drop(columns=['Unnamed: 0'])\n",
    "features=df.columns.tolist()\n",
    "features.remove('stars')\n",
    "target='stars'"
   ]
  },
  {
   "cell_type": "code",
   "execution_count": 49,
   "id": "dad390d3",
   "metadata": {},
   "outputs": [
    {
     "name": "stdout",
     "output_type": "stream",
     "text": [
      "0.19442793207844053\n"
     ]
    }
   ],
   "source": [
    "trainResults, testResults, predictions, indices = CVTestXGB(features=features)\n",
    "print(np.mean(testResults))"
   ]
  },
  {
   "cell_type": "markdown",
   "id": "dfb071ca",
   "metadata": {},
   "source": [
    "Model z interakcjami i transformacją zmiennych:"
   ]
  },
  {
   "cell_type": "code",
   "execution_count": 50,
   "id": "e9688ddd",
   "metadata": {},
   "outputs": [],
   "source": [
    "df=pd.read_csv(\"data_fe.csv\")\n",
    "df=df.drop(columns=['Unnamed: 0'])\n",
    "features=df.columns.tolist()\n",
    "features.remove('stars')\n",
    "target='stars'"
   ]
  },
  {
   "cell_type": "code",
   "execution_count": 51,
   "id": "1947b919",
   "metadata": {},
   "outputs": [
    {
     "name": "stdout",
     "output_type": "stream",
     "text": [
      "0.20262947349887567\n"
     ]
    }
   ],
   "source": [
    "trainResults, testResults, predictions, indices = CVTestXGB(features=features)\n",
    "print(np.mean(testResults))"
   ]
  },
  {
   "cell_type": "markdown",
   "id": "c9ea5e0d",
   "metadata": {},
   "source": [
    "Widzimy, że dla takiego silnego modelu najlepszy jest zbiór danych bez interakcji i transformacji zmiennych."
   ]
  },
  {
   "cell_type": "code",
   "execution_count": 68,
   "id": "f32d93f3",
   "metadata": {},
   "outputs": [],
   "source": [
    "df=pd.read_csv(\"data_eda.csv\")\n",
    "df=df.drop(columns=['Unnamed: 0'])\n",
    "features=df.columns.tolist()\n",
    "features.remove('stars')\n",
    "target='stars'"
   ]
  },
  {
   "cell_type": "markdown",
   "id": "387f9f97",
   "metadata": {},
   "source": [
    "Moc predykcji jest już lepsza od poprzedni modeli, ale postramy się ją poprawić poprzez tuning parametrów"
   ]
  },
  {
   "cell_type": "markdown",
   "id": "da759da3",
   "metadata": {},
   "source": [
    "# Tuning hiperparametrów XGBoost"
   ]
  },
  {
   "cell_type": "markdown",
   "id": "955b1969",
   "metadata": {},
   "source": [
    "1. Głębokość drzewa"
   ]
  },
  {
   "cell_type": "code",
   "execution_count": 77,
   "id": "2548b57b",
   "metadata": {},
   "outputs": [
    {
     "name": "stdout",
     "output_type": "stream",
     "text": [
      "3 0.19411233131329214\n",
      "4 0.1913640556683877\n",
      "5 0.1919094913508645\n",
      "6 0.19323604798601268\n",
      "7 0.19622217895826793\n",
      "8 0.19719521429921177\n",
      "9 0.20181620462247313\n"
     ]
    }
   ],
   "source": [
    "for x in range(3,10):\n",
    "    trainResults, testResults, predictions, indices = CVTestXGB(features=features, max_depth=x)\n",
    "    print(x,np.mean(testResults))"
   ]
  },
  {
   "cell_type": "markdown",
   "id": "755ce00b",
   "metadata": {},
   "source": [
    "Najlepszy wynik dla głębokości drzewa równej 4."
   ]
  },
  {
   "cell_type": "markdown",
   "id": "c88a3eeb",
   "metadata": {},
   "source": [
    "2. Udziału wierszy i kolumn w odróżnieniu od głębokości drzewa poszukamy poprzez random search"
   ]
  },
  {
   "cell_type": "code",
   "execution_count": 81,
   "id": "953894de",
   "metadata": {},
   "outputs": [],
   "source": [
    "import random\n",
    "results=[]\n",
    "paramList = []\n",
    "for x in range(100):\n",
    "    params = (random.randint(3,10),random.randint(3,10),random.randint(3,10))\n",
    "    trainResults, testResults, predictions, indices = CVTestXGB(\n",
    "        features=features,\n",
    "        max_depth=4,\n",
    "        subsample = params[0]/10,\n",
    "        colsample_bytree = params[1]/10,\n",
    "        colsample_bylevel=params[2]/10)\n",
    "    results.append(np.mean(testResults))\n",
    "    paramList.append(params)"
   ]
  },
  {
   "cell_type": "code",
   "execution_count": 82,
   "id": "293a4f03",
   "metadata": {},
   "outputs": [
    {
     "name": "stdout",
     "output_type": "stream",
     "text": [
      "(0.1892602742829848, (9, 4, 7))\n",
      "(0.19061760717369958, (9, 9, 5))\n",
      "(0.19061760717369958, (9, 9, 5))\n",
      "(0.19075002430848503, (9, 8, 5))\n",
      "(0.19086323736510097, (9, 4, 8))\n",
      "(0.19098045331501562, (9, 6, 6))\n",
      "(0.19099192182920746, (8, 9, 10))\n",
      "(0.19099484753556367, (10, 7, 6))\n",
      "(0.19104719268035805, (9, 5, 10))\n",
      "(0.1910946910302517, (7, 8, 5))\n"
     ]
    }
   ],
   "source": [
    "maxRes = []\n",
    "for i in range(1, len(paramList)):\n",
    "    maxRes.append(max(results[0:i]))\n",
    "imp = list(zip(results, paramList))\n",
    "imp.sort(reverse=False)\n",
    "for row in imp[0:10]:\n",
    "    print(row)"
   ]
  },
  {
   "cell_type": "markdown",
   "id": "b91938a7",
   "metadata": {},
   "source": [
    "Najlepszy wynik dla udziału wierszy i kolumn równego: 0.9, 0.4, 0.7"
   ]
  },
  {
   "cell_type": "code",
   "execution_count": 84,
   "id": "c0c20685",
   "metadata": {},
   "outputs": [
    {
     "name": "stdout",
     "output_type": "stream",
     "text": [
      "Train RMSE: 0.14124132729533329 Valid RMSE: 0.1887327791361306\n",
      "Train RMSE: 0.1400144649772968 Valid RMSE: 0.1890066999855199\n",
      "Train RMSE: 0.13982620692436126 Valid RMSE: 0.1891888358518881\n",
      "Train RMSE: 0.14148343773361183 Valid RMSE: 0.1915223454087249\n",
      "Train RMSE: 0.14319308287804947 Valid RMSE: 0.18785071103266052\n",
      "0.1892602742829848\n"
     ]
    }
   ],
   "source": [
    "trainResults, testResults, predictions, indices = CVTestXGB(\n",
    "        features=features,\n",
    "        max_depth=4,\n",
    "        subsample = 0.9,\n",
    "        colsample_bytree = 0.4,\n",
    "        colsample_bylevel=0.7, debug=True)\n",
    "print(np.mean(testResults))"
   ]
  },
  {
   "cell_type": "markdown",
   "id": "bbe5b014",
   "metadata": {},
   "source": [
    "Widzimy, że jednak nadal wynik na zbiorze treningowym znacząco lepszy niż testowym, więc dostosujemy parametry regularyzacji."
   ]
  },
  {
   "cell_type": "markdown",
   "id": "4dc8df56",
   "metadata": {},
   "source": [
    "# Regularyzacja"
   ]
  },
  {
   "cell_type": "markdown",
   "id": "a3fba348",
   "metadata": {},
   "source": [
    "Tutaj poszukamy parametru lambda (regularyzacja L2)."
   ]
  },
  {
   "cell_type": "code",
   "execution_count": 92,
   "id": "c8bfee8b",
   "metadata": {},
   "outputs": [
    {
     "name": "stdout",
     "output_type": "stream",
     "text": [
      "0.01 0.1912946145324798\n",
      "0.1 0.19174927656118912\n",
      "0.5 0.19162481890130426\n",
      "1 0.1892602742829848\n",
      "2 0.19004836047688012\n",
      "4 0.18921250694031722\n",
      "6 0.19108452370704412\n",
      "8 0.1895263013482507\n",
      "10 0.19042703852380521\n",
      "15 0.19010262656740093\n"
     ]
    }
   ],
   "source": [
    "for x in [0.01, 0.1, 0.5, 1, 2, 4, 6, 8, 10, 15]:\n",
    "    trainResults, testResults, predictions, indices = CVTestXGB(\n",
    "        features=features,\n",
    "        max_depth=4,\n",
    "        subsample = 0.9,\n",
    "        colsample_bytree = 0.4,\n",
    "        colsample_bylevel=0.7, reg_lambda=x)\n",
    "    print(x,np.mean(testResults))"
   ]
  },
  {
   "cell_type": "code",
   "execution_count": 94,
   "id": "ef8fb416",
   "metadata": {},
   "outputs": [
    {
     "name": "stdout",
     "output_type": "stream",
     "text": [
      "3.0 0.1895081754802272\n",
      "3.1 0.18973658524204615\n",
      "3.2 0.19005102837290858\n",
      "3.3 0.18927938881848774\n",
      "3.4 0.1891394298795249\n",
      "3.5 0.18966566734930765\n",
      "3.6 0.18880099567858424\n",
      "3.7 0.1908712470367836\n",
      "3.8 0.19004917839514043\n",
      "3.9 0.18967418596374536\n",
      "4.0 0.18921250694031722\n",
      "4.1 0.1900763491950995\n",
      "4.2 0.1895148397283905\n",
      "4.3 0.19099688087836503\n",
      "4.4 0.19031931539356425\n",
      "4.5 0.1903055708213813\n",
      "4.6 0.19041159128271348\n",
      "4.7 0.19053302597083835\n",
      "4.8 0.19030106582780731\n",
      "4.9 0.18980898409241231\n"
     ]
    }
   ],
   "source": [
    "for x in range(30,50):\n",
    "    trainResults, testResults, predictions, indices = CVTestXGB(\n",
    "        features=features,\n",
    "        max_depth=4,\n",
    "        subsample = 0.9,\n",
    "        colsample_bytree = 0.4,\n",
    "        colsample_bylevel=0.7, reg_lambda=x/10)\n",
    "    print(x/10,np.mean(testResults))"
   ]
  },
  {
   "cell_type": "markdown",
   "id": "d86d521a",
   "metadata": {},
   "source": [
    "Uzyskaliśmy nieznaczną poprawę przy lambda=3.6"
   ]
  },
  {
   "cell_type": "code",
   "execution_count": 96,
   "id": "985587ab",
   "metadata": {},
   "outputs": [
    {
     "name": "stdout",
     "output_type": "stream",
     "text": [
      "0.18880099567858424\n"
     ]
    }
   ],
   "source": [
    "trainResults, testResults, predictions, indices = CVTestXGB(\n",
    "        features=features,\n",
    "        max_depth=4,\n",
    "        subsample = 0.9,\n",
    "        colsample_bytree = 0.4,\n",
    "        colsample_bylevel=0.7, reg_lambda=3.6)\n",
    "print(np.mean(testResults))\n",
    "\n",
    "#Zapisujemy model\n",
    "modelXGBoost = {\n",
    "    \"name\":\"XGBoost\",\n",
    "    \"trainResults\":trainResults.copy(),\n",
    "    \"testResults\":testResults.copy(),\n",
    "    \"predictions\":predictions.copy(),\n",
    "    \"indices\":indices.copy(),\n",
    "}\n",
    "\n",
    "import pickle\n",
    "\n",
    "# Otwieramy plik do zapisu binarnego z wykorzystenim with\n",
    "with open(\"model_XGBoost.p\", \"wb\") as fp:\n",
    "    # Zapisujemy obiekt do wskaźnika pliku\n",
    "    pickle.dump(modelXGBoost, fp)"
   ]
  },
  {
   "cell_type": "markdown",
   "id": "8ed379f9",
   "metadata": {},
   "source": [
    "Ostateczny wynik dla modelu XGBoost to *0.18880*"
   ]
  }
 ],
 "metadata": {
  "kernelspec": {
   "display_name": "Python 3 (ipykernel)",
   "language": "python",
   "name": "python3"
  },
  "language_info": {
   "codemirror_mode": {
    "name": "ipython",
    "version": 3
   },
   "file_extension": ".py",
   "mimetype": "text/x-python",
   "name": "python",
   "nbconvert_exporter": "python",
   "pygments_lexer": "ipython3",
   "version": "3.11.5"
  }
 },
 "nbformat": 4,
 "nbformat_minor": 5
}
