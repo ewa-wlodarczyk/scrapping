{
 "cells": [
  {
   "cell_type": "markdown",
   "id": "53c5300f",
   "metadata": {},
   "source": [
    "# Import bibliotek"
   ]
  },
  {
   "cell_type": "code",
   "execution_count": 1,
   "id": "cb05258f",
   "metadata": {},
   "outputs": [],
   "source": [
    "import pandas as pd\n",
    "import numpy as np\n",
    "import pickle\n",
    "import statsmodels.api as sm\n",
    "from sklearn.metrics import *\n",
    "from sklearn.model_selection import train_test_split, KFold\n",
    "from sklearn.feature_selection import mutual_info_regression\n",
    "import plotly.graph_objects as go\n",
    "from operator import itemgetter\n",
    "import time\n",
    "from xgboost import XGBRegressor\n",
    "import typing\n",
    "SEED = 17"
   ]
  },
  {
   "cell_type": "markdown",
   "id": "081f343b",
   "metadata": {},
   "source": [
    "# Ładowanie danych"
   ]
  },
  {
   "cell_type": "code",
   "execution_count": 2,
   "id": "0d7509bc",
   "metadata": {},
   "outputs": [
    {
     "data": {
      "text/html": [
       "<div>\n",
       "<style scoped>\n",
       "    .dataframe tbody tr th:only-of-type {\n",
       "        vertical-align: middle;\n",
       "    }\n",
       "\n",
       "    .dataframe tbody tr th {\n",
       "        vertical-align: top;\n",
       "    }\n",
       "\n",
       "    .dataframe thead th {\n",
       "        text-align: right;\n",
       "    }\n",
       "</style>\n",
       "<table border=\"1\" class=\"dataframe\">\n",
       "  <thead>\n",
       "    <tr style=\"text-align: right;\">\n",
       "      <th></th>\n",
       "      <th>pages</th>\n",
       "      <th>stars</th>\n",
       "      <th>reviews</th>\n",
       "      <th>series</th>\n",
       "      <th>mix</th>\n",
       "      <th>character</th>\n",
       "      <th>plot</th>\n",
       "      <th>funny</th>\n",
       "      <th>lighthearted</th>\n",
       "      <th>emotional</th>\n",
       "      <th>...</th>\n",
       "      <th>author_stars</th>\n",
       "      <th>Fiction</th>\n",
       "      <th>Nonfiction</th>\n",
       "      <th>Literary</th>\n",
       "      <th>Fantasy</th>\n",
       "      <th>Crime</th>\n",
       "      <th>Social</th>\n",
       "      <th>Children</th>\n",
       "      <th>Romans</th>\n",
       "      <th>Realism</th>\n",
       "    </tr>\n",
       "  </thead>\n",
       "  <tbody>\n",
       "    <tr>\n",
       "      <th>0</th>\n",
       "      <td>273</td>\n",
       "      <td>4.00</td>\n",
       "      <td>2017</td>\n",
       "      <td>0</td>\n",
       "      <td>0.44</td>\n",
       "      <td>0.51</td>\n",
       "      <td>0.02</td>\n",
       "      <td>0.27</td>\n",
       "      <td>0.37</td>\n",
       "      <td>0.91</td>\n",
       "      <td>...</td>\n",
       "      <td>4.305000</td>\n",
       "      <td>1</td>\n",
       "      <td>1</td>\n",
       "      <td>0</td>\n",
       "      <td>0</td>\n",
       "      <td>0</td>\n",
       "      <td>1</td>\n",
       "      <td>0</td>\n",
       "      <td>1</td>\n",
       "      <td>1</td>\n",
       "    </tr>\n",
       "    <tr>\n",
       "      <th>1</th>\n",
       "      <td>302</td>\n",
       "      <td>3.78</td>\n",
       "      <td>7330</td>\n",
       "      <td>0</td>\n",
       "      <td>0.39</td>\n",
       "      <td>0.42</td>\n",
       "      <td>0.17</td>\n",
       "      <td>0.03</td>\n",
       "      <td>0.01</td>\n",
       "      <td>0.18</td>\n",
       "      <td>...</td>\n",
       "      <td>3.670000</td>\n",
       "      <td>1</td>\n",
       "      <td>0</td>\n",
       "      <td>0</td>\n",
       "      <td>0</td>\n",
       "      <td>1</td>\n",
       "      <td>0</td>\n",
       "      <td>0</td>\n",
       "      <td>0</td>\n",
       "      <td>0</td>\n",
       "    </tr>\n",
       "    <tr>\n",
       "      <th>2</th>\n",
       "      <td>400</td>\n",
       "      <td>4.15</td>\n",
       "      <td>16761</td>\n",
       "      <td>0</td>\n",
       "      <td>0.51</td>\n",
       "      <td>0.39</td>\n",
       "      <td>0.08</td>\n",
       "      <td>0.02</td>\n",
       "      <td>0.01</td>\n",
       "      <td>0.88</td>\n",
       "      <td>...</td>\n",
       "      <td>0.000000</td>\n",
       "      <td>1</td>\n",
       "      <td>0</td>\n",
       "      <td>1</td>\n",
       "      <td>0</td>\n",
       "      <td>0</td>\n",
       "      <td>0</td>\n",
       "      <td>0</td>\n",
       "      <td>0</td>\n",
       "      <td>0</td>\n",
       "    </tr>\n",
       "    <tr>\n",
       "      <th>3</th>\n",
       "      <td>459</td>\n",
       "      <td>4.16</td>\n",
       "      <td>2128</td>\n",
       "      <td>1</td>\n",
       "      <td>0.48</td>\n",
       "      <td>0.10</td>\n",
       "      <td>0.40</td>\n",
       "      <td>0.04</td>\n",
       "      <td>0.02</td>\n",
       "      <td>0.07</td>\n",
       "      <td>...</td>\n",
       "      <td>0.000000</td>\n",
       "      <td>1</td>\n",
       "      <td>0</td>\n",
       "      <td>0</td>\n",
       "      <td>1</td>\n",
       "      <td>0</td>\n",
       "      <td>0</td>\n",
       "      <td>0</td>\n",
       "      <td>0</td>\n",
       "      <td>0</td>\n",
       "    </tr>\n",
       "    <tr>\n",
       "      <th>4</th>\n",
       "      <td>160</td>\n",
       "      <td>3.65</td>\n",
       "      <td>6634</td>\n",
       "      <td>1</td>\n",
       "      <td>0.28</td>\n",
       "      <td>0.16</td>\n",
       "      <td>0.54</td>\n",
       "      <td>0.92</td>\n",
       "      <td>0.73</td>\n",
       "      <td>0.00</td>\n",
       "      <td>...</td>\n",
       "      <td>4.115000</td>\n",
       "      <td>1</td>\n",
       "      <td>0</td>\n",
       "      <td>0</td>\n",
       "      <td>1</td>\n",
       "      <td>0</td>\n",
       "      <td>0</td>\n",
       "      <td>0</td>\n",
       "      <td>0</td>\n",
       "      <td>0</td>\n",
       "    </tr>\n",
       "    <tr>\n",
       "      <th>...</th>\n",
       "      <td>...</td>\n",
       "      <td>...</td>\n",
       "      <td>...</td>\n",
       "      <td>...</td>\n",
       "      <td>...</td>\n",
       "      <td>...</td>\n",
       "      <td>...</td>\n",
       "      <td>...</td>\n",
       "      <td>...</td>\n",
       "      <td>...</td>\n",
       "      <td>...</td>\n",
       "      <td>...</td>\n",
       "      <td>...</td>\n",
       "      <td>...</td>\n",
       "      <td>...</td>\n",
       "      <td>...</td>\n",
       "      <td>...</td>\n",
       "      <td>...</td>\n",
       "      <td>...</td>\n",
       "      <td>...</td>\n",
       "      <td>...</td>\n",
       "    </tr>\n",
       "    <tr>\n",
       "      <th>6925</th>\n",
       "      <td>432</td>\n",
       "      <td>4.15</td>\n",
       "      <td>30643</td>\n",
       "      <td>0</td>\n",
       "      <td>0.48</td>\n",
       "      <td>0.05</td>\n",
       "      <td>0.46</td>\n",
       "      <td>0.00</td>\n",
       "      <td>0.00</td>\n",
       "      <td>0.40</td>\n",
       "      <td>...</td>\n",
       "      <td>3.856667</td>\n",
       "      <td>1</td>\n",
       "      <td>0</td>\n",
       "      <td>0</td>\n",
       "      <td>1</td>\n",
       "      <td>1</td>\n",
       "      <td>0</td>\n",
       "      <td>0</td>\n",
       "      <td>0</td>\n",
       "      <td>0</td>\n",
       "    </tr>\n",
       "    <tr>\n",
       "      <th>6926</th>\n",
       "      <td>352</td>\n",
       "      <td>3.62</td>\n",
       "      <td>1058</td>\n",
       "      <td>0</td>\n",
       "      <td>0.55</td>\n",
       "      <td>0.13</td>\n",
       "      <td>0.30</td>\n",
       "      <td>0.15</td>\n",
       "      <td>0.10</td>\n",
       "      <td>0.25</td>\n",
       "      <td>...</td>\n",
       "      <td>3.700000</td>\n",
       "      <td>1</td>\n",
       "      <td>0</td>\n",
       "      <td>0</td>\n",
       "      <td>1</td>\n",
       "      <td>0</td>\n",
       "      <td>1</td>\n",
       "      <td>0</td>\n",
       "      <td>0</td>\n",
       "      <td>0</td>\n",
       "    </tr>\n",
       "    <tr>\n",
       "      <th>6927</th>\n",
       "      <td>535</td>\n",
       "      <td>3.88</td>\n",
       "      <td>30975</td>\n",
       "      <td>1</td>\n",
       "      <td>0.45</td>\n",
       "      <td>0.08</td>\n",
       "      <td>0.45</td>\n",
       "      <td>0.14</td>\n",
       "      <td>0.19</td>\n",
       "      <td>0.31</td>\n",
       "      <td>...</td>\n",
       "      <td>3.870000</td>\n",
       "      <td>1</td>\n",
       "      <td>0</td>\n",
       "      <td>0</td>\n",
       "      <td>1</td>\n",
       "      <td>0</td>\n",
       "      <td>0</td>\n",
       "      <td>1</td>\n",
       "      <td>0</td>\n",
       "      <td>0</td>\n",
       "    </tr>\n",
       "    <tr>\n",
       "      <th>6928</th>\n",
       "      <td>472</td>\n",
       "      <td>3.88</td>\n",
       "      <td>5914</td>\n",
       "      <td>1</td>\n",
       "      <td>0.64</td>\n",
       "      <td>0.12</td>\n",
       "      <td>0.22</td>\n",
       "      <td>0.07</td>\n",
       "      <td>0.00</td>\n",
       "      <td>0.36</td>\n",
       "      <td>...</td>\n",
       "      <td>3.660000</td>\n",
       "      <td>1</td>\n",
       "      <td>0</td>\n",
       "      <td>0</td>\n",
       "      <td>1</td>\n",
       "      <td>0</td>\n",
       "      <td>0</td>\n",
       "      <td>1</td>\n",
       "      <td>0</td>\n",
       "      <td>0</td>\n",
       "    </tr>\n",
       "    <tr>\n",
       "      <th>6929</th>\n",
       "      <td>350</td>\n",
       "      <td>4.27</td>\n",
       "      <td>67909</td>\n",
       "      <td>0</td>\n",
       "      <td>0.37</td>\n",
       "      <td>0.56</td>\n",
       "      <td>0.05</td>\n",
       "      <td>0.74</td>\n",
       "      <td>0.28</td>\n",
       "      <td>0.78</td>\n",
       "      <td>...</td>\n",
       "      <td>4.315833</td>\n",
       "      <td>1</td>\n",
       "      <td>0</td>\n",
       "      <td>1</td>\n",
       "      <td>0</td>\n",
       "      <td>1</td>\n",
       "      <td>0</td>\n",
       "      <td>0</td>\n",
       "      <td>0</td>\n",
       "      <td>1</td>\n",
       "    </tr>\n",
       "  </tbody>\n",
       "</table>\n",
       "<p>6930 rows × 32 columns</p>\n",
       "</div>"
      ],
      "text/plain": [
       "      pages  stars  reviews  series   mix  character  plot  funny  \\\n",
       "0       273   4.00     2017       0  0.44       0.51  0.02   0.27   \n",
       "1       302   3.78     7330       0  0.39       0.42  0.17   0.03   \n",
       "2       400   4.15    16761       0  0.51       0.39  0.08   0.02   \n",
       "3       459   4.16     2128       1  0.48       0.10  0.40   0.04   \n",
       "4       160   3.65     6634       1  0.28       0.16  0.54   0.92   \n",
       "...     ...    ...      ...     ...   ...        ...   ...    ...   \n",
       "6925    432   4.15    30643       0  0.48       0.05  0.46   0.00   \n",
       "6926    352   3.62     1058       0  0.55       0.13  0.30   0.15   \n",
       "6927    535   3.88    30975       1  0.45       0.08  0.45   0.14   \n",
       "6928    472   3.88     5914       1  0.64       0.12  0.22   0.07   \n",
       "6929    350   4.27    67909       0  0.37       0.56  0.05   0.74   \n",
       "\n",
       "      lighthearted  emotional  ...  author_stars  Fiction  Nonfiction  \\\n",
       "0             0.37       0.91  ...      4.305000        1           1   \n",
       "1             0.01       0.18  ...      3.670000        1           0   \n",
       "2             0.01       0.88  ...      0.000000        1           0   \n",
       "3             0.02       0.07  ...      0.000000        1           0   \n",
       "4             0.73       0.00  ...      4.115000        1           0   \n",
       "...            ...        ...  ...           ...      ...         ...   \n",
       "6925          0.00       0.40  ...      3.856667        1           0   \n",
       "6926          0.10       0.25  ...      3.700000        1           0   \n",
       "6927          0.19       0.31  ...      3.870000        1           0   \n",
       "6928          0.00       0.36  ...      3.660000        1           0   \n",
       "6929          0.28       0.78  ...      4.315833        1           0   \n",
       "\n",
       "      Literary  Fantasy  Crime  Social  Children  Romans  Realism  \n",
       "0            0        0      0       1         0       1        1  \n",
       "1            0        0      1       0         0       0        0  \n",
       "2            1        0      0       0         0       0        0  \n",
       "3            0        1      0       0         0       0        0  \n",
       "4            0        1      0       0         0       0        0  \n",
       "...        ...      ...    ...     ...       ...     ...      ...  \n",
       "6925         0        1      1       0         0       0        0  \n",
       "6926         0        1      0       1         0       0        0  \n",
       "6927         0        1      0       0         1       0        0  \n",
       "6928         0        1      0       0         1       0        0  \n",
       "6929         1        0      1       0         0       0        1  \n",
       "\n",
       "[6930 rows x 32 columns]"
      ]
     },
     "execution_count": 2,
     "metadata": {},
     "output_type": "execute_result"
    }
   ],
   "source": [
    "data=pd.read_csv(\"../data/data_eda.csv\")\n",
    "data=data.drop(columns=['Unnamed: 0'])\n",
    "features=data.columns.tolist()\n",
    "features.remove('stars')\n",
    "target='stars'\n",
    "data"
   ]
  },
  {
   "cell_type": "markdown",
   "id": "6ea67d23",
   "metadata": {},
   "source": [
    "$\\text{Podział danych na zbiór treningowy i testowy}$"
   ]
  },
  {
   "cell_type": "code",
   "execution_count": 3,
   "id": "8dc49010",
   "metadata": {},
   "outputs": [],
   "source": [
    "train_data, test_data = train_test_split(data, test_size=0.2, random_state=SEED)"
   ]
  },
  {
   "cell_type": "code",
   "execution_count": 4,
   "id": "52706254",
   "metadata": {},
   "outputs": [],
   "source": [
    "def perform_cv(X: pd.DataFrame, y: pd.Series, algorithm: typing.Any, cv: typing.Any = KFold(n_splits=5, shuffle=True, random_state=SEED), metric: typing.Any = mean_squared_error) -> typing.List[float]:\n",
    "    \"\"\"\n",
    "    Perform cross-validation and return list of scores\n",
    "    \n",
    "    Args:\n",
    "        X (pd.DataFrame): input data\n",
    "        y (pd.Series): target data\n",
    "        algorithm (typing.Any): algorithm to use for training and prediction\n",
    "        cv (typing.Any): cross-validation strategy\n",
    "        metric (typing.Any): metric to use for evaluation\n",
    "    \n",
    "    Returns:\n",
    "        typing.List[float]: list of scores in order: train_scores, validation_scores\n",
    "    \"\"\"\n",
    "    train_scores = []\n",
    "    validation_scores = []\n",
    "    for train_idx, val_idx in cv.split(X, y):\n",
    "        X_train, X_val = X.iloc[train_idx], X.iloc[val_idx]\n",
    "        y_train, y_val = y.iloc[train_idx], y.iloc[val_idx]\n",
    "        algorithm.fit(X_train, y_train)\n",
    "        y_train_pred = algorithm.predict(X_train)\n",
    "        y_val_pred = algorithm.predict(X_val)\n",
    "        train_scores.append(metric(y_train, y_train_pred, squared=False))\n",
    "        validation_scores.append(metric(y_val, y_val_pred, squared=False))\n",
    "    return np.mean(train_scores), np.mean(validation_scores)\n",
    "\n",
    "def evaluation(X_train: pd.DataFrame, y_train: pd.Series, X_test: pd.DataFrame, y_test: pd.Series, algorithm: typing.Any, metric: typing.Any = mean_squared_error) -> typing.Tuple[float, float, np.ndarray]:\n",
    "    \"\"\"\n",
    "    Train the algorithm on the train data and evaluate on the train and test data\n",
    "    \n",
    "    Args:\n",
    "        X_train (pd.DataFrame): input train data\n",
    "        y_train (pd.Series): target train data\n",
    "        X_test (pd.DataFrame): input test data\n",
    "        y_test (pd.Series): target test data\n",
    "        algorithm (typing.Any): algorithm to use for training and prediction\n",
    "        metric (typing.Any): metric to use for evaluation\n",
    "    \n",
    "    Returns:\n",
    "        typing.Tuple[float, float, np.ndarray]: train_score, test_score, predictions on test data\n",
    "    \"\"\"\n",
    "    algorithm.fit(X_train, y_train)\n",
    "    y_train_pred = algorithm.predict(X_train)\n",
    "    y_test_pred = algorithm.predict(X_test)\n",
    "    train_results = metric(y_train, y_train_pred, squared=False)\n",
    "    test_results = metric(y_test, y_test_pred, squared=False)\n",
    "    return train_results, test_results, y_test_pred"
   ]
  },
  {
   "cell_type": "markdown",
   "id": "79754d13",
   "metadata": {},
   "source": [
    "## Model bez feature engineeringu"
   ]
  },
  {
   "cell_type": "code",
   "execution_count": 5,
   "id": "65a77600",
   "metadata": {},
   "outputs": [
    {
     "name": "stdout",
     "output_type": "stream",
     "text": [
      "Train RMSE: 0.06206850002022659\n",
      "Validation RMSE: 0.19808813044143286\n"
     ]
    }
   ],
   "source": [
    "model = XGBRegressor(random_state=SEED, n_jobs=-1)\n",
    "train_scores, validation_scores = perform_cv(train_data[features], train_data[target], model)\n",
    "print(\"Train RMSE:\", train_scores)\n",
    "print(\"Validation RMSE:\", validation_scores)"
   ]
  },
  {
   "cell_type": "markdown",
   "id": "9faed461",
   "metadata": {},
   "source": [
    "## Model z interakcjami"
   ]
  },
  {
   "cell_type": "code",
   "execution_count": 6,
   "id": "ea050cbf",
   "metadata": {},
   "outputs": [
    {
     "name": "stdout",
     "output_type": "stream",
     "text": [
      "Średni błąd RMSE na zbiorze treningowym: 0.05078\n",
      "Średni błąd RMSE na zbiorze walidacyjnym: 0.19741\n"
     ]
    }
   ],
   "source": [
    "data_interactions=pd.read_csv(\"../data/data_interactions.csv\")\n",
    "data_interactions=data_interactions.drop(columns=['Unnamed: 0'])\n",
    "features_interactions=data_interactions.columns.tolist()\n",
    "features_interactions.remove('stars')\n",
    "train_data_interactions, test_data_interactions = train_test_split(data_interactions, test_size=0.2, random_state=SEED)\n",
    "model = XGBRegressor(random_state=SEED)\n",
    "train_scores, validation_scores = perform_cv(train_data_interactions[features_interactions], train_data_interactions[target], model)\n",
    "print(\"Średni błąd RMSE na zbiorze treningowym: {:.5f}\".format(train_scores))\n",
    "print(\"Średni błąd RMSE na zbiorze walidacyjnym: {:.5f}\".format(validation_scores))"
   ]
  },
  {
   "cell_type": "markdown",
   "id": "b4b6c6ba",
   "metadata": {},
   "source": [
    "## Model z transformacją zmiennych"
   ]
  },
  {
   "cell_type": "code",
   "execution_count": 7,
   "id": "a8e13ed6",
   "metadata": {},
   "outputs": [
    {
     "name": "stdout",
     "output_type": "stream",
     "text": [
      "Średni błąd RMSE na zbiorze treningowym: 0.05205\n",
      "Średni błąd RMSE na zbiorze walidacyjnym: 0.19940\n"
     ]
    }
   ],
   "source": [
    "data_transformations=pd.read_csv(\"../data/data_feature_engineering.csv\")\n",
    "data_transformations=data_transformations.drop(columns=['Unnamed: 0'])\n",
    "features_transformations=data_transformations.columns.tolist()\n",
    "features_transformations.remove('stars')\n",
    "train_data_transformations, test_data_transformations = train_test_split(data_transformations, test_size=0.2, random_state=SEED)\n",
    "model = XGBRegressor(random_state=SEED)\n",
    "train_scores, validation_scores = perform_cv(train_data_transformations[features_transformations], train_data_transformations[target], model)\n",
    "print(\"Średni błąd RMSE na zbiorze treningowym: {:.5f}\".format(train_scores))\n",
    "print(\"Średni błąd RMSE na zbiorze walidacyjnym: {:.5f}\".format(validation_scores))"
   ]
  },
  {
   "cell_type": "markdown",
   "id": "c9ea5e0d",
   "metadata": {},
   "source": [
    "Widzimy, że dla takiego silnego modelu najlepszy jest zbiór danych z interakcjami."
   ]
  },
  {
   "cell_type": "markdown",
   "id": "640d574a",
   "metadata": {},
   "source": [
    "## Selekcja zmiennych"
   ]
  },
  {
   "cell_type": "markdown",
   "id": "fd6ea308",
   "metadata": {},
   "source": [
    "$\\text{Warto zweryfikować również jak zmniejszenie liczby zmiennych wpłynie na wynik modelu.}$<p>\n",
    "$\\text{W tym celu wykorzystamy Mutual Information oraz kilka progów odcięcia.}$"
   ]
  },
  {
   "cell_type": "code",
   "execution_count": 8,
   "id": "c5acf76a",
   "metadata": {},
   "outputs": [
    {
     "data": {
      "image/png": "[encoded data removed]"
     },
     "metadata": {},
     "output_type": "display_data"
    }
   ],
   "source": [
    "mi_scores = {feature: mutual_info_regression(train_data_interactions[[feature]], train_data_interactions[target], random_state=SEED)[0] for feature in features_interactions}\n",
    "mi_scores = {k: v for k, v in sorted(mi_scores.items(), key=lambda item: item[1], reverse=True)}\n",
    "fig = go.Figure()\n",
    "fig.add_trace(go.Scatter(x=list(mi_scores.keys()), y=list(mi_scores.values()), mode='lines+markers', marker=dict(size=10, color=\"blue\", line=dict(width=2, color=\"black\")), line=dict(width=2, color=\"blue\")))\n",
    "fig.update_layout(template=\"simple_white\", width=1200, height=800, title=\"<b>Mutual Information<b>\", title_x=0.5, xaxis_title=\"Feature\", yaxis_title=f\"Mutual Information\", font=dict(family=\"Times New Roman\",size=16,color=\"Black\"), showlegend=False)\n",
    "fig.show(\"png\")"
   ]
  },
  {
   "cell_type": "markdown",
   "id": "8bb17d51",
   "metadata": {},
   "source": [
    "$\\text{Wybierzemy progi odcięcia na poziomie wybranych percentyli wartości MI i porównamy wyniki modeli.}$"
   ]
  },
  {
   "cell_type": "code",
   "execution_count": 9,
   "id": "aeb89cbc",
   "metadata": {},
   "outputs": [
    {
     "name": "stdout",
     "output_type": "stream",
     "text": [
      "Kwantyl: 1; Procent zmiennych: 100.0%\n",
      "Średni błąd RMSE na zbiorze treningowym dla kwantyla 0: 0.05077919223101292\n",
      "Średni błąd RMSE na zbiorze walidacyjnym dla kwantyla 0: 0.19793006035865077\n",
      "\n",
      "Kwantyl: 0.9; Procent zmiennych: 89.92%\n",
      "Średni błąd RMSE na zbiorze treningowym dla kwantyla 0.1: 0.049446277013015454\n",
      "Średni błąd RMSE na zbiorze walidacyjnym dla kwantyla 0.1: 0.19902771453859508\n",
      "\n",
      "Kwantyl: 0.75; Procent zmiennych: 75.0%\n",
      "Średni błąd RMSE na zbiorze treningowym dla kwantyla 0.25: 0.05011837106634126\n",
      "Średni błąd RMSE na zbiorze walidacyjnym dla kwantyla 0.25: 0.19832170141718447\n",
      "\n",
      "Kwantyl: 0.5; Procent zmiennych: 50.0%\n",
      "Średni błąd RMSE na zbiorze treningowym dla kwantyla 0.5: 0.049412216327864675\n",
      "Średni błąd RMSE na zbiorze walidacyjnym dla kwantyla 0.5: 0.19925579951523154\n",
      "\n",
      "Kwantyl: 0.25; Procent zmiennych: 25.0%\n",
      "Średni błąd RMSE na zbiorze treningowym dla kwantyla 0.75: 0.055367137989317215\n",
      "Średni błąd RMSE na zbiorze walidacyjnym dla kwantyla 0.75: 0.20470537571833317\n",
      "\n",
      "Kwantyl: 0.09999999999999998; Procent zmiennych: 10.08%\n",
      "Średni błąd RMSE na zbiorze treningowym dla kwantyla 0.9: 0.07055104475723631\n",
      "Średni błąd RMSE na zbiorze walidacyjnym dla kwantyla 0.9: 0.21387593155786355\n",
      "\n"
     ]
    }
   ],
   "source": [
    "for quantile in [0, 0.1, 0.25, 0.5, 0.75, 0.9]:\n",
    "    threshold = np.quantile(list(mi_scores.values()), quantile)\n",
    "    features_to_drop = [k for k, v in mi_scores.items() if v < threshold]\n",
    "    subset = set(features_interactions) - set(features_to_drop)\n",
    "    model = XGBRegressor(random_state=SEED)\n",
    "    train_scores, validation_scores = perform_cv(train_data_interactions[list(subset)], train_data_interactions[target], model)\n",
    "    print(\"Kwantyl: {}; Procent zmiennych: {}%\".format(1-quantile, np.round(len(subset)/len(features_interactions)*100, 2)))\n",
    "    print(f\"Średni błąd RMSE na zbiorze treningowym dla kwantyla {quantile}: {train_scores}\")\n",
    "    print(f\"Średni błąd RMSE na zbiorze walidacyjnym dla kwantyla {quantile}: {validation_scores}\")\n",
    "    print()"
   ]
  },
  {
   "cell_type": "markdown",
   "id": "c02c9956",
   "metadata": {},
   "source": [
    "$\\text{Zmniejszenie liczby zmiennych pogarsza wyniki modelu.}$<p>\n",
    "$\\text{Podobny eksperyment przeprowadzimy w sytuacji, gdy sugerujemy się istotnością zmiennych z modelu XGBoost.}$"
   ]
  },
  {
   "cell_type": "code",
   "execution_count": 10,
   "id": "1a0dfb59",
   "metadata": {},
   "outputs": [
    {
     "data": {
      "image/png": "[encoded data removed]"
     },
     "metadata": {},
     "output_type": "display_data"
    }
   ],
   "source": [
    "model = XGBRegressor(random_state=SEED)\n",
    "kfold = KFold(n_splits=5, shuffle=True, random_state=SEED)\n",
    "feature_importances = np.zeros(len(features_interactions))\n",
    "for train_idx, val_idx in kfold.split(train_data_interactions[features_interactions], train_data_interactions[target]):\n",
    "    X_train, X_val = train_data_interactions[features_interactions].iloc[train_idx], train_data_interactions[features_interactions].iloc[val_idx]\n",
    "    y_train, y_val = train_data_interactions[target].iloc[train_idx], train_data_interactions[target].iloc[val_idx]\n",
    "    model.fit(X_train, y_train)\n",
    "    feature_importances += model.feature_importances_\n",
    "feature_importances /= kfold.n_splits\n",
    "feature_importances = {feature: importance for feature, importance in zip(features_interactions, feature_importances)}\n",
    "feature_importances = {k: v for k, v in sorted(feature_importances.items(), key=lambda item: item[1], reverse=True)}\n",
    "fig = go.Figure()\n",
    "fig.add_trace(go.Scatter(x=list(feature_importances.keys()), y=list(feature_importances.values()), mode='lines+markers', marker=dict(size=10, color=\"blue\", line=dict(width=2, color=\"black\")), line=dict(width=2, color=\"blue\")))\n",
    "fig.update_layout(template=\"simple_white\", width=1200, height=800, title=\"<b>Feature Importances<b>\", title_x=0.5, xaxis_title=\"Feature\", yaxis_title=f\"Importance\", font=dict(family=\"Times New Roman\",size=16,color=\"Black\"), showlegend=False)\n",
    "fig.show(\"png\")"
   ]
  },
  {
   "cell_type": "markdown",
   "id": "83f88665",
   "metadata": {},
   "source": [
    "$\\text{Ponownie zmienna author\\_stars okazała się najbardziej istotna.}$"
   ]
  },
  {
   "cell_type": "code",
   "execution_count": 11,
   "id": "bca88fc1",
   "metadata": {},
   "outputs": [
    {
     "name": "stdout",
     "output_type": "stream",
     "text": [
      "Kwantyl: 1; Procent zmiennych: 100.0%\n",
      "Średni błąd RMSE na zbiorze treningowym dla kwantyla 0: 0.05077919223101292\n",
      "Średni błąd RMSE na zbiorze walidacyjnym dla kwantyla 0: 0.19793006035865077\n",
      "\n",
      "Kwantyl: 0.9; Procent zmiennych: 89.92%\n",
      "Średni błąd RMSE na zbiorze treningowym dla kwantyla 0.1: 0.05011380921184542\n",
      "Średni błąd RMSE na zbiorze walidacyjnym dla kwantyla 0.1: 0.198292670441517\n",
      "\n",
      "Kwantyl: 0.75; Procent zmiennych: 75.0%\n",
      "Średni błąd RMSE na zbiorze treningowym dla kwantyla 0.25: 0.05166681070681336\n",
      "Średni błąd RMSE na zbiorze walidacyjnym dla kwantyla 0.25: 0.19604391614639724\n",
      "\n",
      "Kwantyl: 0.5; Procent zmiennych: 50.0%\n",
      "Średni błąd RMSE na zbiorze treningowym dla kwantyla 0.5: 0.05398460204947307\n",
      "Średni błąd RMSE na zbiorze walidacyjnym dla kwantyla 0.5: 0.19771015329384561\n",
      "\n",
      "Kwantyl: 0.25; Procent zmiennych: 25.0%\n",
      "Średni błąd RMSE na zbiorze treningowym dla kwantyla 0.75: 0.060859366873539635\n",
      "Średni błąd RMSE na zbiorze walidacyjnym dla kwantyla 0.75: 0.1974390670898689\n",
      "\n",
      "Kwantyl: 0.09999999999999998; Procent zmiennych: 10.08%\n",
      "Średni błąd RMSE na zbiorze treningowym dla kwantyla 0.9: 0.06506312626882786\n",
      "Średni błąd RMSE na zbiorze walidacyjnym dla kwantyla 0.9: 0.2036560467668415\n",
      "\n"
     ]
    }
   ],
   "source": [
    "for quantile in [0, 0.1, 0.25, 0.5, 0.75, 0.9]:\n",
    "    threshold = np.quantile(list(feature_importances.values()), quantile)\n",
    "    features_to_drop = [k for k, v in feature_importances.items() if v < threshold]\n",
    "    subset = set(features_interactions) - set(features_to_drop)\n",
    "    model = XGBRegressor(random_state=SEED)\n",
    "    train_scores, validation_scores = perform_cv(train_data_interactions[list(subset)], train_data_interactions[target], model)\n",
    "    print(\"Kwantyl: {}; Procent zmiennych: {}%\".format(1-quantile, np.round(len(subset)/len(features_interactions)*100, 2)))\n",
    "    print(f\"Średni błąd RMSE na zbiorze treningowym dla kwantyla {quantile}: {train_scores}\")\n",
    "    print(f\"Średni błąd RMSE na zbiorze walidacyjnym dla kwantyla {quantile}: {validation_scores}\")\n",
    "    print()"
   ]
  },
  {
   "cell_type": "markdown",
   "id": "22cb51f2",
   "metadata": {},
   "source": [
    "$\\text{Widzimy, że w przypadku, gdy wybieramy około 75\\% zmiennych, wyniki modelu są nieznacznie lepsze niż dla pełnego zbioru.}$<p>\n",
    "$\\text{Spróbujemy dokładniej zbadać w okolicach tego progu jaki threshold okaże się najbardziej optymalny.}$"
   ]
  },
  {
   "cell_type": "code",
   "execution_count": 12,
   "id": "f3370db4",
   "metadata": {},
   "outputs": [
    {
     "name": "stdout",
     "output_type": "stream",
     "text": [
      "Kwantyl: 0.85; Procent zmiennych: 84.88%\n",
      "Średni błąd RMSE na zbiorze treningowym dla kwantyla 0.15: 0.04900780856648655\n",
      "Średni błąd RMSE na zbiorze walidacyjnym dla kwantyla 0.15: 0.19828494215769776\n",
      "\n",
      "Kwantyl: 0.84; Procent zmiennych: 83.87%\n",
      "Średni błąd RMSE na zbiorze treningowym dla kwantyla 0.16: 0.04955719557415304\n",
      "Średni błąd RMSE na zbiorze walidacyjnym dla kwantyla 0.16: 0.1992810889041495\n",
      "\n",
      "Kwantyl: 0.8300000000000001; Procent zmiennych: 82.86%\n",
      "Średni błąd RMSE na zbiorze treningowym dla kwantyla 0.16999999999999998: 0.05009612903538391\n",
      "Średni błąd RMSE na zbiorze walidacyjnym dla kwantyla 0.16999999999999998: 0.19830663099740672\n",
      "\n",
      "Kwantyl: 0.8200000000000001; Procent zmiennych: 81.85%\n",
      "Średni błąd RMSE na zbiorze treningowym dla kwantyla 0.18: 0.050424238680961464\n",
      "Średni błąd RMSE na zbiorze walidacyjnym dla kwantyla 0.18: 0.19989743751728556\n",
      "\n",
      "Kwantyl: 0.81; Procent zmiennych: 80.85%\n",
      "Średni błąd RMSE na zbiorze treningowym dla kwantyla 0.19: 0.05085797457739105\n",
      "Średni błąd RMSE na zbiorze walidacyjnym dla kwantyla 0.19: 0.1996267708763414\n",
      "\n",
      "Kwantyl: 0.8; Procent zmiennych: 80.04%\n",
      "Średni błąd RMSE na zbiorze treningowym dla kwantyla 0.19999999999999998: 0.05015103690945719\n",
      "Średni błąd RMSE na zbiorze walidacyjnym dla kwantyla 0.19999999999999998: 0.19994944009302917\n",
      "\n",
      "Kwantyl: 0.79; Procent zmiennych: 79.03%\n",
      "Średni błąd RMSE na zbiorze treningowym dla kwantyla 0.21: 0.05205167794861039\n",
      "Średni błąd RMSE na zbiorze walidacyjnym dla kwantyla 0.21: 0.1984003746815542\n",
      "\n",
      "Kwantyl: 0.78; Procent zmiennych: 78.02%\n",
      "Średni błąd RMSE na zbiorze treningowym dla kwantyla 0.21999999999999997: 0.04952484544696541\n",
      "Średni błąd RMSE na zbiorze walidacyjnym dla kwantyla 0.21999999999999997: 0.19894890090313772\n",
      "\n",
      "Kwantyl: 0.77; Procent zmiennych: 77.02%\n",
      "Średni błąd RMSE na zbiorze treningowym dla kwantyla 0.22999999999999998: 0.05146533748434838\n",
      "Średni błąd RMSE na zbiorze walidacyjnym dla kwantyla 0.22999999999999998: 0.19816905704269366\n",
      "\n",
      "Kwantyl: 0.76; Procent zmiennych: 76.01%\n",
      "Średni błąd RMSE na zbiorze treningowym dla kwantyla 0.24: 0.050529470756667846\n",
      "Średni błąd RMSE na zbiorze walidacyjnym dla kwantyla 0.24: 0.19863885226601172\n",
      "\n",
      "Kwantyl: 0.75; Procent zmiennych: 75.0%\n",
      "Średni błąd RMSE na zbiorze treningowym dla kwantyla 0.24999999999999997: 0.05166681070681336\n",
      "Średni błąd RMSE na zbiorze walidacyjnym dla kwantyla 0.24999999999999997: 0.19604391614639724\n",
      "\n",
      "Kwantyl: 0.74; Procent zmiennych: 73.99%\n",
      "Średni błąd RMSE na zbiorze treningowym dla kwantyla 0.26: 0.050751292459823794\n",
      "Średni błąd RMSE na zbiorze walidacyjnym dla kwantyla 0.26: 0.19783469087049943\n",
      "\n",
      "Kwantyl: 0.73; Procent zmiennych: 72.98%\n",
      "Średni błąd RMSE na zbiorze treningowym dla kwantyla 0.26999999999999996: 0.05087342107573693\n",
      "Średni błąd RMSE na zbiorze walidacyjnym dla kwantyla 0.26999999999999996: 0.19708711144116625\n",
      "\n",
      "Kwantyl: 0.72; Procent zmiennych: 71.98%\n",
      "Średni błąd RMSE na zbiorze treningowym dla kwantyla 0.27999999999999997: 0.05122372803161945\n",
      "Średni błąd RMSE na zbiorze walidacyjnym dla kwantyla 0.27999999999999997: 0.19738644718264248\n",
      "\n",
      "Kwantyl: 0.71; Procent zmiennych: 70.97%\n",
      "Średni błąd RMSE na zbiorze treningowym dla kwantyla 0.29: 0.05200867703287169\n",
      "Średni błąd RMSE na zbiorze walidacyjnym dla kwantyla 0.29: 0.19763471703202912\n",
      "\n",
      "Kwantyl: 0.7000000000000001; Procent zmiennych: 69.96%\n",
      "Średni błąd RMSE na zbiorze treningowym dla kwantyla 0.29999999999999993: 0.051826806293410355\n",
      "Średni błąd RMSE na zbiorze walidacyjnym dla kwantyla 0.29999999999999993: 0.19740913878835442\n",
      "\n",
      "Kwantyl: 0.6900000000000001; Procent zmiennych: 68.95%\n",
      "Średni błąd RMSE na zbiorze treningowym dla kwantyla 0.30999999999999994: 0.05223901961028832\n",
      "Średni błąd RMSE na zbiorze walidacyjnym dla kwantyla 0.30999999999999994: 0.19593434062511647\n",
      "\n",
      "Kwantyl: 0.68; Procent zmiennych: 67.94%\n",
      "Średni błąd RMSE na zbiorze treningowym dla kwantyla 0.31999999999999995: 0.05187405416954448\n",
      "Średni błąd RMSE na zbiorze walidacyjnym dla kwantyla 0.31999999999999995: 0.1989732342363833\n",
      "\n",
      "Kwantyl: 0.67; Procent zmiennych: 66.94%\n",
      "Średni błąd RMSE na zbiorze treningowym dla kwantyla 0.32999999999999996: 0.052630444600282565\n",
      "Średni błąd RMSE na zbiorze walidacyjnym dla kwantyla 0.32999999999999996: 0.1963769667611835\n",
      "\n",
      "Kwantyl: 0.66; Procent zmiennych: 65.93%\n",
      "Średni błąd RMSE na zbiorze treningowym dla kwantyla 0.33999999999999997: 0.0530243242840191\n",
      "Średni błąd RMSE na zbiorze walidacyjnym dla kwantyla 0.33999999999999997: 0.19825674668690524\n",
      "\n",
      "Kwantyl: 0.65; Procent zmiennych: 64.92%\n",
      "Średni błąd RMSE na zbiorze treningowym dla kwantyla 0.35: 0.05176383326049324\n",
      "Średni błąd RMSE na zbiorze walidacyjnym dla kwantyla 0.35: 0.1983217466349327\n",
      "\n"
     ]
    }
   ],
   "source": [
    "for quantile in np.linspace(0.15, 0.35, 21):\n",
    "    threshold = np.quantile(list(feature_importances.values()), quantile)\n",
    "    features_to_drop = [k for k, v in feature_importances.items() if v < threshold]\n",
    "    subset = set(features_interactions) - set(features_to_drop)\n",
    "    model = XGBRegressor(random_state=SEED)\n",
    "    train_scores, validation_scores = perform_cv(train_data_interactions[list(subset)], train_data_interactions[target], model)\n",
    "    print(\"Kwantyl: {}; Procent zmiennych: {}%\".format(1-quantile, np.round(len(subset)/len(features_interactions)*100, 2)))\n",
    "    print(f\"Średni błąd RMSE na zbiorze treningowym dla kwantyla {quantile}: {train_scores}\")\n",
    "    print(f\"Średni błąd RMSE na zbiorze walidacyjnym dla kwantyla {quantile}: {validation_scores}\")\n",
    "    print()"
   ]
  },
  {
   "cell_type": "markdown",
   "id": "0f8dc69c",
   "metadata": {},
   "source": [
    "$\\text{Wygląda na to, że kwantyl 0.25 jest optymalny.}$<p>\n",
    "$\\text{Usuniemy ze zbioru treningowego zmienne, które mają feature importance poniżej tego progu.}$"
   ]
  },
  {
   "cell_type": "code",
   "execution_count": 13,
   "id": "fc891645",
   "metadata": {},
   "outputs": [
    {
     "name": "stdout",
     "output_type": "stream",
     "text": [
      "Procent zmiennych: 75.0%\n",
      "Średni błąd RMSE na zbiorze treningowym: 0.05166681070681336\n",
      "Średni błąd RMSE na zbiorze walidacyjnym: 0.19604391614639724\n",
      "\n"
     ]
    }
   ],
   "source": [
    "quantile = 0.25\n",
    "threshold = np.quantile(list(feature_importances.values()), quantile)\n",
    "features_to_drop = [k for k, v in feature_importances.items() if v < threshold]\n",
    "subset = list(set(features_interactions) - set(features_to_drop))\n",
    "model = XGBRegressor(random_state=SEED)\n",
    "train_scores, validation_scores = perform_cv(train_data_interactions[subset], train_data_interactions[target], model)\n",
    "print(\"Procent zmiennych: {}%\".format(np.round(len(subset)/len(features_interactions)*100, 2)))\n",
    "print(f\"Średni błąd RMSE na zbiorze treningowym: {train_scores}\")\n",
    "print(f\"Średni błąd RMSE na zbiorze walidacyjnym: {validation_scores}\")\n",
    "print()"
   ]
  },
  {
   "cell_type": "markdown",
   "id": "da759da3",
   "metadata": {},
   "source": [
    "# Tuning hiperparametrów XGBoost"
   ]
  },
  {
   "cell_type": "markdown",
   "id": "955b1969",
   "metadata": {},
   "source": [
    "1. Głębokość drzewa"
   ]
  },
  {
   "cell_type": "code",
   "execution_count": 14,
   "id": "80060a2e",
   "metadata": {},
   "outputs": [
    {
     "name": "stdout",
     "output_type": "stream",
     "text": [
      "Max depth: 2; RMSE train: 0.16861; RMSE validation: 0.19710\n",
      "Max depth: 3; RMSE train: 0.13943; RMSE validation: 0.19363\n",
      "Max depth: 4; RMSE train: 0.10891; RMSE validation: 0.19669\n",
      "Max depth: 5; RMSE train: 0.07777; RMSE validation: 0.19551\n",
      "Max depth: 6; RMSE train: 0.05167; RMSE validation: 0.19604\n",
      "Max depth: 7; RMSE train: 0.03061; RMSE validation: 0.20024\n",
      "Max depth: 8; RMSE train: 0.01580; RMSE validation: 0.20277\n",
      "Max depth: 9; RMSE train: 0.00801; RMSE validation: 0.20537\n"
     ]
    }
   ],
   "source": [
    "for max_depth in range(2, 10):\n",
    "    model = XGBRegressor(max_depth=max_depth, random_state=SEED, n_jobs=-1)\n",
    "    train_scores, validation_scores = perform_cv(train_data_interactions[subset], train_data_interactions[target], model)\n",
    "    print(\"Max depth: {}; RMSE train: {:.5f}; RMSE validation: {:.5f}\".format(max_depth, train_scores, validation_scores))"
   ]
  },
  {
   "cell_type": "markdown",
   "id": "755ce00b",
   "metadata": {},
   "source": [
    "Najlepszy wynik dla głębokości drzewa równej 3."
   ]
  },
  {
   "cell_type": "markdown",
   "id": "c0afce0e",
   "metadata": {},
   "source": [
    "2. Subsample - udział wierszy w każdym drzewie"
   ]
  },
  {
   "cell_type": "code",
   "execution_count": 17,
   "id": "24f80d3a",
   "metadata": {},
   "outputs": [
    {
     "name": "stdout",
     "output_type": "stream",
     "text": [
      "Subsample: 0.1; RMSE train: 0.20046; RMSE validation: 0.24958\n",
      "Subsample: 0.2; RMSE train: 0.16701; RMSE validation: 0.21869\n",
      "Subsample: 0.3; RMSE train: 0.15331; RMSE validation: 0.20871\n",
      "Subsample: 0.4; RMSE train: 0.14793; RMSE validation: 0.20062\n",
      "Subsample: 0.5; RMSE train: 0.14254; RMSE validation: 0.20126\n",
      "Subsample: 0.6; RMSE train: 0.14145; RMSE validation: 0.19736\n",
      "Subsample: 0.7; RMSE train: 0.13946; RMSE validation: 0.19582\n",
      "Subsample: 0.8; RMSE train: 0.13864; RMSE validation: 0.19312\n",
      "Subsample: 0.9; RMSE train: 0.13895; RMSE validation: 0.19468\n",
      "Subsample: 1.0; RMSE train: 0.13943; RMSE validation: 0.19363\n"
     ]
    }
   ],
   "source": [
    "for subsample in np.linspace(0.1, 1, 10):\n",
    "    model = XGBRegressor(max_depth=3, subsample=subsample, random_state=SEED, n_jobs=-1)\n",
    "    train_scores, validation_scores = perform_cv(train_data_interactions[subset], train_data_interactions[target], model)\n",
    "    print(\"Subsample: {:.1f}; RMSE train: {:.5f}; RMSE validation: {:.5f}\".format(subsample, train_scores, validation_scores))"
   ]
  },
  {
   "cell_type": "markdown",
   "id": "dc8a1aa1",
   "metadata": {},
   "source": [
    "Najlepszy wynik w sytuacji, gdy 80\\% wierszy jest wykorzystywanych w każdym drzewie.\n",
    "\n",
    "Możemy dokładniej zbadać w okolicach tego progu jaki udział wierszy okaże się najbardziej optymalny."
   ]
  },
  {
   "cell_type": "code",
   "execution_count": 18,
   "id": "0778db9d",
   "metadata": {},
   "outputs": [
    {
     "name": "stdout",
     "output_type": "stream",
     "text": [
      "Subsample: 0.75; RMSE train: 0.13789; RMSE validation: 0.19571\n",
      "Subsample: 0.76; RMSE train: 0.13826; RMSE validation: 0.19386\n",
      "Subsample: 0.77; RMSE train: 0.13834; RMSE validation: 0.19493\n",
      "Subsample: 0.78; RMSE train: 0.13869; RMSE validation: 0.19503\n",
      "Subsample: 0.79; RMSE train: 0.13819; RMSE validation: 0.19476\n",
      "Subsample: 0.80; RMSE train: 0.13864; RMSE validation: 0.19312\n",
      "Subsample: 0.81; RMSE train: 0.13801; RMSE validation: 0.19439\n",
      "Subsample: 0.82; RMSE train: 0.13736; RMSE validation: 0.19443\n",
      "Subsample: 0.83; RMSE train: 0.13908; RMSE validation: 0.19503\n",
      "Subsample: 0.84; RMSE train: 0.13899; RMSE validation: 0.19494\n",
      "Subsample: 0.85; RMSE train: 0.13872; RMSE validation: 0.19480\n"
     ]
    }
   ],
   "source": [
    "for subsample in np.linspace(0.75, 0.85, 11):\n",
    "    model = XGBRegressor(max_depth=3, subsample=subsample, random_state=SEED, n_jobs=-1)\n",
    "    train_scores, validation_scores = perform_cv(train_data_interactions[subset], train_data_interactions[target], model)\n",
    "    print(\"Subsample: {:.2f}; RMSE train: {:.5f}; RMSE validation: {:.5f}\".format(subsample, train_scores, validation_scores))"
   ]
  },
  {
   "cell_type": "markdown",
   "id": "8066cd40",
   "metadata": {},
   "source": [
    "3. colsample_bytree - udział kolumn w każdym drzewie"
   ]
  },
  {
   "cell_type": "code",
   "execution_count": 19,
   "id": "293a4f03",
   "metadata": {},
   "outputs": [
    {
     "name": "stdout",
     "output_type": "stream",
     "text": [
      "Colsample by tree: 0.1; RMSE train: 0.14990; RMSE validation: 0.19790\n",
      "Colsample by tree: 0.2; RMSE train: 0.14504; RMSE validation: 0.19402\n",
      "Colsample by tree: 0.3; RMSE train: 0.14349; RMSE validation: 0.19622\n",
      "Colsample by tree: 0.4; RMSE train: 0.14285; RMSE validation: 0.19507\n",
      "Colsample by tree: 0.5; RMSE train: 0.14095; RMSE validation: 0.19497\n",
      "Colsample by tree: 0.6; RMSE train: 0.13987; RMSE validation: 0.19419\n",
      "Colsample by tree: 0.7; RMSE train: 0.13919; RMSE validation: 0.19278\n",
      "Colsample by tree: 0.8; RMSE train: 0.13921; RMSE validation: 0.19498\n",
      "Colsample by tree: 0.9; RMSE train: 0.13861; RMSE validation: 0.19482\n",
      "Colsample by tree: 1.0; RMSE train: 0.13864; RMSE validation: 0.19312\n"
     ]
    }
   ],
   "source": [
    "for colsample_bytree in np.linspace(0.1, 1, 10):\n",
    "    model = XGBRegressor(max_depth=3, subsample=0.8, colsample_bytree=colsample_bytree, random_state=SEED, n_jobs=-1)\n",
    "    train_scores, validation_scores = perform_cv(train_data_interactions[subset], train_data_interactions[target], model)\n",
    "    print(\"Colsample by tree: {:.1f}; RMSE train: {:.5f}; RMSE validation: {:.5f}\".format(colsample_bytree, train_scores, validation_scores))"
   ]
  },
  {
   "cell_type": "markdown",
   "id": "af3d60cf",
   "metadata": {},
   "source": [
    "Rezultaty sugerują, że procent kolumn w każdym drzewie powinien wynosić 70%."
   ]
  },
  {
   "cell_type": "markdown",
   "id": "3dd5e67c",
   "metadata": {},
   "source": [
    "4. colsample_bylevel - udział kolumn w każdym poziomie drzewa"
   ]
  },
  {
   "cell_type": "code",
   "execution_count": 20,
   "id": "8ba1955c",
   "metadata": {},
   "outputs": [
    {
     "name": "stdout",
     "output_type": "stream",
     "text": [
      "Colsample by level: 0.1; RMSE train: 0.15034; RMSE validation: 0.19513\n",
      "Colsample by level: 0.2; RMSE train: 0.14618; RMSE validation: 0.19472\n",
      "Colsample by level: 0.3; RMSE train: 0.14457; RMSE validation: 0.19539\n",
      "Colsample by level: 0.4; RMSE train: 0.14364; RMSE validation: 0.19511\n",
      "Colsample by level: 0.5; RMSE train: 0.14237; RMSE validation: 0.19514\n",
      "Colsample by level: 0.6; RMSE train: 0.14162; RMSE validation: 0.19565\n",
      "Colsample by level: 0.7; RMSE train: 0.14060; RMSE validation: 0.19397\n",
      "Colsample by level: 0.8; RMSE train: 0.14116; RMSE validation: 0.19363\n",
      "Colsample by level: 0.9; RMSE train: 0.14024; RMSE validation: 0.19404\n",
      "Colsample by level: 1.0; RMSE train: 0.13919; RMSE validation: 0.19278\n"
     ]
    }
   ],
   "source": [
    "for colsample_bylevel in np.linspace(0.1, 1, 10):\n",
    "    model = XGBRegressor(max_depth=3, subsample=0.8, colsample_bytree=0.7, colsample_bylevel=colsample_bylevel, random_state=SEED, n_jobs=-1)\n",
    "    train_scores, validation_scores = perform_cv(train_data_interactions[subset], train_data_interactions[target], model)\n",
    "    print(\"Colsample by level: {:.1f}; RMSE train: {:.5f}; RMSE validation: {:.5f}\".format(colsample_bylevel, train_scores, validation_scores))"
   ]
  },
  {
   "cell_type": "markdown",
   "id": "630532fb",
   "metadata": {},
   "source": [
    "Najlepszy wynik dla 100% kolumn w każdym poziomie drzewa."
   ]
  },
  {
   "cell_type": "markdown",
   "id": "bbe5b014",
   "metadata": {},
   "source": [
    "Widzimy, że jednak nadal wynik na zbiorze treningowym znacząco lepszy niż testowym, więc dostosujemy parametry regularyzacji."
   ]
  },
  {
   "cell_type": "markdown",
   "id": "4dc8df56",
   "metadata": {},
   "source": [
    "# Regularyzacja"
   ]
  },
  {
   "cell_type": "markdown",
   "id": "a3fba348",
   "metadata": {},
   "source": [
    "Tutaj poszukamy parametru lambda (regularyzacja L2)."
   ]
  },
  {
   "cell_type": "code",
   "execution_count": 21,
   "id": "8843ad2b",
   "metadata": {},
   "outputs": [
    {
     "name": "stdout",
     "output_type": "stream",
     "text": [
      "Lambda: 0.01; RMSE train: 0.13812; RMSE validation: 0.19612\n",
      "Lambda: 0.10; RMSE train: 0.13832; RMSE validation: 0.19705\n",
      "Lambda: 0.50; RMSE train: 0.13913; RMSE validation: 0.19497\n",
      "Lambda: 1.00; RMSE train: 0.13919; RMSE validation: 0.19278\n",
      "Lambda: 2.00; RMSE train: 0.14063; RMSE validation: 0.19515\n",
      "Lambda: 4.00; RMSE train: 0.14239; RMSE validation: 0.19444\n",
      "Lambda: 6.00; RMSE train: 0.14311; RMSE validation: 0.19438\n",
      "Lambda: 8.00; RMSE train: 0.14383; RMSE validation: 0.19326\n",
      "Lambda: 10.00; RMSE train: 0.14525; RMSE validation: 0.19489\n",
      "Lambda: 15.00; RMSE train: 0.14658; RMSE validation: 0.19362\n",
      "Lambda: 30.00; RMSE train: 0.14943; RMSE validation: 0.19423\n",
      "Lambda: 50.00; RMSE train: 0.15285; RMSE validation: 0.19605\n",
      "Lambda: 100.00; RMSE train: 0.15764; RMSE validation: 0.19680\n"
     ]
    }
   ],
   "source": [
    "for lambda_ in [0.01, 0.1, 0.5, 1, 2, 4, 6, 8, 10, 15, 30, 50, 100]:\n",
    "    model = XGBRegressor(max_depth=3, subsample=0.8, colsample_bytree=0.7, colsample_bylevel=1, reg_lambda=lambda_, random_state=SEED, n_jobs=-1)\n",
    "    train_scores, validation_scores = perform_cv(train_data_interactions[subset], train_data_interactions[target], model)\n",
    "    print(\"Lambda: {:.2f}; RMSE train: {:.5f}; RMSE validation: {:.5f}\".format(lambda_, train_scores, validation_scores))"
   ]
  },
  {
   "cell_type": "markdown",
   "id": "37e61456",
   "metadata": {},
   "source": [
    "Wraz ze wzrostem wartości lambda, wynik na zbiorze treningowym ulegają pogorszeniu.\n",
    "\n",
    "Najlepszy wynik dla zbioru walidacyjnego otrzymano dla wartości lambda równej 1."
   ]
  },
  {
   "cell_type": "markdown",
   "id": "134dd82b",
   "metadata": {},
   "source": [
    "Możemy dokładniej sprawdzić wyniki dla wartości lambda z przedziału [0.5, 2]."
   ]
  },
  {
   "cell_type": "code",
   "execution_count": 22,
   "id": "95b61c37",
   "metadata": {},
   "outputs": [
    {
     "name": "stdout",
     "output_type": "stream",
     "text": [
      "Lambda: 0.50; RMSE train: 0.13913; RMSE validation: 0.19497\n",
      "Lambda: 0.60; RMSE train: 0.13996; RMSE validation: 0.19606\n",
      "Lambda: 0.70; RMSE train: 0.13970; RMSE validation: 0.19581\n",
      "Lambda: 0.80; RMSE train: 0.13994; RMSE validation: 0.19452\n",
      "Lambda: 0.90; RMSE train: 0.13967; RMSE validation: 0.19397\n",
      "Lambda: 1.00; RMSE train: 0.13919; RMSE validation: 0.19278\n",
      "Lambda: 1.10; RMSE train: 0.13947; RMSE validation: 0.19298\n",
      "Lambda: 1.20; RMSE train: 0.13981; RMSE validation: 0.19409\n",
      "Lambda: 1.30; RMSE train: 0.13950; RMSE validation: 0.19566\n",
      "Lambda: 1.40; RMSE train: 0.13974; RMSE validation: 0.19583\n",
      "Lambda: 1.50; RMSE train: 0.14006; RMSE validation: 0.19429\n",
      "Lambda: 1.60; RMSE train: 0.14053; RMSE validation: 0.19504\n",
      "Lambda: 1.70; RMSE train: 0.14034; RMSE validation: 0.19373\n",
      "Lambda: 1.80; RMSE train: 0.13972; RMSE validation: 0.19568\n",
      "Lambda: 1.90; RMSE train: 0.14095; RMSE validation: 0.19493\n",
      "Lambda: 2.00; RMSE train: 0.14063; RMSE validation: 0.19515\n"
     ]
    }
   ],
   "source": [
    "for lambda_ in np.linspace(0.5, 2, 16):\n",
    "    model = XGBRegressor(max_depth=3, subsample=0.8, colsample_bytree=0.7, colsample_bylevel=1, reg_lambda=lambda_, random_state=SEED, n_jobs=-1)\n",
    "    train_scores, validation_scores = perform_cv(train_data_interactions[subset], train_data_interactions[target], model)\n",
    "    print(\"Lambda: {:.2f}; RMSE train: {:.5f}; RMSE validation: {:.5f}\".format(lambda_, train_scores, validation_scores))"
   ]
  },
  {
   "cell_type": "markdown",
   "id": "3a4232e7",
   "metadata": {},
   "source": [
    "Najlepsze wyniki dla lambda równego 1."
   ]
  },
  {
   "cell_type": "markdown",
   "id": "920eccce",
   "metadata": {},
   "source": [
    "Gamma to kolejny parametr regularyzacji, który określa minimalną redukcję strat wymaganą do utworzenia nowego liścia."
   ]
  },
  {
   "cell_type": "code",
   "execution_count": 23,
   "id": "dcfe647b",
   "metadata": {},
   "outputs": [
    {
     "name": "stdout",
     "output_type": "stream",
     "text": [
      "Gamma: 0.00; RMSE train: 0.15581; RMSE validation: 0.19333\n",
      "Gamma: 0.01; RMSE train: 0.15593; RMSE validation: 0.19342\n",
      "Gamma: 0.10; RMSE train: 0.15641; RMSE validation: 0.19312\n",
      "Gamma: 0.50; RMSE train: 0.18384; RMSE validation: 0.20158\n",
      "Gamma: 1.00; RMSE train: 0.20248; RMSE validation: 0.21108\n",
      "Gamma: 2.00; RMSE train: 0.21534; RMSE validation: 0.21992\n",
      "Gamma: 5.00; RMSE train: 0.23194; RMSE validation: 0.23518\n"
     ]
    }
   ],
   "source": [
    "for gamma in [0, 0.01, 0.1, 0.5, 1, 2, 5]:\n",
    "    model = XGBRegressor(max_depth=3, subsample=0.8, colsample_bytree=0.7, colsample_bylevel=1, reg_lambda=1, gamma=gamma, random_state=SEED, n_jobs=-1)\n",
    "    train_scores, validation_scores = perform_cv(train_data[features], train_data[target], model)\n",
    "    print(\"Gamma: {:.2f}; RMSE train: {:.5f}; RMSE validation: {:.5f}\".format(gamma, train_scores, validation_scores))"
   ]
  },
  {
   "cell_type": "markdown",
   "id": "37daa600",
   "metadata": {},
   "source": [
    "Jak jednak widać, wzrost parametru gamma prowadzi do znacznych spadków wyników dla zbioru treningowego.\n",
    "\n",
    "Warto jednak zauważyć, że w okolicach gamma równego 0.1 wyniki dla zbioru walidacyjnego są lepsze niż dla gamma równego 0.\n",
    "\n",
    "Spróbujemy zbadać okolicę gamma równego 0.1 w celu znalezienia optymalnej wartości."
   ]
  },
  {
   "cell_type": "code",
   "execution_count": 24,
   "id": "480a8996",
   "metadata": {},
   "outputs": [
    {
     "name": "stdout",
     "output_type": "stream",
     "text": [
      "Gamma: 0.01; RMSE train: 0.15593; RMSE validation: 0.19342\n",
      "Gamma: 0.02; RMSE train: 0.15596; RMSE validation: 0.19357\n",
      "Gamma: 0.03; RMSE train: 0.15603; RMSE validation: 0.19363\n",
      "Gamma: 0.04; RMSE train: 0.15595; RMSE validation: 0.19308\n",
      "Gamma: 0.05; RMSE train: 0.15587; RMSE validation: 0.19280\n",
      "Gamma: 0.06; RMSE train: 0.15556; RMSE validation: 0.19258\n",
      "Gamma: 0.07; RMSE train: 0.15620; RMSE validation: 0.19235\n",
      "Gamma: 0.08; RMSE train: 0.15605; RMSE validation: 0.19267\n",
      "Gamma: 0.09; RMSE train: 0.15628; RMSE validation: 0.19313\n",
      "Gamma: 0.10; RMSE train: 0.15641; RMSE validation: 0.19312\n",
      "Gamma: 0.11; RMSE train: 0.15674; RMSE validation: 0.19307\n",
      "Gamma: 0.12; RMSE train: 0.15715; RMSE validation: 0.19364\n",
      "Gamma: 0.13; RMSE train: 0.15805; RMSE validation: 0.19284\n",
      "Gamma: 0.14; RMSE train: 0.15781; RMSE validation: 0.19334\n",
      "Gamma: 0.15; RMSE train: 0.15904; RMSE validation: 0.19302\n",
      "Gamma: 0.16; RMSE train: 0.15969; RMSE validation: 0.19246\n",
      "Gamma: 0.17; RMSE train: 0.16035; RMSE validation: 0.19445\n",
      "Gamma: 0.18; RMSE train: 0.16087; RMSE validation: 0.19405\n",
      "Gamma: 0.19; RMSE train: 0.16268; RMSE validation: 0.19443\n",
      "Gamma: 0.20; RMSE train: 0.16271; RMSE validation: 0.19453\n",
      "Gamma: 0.21; RMSE train: 0.16350; RMSE validation: 0.19436\n",
      "Gamma: 0.22; RMSE train: 0.16449; RMSE validation: 0.19473\n",
      "Gamma: 0.23; RMSE train: 0.16453; RMSE validation: 0.19505\n",
      "Gamma: 0.24; RMSE train: 0.16601; RMSE validation: 0.19535\n",
      "Gamma: 0.25; RMSE train: 0.16729; RMSE validation: 0.19501\n",
      "Gamma: 0.26; RMSE train: 0.16783; RMSE validation: 0.19500\n",
      "Gamma: 0.27; RMSE train: 0.16883; RMSE validation: 0.19509\n",
      "Gamma: 0.28; RMSE train: 0.16950; RMSE validation: 0.19644\n",
      "Gamma: 0.29; RMSE train: 0.17057; RMSE validation: 0.19536\n",
      "Gamma: 0.30; RMSE train: 0.17195; RMSE validation: 0.19656\n"
     ]
    }
   ],
   "source": [
    "for gamma in np.linspace(0.01, 0.3, 30):\n",
    "    model = XGBRegressor(max_depth=3, subsample=0.8, colsample_bytree=0.7, colsample_bylevel=1, reg_lambda=1, gamma=gamma, random_state=SEED, n_jobs=-1)\n",
    "    train_scores, validation_scores = perform_cv(train_data[features], train_data[target], model)\n",
    "    print(\"Gamma: {:.2f}; RMSE train: {:.5f}; RMSE validation: {:.5f}\".format(gamma, train_scores, validation_scores))"
   ]
  },
  {
   "cell_type": "markdown",
   "id": "6dd432c4",
   "metadata": {},
   "source": [
    "$\\text{Gamma wynoszące 0.07 wydaje się być optymalne.}$"
   ]
  },
  {
   "cell_type": "markdown",
   "id": "6c728e00",
   "metadata": {},
   "source": [
    "## Zapisanie modelu"
   ]
  },
  {
   "cell_type": "code",
   "execution_count": 25,
   "id": "2d144134",
   "metadata": {},
   "outputs": [
    {
     "data": {
      "text/html": [
       "<style type=\"text/css\">\n",
       "#T_0a19c_row0_col1, #T_0a19c_row1_col2, #T_0a19c_row1_col3 {\n",
       "  background-color: #fff5f0;\n",
       "  color: #000000;\n",
       "}\n",
       "#T_0a19c_row0_col2, #T_0a19c_row0_col3, #T_0a19c_row1_col1 {\n",
       "  background-color: #67000d;\n",
       "  color: #f1f1f1;\n",
       "}\n",
       "</style>\n",
       "<table id=\"T_0a19c\">\n",
       "  <thead>\n",
       "    <tr>\n",
       "      <th class=\"blank level0\" >&nbsp;</th>\n",
       "      <th id=\"T_0a19c_level0_col0\" class=\"col_heading level0 col0\" >Model</th>\n",
       "      <th id=\"T_0a19c_level0_col1\" class=\"col_heading level0 col1\" >Train RMSE</th>\n",
       "      <th id=\"T_0a19c_level0_col2\" class=\"col_heading level0 col2\" >Validation RMSE</th>\n",
       "      <th id=\"T_0a19c_level0_col3\" class=\"col_heading level0 col3\" >Test RMSE</th>\n",
       "    </tr>\n",
       "  </thead>\n",
       "  <tbody>\n",
       "    <tr>\n",
       "      <th id=\"T_0a19c_level0_row0\" class=\"row_heading level0 row0\" >0</th>\n",
       "      <td id=\"T_0a19c_row0_col0\" class=\"data row0 col0\" >Base</td>\n",
       "      <td id=\"T_0a19c_row0_col1\" class=\"data row0 col1\" >0.050779</td>\n",
       "      <td id=\"T_0a19c_row0_col2\" class=\"data row0 col2\" >0.197413</td>\n",
       "      <td id=\"T_0a19c_row0_col3\" class=\"data row0 col3\" >0.201657</td>\n",
       "    </tr>\n",
       "    <tr>\n",
       "      <th id=\"T_0a19c_level0_row1\" class=\"row_heading level0 row1\" >1</th>\n",
       "      <td id=\"T_0a19c_row1_col0\" class=\"data row1 col0\" >Tuning</td>\n",
       "      <td id=\"T_0a19c_row1_col1\" class=\"data row1 col1\" >0.139939</td>\n",
       "      <td id=\"T_0a19c_row1_col2\" class=\"data row1 col2\" >0.194428</td>\n",
       "      <td id=\"T_0a19c_row1_col3\" class=\"data row1 col3\" >0.196656</td>\n",
       "    </tr>\n",
       "  </tbody>\n",
       "</table>\n"
      ],
      "text/plain": [
       "<pandas.io.formats.style.Styler at 0x1d09c39f9d0>"
      ]
     },
     "execution_count": 25,
     "metadata": {},
     "output_type": "execute_result"
    }
   ],
   "source": [
    "#Model bazowy\n",
    "model = XGBRegressor(random_state=SEED)\n",
    "base_train_scores, base_validation_scores = perform_cv(train_data_interactions[features_interactions], train_data_interactions[target], model)\n",
    "train_results, base_test_score, y_test_pred = evaluation(train_data_interactions[features_interactions], train_data_interactions[target], test_data_interactions[features_interactions], test_data_interactions[target], model)\n",
    "#Tuning\n",
    "model = XGBRegressor(max_depth=3, subsample=0.8, colsample_bytree=0.7, colsample_bylevel=1, reg_lambda=1, gamma=0.07, random_state=SEED, n_jobs=-1)\n",
    "tuning_train_scores, tuning_validation_scores = perform_cv(train_data_interactions[features_interactions], train_data_interactions[target], model)\n",
    "train_results, tuning_test_score, y_test_pred = evaluation(train_data_interactions[subset], train_data_interactions[target], test_data_interactions[subset], test_data_interactions[target], model)\n",
    "results = pd.DataFrame({\n",
    "    \"Model\": [\"Base\", \"Tuning\"],\n",
    "    \"Train RMSE\": [base_train_scores, tuning_train_scores],\n",
    "    \"Validation RMSE\": [base_validation_scores, tuning_validation_scores],\n",
    "    \"Test RMSE\": [base_test_score, tuning_test_score]\n",
    "})\n",
    "results.style.background_gradient(cmap='Reds', axis=0)"
   ]
  },
  {
   "cell_type": "code",
   "execution_count": 26,
   "id": "f7355cc2",
   "metadata": {},
   "outputs": [
    {
     "name": "stdout",
     "output_type": "stream",
     "text": [
      "Train RMSE: 0.14595\n",
      "Test RMSE: 0.19666\n"
     ]
    }
   ],
   "source": [
    "test_indices = test_data.index\n",
    "#Ewaluacja modelu\n",
    "model = XGBRegressor(max_depth=3, subsample=0.8, colsample_bytree=0.7, colsample_bylevel=1, reg_lambda=1, gamma=0.07, random_state=SEED, n_jobs=-1)\n",
    "train_results, test_results, y_test_pred = evaluation(train_data_interactions[subset], train_data_interactions[target], test_data_interactions[subset], test_data_interactions[target], model)\n",
    "print(\"Train RMSE: {}\".format(round(train_results, 5)))\n",
    "print(\"Test RMSE: {}\".format(round(test_results, 5)))\n",
    "\n",
    "#Zapisanie modelu\n",
    "model_XGB = {\n",
    "    \"name\": \"XGB\",\n",
    "    \"trainResults\": train_results,\n",
    "    \"testResults\": test_results,\n",
    "    \"predictions\": y_test_pred,\n",
    "    \"indices\": test_indices,\n",
    "}\n",
    "with open(\"../data/model_XGB.p\", \"wb\") as fp:\n",
    "    pickle.dump(model_XGB, fp)"
   ]
  },
  {
   "cell_type": "markdown",
   "id": "c96867c0",
   "metadata": {},
   "source": [
    "## Podsumowanie"
   ]
  },
  {
   "cell_type": "markdown",
   "id": "b5ec4b58",
   "metadata": {},
   "source": [
    "$\\text{Najlepsze wyniki walidacji krzyżowej uzyskano dla modelu bazującego na interakcjach zmiennych bez transformacji.}$<p>\n",
    "$\\text{Optymalizacja hiperparametrów oraz regularyzacja pozwoliły na poprawę wyników.}$<p>\n",
    "$\\text{Wyniki na zbiorze treningowym (RMSE): 0.14658}$<p>\n",
    "$\\text{Wyniki na zbiorze testowym (RMSE): 0.19666}$"
   ]
  }
 ],
 "metadata": {
  "kernelspec": {
   "display_name": "Python 3 (ipykernel)",
   "language": "python",
   "name": "python3"
  },
  "language_info": {
   "codemirror_mode": {
    "name": "ipython",
    "version": 3
   },
   "file_extension": ".py",
   "mimetype": "text/x-python",
   "name": "python",
   "nbconvert_exporter": "python",
   "pygments_lexer": "ipython3",
   "version": "3.11.3"
  }
 },
 "nbformat": 4,
 "nbformat_minor": 5
}
