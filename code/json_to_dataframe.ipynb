{
 "cells": [
  {
   "cell_type": "code",
   "execution_count": 13,
   "id": "378a5f50",
   "metadata": {},
   "outputs": [],
   "source": [
    "import json\n",
    "import pandas as pd\n",
    "\n",
    "f = open ('scrap1.json', \"r\", encoding=\"utf8\")\n",
    "data = json.loads(f.read())\n",
    "new1 = pd.DataFrame.from_dict(data)\n",
    "new2= pd.json_normalize(new1['mood'])\n",
    "result1 = pd.concat([new1, new2], axis=1)\n",
    "\n",
    "f = open ('scrap2.json', \"r\", encoding=\"utf8\")\n",
    "data = json.loads(f.read())\n",
    "new1 = pd.DataFrame.from_dict(data)\n",
    "new2= pd.json_normalize(new1['mood'])\n",
    "result2 = pd.concat([new1, new2], axis=1)\n",
    "\n",
    "f = open ('scrap3.json', \"r\", encoding=\"utf8\")\n",
    "data = json.loads(f.read())\n",
    "new1 = pd.DataFrame.from_dict(data)\n",
    "new2= pd.json_normalize(new1['mood'])\n",
    "result3 = pd.concat([new1, new2], axis=1)\n",
    "\n",
    "f = open ('scrap4.json', \"r\", encoding=\"utf8\")\n",
    "data = json.loads(f.read())\n",
    "new1 = pd.DataFrame.from_dict(data)\n",
    "new2= pd.json_normalize(new1['mood'])\n",
    "result4 = pd.concat([new1, new2], axis=1)\n",
    "\n",
    "f = open ('scrap5.json', \"r\", encoding=\"utf8\")\n",
    "data = json.loads(f.read())\n",
    "new1 = pd.DataFrame.from_dict(data)\n",
    "new2= pd.json_normalize(new1['mood'])\n",
    "result5 = pd.concat([new1, new2], axis=1)\n",
    "results=pd.concat([result1, result2,result3,result4,result5], axis=0)\n",
    "results=results.reset_index(drop=True)\n",
    "results1=results.loc[results.astype(str).drop_duplicates().index]\n",
    "results1=results1.reset_index(drop=True)\n",
    "#20695\n",
    "#17505"
   ]
  },
  {
   "cell_type": "code",
   "execution_count": null,
   "id": "ce4a882f",
   "metadata": {},
   "outputs": [],
   "source": [
    "results2 = results1.drop(results1[results1.reviews < 1000].index)\n",
    "#9699\n",
    "results3 = results2.drop(results2[results2.pages=='audiobook'].index)\n",
    "results3 = results3.drop(columns=['mood'])\n",
    "#8920\n",
    "results4 = results3.fillna(0)\n",
    "results5=results4\n",
    "\n",
    "for i in ['mix','character', 'plot', 'funny', 'lighthearted', 'emotional', 'hopeful',\n",
    "          'inspiring', 'relaxing', 'tense', 'sad', 'reflective', 'adventurous',\n",
    "          'challenging', 'informative', 'mysterious', 'dark']:\n",
    "    results5[i] = results4[i].str.replace('%','')\n",
    "results6=results5\n",
    "for i in ['mix','character', 'plot', 'funny', 'lighthearted', 'emotional', 'hopeful',\n",
    "          'inspiring', 'relaxing', 'tense', 'sad', 'reflective', 'adventurous',\n",
    "          'challenging', 'informative', 'mysterious', 'dark']:\n",
    "    results6[i] = pd.to_numeric(results5[i])\n",
    "results7 = results6.fillna(0)\n",
    "results8=results7\n",
    "for i in ['mix','character', 'plot', 'funny', 'lighthearted', 'emotional', 'hopeful',\n",
    "          'inspiring', 'relaxing', 'tense', 'sad', 'reflective', 'adventurous',\n",
    "          'challenging', 'informative', 'mysterious', 'dark']:\n",
    "    results8[i] = results8[i]/100\n",
    "results8"
   ]
  },
  {
   "cell_type": "code",
   "execution_count": 46,
   "id": "ef947239",
   "metadata": {},
   "outputs": [],
   "source": [
    "df = results8\n",
    "df.to_csv('data.csv')"
   ]
  }
 ],
 "metadata": {
  "kernelspec": {
   "display_name": "Python 3 (ipykernel)",
   "language": "python",
   "name": "python3"
  },
  "language_info": {
   "codemirror_mode": {
    "name": "ipython",
    "version": 3
   },
   "file_extension": ".py",
   "mimetype": "text/x-python",
   "name": "python",
   "nbconvert_exporter": "python",
   "pygments_lexer": "ipython3",
   "version": "3.11.5"
  }
 },
 "nbformat": 4,
 "nbformat_minor": 5
}
